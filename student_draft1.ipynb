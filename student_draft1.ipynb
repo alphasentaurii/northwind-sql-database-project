{
 "cells": [
  {
   "cell_type": "markdown",
   "metadata": {},
   "source": [
    "## **Module 3 Final Project**\n",
    "\n",
    "    Title: Northwinds Database\n",
    "    Submitted By: RU KEÏN\n",
    "    Date: December 5, 2019\n",
    "    Instructor: James Irving PhD\n",
    "    https://vimeo.com/rukein/northwind-datascience-project-presentation\n",
    "    http://www.hakkeray.com/datascience/2019/12/07/thinking-outside-the-lego-box.html"
   ]
  },
  {
   "cell_type": "markdown",
   "metadata": {},
   "source": [
    "--------------------------\n",
    "## Table of Contents"
   ]
  },
  {
   "cell_type": "markdown",
   "metadata": {},
   "source": [
    "    1. Data Prep\n",
    "\n",
    "    2. H1: Discount and Order Quantity\n",
    "    Does discount amount have a statistically significant effect on quantity of product in an \n",
    "    order? If so, at what level(s) of discount?\n",
    "        a. Hypotheses\n",
    "        b. Data grouping\n",
    "        c. Testing\n",
    "        d. Results\n",
    "\n",
    "    3. H2: Discount and Region/Country\n",
    "    Do individual countries or regions show a statistically significant preference for \n",
    "    discount? If so, which countries and to what extent?\n",
    "        a. Hypotheses\n",
    "        b. Data grouping\n",
    "        c. Testing\n",
    "        d. Results\n",
    "\n",
    "    4. H3: Time of Year and Revenue/Units Sold\n",
    "    Does time of year have a statistically significant effect on sales? If so, which \n",
    "    months/seasons? Does this vary by region/country?\n",
    "        a. Hypotheses\n",
    "        b. Data grouping\n",
    "           * average number of orders made\n",
    "           * average order size (measured as quantities per order)\n",
    "        c. Testing\n",
    "        d. Results\n",
    "\n",
    "    5. H4: Shipping Costs and Order Quantities/Sales Revenue\n",
    "    Does cost of shipping (freight) have a statistically significant effect on quantity of a \n",
    "    product in an order? If so, at what level(s) of shipping cost?\n",
    "        a. Hypotheses\n",
    "        b. Data grouping\n",
    "        c. Testing\n",
    "        d. Results\n",
    "\n",
    "    6. Results Analysis\n",
    "        a. Hypotheses\n",
    "        b. Data grouping\n",
    "        c. Testing\n",
    "        d. Results\n",
    "    \n",
    "    7. Recommendations and Conclusion\n",
    "\n",
    "    8. Future Work/Additional Explorations\n",
    "    A. Customer Satisfaction Improvement (On-time Shipments)\n",
    "    B. Product Recommendation Tool\n",
    "        * What are top 3 selling products overall vs each region/country).\n"
   ]
  },
  {
   "cell_type": "markdown",
   "metadata": {},
   "source": [
    "## Data Prep"
   ]
  },
  {
   "cell_type": "code",
   "execution_count": 1,
   "metadata": {},
   "outputs": [
    {
     "name": "stdout",
     "output_type": "stream",
     "text": [
      "fsds_1007219  v0.4.45 loaded.  Read the docs: https://fsds.readthedocs.io/en/latest/ \n"
     ]
    },
    {
     "data": {
      "text/html": [
       "<style  type=\"text/css\" >\n",
       "</style><table id=\"T_b7898d4c_1b9a_11ea_9ec0_f40f2405a054\" ><caption>Loaded Packages and Handles</caption><thead>    <tr>        <th class=\"col_heading level0 col0\" >Handle</th>        <th class=\"col_heading level0 col1\" >Package</th>        <th class=\"col_heading level0 col2\" >Description</th>    </tr></thead><tbody>\n",
       "                <tr>\n",
       "                                <td id=\"T_b7898d4c_1b9a_11ea_9ec0_f40f2405a054row0_col0\" class=\"data row0 col0\" >dp</td>\n",
       "                        <td id=\"T_b7898d4c_1b9a_11ea_9ec0_f40f2405a054row0_col1\" class=\"data row0 col1\" >IPython.display</td>\n",
       "                        <td id=\"T_b7898d4c_1b9a_11ea_9ec0_f40f2405a054row0_col2\" class=\"data row0 col2\" >Display modules with helpful display and clearing commands.</td>\n",
       "            </tr>\n",
       "            <tr>\n",
       "                                <td id=\"T_b7898d4c_1b9a_11ea_9ec0_f40f2405a054row1_col0\" class=\"data row1 col0\" >fs</td>\n",
       "                        <td id=\"T_b7898d4c_1b9a_11ea_9ec0_f40f2405a054row1_col1\" class=\"data row1 col1\" >fsds_100719</td>\n",
       "                        <td id=\"T_b7898d4c_1b9a_11ea_9ec0_f40f2405a054row1_col2\" class=\"data row1 col2\" >Custom data science bootcamp student package</td>\n",
       "            </tr>\n",
       "            <tr>\n",
       "                                <td id=\"T_b7898d4c_1b9a_11ea_9ec0_f40f2405a054row2_col0\" class=\"data row2 col0\" >mpl</td>\n",
       "                        <td id=\"T_b7898d4c_1b9a_11ea_9ec0_f40f2405a054row2_col1\" class=\"data row2 col1\" >matplotlib</td>\n",
       "                        <td id=\"T_b7898d4c_1b9a_11ea_9ec0_f40f2405a054row2_col2\" class=\"data row2 col2\" >Matplotlib's base OOP module with formatting artists</td>\n",
       "            </tr>\n",
       "            <tr>\n",
       "                                <td id=\"T_b7898d4c_1b9a_11ea_9ec0_f40f2405a054row3_col0\" class=\"data row3 col0\" >plt</td>\n",
       "                        <td id=\"T_b7898d4c_1b9a_11ea_9ec0_f40f2405a054row3_col1\" class=\"data row3 col1\" >matplotlib.pyplot</td>\n",
       "                        <td id=\"T_b7898d4c_1b9a_11ea_9ec0_f40f2405a054row3_col2\" class=\"data row3 col2\" >Matplotlib's matlab-like plotting module</td>\n",
       "            </tr>\n",
       "            <tr>\n",
       "                                <td id=\"T_b7898d4c_1b9a_11ea_9ec0_f40f2405a054row4_col0\" class=\"data row4 col0\" >np</td>\n",
       "                        <td id=\"T_b7898d4c_1b9a_11ea_9ec0_f40f2405a054row4_col1\" class=\"data row4 col1\" >numpy</td>\n",
       "                        <td id=\"T_b7898d4c_1b9a_11ea_9ec0_f40f2405a054row4_col2\" class=\"data row4 col2\" >scientific computing with Python</td>\n",
       "            </tr>\n",
       "            <tr>\n",
       "                                <td id=\"T_b7898d4c_1b9a_11ea_9ec0_f40f2405a054row5_col0\" class=\"data row5 col0\" >pd</td>\n",
       "                        <td id=\"T_b7898d4c_1b9a_11ea_9ec0_f40f2405a054row5_col1\" class=\"data row5 col1\" >pandas</td>\n",
       "                        <td id=\"T_b7898d4c_1b9a_11ea_9ec0_f40f2405a054row5_col2\" class=\"data row5 col2\" >High performance data structures and tools</td>\n",
       "            </tr>\n",
       "            <tr>\n",
       "                                <td id=\"T_b7898d4c_1b9a_11ea_9ec0_f40f2405a054row6_col0\" class=\"data row6 col0\" >sns</td>\n",
       "                        <td id=\"T_b7898d4c_1b9a_11ea_9ec0_f40f2405a054row6_col1\" class=\"data row6 col1\" >seaborn</td>\n",
       "                        <td id=\"T_b7898d4c_1b9a_11ea_9ec0_f40f2405a054row6_col2\" class=\"data row6 col2\" >High-level data visualization library based on matplotlib</td>\n",
       "            </tr>\n",
       "    </tbody></table>"
      ],
      "text/plain": [
       "<pandas.io.formats.style.Styler at 0x1084e8c88>"
      ]
     },
     "metadata": {},
     "output_type": "display_data"
    }
   ],
   "source": [
    "# install requisite libraries and packages\n",
    "!pip install -U fsds_100719 --user\n",
    "from fsds_100719.imports import *"
   ]
  },
  {
   "cell_type": "code",
   "execution_count": 10,
   "metadata": {},
   "outputs": [],
   "source": [
    "from fsds_100719.ds import ihelp, reload\n",
    "import fsds_100719 as fs"
   ]
  },
  {
   "cell_type": "code",
   "execution_count": 11,
   "metadata": {
    "code_folding": [
     0
    ]
   },
   "outputs": [],
   "source": [
    "def hot_stats(data, column, verbose=False, t=None):\n",
    "    \"\"\"\n",
    "    Scans the values of a column within a dataframe and displays its datatype, \n",
    "    nulls (incl. pct of total), unique values, non-null value counts, and \n",
    "    statistical info (if the datatype is numeric).\n",
    "    \n",
    "    ---------------------------------------------\n",
    "    \n",
    "    Parameters:\n",
    "    \n",
    "    **args:\n",
    "    \n",
    "        data: accepts dataframe\n",
    "    \n",
    "        column: accepts name of column within dataframe (should be inside quotes '')\n",
    "    \n",
    "    **kwargs:\n",
    "    \n",
    "        verbose: (optional) accepts a boolean (default=False); verbose=True will display all \n",
    "        unique values found.   \n",
    "    \n",
    "        t: (optional) accepts column name as target to calculate correlation coefficient against \n",
    "        using pandas data.corr() function. \n",
    "    \n",
    "    -------------\n",
    "    \n",
    "    Examples: \n",
    "    \n",
    "    hot_stats(df, 'str_column') --> where df = data, 'string_column' = column you want to scan\n",
    "    \n",
    "    hot_stats(df, 'numeric_column', t='target') --> where 'target' = column to check correlation value\n",
    "    \n",
    "    -----------------\n",
    "    Developer notes: additional features to add in the future:\n",
    "    -get mode(s)\n",
    "    -functionality for string objects\n",
    "    -pass multiple columns at once and display all\n",
    "    -----------------\n",
    "    SAMPLE OUTPUT: \n",
    "    ****************************************\n",
    "    \n",
    "    -------->\n",
    "    HOT!STATS\n",
    "    <--------\n",
    "    CONDITION\n",
    "    Data Type: int64\n",
    "    count    21597.000000\n",
    "    mean         3.409825\n",
    "    std          0.650546\n",
    "    min          1.000000\n",
    "    25%          3.000000\n",
    "    50%          3.000000\n",
    "    75%          4.000000\n",
    "    max          5.000000\n",
    "    Name: condition, dtype: float64 \n",
    "    à-la-Mode: \n",
    "    0    3\n",
    "    dtype: int64\n",
    "    No Nulls Found!\n",
    "    Non-Null Value Counts:\n",
    "    3    14020\n",
    "    4     5677\n",
    "    5     1701\n",
    "    2      170\n",
    "    1       29\n",
    "    Name: condition, dtype: int64\n",
    "    # Unique Values: 5\n",
    "    \n",
    "    \"\"\"\n",
    "    # assigns variables to call later as shortcuts \n",
    "    feature = data[column]\n",
    "    rdash = \"-------->\"\n",
    "    ldash = \"<--------\"\n",
    "    \n",
    "    # figure out which hot_stats to display based on dtype \n",
    "    if feature.dtype == 'float':\n",
    "        hot_stats = feature.describe().round(2)\n",
    "    elif feature.dtype == 'int':\n",
    "        hot_stats = feature.describe()\n",
    "    elif feature.dtype == 'object' or 'category' or 'datetime64[ns]':\n",
    "        hot_stats = feature.agg(['min','median','max'])\n",
    "        t = None # ignores corr check for non-numeric dtypes by resetting t\n",
    "    else:\n",
    "        hot_stats = None\n",
    "\n",
    "    # display statistics (returns different info depending on datatype)\n",
    "    print(rdash)\n",
    "    print(\"HOT!STATS\")\n",
    "    print(ldash)\n",
    "    \n",
    "    # display column name formatted with underline\n",
    "    print(f\"\\n{feature.name.upper()}\")\n",
    "    \n",
    "    # display the data type\n",
    "    print(f\"Data Type: {feature.dtype}\\n\")\n",
    "    \n",
    "    # display the mode\n",
    "    print(hot_stats,\"\\n\")\n",
    "    print(f\"à-la-Mode: \\n{feature.mode()}\\n\")\n",
    "    \n",
    "    # find nulls and display total count and percentage\n",
    "    if feature.isna().sum() > 0:  \n",
    "        print(f\"Found\\n{feature.isna().sum()} Nulls out of {len(feature)}({round(feature.isna().sum()/len(feature)*100,2)}%)\\n\")\n",
    "    else:\n",
    "        print(\"\\nNo Nulls Found!\\n\")\n",
    "    \n",
    "    # display value counts (non-nulls)\n",
    "    print(f\"Non-Null Value Counts:\\n{feature.value_counts()}\\n\")\n",
    "    \n",
    "    # display count of unique values\n",
    "    print(f\"# Unique Values: {len(feature.unique())}\\n\")\n",
    "    # displays all unique values found if verbose set to true\n",
    "    if verbose == True:\n",
    "        print(f\"Unique Values:\\n {feature.unique()}\\n\")\n",
    "        \n",
    "    # display correlation coefficient with target for numeric columns:\n",
    "    if t != None:\n",
    "        corr = feature.corr(data[t]).round(4)\n",
    "        print(f\"Correlation with {t.upper()}: {corr}\") "
   ]
  },
  {
   "cell_type": "code",
   "execution_count": 12,
   "metadata": {},
   "outputs": [],
   "source": [
    "# connect to database / import data\n",
    "import sqlite3 \n",
    "conn = sqlite3.connect('Northwind_small.sqlite')\n",
    "cur = conn.cursor()"
   ]
  },
  {
   "cell_type": "code",
   "execution_count": 13,
   "metadata": {},
   "outputs": [
    {
     "data": {
      "text/html": [
       "<div>\n",
       "<style scoped>\n",
       "    .dataframe tbody tr th:only-of-type {\n",
       "        vertical-align: middle;\n",
       "    }\n",
       "\n",
       "    .dataframe tbody tr th {\n",
       "        vertical-align: top;\n",
       "    }\n",
       "\n",
       "    .dataframe thead th {\n",
       "        text-align: right;\n",
       "    }\n",
       "</style>\n",
       "<table border=\"1\" class=\"dataframe\">\n",
       "  <thead>\n",
       "    <tr style=\"text-align: right;\">\n",
       "      <th></th>\n",
       "      <th>Table</th>\n",
       "    </tr>\n",
       "  </thead>\n",
       "  <tbody>\n",
       "    <tr>\n",
       "      <td>0</td>\n",
       "      <td>Employee</td>\n",
       "    </tr>\n",
       "    <tr>\n",
       "      <td>1</td>\n",
       "      <td>Category</td>\n",
       "    </tr>\n",
       "    <tr>\n",
       "      <td>2</td>\n",
       "      <td>Customer</td>\n",
       "    </tr>\n",
       "    <tr>\n",
       "      <td>3</td>\n",
       "      <td>Shipper</td>\n",
       "    </tr>\n",
       "    <tr>\n",
       "      <td>4</td>\n",
       "      <td>Supplier</td>\n",
       "    </tr>\n",
       "    <tr>\n",
       "      <td>5</td>\n",
       "      <td>Order</td>\n",
       "    </tr>\n",
       "    <tr>\n",
       "      <td>6</td>\n",
       "      <td>Product</td>\n",
       "    </tr>\n",
       "    <tr>\n",
       "      <td>7</td>\n",
       "      <td>OrderDetail</td>\n",
       "    </tr>\n",
       "    <tr>\n",
       "      <td>8</td>\n",
       "      <td>CustomerCustomerDemo</td>\n",
       "    </tr>\n",
       "    <tr>\n",
       "      <td>9</td>\n",
       "      <td>CustomerDemographic</td>\n",
       "    </tr>\n",
       "    <tr>\n",
       "      <td>10</td>\n",
       "      <td>Region</td>\n",
       "    </tr>\n",
       "    <tr>\n",
       "      <td>11</td>\n",
       "      <td>Territory</td>\n",
       "    </tr>\n",
       "    <tr>\n",
       "      <td>12</td>\n",
       "      <td>EmployeeTerritory</td>\n",
       "    </tr>\n",
       "  </tbody>\n",
       "</table>\n",
       "</div>"
      ],
      "text/plain": [
       "                   Table\n",
       "0               Employee\n",
       "1               Category\n",
       "2               Customer\n",
       "3                Shipper\n",
       "4               Supplier\n",
       "5                  Order\n",
       "6                Product\n",
       "7            OrderDetail\n",
       "8   CustomerCustomerDemo\n",
       "9    CustomerDemographic\n",
       "10                Region\n",
       "11             Territory\n",
       "12     EmployeeTerritory"
      ]
     },
     "execution_count": 13,
     "metadata": {},
     "output_type": "execute_result"
    }
   ],
   "source": [
    "# create dataframe of table names for referencing purposes\n",
    "cur.execute(\"\"\"SELECT name from sqlite_master WHERE type='table';\"\"\")\n",
    "df_tables = pd.DataFrame(cur.fetchall(), columns=['Table'])\n",
    "df_tables"
   ]
  },
  {
   "cell_type": "code",
   "execution_count": 14,
   "metadata": {},
   "outputs": [],
   "source": [
    "# function for converting tables into dataframes on the fly\n",
    "def get_table(cur, table):\n",
    "    cur.execute(f\"SELECT * from {table};\")\n",
    "    df = pd.DataFrame(cur.fetchall())\n",
    "    df.columns = [desc[0] for desc in cur.description]\n",
    "    return df"
   ]
  },
  {
   "cell_type": "markdown",
   "metadata": {},
   "source": [
    "# H1: Discount--Order Quantity\n",
    "\n",
    "* Does discount amount have a statistically significant effect on the quantity of a product in an order? \n",
    "* If so, at what level(s) of discount?"
   ]
  },
  {
   "cell_type": "markdown",
   "metadata": {},
   "source": [
    "## Hypotheses\n",
    "    \n",
    "    𝐻1  : Discount amount has a statistically significant effect on the quantity in an order.\n",
    "\n",
    "    𝐻0 : Discount amount has no relationship with the quantity of a product in an order."
   ]
  },
  {
   "cell_type": "markdown",
   "metadata": {},
   "source": [
    "## Data Grouping"
   ]
  },
  {
   "cell_type": "code",
   "execution_count": 17,
   "metadata": {},
   "outputs": [
    {
     "data": {
      "text/html": [
       "<div>\n",
       "<style scoped>\n",
       "    .dataframe tbody tr th:only-of-type {\n",
       "        vertical-align: middle;\n",
       "    }\n",
       "\n",
       "    .dataframe tbody tr th {\n",
       "        vertical-align: top;\n",
       "    }\n",
       "\n",
       "    .dataframe thead th {\n",
       "        text-align: right;\n",
       "    }\n",
       "</style>\n",
       "<table border=\"1\" class=\"dataframe\">\n",
       "  <thead>\n",
       "    <tr style=\"text-align: right;\">\n",
       "      <th></th>\n",
       "      <th>Id</th>\n",
       "      <th>OrderId</th>\n",
       "      <th>ProductId</th>\n",
       "      <th>UnitPrice</th>\n",
       "      <th>Quantity</th>\n",
       "      <th>Discount</th>\n",
       "    </tr>\n",
       "  </thead>\n",
       "  <tbody>\n",
       "    <tr>\n",
       "      <td>0</td>\n",
       "      <td>10248/11</td>\n",
       "      <td>10248</td>\n",
       "      <td>11</td>\n",
       "      <td>14.0</td>\n",
       "      <td>12</td>\n",
       "      <td>0.0</td>\n",
       "    </tr>\n",
       "    <tr>\n",
       "      <td>1</td>\n",
       "      <td>10248/42</td>\n",
       "      <td>10248</td>\n",
       "      <td>42</td>\n",
       "      <td>9.8</td>\n",
       "      <td>10</td>\n",
       "      <td>0.0</td>\n",
       "    </tr>\n",
       "    <tr>\n",
       "      <td>2</td>\n",
       "      <td>10248/72</td>\n",
       "      <td>10248</td>\n",
       "      <td>72</td>\n",
       "      <td>34.8</td>\n",
       "      <td>5</td>\n",
       "      <td>0.0</td>\n",
       "    </tr>\n",
       "    <tr>\n",
       "      <td>3</td>\n",
       "      <td>10249/14</td>\n",
       "      <td>10249</td>\n",
       "      <td>14</td>\n",
       "      <td>18.6</td>\n",
       "      <td>9</td>\n",
       "      <td>0.0</td>\n",
       "    </tr>\n",
       "    <tr>\n",
       "      <td>4</td>\n",
       "      <td>10249/51</td>\n",
       "      <td>10249</td>\n",
       "      <td>51</td>\n",
       "      <td>42.4</td>\n",
       "      <td>40</td>\n",
       "      <td>0.0</td>\n",
       "    </tr>\n",
       "  </tbody>\n",
       "</table>\n",
       "</div>"
      ],
      "text/plain": [
       "         Id  OrderId  ProductId  UnitPrice  Quantity  Discount\n",
       "0  10248/11    10248         11       14.0        12       0.0\n",
       "1  10248/42    10248         42        9.8        10       0.0\n",
       "2  10248/72    10248         72       34.8         5       0.0\n",
       "3  10249/14    10249         14       18.6         9       0.0\n",
       "4  10249/51    10249         51       42.4        40       0.0"
      ]
     },
     "execution_count": 17,
     "metadata": {},
     "output_type": "execute_result"
    }
   ],
   "source": [
    "# create dataframe from OrderDetail table since that is where the discount information is stored\n",
    "cur.execute(\"\"\"SELECT * FROM OrderDetail;\"\"\")\n",
    "df_orderDetail = pd.DataFrame(cur.fetchall())\n",
    "df_orderDetail.columns = [x[0] for x in cur.description]\n",
    "df_orderDetail.head()"
   ]
  },
  {
   "cell_type": "code",
   "execution_count": 18,
   "metadata": {},
   "outputs": [],
   "source": [
    "# insert boolean column into orderDetail showing whether or not an order includes a discount value\n",
    "df_orderDetail['discounted'] = np.where(df_orderDetail['Discount'] == 0.0, 0, 1)"
   ]
  },
  {
   "cell_type": "code",
   "execution_count": 20,
   "metadata": {},
   "outputs": [
    {
     "data": {
      "text/plain": [
       "0.00    1317\n",
       "0.05     185\n",
       "0.10     173\n",
       "0.20     161\n",
       "0.15     157\n",
       "0.25     154\n",
       "0.03       3\n",
       "0.02       2\n",
       "0.01       1\n",
       "0.04       1\n",
       "0.06       1\n",
       "Name: Discount, dtype: int64"
      ]
     },
     "execution_count": 20,
     "metadata": {},
     "output_type": "execute_result"
    }
   ],
   "source": [
    "df_orderDetail['Discount'].value_counts()"
   ]
  },
  {
   "cell_type": "code",
   "execution_count": 21,
   "metadata": {},
   "outputs": [],
   "source": [
    "# split order data into two groups: discounted and fullprice\n",
    "fullprice = df_orderDetail.groupby('discounted').get_group(0)['Quantity']\n",
    "discount = df_orderDetail.groupby('discounted').get_group(1)['Quantity']"
   ]
  },
  {
   "cell_type": "markdown",
   "metadata": {},
   "source": [
    "## Testing"
   ]
  },
  {
   "cell_type": "code",
   "execution_count": 23,
   "metadata": {},
   "outputs": [
    {
     "data": {
      "text/plain": [
       "<BarContainer object of 1 artists>"
      ]
     },
     "execution_count": 23,
     "metadata": {},
     "output_type": "execute_result"
    },
    {
     "data": {
      "image/png": "[encoded data removed]",
      "text/plain": [
       "<Figure size 432x288 with 1 Axes>"
      ]
     },
     "metadata": {
      "needs_background": "light"
     },
     "output_type": "display_data"
    }
   ],
   "source": [
    "# Check if sample sizes allow us to ignore assumptions; if not, test assumption normality\n",
    "# visualize sample size comparisons for two groups (normality check)\n",
    "import scipy.stats as stat\n",
    "plt.bar(x='Full Price', height=fullprice.mean(), yerr=stat.sem(fullprice))\n",
    "plt.bar(x='Discounted', height=discount.mean(), yerr=stat.sem(discount))"
   ]
  },
  {
   "cell_type": "code",
   "execution_count": 24,
   "metadata": {},
   "outputs": [
    {
     "data": {
      "text/plain": [
       "(NormaltestResult(statistic=544.5770045551502, pvalue=5.579637380545965e-119),\n",
       " NormaltestResult(statistic=261.528012299789, pvalue=1.6214878452829618e-57))"
      ]
     },
     "execution_count": 24,
     "metadata": {},
     "output_type": "execute_result"
    }
   ],
   "source": [
    "# Test for normality\n",
    "stat.normaltest(fullprice), stat.normaltest(discount)"
   ]
  },
  {
   "cell_type": "code",
   "execution_count": 25,
   "metadata": {},
   "outputs": [
    {
     "data": {
      "text/plain": [
       "MannwhitneyuResult(statistic=461541.0, pvalue=6.629381826999866e-11)"
      ]
     },
     "execution_count": 25,
     "metadata": {},
     "output_type": "execute_result"
    }
   ],
   "source": [
    "# Run non-parametric test (since normality test failed)\n",
    "stat.mannwhitneyu(fullprice, discount)"
   ]
  },
  {
   "cell_type": "code",
   "execution_count": 14,
   "metadata": {},
   "outputs": [],
   "source": [
    "# Perform chosen statistical test, calculate effect size, and any post-hoc tests."
   ]
  },
  {
   "cell_type": "code",
   "execution_count": 26,
   "metadata": {},
   "outputs": [],
   "source": [
    "# run tukey test for OQD (Order Quantity Discount) \n",
    "data = df_orderDetail['Quantity'].values\n",
    "labels = df_orderDetail['Discount'].values\n",
    "\n",
    "import statsmodels.api as sms\n",
    "model = sms.stats.multicomp.pairwise_tukeyhsd(data,labels)"
   ]
  },
  {
   "cell_type": "code",
   "execution_count": 27,
   "metadata": {
    "code_folding": [],
    "scrolled": false
   },
   "outputs": [
    {
     "data": {
      "text/html": [
       "<div>\n",
       "<style scoped>\n",
       "    .dataframe tbody tr th:only-of-type {\n",
       "        vertical-align: middle;\n",
       "    }\n",
       "\n",
       "    .dataframe tbody tr th {\n",
       "        vertical-align: top;\n",
       "    }\n",
       "\n",
       "    .dataframe thead th {\n",
       "        text-align: right;\n",
       "    }\n",
       "</style>\n",
       "<table border=\"1\" class=\"dataframe\">\n",
       "  <thead>\n",
       "    <tr style=\"text-align: right;\">\n",
       "      <th></th>\n",
       "      <th>group1</th>\n",
       "      <th>group2</th>\n",
       "      <th>meandiff</th>\n",
       "      <th>p-adj</th>\n",
       "      <th>lower</th>\n",
       "      <th>upper</th>\n",
       "      <th>reject</th>\n",
       "    </tr>\n",
       "  </thead>\n",
       "  <tbody>\n",
       "    <tr>\n",
       "      <td>0</td>\n",
       "      <td>0.0</td>\n",
       "      <td>0.01</td>\n",
       "      <td>-19.7153</td>\n",
       "      <td>0.9</td>\n",
       "      <td>-80.3306</td>\n",
       "      <td>40.9001</td>\n",
       "      <td>False</td>\n",
       "    </tr>\n",
       "    <tr>\n",
       "      <td>1</td>\n",
       "      <td>0.0</td>\n",
       "      <td>0.02</td>\n",
       "      <td>-19.7153</td>\n",
       "      <td>0.9</td>\n",
       "      <td>-62.593</td>\n",
       "      <td>23.1625</td>\n",
       "      <td>False</td>\n",
       "    </tr>\n",
       "    <tr>\n",
       "      <td>2</td>\n",
       "      <td>0.0</td>\n",
       "      <td>0.03</td>\n",
       "      <td>-20.0486</td>\n",
       "      <td>0.725</td>\n",
       "      <td>-55.0714</td>\n",
       "      <td>14.9742</td>\n",
       "      <td>False</td>\n",
       "    </tr>\n",
       "    <tr>\n",
       "      <td>3</td>\n",
       "      <td>0.0</td>\n",
       "      <td>0.04</td>\n",
       "      <td>-20.7153</td>\n",
       "      <td>0.9</td>\n",
       "      <td>-81.3306</td>\n",
       "      <td>39.9001</td>\n",
       "      <td>False</td>\n",
       "    </tr>\n",
       "    <tr>\n",
       "      <td>4</td>\n",
       "      <td>0.0</td>\n",
       "      <td>0.05</td>\n",
       "      <td>6.2955</td>\n",
       "      <td>0.0011</td>\n",
       "      <td>1.5381</td>\n",
       "      <td>11.053</td>\n",
       "      <td>True</td>\n",
       "    </tr>\n",
       "    <tr>\n",
       "      <td>5</td>\n",
       "      <td>0.0</td>\n",
       "      <td>0.06</td>\n",
       "      <td>-19.7153</td>\n",
       "      <td>0.9</td>\n",
       "      <td>-80.3306</td>\n",
       "      <td>40.9001</td>\n",
       "      <td>False</td>\n",
       "    </tr>\n",
       "    <tr>\n",
       "      <td>6</td>\n",
       "      <td>0.0</td>\n",
       "      <td>0.1</td>\n",
       "      <td>3.5217</td>\n",
       "      <td>0.4269</td>\n",
       "      <td>-1.3783</td>\n",
       "      <td>8.4217</td>\n",
       "      <td>False</td>\n",
       "    </tr>\n",
       "    <tr>\n",
       "      <td>7</td>\n",
       "      <td>0.0</td>\n",
       "      <td>0.15</td>\n",
       "      <td>6.6669</td>\n",
       "      <td>0.0014</td>\n",
       "      <td>1.551</td>\n",
       "      <td>11.7828</td>\n",
       "      <td>True</td>\n",
       "    </tr>\n",
       "    <tr>\n",
       "      <td>8</td>\n",
       "      <td>0.0</td>\n",
       "      <td>0.2</td>\n",
       "      <td>5.3096</td>\n",
       "      <td>0.0303</td>\n",
       "      <td>0.2508</td>\n",
       "      <td>10.3684</td>\n",
       "      <td>True</td>\n",
       "    </tr>\n",
       "    <tr>\n",
       "      <td>9</td>\n",
       "      <td>0.0</td>\n",
       "      <td>0.25</td>\n",
       "      <td>6.525</td>\n",
       "      <td>0.0023</td>\n",
       "      <td>1.3647</td>\n",
       "      <td>11.6852</td>\n",
       "      <td>True</td>\n",
       "    </tr>\n",
       "    <tr>\n",
       "      <td>10</td>\n",
       "      <td>0.01</td>\n",
       "      <td>0.02</td>\n",
       "      <td>0.0</td>\n",
       "      <td>0.9</td>\n",
       "      <td>-74.2101</td>\n",
       "      <td>74.2101</td>\n",
       "      <td>False</td>\n",
       "    </tr>\n",
       "    <tr>\n",
       "      <td>11</td>\n",
       "      <td>0.01</td>\n",
       "      <td>0.03</td>\n",
       "      <td>-0.3333</td>\n",
       "      <td>0.9</td>\n",
       "      <td>-70.2993</td>\n",
       "      <td>69.6326</td>\n",
       "      <td>False</td>\n",
       "    </tr>\n",
       "    <tr>\n",
       "      <td>12</td>\n",
       "      <td>0.01</td>\n",
       "      <td>0.04</td>\n",
       "      <td>-1.0</td>\n",
       "      <td>0.9</td>\n",
       "      <td>-86.6905</td>\n",
       "      <td>84.6905</td>\n",
       "      <td>False</td>\n",
       "    </tr>\n",
       "    <tr>\n",
       "      <td>13</td>\n",
       "      <td>0.01</td>\n",
       "      <td>0.05</td>\n",
       "      <td>26.0108</td>\n",
       "      <td>0.9</td>\n",
       "      <td>-34.745</td>\n",
       "      <td>86.7667</td>\n",
       "      <td>False</td>\n",
       "    </tr>\n",
       "    <tr>\n",
       "      <td>14</td>\n",
       "      <td>0.01</td>\n",
       "      <td>0.06</td>\n",
       "      <td>0.0</td>\n",
       "      <td>0.9</td>\n",
       "      <td>-85.6905</td>\n",
       "      <td>85.6905</td>\n",
       "      <td>False</td>\n",
       "    </tr>\n",
       "    <tr>\n",
       "      <td>15</td>\n",
       "      <td>0.01</td>\n",
       "      <td>0.1</td>\n",
       "      <td>23.237</td>\n",
       "      <td>0.9</td>\n",
       "      <td>-37.5302</td>\n",
       "      <td>84.0042</td>\n",
       "      <td>False</td>\n",
       "    </tr>\n",
       "    <tr>\n",
       "      <td>16</td>\n",
       "      <td>0.01</td>\n",
       "      <td>0.15</td>\n",
       "      <td>26.3822</td>\n",
       "      <td>0.9</td>\n",
       "      <td>-34.4028</td>\n",
       "      <td>87.1671</td>\n",
       "      <td>False</td>\n",
       "    </tr>\n",
       "    <tr>\n",
       "      <td>17</td>\n",
       "      <td>0.01</td>\n",
       "      <td>0.2</td>\n",
       "      <td>25.0248</td>\n",
       "      <td>0.9</td>\n",
       "      <td>-35.7554</td>\n",
       "      <td>85.805</td>\n",
       "      <td>False</td>\n",
       "    </tr>\n",
       "    <tr>\n",
       "      <td>18</td>\n",
       "      <td>0.01</td>\n",
       "      <td>0.25</td>\n",
       "      <td>26.2403</td>\n",
       "      <td>0.9</td>\n",
       "      <td>-34.5485</td>\n",
       "      <td>87.029</td>\n",
       "      <td>False</td>\n",
       "    </tr>\n",
       "    <tr>\n",
       "      <td>19</td>\n",
       "      <td>0.02</td>\n",
       "      <td>0.03</td>\n",
       "      <td>-0.3333</td>\n",
       "      <td>0.9</td>\n",
       "      <td>-55.6463</td>\n",
       "      <td>54.9796</td>\n",
       "      <td>False</td>\n",
       "    </tr>\n",
       "    <tr>\n",
       "      <td>20</td>\n",
       "      <td>0.02</td>\n",
       "      <td>0.04</td>\n",
       "      <td>-1.0</td>\n",
       "      <td>0.9</td>\n",
       "      <td>-75.2101</td>\n",
       "      <td>73.2101</td>\n",
       "      <td>False</td>\n",
       "    </tr>\n",
       "    <tr>\n",
       "      <td>21</td>\n",
       "      <td>0.02</td>\n",
       "      <td>0.05</td>\n",
       "      <td>26.0108</td>\n",
       "      <td>0.6622</td>\n",
       "      <td>-17.0654</td>\n",
       "      <td>69.087</td>\n",
       "      <td>False</td>\n",
       "    </tr>\n",
       "    <tr>\n",
       "      <td>22</td>\n",
       "      <td>0.02</td>\n",
       "      <td>0.06</td>\n",
       "      <td>0.0</td>\n",
       "      <td>0.9</td>\n",
       "      <td>-74.2101</td>\n",
       "      <td>74.2101</td>\n",
       "      <td>False</td>\n",
       "    </tr>\n",
       "    <tr>\n",
       "      <td>23</td>\n",
       "      <td>0.02</td>\n",
       "      <td>0.1</td>\n",
       "      <td>23.237</td>\n",
       "      <td>0.7914</td>\n",
       "      <td>-19.8552</td>\n",
       "      <td>66.3292</td>\n",
       "      <td>False</td>\n",
       "    </tr>\n",
       "    <tr>\n",
       "      <td>24</td>\n",
       "      <td>0.02</td>\n",
       "      <td>0.15</td>\n",
       "      <td>26.3822</td>\n",
       "      <td>0.6461</td>\n",
       "      <td>-16.7351</td>\n",
       "      <td>69.4994</td>\n",
       "      <td>False</td>\n",
       "    </tr>\n",
       "    <tr>\n",
       "      <td>25</td>\n",
       "      <td>0.02</td>\n",
       "      <td>0.2</td>\n",
       "      <td>25.0248</td>\n",
       "      <td>0.7089</td>\n",
       "      <td>-18.0857</td>\n",
       "      <td>68.1354</td>\n",
       "      <td>False</td>\n",
       "    </tr>\n",
       "    <tr>\n",
       "      <td>26</td>\n",
       "      <td>0.02</td>\n",
       "      <td>0.25</td>\n",
       "      <td>26.2403</td>\n",
       "      <td>0.6528</td>\n",
       "      <td>-16.8823</td>\n",
       "      <td>69.3628</td>\n",
       "      <td>False</td>\n",
       "    </tr>\n",
       "    <tr>\n",
       "      <td>27</td>\n",
       "      <td>0.03</td>\n",
       "      <td>0.04</td>\n",
       "      <td>-0.6667</td>\n",
       "      <td>0.9</td>\n",
       "      <td>-70.6326</td>\n",
       "      <td>69.2993</td>\n",
       "      <td>False</td>\n",
       "    </tr>\n",
       "    <tr>\n",
       "      <td>28</td>\n",
       "      <td>0.03</td>\n",
       "      <td>0.05</td>\n",
       "      <td>26.3441</td>\n",
       "      <td>0.3639</td>\n",
       "      <td>-8.9214</td>\n",
       "      <td>61.6096</td>\n",
       "      <td>False</td>\n",
       "    </tr>\n",
       "    <tr>\n",
       "      <td>29</td>\n",
       "      <td>0.03</td>\n",
       "      <td>0.06</td>\n",
       "      <td>0.3333</td>\n",
       "      <td>0.9</td>\n",
       "      <td>-69.6326</td>\n",
       "      <td>70.2993</td>\n",
       "      <td>False</td>\n",
       "    </tr>\n",
       "    <tr>\n",
       "      <td>30</td>\n",
       "      <td>0.03</td>\n",
       "      <td>0.1</td>\n",
       "      <td>23.5703</td>\n",
       "      <td>0.5338</td>\n",
       "      <td>-11.7147</td>\n",
       "      <td>58.8553</td>\n",
       "      <td>False</td>\n",
       "    </tr>\n",
       "    <tr>\n",
       "      <td>31</td>\n",
       "      <td>0.03</td>\n",
       "      <td>0.15</td>\n",
       "      <td>26.7155</td>\n",
       "      <td>0.3436</td>\n",
       "      <td>-8.6001</td>\n",
       "      <td>62.0311</td>\n",
       "      <td>False</td>\n",
       "    </tr>\n",
       "    <tr>\n",
       "      <td>32</td>\n",
       "      <td>0.03</td>\n",
       "      <td>0.2</td>\n",
       "      <td>25.3582</td>\n",
       "      <td>0.428</td>\n",
       "      <td>-9.9492</td>\n",
       "      <td>60.6656</td>\n",
       "      <td>False</td>\n",
       "    </tr>\n",
       "    <tr>\n",
       "      <td>33</td>\n",
       "      <td>0.03</td>\n",
       "      <td>0.25</td>\n",
       "      <td>26.5736</td>\n",
       "      <td>0.3525</td>\n",
       "      <td>-8.7485</td>\n",
       "      <td>61.8957</td>\n",
       "      <td>False</td>\n",
       "    </tr>\n",
       "    <tr>\n",
       "      <td>34</td>\n",
       "      <td>0.04</td>\n",
       "      <td>0.05</td>\n",
       "      <td>27.0108</td>\n",
       "      <td>0.9</td>\n",
       "      <td>-33.745</td>\n",
       "      <td>87.7667</td>\n",
       "      <td>False</td>\n",
       "    </tr>\n",
       "    <tr>\n",
       "      <td>35</td>\n",
       "      <td>0.04</td>\n",
       "      <td>0.06</td>\n",
       "      <td>1.0</td>\n",
       "      <td>0.9</td>\n",
       "      <td>-84.6905</td>\n",
       "      <td>86.6905</td>\n",
       "      <td>False</td>\n",
       "    </tr>\n",
       "    <tr>\n",
       "      <td>36</td>\n",
       "      <td>0.04</td>\n",
       "      <td>0.1</td>\n",
       "      <td>24.237</td>\n",
       "      <td>0.9</td>\n",
       "      <td>-36.5302</td>\n",
       "      <td>85.0042</td>\n",
       "      <td>False</td>\n",
       "    </tr>\n",
       "    <tr>\n",
       "      <td>37</td>\n",
       "      <td>0.04</td>\n",
       "      <td>0.15</td>\n",
       "      <td>27.3822</td>\n",
       "      <td>0.9</td>\n",
       "      <td>-33.4028</td>\n",
       "      <td>88.1671</td>\n",
       "      <td>False</td>\n",
       "    </tr>\n",
       "    <tr>\n",
       "      <td>38</td>\n",
       "      <td>0.04</td>\n",
       "      <td>0.2</td>\n",
       "      <td>26.0248</td>\n",
       "      <td>0.9</td>\n",
       "      <td>-34.7554</td>\n",
       "      <td>86.805</td>\n",
       "      <td>False</td>\n",
       "    </tr>\n",
       "    <tr>\n",
       "      <td>39</td>\n",
       "      <td>0.04</td>\n",
       "      <td>0.25</td>\n",
       "      <td>27.2403</td>\n",
       "      <td>0.9</td>\n",
       "      <td>-33.5485</td>\n",
       "      <td>88.029</td>\n",
       "      <td>False</td>\n",
       "    </tr>\n",
       "    <tr>\n",
       "      <td>40</td>\n",
       "      <td>0.05</td>\n",
       "      <td>0.06</td>\n",
       "      <td>-26.0108</td>\n",
       "      <td>0.9</td>\n",
       "      <td>-86.7667</td>\n",
       "      <td>34.745</td>\n",
       "      <td>False</td>\n",
       "    </tr>\n",
       "    <tr>\n",
       "      <td>41</td>\n",
       "      <td>0.05</td>\n",
       "      <td>0.1</td>\n",
       "      <td>-2.7738</td>\n",
       "      <td>0.9</td>\n",
       "      <td>-9.1822</td>\n",
       "      <td>3.6346</td>\n",
       "      <td>False</td>\n",
       "    </tr>\n",
       "    <tr>\n",
       "      <td>42</td>\n",
       "      <td>0.05</td>\n",
       "      <td>0.15</td>\n",
       "      <td>0.3714</td>\n",
       "      <td>0.9</td>\n",
       "      <td>-6.2036</td>\n",
       "      <td>6.9463</td>\n",
       "      <td>False</td>\n",
       "    </tr>\n",
       "    <tr>\n",
       "      <td>43</td>\n",
       "      <td>0.05</td>\n",
       "      <td>0.2</td>\n",
       "      <td>-0.986</td>\n",
       "      <td>0.9</td>\n",
       "      <td>-7.5166</td>\n",
       "      <td>5.5447</td>\n",
       "      <td>False</td>\n",
       "    </tr>\n",
       "    <tr>\n",
       "      <td>44</td>\n",
       "      <td>0.05</td>\n",
       "      <td>0.25</td>\n",
       "      <td>0.2294</td>\n",
       "      <td>0.9</td>\n",
       "      <td>-6.3801</td>\n",
       "      <td>6.839</td>\n",
       "      <td>False</td>\n",
       "    </tr>\n",
       "    <tr>\n",
       "      <td>45</td>\n",
       "      <td>0.06</td>\n",
       "      <td>0.1</td>\n",
       "      <td>23.237</td>\n",
       "      <td>0.9</td>\n",
       "      <td>-37.5302</td>\n",
       "      <td>84.0042</td>\n",
       "      <td>False</td>\n",
       "    </tr>\n",
       "    <tr>\n",
       "      <td>46</td>\n",
       "      <td>0.06</td>\n",
       "      <td>0.15</td>\n",
       "      <td>26.3822</td>\n",
       "      <td>0.9</td>\n",
       "      <td>-34.4028</td>\n",
       "      <td>87.1671</td>\n",
       "      <td>False</td>\n",
       "    </tr>\n",
       "    <tr>\n",
       "      <td>47</td>\n",
       "      <td>0.06</td>\n",
       "      <td>0.2</td>\n",
       "      <td>25.0248</td>\n",
       "      <td>0.9</td>\n",
       "      <td>-35.7554</td>\n",
       "      <td>85.805</td>\n",
       "      <td>False</td>\n",
       "    </tr>\n",
       "    <tr>\n",
       "      <td>48</td>\n",
       "      <td>0.06</td>\n",
       "      <td>0.25</td>\n",
       "      <td>26.2403</td>\n",
       "      <td>0.9</td>\n",
       "      <td>-34.5485</td>\n",
       "      <td>87.029</td>\n",
       "      <td>False</td>\n",
       "    </tr>\n",
       "    <tr>\n",
       "      <td>49</td>\n",
       "      <td>0.1</td>\n",
       "      <td>0.15</td>\n",
       "      <td>3.1452</td>\n",
       "      <td>0.9</td>\n",
       "      <td>-3.5337</td>\n",
       "      <td>9.824</td>\n",
       "      <td>False</td>\n",
       "    </tr>\n",
       "    <tr>\n",
       "      <td>50</td>\n",
       "      <td>0.1</td>\n",
       "      <td>0.2</td>\n",
       "      <td>1.7879</td>\n",
       "      <td>0.9</td>\n",
       "      <td>-4.8474</td>\n",
       "      <td>8.4231</td>\n",
       "      <td>False</td>\n",
       "    </tr>\n",
       "    <tr>\n",
       "      <td>51</td>\n",
       "      <td>0.1</td>\n",
       "      <td>0.25</td>\n",
       "      <td>3.0033</td>\n",
       "      <td>0.9</td>\n",
       "      <td>-3.7096</td>\n",
       "      <td>9.7161</td>\n",
       "      <td>False</td>\n",
       "    </tr>\n",
       "    <tr>\n",
       "      <td>52</td>\n",
       "      <td>0.15</td>\n",
       "      <td>0.2</td>\n",
       "      <td>-1.3573</td>\n",
       "      <td>0.9</td>\n",
       "      <td>-8.1536</td>\n",
       "      <td>5.4389</td>\n",
       "      <td>False</td>\n",
       "    </tr>\n",
       "    <tr>\n",
       "      <td>53</td>\n",
       "      <td>0.15</td>\n",
       "      <td>0.25</td>\n",
       "      <td>-0.1419</td>\n",
       "      <td>0.9</td>\n",
       "      <td>-7.014</td>\n",
       "      <td>6.7302</td>\n",
       "      <td>False</td>\n",
       "    </tr>\n",
       "    <tr>\n",
       "      <td>54</td>\n",
       "      <td>0.2</td>\n",
       "      <td>0.25</td>\n",
       "      <td>1.2154</td>\n",
       "      <td>0.9</td>\n",
       "      <td>-5.6143</td>\n",
       "      <td>8.0451</td>\n",
       "      <td>False</td>\n",
       "    </tr>\n",
       "  </tbody>\n",
       "</table>\n",
       "</div>"
      ],
      "text/plain": [
       "   group1 group2  meandiff   p-adj     lower    upper reject\n",
       "0     0.0   0.01  -19.7153     0.9  -80.3306  40.9001  False\n",
       "1     0.0   0.02  -19.7153     0.9   -62.593  23.1625  False\n",
       "2     0.0   0.03  -20.0486   0.725  -55.0714  14.9742  False\n",
       "3     0.0   0.04  -20.7153     0.9  -81.3306  39.9001  False\n",
       "4     0.0   0.05    6.2955  0.0011    1.5381   11.053   True\n",
       "5     0.0   0.06  -19.7153     0.9  -80.3306  40.9001  False\n",
       "6     0.0    0.1    3.5217  0.4269   -1.3783   8.4217  False\n",
       "7     0.0   0.15    6.6669  0.0014     1.551  11.7828   True\n",
       "8     0.0    0.2    5.3096  0.0303    0.2508  10.3684   True\n",
       "9     0.0   0.25     6.525  0.0023    1.3647  11.6852   True\n",
       "10   0.01   0.02       0.0     0.9  -74.2101  74.2101  False\n",
       "11   0.01   0.03   -0.3333     0.9  -70.2993  69.6326  False\n",
       "12   0.01   0.04      -1.0     0.9  -86.6905  84.6905  False\n",
       "13   0.01   0.05   26.0108     0.9   -34.745  86.7667  False\n",
       "14   0.01   0.06       0.0     0.9  -85.6905  85.6905  False\n",
       "15   0.01    0.1    23.237     0.9  -37.5302  84.0042  False\n",
       "16   0.01   0.15   26.3822     0.9  -34.4028  87.1671  False\n",
       "17   0.01    0.2   25.0248     0.9  -35.7554   85.805  False\n",
       "18   0.01   0.25   26.2403     0.9  -34.5485   87.029  False\n",
       "19   0.02   0.03   -0.3333     0.9  -55.6463  54.9796  False\n",
       "20   0.02   0.04      -1.0     0.9  -75.2101  73.2101  False\n",
       "21   0.02   0.05   26.0108  0.6622  -17.0654   69.087  False\n",
       "22   0.02   0.06       0.0     0.9  -74.2101  74.2101  False\n",
       "23   0.02    0.1    23.237  0.7914  -19.8552  66.3292  False\n",
       "24   0.02   0.15   26.3822  0.6461  -16.7351  69.4994  False\n",
       "25   0.02    0.2   25.0248  0.7089  -18.0857  68.1354  False\n",
       "26   0.02   0.25   26.2403  0.6528  -16.8823  69.3628  False\n",
       "27   0.03   0.04   -0.6667     0.9  -70.6326  69.2993  False\n",
       "28   0.03   0.05   26.3441  0.3639   -8.9214  61.6096  False\n",
       "29   0.03   0.06    0.3333     0.9  -69.6326  70.2993  False\n",
       "30   0.03    0.1   23.5703  0.5338  -11.7147  58.8553  False\n",
       "31   0.03   0.15   26.7155  0.3436   -8.6001  62.0311  False\n",
       "32   0.03    0.2   25.3582   0.428   -9.9492  60.6656  False\n",
       "33   0.03   0.25   26.5736  0.3525   -8.7485  61.8957  False\n",
       "34   0.04   0.05   27.0108     0.9   -33.745  87.7667  False\n",
       "35   0.04   0.06       1.0     0.9  -84.6905  86.6905  False\n",
       "36   0.04    0.1    24.237     0.9  -36.5302  85.0042  False\n",
       "37   0.04   0.15   27.3822     0.9  -33.4028  88.1671  False\n",
       "38   0.04    0.2   26.0248     0.9  -34.7554   86.805  False\n",
       "39   0.04   0.25   27.2403     0.9  -33.5485   88.029  False\n",
       "40   0.05   0.06  -26.0108     0.9  -86.7667   34.745  False\n",
       "41   0.05    0.1   -2.7738     0.9   -9.1822   3.6346  False\n",
       "42   0.05   0.15    0.3714     0.9   -6.2036   6.9463  False\n",
       "43   0.05    0.2    -0.986     0.9   -7.5166   5.5447  False\n",
       "44   0.05   0.25    0.2294     0.9   -6.3801    6.839  False\n",
       "45   0.06    0.1    23.237     0.9  -37.5302  84.0042  False\n",
       "46   0.06   0.15   26.3822     0.9  -34.4028  87.1671  False\n",
       "47   0.06    0.2   25.0248     0.9  -35.7554   85.805  False\n",
       "48   0.06   0.25   26.2403     0.9  -34.5485   87.029  False\n",
       "49    0.1   0.15    3.1452     0.9   -3.5337    9.824  False\n",
       "50    0.1    0.2    1.7879     0.9   -4.8474   8.4231  False\n",
       "51    0.1   0.25    3.0033     0.9   -3.7096   9.7161  False\n",
       "52   0.15    0.2   -1.3573     0.9   -8.1536   5.4389  False\n",
       "53   0.15   0.25   -0.1419     0.9    -7.014   6.7302  False\n",
       "54    0.2   0.25    1.2154     0.9   -5.6143   8.0451  False"
      ]
     },
     "execution_count": 27,
     "metadata": {},
     "output_type": "execute_result"
    }
   ],
   "source": [
    "# save OQD tukey test model results into dataframe (OQD: order quantity discount)\n",
    "tukey_OQD = pd.DataFrame(data=model._results_table[1:], columns=model._results_table[0])\n",
    "tukey_OQD"
   ]
  },
  {
   "cell_type": "code",
   "execution_count": 28,
   "metadata": {},
   "outputs": [
    {
     "data": {
      "image/png": "[encoded data removed]",
      "text/plain": [
       "<Figure size 720x432 with 1 Axes>"
      ]
     },
     "execution_count": 28,
     "metadata": {},
     "output_type": "execute_result"
    },
    {
     "data": {
      "image/png": "[encoded data removed]",
      "text/plain": [
       "<Figure size 720x432 with 1 Axes>"
      ]
     },
     "metadata": {
      "needs_background": "light"
     },
     "output_type": "display_data"
    }
   ],
   "source": [
    "# Plot a universal confidence interval of each group mean comparing significant differences in group means. \n",
    "# Significant differences at the alpha=0.05 level can be identified by intervals that do not overlap \n",
    "\n",
    "oq_data = df_orderDetail['Quantity'].values\n",
    "discount_labels = df_orderDetail['Discount'].values\n",
    "\n",
    "from statsmodels.stats.multicomp import MultiComparison\n",
    "oqd = MultiComparison(oq_data, discount_labels)\n",
    "results = oqd.tukeyhsd()\n",
    "results.plot_simultaneous(comparison_name=0.2, xlabel='order qty', ylabel='discount level')"
   ]
  },
  {
   "cell_type": "markdown",
   "metadata": {},
   "source": [
    "## Results"
   ]
  },
  {
   "cell_type": "markdown",
   "metadata": {},
   "source": [
    "Reject null hypothesis for discount and order quantity where discount = [0.05, 0.1, 0.15, 0.2, 0.25]"
   ]
  },
  {
   "cell_type": "code",
   "execution_count": 30,
   "metadata": {},
   "outputs": [
    {
     "data": {
      "text/html": [
       "<div>\n",
       "<style scoped>\n",
       "    .dataframe tbody tr th:only-of-type {\n",
       "        vertical-align: middle;\n",
       "    }\n",
       "\n",
       "    .dataframe tbody tr th {\n",
       "        vertical-align: top;\n",
       "    }\n",
       "\n",
       "    .dataframe thead th {\n",
       "        text-align: right;\n",
       "    }\n",
       "</style>\n",
       "<table border=\"1\" class=\"dataframe\">\n",
       "  <thead>\n",
       "    <tr style=\"text-align: right;\">\n",
       "      <th></th>\n",
       "      <th>Id</th>\n",
       "      <th>OrderId</th>\n",
       "      <th>ProductId</th>\n",
       "      <th>UnitPrice</th>\n",
       "      <th>Quantity</th>\n",
       "      <th>Discount</th>\n",
       "      <th>discounted</th>\n",
       "    </tr>\n",
       "  </thead>\n",
       "  <tbody>\n",
       "    <tr>\n",
       "      <td>6</td>\n",
       "      <td>10250/51</td>\n",
       "      <td>10250</td>\n",
       "      <td>51</td>\n",
       "      <td>42.4</td>\n",
       "      <td>35</td>\n",
       "      <td>0.15</td>\n",
       "      <td>1</td>\n",
       "    </tr>\n",
       "    <tr>\n",
       "      <td>7</td>\n",
       "      <td>10250/65</td>\n",
       "      <td>10250</td>\n",
       "      <td>65</td>\n",
       "      <td>16.8</td>\n",
       "      <td>15</td>\n",
       "      <td>0.15</td>\n",
       "      <td>1</td>\n",
       "    </tr>\n",
       "    <tr>\n",
       "      <td>8</td>\n",
       "      <td>10251/22</td>\n",
       "      <td>10251</td>\n",
       "      <td>22</td>\n",
       "      <td>16.8</td>\n",
       "      <td>6</td>\n",
       "      <td>0.05</td>\n",
       "      <td>1</td>\n",
       "    </tr>\n",
       "    <tr>\n",
       "      <td>9</td>\n",
       "      <td>10251/57</td>\n",
       "      <td>10251</td>\n",
       "      <td>57</td>\n",
       "      <td>15.6</td>\n",
       "      <td>15</td>\n",
       "      <td>0.05</td>\n",
       "      <td>1</td>\n",
       "    </tr>\n",
       "    <tr>\n",
       "      <td>11</td>\n",
       "      <td>10252/20</td>\n",
       "      <td>10252</td>\n",
       "      <td>20</td>\n",
       "      <td>64.8</td>\n",
       "      <td>40</td>\n",
       "      <td>0.05</td>\n",
       "      <td>1</td>\n",
       "    </tr>\n",
       "    <tr>\n",
       "      <td>...</td>\n",
       "      <td>...</td>\n",
       "      <td>...</td>\n",
       "      <td>...</td>\n",
       "      <td>...</td>\n",
       "      <td>...</td>\n",
       "      <td>...</td>\n",
       "      <td>...</td>\n",
       "    </tr>\n",
       "    <tr>\n",
       "      <td>2130</td>\n",
       "      <td>11077/2</td>\n",
       "      <td>11077</td>\n",
       "      <td>2</td>\n",
       "      <td>19.0</td>\n",
       "      <td>24</td>\n",
       "      <td>0.20</td>\n",
       "      <td>1</td>\n",
       "    </tr>\n",
       "    <tr>\n",
       "      <td>2134</td>\n",
       "      <td>11077/7</td>\n",
       "      <td>11077</td>\n",
       "      <td>7</td>\n",
       "      <td>30.0</td>\n",
       "      <td>1</td>\n",
       "      <td>0.05</td>\n",
       "      <td>1</td>\n",
       "    </tr>\n",
       "    <tr>\n",
       "      <td>2135</td>\n",
       "      <td>11077/8</td>\n",
       "      <td>11077</td>\n",
       "      <td>8</td>\n",
       "      <td>40.0</td>\n",
       "      <td>2</td>\n",
       "      <td>0.10</td>\n",
       "      <td>1</td>\n",
       "    </tr>\n",
       "    <tr>\n",
       "      <td>2137</td>\n",
       "      <td>11077/12</td>\n",
       "      <td>11077</td>\n",
       "      <td>12</td>\n",
       "      <td>38.0</td>\n",
       "      <td>2</td>\n",
       "      <td>0.05</td>\n",
       "      <td>1</td>\n",
       "    </tr>\n",
       "    <tr>\n",
       "      <td>2144</td>\n",
       "      <td>11077/39</td>\n",
       "      <td>11077</td>\n",
       "      <td>39</td>\n",
       "      <td>18.0</td>\n",
       "      <td>2</td>\n",
       "      <td>0.05</td>\n",
       "      <td>1</td>\n",
       "    </tr>\n",
       "  </tbody>\n",
       "</table>\n",
       "<p>830 rows × 7 columns</p>\n",
       "</div>"
      ],
      "text/plain": [
       "            Id  OrderId  ProductId  UnitPrice  Quantity  Discount  discounted\n",
       "6     10250/51    10250         51       42.4        35      0.15           1\n",
       "7     10250/65    10250         65       16.8        15      0.15           1\n",
       "8     10251/22    10251         22       16.8         6      0.05           1\n",
       "9     10251/57    10251         57       15.6        15      0.05           1\n",
       "11    10252/20    10252         20       64.8        40      0.05           1\n",
       "...        ...      ...        ...        ...       ...       ...         ...\n",
       "2130   11077/2    11077          2       19.0        24      0.20           1\n",
       "2134   11077/7    11077          7       30.0         1      0.05           1\n",
       "2135   11077/8    11077          8       40.0         2      0.10           1\n",
       "2137  11077/12    11077         12       38.0         2      0.05           1\n",
       "2144  11077/39    11077         39       18.0         2      0.05           1\n",
       "\n",
       "[830 rows x 7 columns]"
      ]
     },
     "execution_count": 30,
     "metadata": {},
     "output_type": "execute_result"
    }
   ],
   "source": [
    "df_oqd = df_orderDetail.loc[(df_orderDetail['Discount'] >= 0.05) & (df_orderDetail['Discount'] != 0.06)]\n",
    "df_oqd"
   ]
  },
  {
   "cell_type": "code",
   "execution_count": 31,
   "metadata": {},
   "outputs": [
    {
     "data": {
      "text/plain": [
       "(array([185., 173., 157., 315.]),\n",
       " array([0.05, 0.1 , 0.15, 0.2 , 0.25]),\n",
       " <a list of 4 Patch objects>)"
      ]
     },
     "execution_count": 31,
     "metadata": {},
     "output_type": "execute_result"
    },
    {
     "data": {
      "image/png": "[encoded data removed]",
      "text/plain": [
       "<Figure size 576x432 with 1 Axes>"
      ]
     },
     "metadata": {
      "needs_background": "light"
     },
     "output_type": "display_data"
    }
   ],
   "source": [
    "fig = plt.figure(figsize=(8,6))\n",
    "plt.hist(data=df_oqd, x='Discount', bins=dv)"
   ]
  },
  {
   "cell_type": "code",
   "execution_count": 32,
   "metadata": {},
   "outputs": [],
   "source": [
    "#### Cohen's d\n",
    "def Cohen_d(group1, group2):\n",
    "    # Compute Cohen's d.\n",
    "    # group1: Series or NumPy array\n",
    "    # group2: Series or NumPy array\n",
    "    # returns a floating point number \n",
    "    diff = group1.mean() - group2.mean()\n",
    "\n",
    "    n1, n2 = len(group1), len(group2)\n",
    "    var1 = group1.var()\n",
    "    var2 = group2.var()\n",
    "\n",
    "    # Calculate the pooled threshold as shown earlier\n",
    "    pooled_var = (n1 * var1 + n2 * var2) / (n1 + n2)\n",
    "    \n",
    "    # Calculate Cohen's d statistic\n",
    "    d = diff / np.sqrt(pooled_var)\n",
    "    \n",
    "    return d"
   ]
  },
  {
   "cell_type": "code",
   "execution_count": 55,
   "metadata": {},
   "outputs": [],
   "source": [
    "# dataframe containg full price only - no discount orders\n",
    "fullprice_df = df_orderDetail.loc[df_orderDetail['discounted'] == 0]\n",
    "discount_df = df_orderDetail.loc[df_orderDetail['discounted'] == 1]"
   ]
  },
  {
   "cell_type": "code",
   "execution_count": 56,
   "metadata": {},
   "outputs": [
    {
     "data": {
      "text/plain": [
       "-0.2862724481729282"
      ]
     },
     "execution_count": 56,
     "metadata": {},
     "output_type": "execute_result"
    }
   ],
   "source": [
    "Cohen_d(fullprice_df.Quantity, discount_df.Quantity)"
   ]
  },
  {
   "cell_type": "code",
   "execution_count": 64,
   "metadata": {},
   "outputs": [],
   "source": [
    "discount25pct = df_oqd.loc[df_oqd['Discount'] == 0.25]\n",
    "discount20pct = df_oqd.loc[df_oqd['Discount'] == 0.20]\n",
    "discount15pct = df_oqd.loc[df_oqd['Discount'] == 0.15]\n",
    "discount10pct = df_oqd.loc[df_oqd['Discount'] == 0.10]\n",
    "discount5pct = df_oqd.loc[df_oqd['Discount'] == 0.5]"
   ]
  },
  {
   "cell_type": "code",
   "execution_count": 37,
   "metadata": {},
   "outputs": [
    {
     "data": {
      "text/plain": [
       "28.24025974025974"
      ]
     },
     "execution_count": 37,
     "metadata": {},
     "output_type": "execute_result"
    }
   ],
   "source": [
    "discount25pct['Quantity'].mean()"
   ]
  },
  {
   "cell_type": "code",
   "execution_count": 59,
   "metadata": {},
   "outputs": [
    {
     "data": {
      "text/plain": [
       "28.38216560509554"
      ]
     },
     "execution_count": 59,
     "metadata": {},
     "output_type": "execute_result"
    }
   ],
   "source": [
    "discount15pct['Quantity'].mean()"
   ]
  },
  {
   "cell_type": "code",
   "execution_count": 61,
   "metadata": {},
   "outputs": [
    {
     "data": {
      "text/plain": [
       "25.23699421965318"
      ]
     },
     "execution_count": 61,
     "metadata": {},
     "output_type": "execute_result"
    }
   ],
   "source": [
    "discount10pct['Quantity'].mean()"
   ]
  },
  {
   "cell_type": "code",
   "execution_count": 65,
   "metadata": {},
   "outputs": [
    {
     "data": {
      "text/plain": [
       "nan"
      ]
     },
     "execution_count": 65,
     "metadata": {},
     "output_type": "execute_result"
    }
   ],
   "source": [
    "discount5pct['Quantity'].min()"
   ]
  },
  {
   "cell_type": "code",
   "execution_count": 38,
   "metadata": {},
   "outputs": [
    {
     "data": {
      "text/plain": [
       "28.21441558441558"
      ]
     },
     "execution_count": 38,
     "metadata": {},
     "output_type": "execute_result"
    }
   ],
   "source": [
    "discount25pct['UnitPrice'].mean()"
   ]
  },
  {
   "cell_type": "code",
   "execution_count": 69,
   "metadata": {},
   "outputs": [
    {
     "name": "stdout",
     "output_type": "stream",
     "text": [
      "-------->\n",
      "HOT!STATS\n",
      "<--------\n",
      "\n",
      "QUANTITY\n",
      "Data Type: int64\n",
      "\n",
      "count    154.00000\n",
      "mean      28.24026\n",
      "std       20.12057\n",
      "min        2.00000\n",
      "25%       15.00000\n",
      "50%       25.00000\n",
      "75%       36.00000\n",
      "max      120.00000\n",
      "Name: Quantity, dtype: float64 \n",
      "\n",
      "à-la-Mode: \n",
      "0    30\n",
      "dtype: int64\n",
      "\n",
      "\n",
      "No Nulls Found!\n",
      "\n",
      "Non-Null Value Counts:\n",
      "30     19\n",
      "20     15\n",
      "15     11\n",
      "40     11\n",
      "35     10\n",
      "21      8\n",
      "25      7\n",
      "60      7\n",
      "50      7\n",
      "18      5\n",
      "12      5\n",
      "2       5\n",
      "10      5\n",
      "4       5\n",
      "5       4\n",
      "70      3\n",
      "6       2\n",
      "3       2\n",
      "7       2\n",
      "24      2\n",
      "100     2\n",
      "36      2\n",
      "42      2\n",
      "44      2\n",
      "16      1\n",
      "27      1\n",
      "14      1\n",
      "28      1\n",
      "11      1\n",
      "9       1\n",
      "8       1\n",
      "49      1\n",
      "65      1\n",
      "80      1\n",
      "120     1\n",
      "Name: Quantity, dtype: int64\n",
      "\n",
      "# Unique Values: 35\n",
      "\n"
     ]
    }
   ],
   "source": [
    "hot_stats(discount25pct, 'Quantity')"
   ]
  },
  {
   "cell_type": "code",
   "execution_count": 66,
   "metadata": {},
   "outputs": [
    {
     "name": "stdout",
     "output_type": "stream",
     "text": [
      "21.715261958997722 27.10978520286396\n"
     ]
    }
   ],
   "source": [
    "mean_qty_fullprice = fullprice_df.Quantity.mean()\n",
    "mean_qty_discount = discount_df.Quantity.mean()\n",
    "print(mean_qty_fullprice, mean_qty_discount)"
   ]
  },
  {
   "cell_type": "code",
   "execution_count": 68,
   "metadata": {},
   "outputs": [
    {
     "data": {
      "text/plain": [
       "5.394523243866239"
      ]
     },
     "execution_count": 68,
     "metadata": {},
     "output_type": "execute_result"
    }
   ],
   "source": [
    "diff = mean_qty_discount - mean_qty_fullprice\n",
    "diff"
   ]
  },
  {
   "cell_type": "code",
   "execution_count": 53,
   "metadata": {
    "scrolled": false
   },
   "outputs": [],
   "source": [
    "from pandas_profiling import ProfileReport\n",
    "#ProfileReport(df_oqd)"
   ]
  },
  {
   "cell_type": "code",
   "execution_count": 50,
   "metadata": {},
   "outputs": [
    {
     "name": "stderr",
     "output_type": "stream",
     "text": [
      "/Users/hakkeray/opt/anaconda3/envs/learn-env/lib/python3.6/site-packages/seaborn/distributions.py:198: RuntimeWarning: Mean of empty slice.\n",
      "  line, = ax.plot(a.mean(), 0)\n",
      "/Users/hakkeray/opt/anaconda3/envs/learn-env/lib/python3.6/site-packages/numpy/core/_methods.py:85: RuntimeWarning: invalid value encountered in double_scalars\n",
      "  ret = ret.dtype.type(ret / rcount)\n",
      "/Users/hakkeray/opt/anaconda3/envs/learn-env/lib/python3.6/site-packages/numpy/lib/histograms.py:893: RuntimeWarning: invalid value encountered in true_divide\n",
      "  return n/db/n.sum(), bin_edges\n"
     ]
    },
    {
     "data": {
      "text/plain": [
       "<matplotlib.axes._subplots.AxesSubplot at 0x1c1d6401d0>"
      ]
     },
     "execution_count": 50,
     "metadata": {},
     "output_type": "execute_result"
    },
    {
     "data": {
      "image/png": "[encoded data removed]",
      "text/plain": [
       "<Figure size 432x288 with 1 Axes>"
      ]
     },
     "metadata": {
      "needs_background": "light"
     },
     "output_type": "display_data"
    }
   ],
   "source": [
    "sns.distplot(discount25pct.Quantity)\n",
    "sns.distplot(discount20pct.Quantity)\n",
    "sns.distplot(discount15pct.Quantity)\n",
    "sns.distplot(discount10pct.Quantity)\n",
    "sns.distplot(discount5pct.Quantity)"
   ]
  },
  {
   "cell_type": "code",
   "execution_count": 52,
   "metadata": {},
   "outputs": [
    {
     "data": {
      "text/plain": [
       "<matplotlib.axes._subplots.AxesSubplot at 0x1c1da96780>"
      ]
     },
     "execution_count": 52,
     "metadata": {},
     "output_type": "execute_result"
    },
    {
     "data": {
      "image/png": "[encoded data removed]",
      "text/plain": [
       "<Figure size 432x288 with 1 Axes>"
      ]
     },
     "metadata": {
      "needs_background": "light"
     },
     "output_type": "display_data"
    }
   ],
   "source": [
    "sns.distplot(discount25pct.ProductId)\n",
    "sns.distplot(discount20pct.ProductId)\n",
    "sns.distplot(discount15pct.ProductId)\n",
    "sns.distplot(discount10pct.ProductId)\n",
    "sns.distplot(discount5pct.ProductId)"
   ]
  },
  {
   "cell_type": "markdown",
   "metadata": {},
   "source": [
    "# H2: Discount--Region/Country\n",
    "\n",
    "**Do individual countries or regions show a statistically significant preference for discount?**\n",
    "\n",
    "**If so, which countries and to what extent?** "
   ]
  },
  {
   "cell_type": "markdown",
   "metadata": {},
   "source": [
    "## Hypotheses"
   ]
  },
  {
   "cell_type": "markdown",
   "metadata": {},
   "source": [
    "- $H_0$: Countries purchase equal quantities of discounted vs non-discounted products."
   ]
  },
  {
   "cell_type": "markdown",
   "metadata": {},
   "source": [
    "- $H_A$: Countries purchase different quantities of discounted vs non-discounted products."
   ]
  },
  {
   "cell_type": "markdown",
   "metadata": {},
   "source": [
    "## Data Grouping"
   ]
  },
  {
   "cell_type": "code",
   "execution_count": 80,
   "metadata": {
    "scrolled": false
   },
   "outputs": [
    {
     "data": {
      "text/html": [
       "<div>\n",
       "<style scoped>\n",
       "    .dataframe tbody tr th:only-of-type {\n",
       "        vertical-align: middle;\n",
       "    }\n",
       "\n",
       "    .dataframe tbody tr th {\n",
       "        vertical-align: top;\n",
       "    }\n",
       "\n",
       "    .dataframe thead th {\n",
       "        text-align: right;\n",
       "    }\n",
       "</style>\n",
       "<table border=\"1\" class=\"dataframe\">\n",
       "  <thead>\n",
       "    <tr style=\"text-align: right;\">\n",
       "      <th></th>\n",
       "      <th>Id</th>\n",
       "      <th>CustomerId</th>\n",
       "      <th>EmployeeId</th>\n",
       "      <th>OrderDate</th>\n",
       "      <th>RequiredDate</th>\n",
       "      <th>ShippedDate</th>\n",
       "      <th>ShipVia</th>\n",
       "      <th>Freight</th>\n",
       "      <th>ShipName</th>\n",
       "      <th>ShipAddress</th>\n",
       "      <th>ShipCity</th>\n",
       "      <th>ShipRegion</th>\n",
       "      <th>ShipPostalCode</th>\n",
       "      <th>ShipCountry</th>\n",
       "    </tr>\n",
       "  </thead>\n",
       "  <tbody>\n",
       "    <tr>\n",
       "      <td>0</td>\n",
       "      <td>10248</td>\n",
       "      <td>VINET</td>\n",
       "      <td>5</td>\n",
       "      <td>2012-07-04</td>\n",
       "      <td>2012-08-01</td>\n",
       "      <td>2012-07-16</td>\n",
       "      <td>3</td>\n",
       "      <td>32.38</td>\n",
       "      <td>Vins et alcools Chevalier</td>\n",
       "      <td>59 rue de l'Abbaye</td>\n",
       "      <td>Reims</td>\n",
       "      <td>Western Europe</td>\n",
       "      <td>51100</td>\n",
       "      <td>France</td>\n",
       "    </tr>\n",
       "    <tr>\n",
       "      <td>1</td>\n",
       "      <td>10249</td>\n",
       "      <td>TOMSP</td>\n",
       "      <td>6</td>\n",
       "      <td>2012-07-05</td>\n",
       "      <td>2012-08-16</td>\n",
       "      <td>2012-07-10</td>\n",
       "      <td>1</td>\n",
       "      <td>11.61</td>\n",
       "      <td>Toms Spezialitäten</td>\n",
       "      <td>Luisenstr. 48</td>\n",
       "      <td>Münster</td>\n",
       "      <td>Western Europe</td>\n",
       "      <td>44087</td>\n",
       "      <td>Germany</td>\n",
       "    </tr>\n",
       "    <tr>\n",
       "      <td>2</td>\n",
       "      <td>10250</td>\n",
       "      <td>HANAR</td>\n",
       "      <td>4</td>\n",
       "      <td>2012-07-08</td>\n",
       "      <td>2012-08-05</td>\n",
       "      <td>2012-07-12</td>\n",
       "      <td>2</td>\n",
       "      <td>65.83</td>\n",
       "      <td>Hanari Carnes</td>\n",
       "      <td>Rua do Paço, 67</td>\n",
       "      <td>Rio de Janeiro</td>\n",
       "      <td>South America</td>\n",
       "      <td>05454-876</td>\n",
       "      <td>Brazil</td>\n",
       "    </tr>\n",
       "    <tr>\n",
       "      <td>3</td>\n",
       "      <td>10251</td>\n",
       "      <td>VICTE</td>\n",
       "      <td>3</td>\n",
       "      <td>2012-07-08</td>\n",
       "      <td>2012-08-05</td>\n",
       "      <td>2012-07-15</td>\n",
       "      <td>1</td>\n",
       "      <td>41.34</td>\n",
       "      <td>Victuailles en stock</td>\n",
       "      <td>2, rue du Commerce</td>\n",
       "      <td>Lyon</td>\n",
       "      <td>Western Europe</td>\n",
       "      <td>69004</td>\n",
       "      <td>France</td>\n",
       "    </tr>\n",
       "    <tr>\n",
       "      <td>4</td>\n",
       "      <td>10252</td>\n",
       "      <td>SUPRD</td>\n",
       "      <td>4</td>\n",
       "      <td>2012-07-09</td>\n",
       "      <td>2012-08-06</td>\n",
       "      <td>2012-07-11</td>\n",
       "      <td>2</td>\n",
       "      <td>51.30</td>\n",
       "      <td>Suprêmes délices</td>\n",
       "      <td>Boulevard Tirou, 255</td>\n",
       "      <td>Charleroi</td>\n",
       "      <td>Western Europe</td>\n",
       "      <td>B-6000</td>\n",
       "      <td>Belgium</td>\n",
       "    </tr>\n",
       "  </tbody>\n",
       "</table>\n",
       "</div>"
      ],
      "text/plain": [
       "      Id CustomerId  EmployeeId   OrderDate RequiredDate ShippedDate  ShipVia  \\\n",
       "0  10248      VINET           5  2012-07-04   2012-08-01  2012-07-16        3   \n",
       "1  10249      TOMSP           6  2012-07-05   2012-08-16  2012-07-10        1   \n",
       "2  10250      HANAR           4  2012-07-08   2012-08-05  2012-07-12        2   \n",
       "3  10251      VICTE           3  2012-07-08   2012-08-05  2012-07-15        1   \n",
       "4  10252      SUPRD           4  2012-07-09   2012-08-06  2012-07-11        2   \n",
       "\n",
       "   Freight                   ShipName           ShipAddress        ShipCity  \\\n",
       "0    32.38  Vins et alcools Chevalier    59 rue de l'Abbaye           Reims   \n",
       "1    11.61         Toms Spezialitäten         Luisenstr. 48         Münster   \n",
       "2    65.83              Hanari Carnes       Rua do Paço, 67  Rio de Janeiro   \n",
       "3    41.34       Victuailles en stock    2, rue du Commerce            Lyon   \n",
       "4    51.30           Suprêmes délices  Boulevard Tirou, 255       Charleroi   \n",
       "\n",
       "       ShipRegion ShipPostalCode ShipCountry  \n",
       "0  Western Europe          51100      France  \n",
       "1  Western Europe          44087     Germany  \n",
       "2   South America      05454-876      Brazil  \n",
       "3  Western Europe          69004      France  \n",
       "4  Western Europe         B-6000     Belgium  "
      ]
     },
     "metadata": {},
     "output_type": "display_data"
    },
    {
     "data": {
      "text/html": [
       "<div>\n",
       "<style scoped>\n",
       "    .dataframe tbody tr th:only-of-type {\n",
       "        vertical-align: middle;\n",
       "    }\n",
       "\n",
       "    .dataframe tbody tr th {\n",
       "        vertical-align: top;\n",
       "    }\n",
       "\n",
       "    .dataframe thead th {\n",
       "        text-align: right;\n",
       "    }\n",
       "</style>\n",
       "<table border=\"1\" class=\"dataframe\">\n",
       "  <thead>\n",
       "    <tr style=\"text-align: right;\">\n",
       "      <th></th>\n",
       "      <th>Id</th>\n",
       "      <th>OrderId</th>\n",
       "      <th>ProductId</th>\n",
       "      <th>UnitPrice</th>\n",
       "      <th>Quantity</th>\n",
       "      <th>Discount</th>\n",
       "      <th>discounted</th>\n",
       "    </tr>\n",
       "  </thead>\n",
       "  <tbody>\n",
       "    <tr>\n",
       "      <td>0</td>\n",
       "      <td>10248/11</td>\n",
       "      <td>10248</td>\n",
       "      <td>11</td>\n",
       "      <td>14.0</td>\n",
       "      <td>12</td>\n",
       "      <td>0.0</td>\n",
       "      <td>0</td>\n",
       "    </tr>\n",
       "    <tr>\n",
       "      <td>1</td>\n",
       "      <td>10248/42</td>\n",
       "      <td>10248</td>\n",
       "      <td>42</td>\n",
       "      <td>9.8</td>\n",
       "      <td>10</td>\n",
       "      <td>0.0</td>\n",
       "      <td>0</td>\n",
       "    </tr>\n",
       "    <tr>\n",
       "      <td>2</td>\n",
       "      <td>10248/72</td>\n",
       "      <td>10248</td>\n",
       "      <td>72</td>\n",
       "      <td>34.8</td>\n",
       "      <td>5</td>\n",
       "      <td>0.0</td>\n",
       "      <td>0</td>\n",
       "    </tr>\n",
       "    <tr>\n",
       "      <td>3</td>\n",
       "      <td>10249/14</td>\n",
       "      <td>10249</td>\n",
       "      <td>14</td>\n",
       "      <td>18.6</td>\n",
       "      <td>9</td>\n",
       "      <td>0.0</td>\n",
       "      <td>0</td>\n",
       "    </tr>\n",
       "    <tr>\n",
       "      <td>4</td>\n",
       "      <td>10249/51</td>\n",
       "      <td>10249</td>\n",
       "      <td>51</td>\n",
       "      <td>42.4</td>\n",
       "      <td>40</td>\n",
       "      <td>0.0</td>\n",
       "      <td>0</td>\n",
       "    </tr>\n",
       "  </tbody>\n",
       "</table>\n",
       "</div>"
      ],
      "text/plain": [
       "         Id  OrderId  ProductId  UnitPrice  Quantity  Discount  discounted\n",
       "0  10248/11    10248         11       14.0        12       0.0           0\n",
       "1  10248/42    10248         42        9.8        10       0.0           0\n",
       "2  10248/72    10248         72       34.8         5       0.0           0\n",
       "3  10249/14    10249         14       18.6         9       0.0           0\n",
       "4  10249/51    10249         51       42.4        40       0.0           0"
      ]
     },
     "metadata": {},
     "output_type": "display_data"
    }
   ],
   "source": [
    "df_order = get_table(cur, \"'Order'\")\n",
    "display(df_order.head())\n",
    "display(df_orderDetail.head())"
   ]
  },
  {
   "cell_type": "code",
   "execution_count": 82,
   "metadata": {},
   "outputs": [
    {
     "data": {
      "text/html": [
       "<div>\n",
       "<style scoped>\n",
       "    .dataframe tbody tr th:only-of-type {\n",
       "        vertical-align: middle;\n",
       "    }\n",
       "\n",
       "    .dataframe tbody tr th {\n",
       "        vertical-align: top;\n",
       "    }\n",
       "\n",
       "    .dataframe thead th {\n",
       "        text-align: right;\n",
       "    }\n",
       "</style>\n",
       "<table border=\"1\" class=\"dataframe\">\n",
       "  <thead>\n",
       "    <tr style=\"text-align: right;\">\n",
       "      <th></th>\n",
       "      <th>OrderId</th>\n",
       "      <th>CustomerId</th>\n",
       "      <th>EmployeeId</th>\n",
       "      <th>OrderDate</th>\n",
       "      <th>RequiredDate</th>\n",
       "      <th>ShippedDate</th>\n",
       "      <th>ShipVia</th>\n",
       "      <th>Freight</th>\n",
       "      <th>ShipName</th>\n",
       "      <th>ShipAddress</th>\n",
       "      <th>ShipCity</th>\n",
       "      <th>ShipRegion</th>\n",
       "      <th>ShipPostalCode</th>\n",
       "      <th>ShipCountry</th>\n",
       "    </tr>\n",
       "  </thead>\n",
       "  <tbody>\n",
       "    <tr>\n",
       "      <td>0</td>\n",
       "      <td>10248</td>\n",
       "      <td>VINET</td>\n",
       "      <td>5</td>\n",
       "      <td>2012-07-04</td>\n",
       "      <td>2012-08-01</td>\n",
       "      <td>2012-07-16</td>\n",
       "      <td>3</td>\n",
       "      <td>32.38</td>\n",
       "      <td>Vins et alcools Chevalier</td>\n",
       "      <td>59 rue de l'Abbaye</td>\n",
       "      <td>Reims</td>\n",
       "      <td>Western Europe</td>\n",
       "      <td>51100</td>\n",
       "      <td>France</td>\n",
       "    </tr>\n",
       "    <tr>\n",
       "      <td>1</td>\n",
       "      <td>10249</td>\n",
       "      <td>TOMSP</td>\n",
       "      <td>6</td>\n",
       "      <td>2012-07-05</td>\n",
       "      <td>2012-08-16</td>\n",
       "      <td>2012-07-10</td>\n",
       "      <td>1</td>\n",
       "      <td>11.61</td>\n",
       "      <td>Toms Spezialitäten</td>\n",
       "      <td>Luisenstr. 48</td>\n",
       "      <td>Münster</td>\n",
       "      <td>Western Europe</td>\n",
       "      <td>44087</td>\n",
       "      <td>Germany</td>\n",
       "    </tr>\n",
       "    <tr>\n",
       "      <td>2</td>\n",
       "      <td>10250</td>\n",
       "      <td>HANAR</td>\n",
       "      <td>4</td>\n",
       "      <td>2012-07-08</td>\n",
       "      <td>2012-08-05</td>\n",
       "      <td>2012-07-12</td>\n",
       "      <td>2</td>\n",
       "      <td>65.83</td>\n",
       "      <td>Hanari Carnes</td>\n",
       "      <td>Rua do Paço, 67</td>\n",
       "      <td>Rio de Janeiro</td>\n",
       "      <td>South America</td>\n",
       "      <td>05454-876</td>\n",
       "      <td>Brazil</td>\n",
       "    </tr>\n",
       "    <tr>\n",
       "      <td>3</td>\n",
       "      <td>10251</td>\n",
       "      <td>VICTE</td>\n",
       "      <td>3</td>\n",
       "      <td>2012-07-08</td>\n",
       "      <td>2012-08-05</td>\n",
       "      <td>2012-07-15</td>\n",
       "      <td>1</td>\n",
       "      <td>41.34</td>\n",
       "      <td>Victuailles en stock</td>\n",
       "      <td>2, rue du Commerce</td>\n",
       "      <td>Lyon</td>\n",
       "      <td>Western Europe</td>\n",
       "      <td>69004</td>\n",
       "      <td>France</td>\n",
       "    </tr>\n",
       "    <tr>\n",
       "      <td>4</td>\n",
       "      <td>10252</td>\n",
       "      <td>SUPRD</td>\n",
       "      <td>4</td>\n",
       "      <td>2012-07-09</td>\n",
       "      <td>2012-08-06</td>\n",
       "      <td>2012-07-11</td>\n",
       "      <td>2</td>\n",
       "      <td>51.30</td>\n",
       "      <td>Suprêmes délices</td>\n",
       "      <td>Boulevard Tirou, 255</td>\n",
       "      <td>Charleroi</td>\n",
       "      <td>Western Europe</td>\n",
       "      <td>B-6000</td>\n",
       "      <td>Belgium</td>\n",
       "    </tr>\n",
       "  </tbody>\n",
       "</table>\n",
       "</div>"
      ],
      "text/plain": [
       "   OrderId CustomerId  EmployeeId   OrderDate RequiredDate ShippedDate  \\\n",
       "0    10248      VINET           5  2012-07-04   2012-08-01  2012-07-16   \n",
       "1    10249      TOMSP           6  2012-07-05   2012-08-16  2012-07-10   \n",
       "2    10250      HANAR           4  2012-07-08   2012-08-05  2012-07-12   \n",
       "3    10251      VICTE           3  2012-07-08   2012-08-05  2012-07-15   \n",
       "4    10252      SUPRD           4  2012-07-09   2012-08-06  2012-07-11   \n",
       "\n",
       "   ShipVia  Freight                   ShipName           ShipAddress  \\\n",
       "0        3    32.38  Vins et alcools Chevalier    59 rue de l'Abbaye   \n",
       "1        1    11.61         Toms Spezialitäten         Luisenstr. 48   \n",
       "2        2    65.83              Hanari Carnes       Rua do Paço, 67   \n",
       "3        1    41.34       Victuailles en stock    2, rue du Commerce   \n",
       "4        2    51.30           Suprêmes délices  Boulevard Tirou, 255   \n",
       "\n",
       "         ShipCity      ShipRegion ShipPostalCode ShipCountry  \n",
       "0           Reims  Western Europe          51100      France  \n",
       "1         Münster  Western Europe          44087     Germany  \n",
       "2  Rio de Janeiro   South America      05454-876      Brazil  \n",
       "3            Lyon  Western Europe          69004      France  \n",
       "4       Charleroi  Western Europe         B-6000     Belgium  "
      ]
     },
     "metadata": {},
     "output_type": "display_data"
    }
   ],
   "source": [
    "# Rename 'Id' to 'OrderId' for joining tables with matching primary key name\n",
    "df_order.rename({'Id':'OrderId'}, axis=1, inplace=True)\n",
    "display(df_order.head())"
   ]
  },
  {
   "cell_type": "code",
   "execution_count": 84,
   "metadata": {},
   "outputs": [
    {
     "data": {
      "text/html": [
       "<div>\n",
       "<style scoped>\n",
       "    .dataframe tbody tr th:only-of-type {\n",
       "        vertical-align: middle;\n",
       "    }\n",
       "\n",
       "    .dataframe tbody tr th {\n",
       "        vertical-align: top;\n",
       "    }\n",
       "\n",
       "    .dataframe thead th {\n",
       "        text-align: right;\n",
       "    }\n",
       "</style>\n",
       "<table border=\"1\" class=\"dataframe\">\n",
       "  <thead>\n",
       "    <tr style=\"text-align: right;\">\n",
       "      <th></th>\n",
       "      <th>CustomerId</th>\n",
       "      <th>EmployeeId</th>\n",
       "      <th>OrderDate</th>\n",
       "      <th>RequiredDate</th>\n",
       "      <th>ShippedDate</th>\n",
       "      <th>ShipVia</th>\n",
       "      <th>Freight</th>\n",
       "      <th>ShipName</th>\n",
       "      <th>ShipAddress</th>\n",
       "      <th>ShipCity</th>\n",
       "      <th>ShipRegion</th>\n",
       "      <th>ShipPostalCode</th>\n",
       "      <th>ShipCountry</th>\n",
       "    </tr>\n",
       "    <tr>\n",
       "      <th>OrderId</th>\n",
       "      <th></th>\n",
       "      <th></th>\n",
       "      <th></th>\n",
       "      <th></th>\n",
       "      <th></th>\n",
       "      <th></th>\n",
       "      <th></th>\n",
       "      <th></th>\n",
       "      <th></th>\n",
       "      <th></th>\n",
       "      <th></th>\n",
       "      <th></th>\n",
       "      <th></th>\n",
       "    </tr>\n",
       "  </thead>\n",
       "  <tbody>\n",
       "    <tr>\n",
       "      <td>10248</td>\n",
       "      <td>VINET</td>\n",
       "      <td>5</td>\n",
       "      <td>2012-07-04</td>\n",
       "      <td>2012-08-01</td>\n",
       "      <td>2012-07-16</td>\n",
       "      <td>3</td>\n",
       "      <td>32.38</td>\n",
       "      <td>Vins et alcools Chevalier</td>\n",
       "      <td>59 rue de l'Abbaye</td>\n",
       "      <td>Reims</td>\n",
       "      <td>Western Europe</td>\n",
       "      <td>51100</td>\n",
       "      <td>France</td>\n",
       "    </tr>\n",
       "    <tr>\n",
       "      <td>10249</td>\n",
       "      <td>TOMSP</td>\n",
       "      <td>6</td>\n",
       "      <td>2012-07-05</td>\n",
       "      <td>2012-08-16</td>\n",
       "      <td>2012-07-10</td>\n",
       "      <td>1</td>\n",
       "      <td>11.61</td>\n",
       "      <td>Toms Spezialitäten</td>\n",
       "      <td>Luisenstr. 48</td>\n",
       "      <td>Münster</td>\n",
       "      <td>Western Europe</td>\n",
       "      <td>44087</td>\n",
       "      <td>Germany</td>\n",
       "    </tr>\n",
       "    <tr>\n",
       "      <td>10250</td>\n",
       "      <td>HANAR</td>\n",
       "      <td>4</td>\n",
       "      <td>2012-07-08</td>\n",
       "      <td>2012-08-05</td>\n",
       "      <td>2012-07-12</td>\n",
       "      <td>2</td>\n",
       "      <td>65.83</td>\n",
       "      <td>Hanari Carnes</td>\n",
       "      <td>Rua do Paço, 67</td>\n",
       "      <td>Rio de Janeiro</td>\n",
       "      <td>South America</td>\n",
       "      <td>05454-876</td>\n",
       "      <td>Brazil</td>\n",
       "    </tr>\n",
       "    <tr>\n",
       "      <td>10251</td>\n",
       "      <td>VICTE</td>\n",
       "      <td>3</td>\n",
       "      <td>2012-07-08</td>\n",
       "      <td>2012-08-05</td>\n",
       "      <td>2012-07-15</td>\n",
       "      <td>1</td>\n",
       "      <td>41.34</td>\n",
       "      <td>Victuailles en stock</td>\n",
       "      <td>2, rue du Commerce</td>\n",
       "      <td>Lyon</td>\n",
       "      <td>Western Europe</td>\n",
       "      <td>69004</td>\n",
       "      <td>France</td>\n",
       "    </tr>\n",
       "    <tr>\n",
       "      <td>10252</td>\n",
       "      <td>SUPRD</td>\n",
       "      <td>4</td>\n",
       "      <td>2012-07-09</td>\n",
       "      <td>2012-08-06</td>\n",
       "      <td>2012-07-11</td>\n",
       "      <td>2</td>\n",
       "      <td>51.30</td>\n",
       "      <td>Suprêmes délices</td>\n",
       "      <td>Boulevard Tirou, 255</td>\n",
       "      <td>Charleroi</td>\n",
       "      <td>Western Europe</td>\n",
       "      <td>B-6000</td>\n",
       "      <td>Belgium</td>\n",
       "    </tr>\n",
       "  </tbody>\n",
       "</table>\n",
       "</div>"
      ],
      "text/plain": [
       "        CustomerId  EmployeeId   OrderDate RequiredDate ShippedDate  ShipVia  \\\n",
       "OrderId                                                                        \n",
       "10248        VINET           5  2012-07-04   2012-08-01  2012-07-16        3   \n",
       "10249        TOMSP           6  2012-07-05   2012-08-16  2012-07-10        1   \n",
       "10250        HANAR           4  2012-07-08   2012-08-05  2012-07-12        2   \n",
       "10251        VICTE           3  2012-07-08   2012-08-05  2012-07-15        1   \n",
       "10252        SUPRD           4  2012-07-09   2012-08-06  2012-07-11        2   \n",
       "\n",
       "         Freight                   ShipName           ShipAddress  \\\n",
       "OrderId                                                             \n",
       "10248      32.38  Vins et alcools Chevalier    59 rue de l'Abbaye   \n",
       "10249      11.61         Toms Spezialitäten         Luisenstr. 48   \n",
       "10250      65.83              Hanari Carnes       Rua do Paço, 67   \n",
       "10251      41.34       Victuailles en stock    2, rue du Commerce   \n",
       "10252      51.30           Suprêmes délices  Boulevard Tirou, 255   \n",
       "\n",
       "               ShipCity      ShipRegion ShipPostalCode ShipCountry  \n",
       "OrderId                                                             \n",
       "10248             Reims  Western Europe          51100      France  \n",
       "10249           Münster  Western Europe          44087     Germany  \n",
       "10250    Rio de Janeiro   South America      05454-876      Brazil  \n",
       "10251              Lyon  Western Europe          69004      France  \n",
       "10252         Charleroi  Western Europe         B-6000     Belgium  "
      ]
     },
     "metadata": {},
     "output_type": "display_data"
    }
   ],
   "source": [
    "df_order.set_index('OrderId',inplace=True)\n",
    "display(df_order.head())"
   ]
  },
  {
   "cell_type": "code",
   "execution_count": 85,
   "metadata": {},
   "outputs": [],
   "source": [
    "df_countries = df_orderDetail.merge(df_order, on='OrderId', copy=True)"
   ]
  },
  {
   "cell_type": "code",
   "execution_count": 88,
   "metadata": {},
   "outputs": [
    {
     "data": {
      "text/html": [
       "<div>\n",
       "<style scoped>\n",
       "    .dataframe tbody tr th:only-of-type {\n",
       "        vertical-align: middle;\n",
       "    }\n",
       "\n",
       "    .dataframe tbody tr th {\n",
       "        vertical-align: top;\n",
       "    }\n",
       "\n",
       "    .dataframe thead th {\n",
       "        text-align: right;\n",
       "    }\n",
       "</style>\n",
       "<table border=\"1\" class=\"dataframe\">\n",
       "  <thead>\n",
       "    <tr style=\"text-align: right;\">\n",
       "      <th></th>\n",
       "      <th>Id</th>\n",
       "      <th>OrderId</th>\n",
       "      <th>ProductId</th>\n",
       "      <th>UnitPrice</th>\n",
       "      <th>Quantity</th>\n",
       "      <th>Discount</th>\n",
       "      <th>discounted</th>\n",
       "      <th>CustomerId</th>\n",
       "      <th>EmployeeId</th>\n",
       "      <th>OrderDate</th>\n",
       "      <th>RequiredDate</th>\n",
       "      <th>ShippedDate</th>\n",
       "      <th>ShipVia</th>\n",
       "      <th>Freight</th>\n",
       "      <th>ShipName</th>\n",
       "      <th>ShipAddress</th>\n",
       "      <th>ShipCity</th>\n",
       "      <th>ShipRegion</th>\n",
       "      <th>ShipPostalCode</th>\n",
       "      <th>ShipCountry</th>\n",
       "    </tr>\n",
       "  </thead>\n",
       "  <tbody>\n",
       "    <tr>\n",
       "      <td>0</td>\n",
       "      <td>10248/11</td>\n",
       "      <td>10248</td>\n",
       "      <td>11</td>\n",
       "      <td>14.0</td>\n",
       "      <td>12</td>\n",
       "      <td>0.0</td>\n",
       "      <td>0</td>\n",
       "      <td>VINET</td>\n",
       "      <td>5</td>\n",
       "      <td>2012-07-04</td>\n",
       "      <td>2012-08-01</td>\n",
       "      <td>2012-07-16</td>\n",
       "      <td>3</td>\n",
       "      <td>32.38</td>\n",
       "      <td>Vins et alcools Chevalier</td>\n",
       "      <td>59 rue de l'Abbaye</td>\n",
       "      <td>Reims</td>\n",
       "      <td>Western Europe</td>\n",
       "      <td>51100</td>\n",
       "      <td>France</td>\n",
       "    </tr>\n",
       "    <tr>\n",
       "      <td>1</td>\n",
       "      <td>10248/42</td>\n",
       "      <td>10248</td>\n",
       "      <td>42</td>\n",
       "      <td>9.8</td>\n",
       "      <td>10</td>\n",
       "      <td>0.0</td>\n",
       "      <td>0</td>\n",
       "      <td>VINET</td>\n",
       "      <td>5</td>\n",
       "      <td>2012-07-04</td>\n",
       "      <td>2012-08-01</td>\n",
       "      <td>2012-07-16</td>\n",
       "      <td>3</td>\n",
       "      <td>32.38</td>\n",
       "      <td>Vins et alcools Chevalier</td>\n",
       "      <td>59 rue de l'Abbaye</td>\n",
       "      <td>Reims</td>\n",
       "      <td>Western Europe</td>\n",
       "      <td>51100</td>\n",
       "      <td>France</td>\n",
       "    </tr>\n",
       "    <tr>\n",
       "      <td>2</td>\n",
       "      <td>10248/72</td>\n",
       "      <td>10248</td>\n",
       "      <td>72</td>\n",
       "      <td>34.8</td>\n",
       "      <td>5</td>\n",
       "      <td>0.0</td>\n",
       "      <td>0</td>\n",
       "      <td>VINET</td>\n",
       "      <td>5</td>\n",
       "      <td>2012-07-04</td>\n",
       "      <td>2012-08-01</td>\n",
       "      <td>2012-07-16</td>\n",
       "      <td>3</td>\n",
       "      <td>32.38</td>\n",
       "      <td>Vins et alcools Chevalier</td>\n",
       "      <td>59 rue de l'Abbaye</td>\n",
       "      <td>Reims</td>\n",
       "      <td>Western Europe</td>\n",
       "      <td>51100</td>\n",
       "      <td>France</td>\n",
       "    </tr>\n",
       "    <tr>\n",
       "      <td>3</td>\n",
       "      <td>10249/14</td>\n",
       "      <td>10249</td>\n",
       "      <td>14</td>\n",
       "      <td>18.6</td>\n",
       "      <td>9</td>\n",
       "      <td>0.0</td>\n",
       "      <td>0</td>\n",
       "      <td>TOMSP</td>\n",
       "      <td>6</td>\n",
       "      <td>2012-07-05</td>\n",
       "      <td>2012-08-16</td>\n",
       "      <td>2012-07-10</td>\n",
       "      <td>1</td>\n",
       "      <td>11.61</td>\n",
       "      <td>Toms Spezialitäten</td>\n",
       "      <td>Luisenstr. 48</td>\n",
       "      <td>Münster</td>\n",
       "      <td>Western Europe</td>\n",
       "      <td>44087</td>\n",
       "      <td>Germany</td>\n",
       "    </tr>\n",
       "    <tr>\n",
       "      <td>4</td>\n",
       "      <td>10249/51</td>\n",
       "      <td>10249</td>\n",
       "      <td>51</td>\n",
       "      <td>42.4</td>\n",
       "      <td>40</td>\n",
       "      <td>0.0</td>\n",
       "      <td>0</td>\n",
       "      <td>TOMSP</td>\n",
       "      <td>6</td>\n",
       "      <td>2012-07-05</td>\n",
       "      <td>2012-08-16</td>\n",
       "      <td>2012-07-10</td>\n",
       "      <td>1</td>\n",
       "      <td>11.61</td>\n",
       "      <td>Toms Spezialitäten</td>\n",
       "      <td>Luisenstr. 48</td>\n",
       "      <td>Münster</td>\n",
       "      <td>Western Europe</td>\n",
       "      <td>44087</td>\n",
       "      <td>Germany</td>\n",
       "    </tr>\n",
       "  </tbody>\n",
       "</table>\n",
       "</div>"
      ],
      "text/plain": [
       "         Id  OrderId  ProductId  UnitPrice  Quantity  Discount  discounted  \\\n",
       "0  10248/11    10248         11       14.0        12       0.0           0   \n",
       "1  10248/42    10248         42        9.8        10       0.0           0   \n",
       "2  10248/72    10248         72       34.8         5       0.0           0   \n",
       "3  10249/14    10249         14       18.6         9       0.0           0   \n",
       "4  10249/51    10249         51       42.4        40       0.0           0   \n",
       "\n",
       "  CustomerId  EmployeeId   OrderDate RequiredDate ShippedDate  ShipVia  \\\n",
       "0      VINET           5  2012-07-04   2012-08-01  2012-07-16        3   \n",
       "1      VINET           5  2012-07-04   2012-08-01  2012-07-16        3   \n",
       "2      VINET           5  2012-07-04   2012-08-01  2012-07-16        3   \n",
       "3      TOMSP           6  2012-07-05   2012-08-16  2012-07-10        1   \n",
       "4      TOMSP           6  2012-07-05   2012-08-16  2012-07-10        1   \n",
       "\n",
       "   Freight                   ShipName         ShipAddress ShipCity  \\\n",
       "0    32.38  Vins et alcools Chevalier  59 rue de l'Abbaye    Reims   \n",
       "1    32.38  Vins et alcools Chevalier  59 rue de l'Abbaye    Reims   \n",
       "2    32.38  Vins et alcools Chevalier  59 rue de l'Abbaye    Reims   \n",
       "3    11.61         Toms Spezialitäten       Luisenstr. 48  Münster   \n",
       "4    11.61         Toms Spezialitäten       Luisenstr. 48  Münster   \n",
       "\n",
       "       ShipRegion ShipPostalCode ShipCountry  \n",
       "0  Western Europe          51100      France  \n",
       "1  Western Europe          51100      France  \n",
       "2  Western Europe          51100      France  \n",
       "3  Western Europe          44087     Germany  \n",
       "4  Western Europe          44087     Germany  "
      ]
     },
     "execution_count": 88,
     "metadata": {},
     "output_type": "execute_result"
    }
   ],
   "source": [
    "df = df_countries\n",
    "df.head()"
   ]
  },
  {
   "cell_type": "code",
   "execution_count": 89,
   "metadata": {},
   "outputs": [
    {
     "data": {
      "text/plain": [
       "dict_keys(['Argentina', 'Austria', 'Belgium', 'Brazil', 'Canada', 'Denmark', 'Finland', 'France', 'Germany', 'Ireland', 'Italy', 'Mexico', 'Norway', 'Poland', 'Portugal', 'Spain', 'Sweden', 'Switzerland', 'UK', 'USA', 'Venezuela'])"
      ]
     },
     "execution_count": 89,
     "metadata": {},
     "output_type": "execute_result"
    }
   ],
   "source": [
    "grps = df.groupby('ShipCountry').groups\n",
    "grps.keys()"
   ]
  },
  {
   "cell_type": "markdown",
   "metadata": {},
   "source": [
    "## Testing"
   ]
  },
  {
   "cell_type": "code",
   "execution_count": 96,
   "metadata": {
    "scrolled": false
   },
   "outputs": [
    {
     "name": "stdout",
     "output_type": "stream",
     "text": [
      "Argentina is missing one of the groups.\n",
      "\n",
      "Results for Austria:\n",
      "Ttest_indResult(statistic=-0.6623269022307275, pvalue=0.5090008404811379)\n",
      "\n",
      "Austria has no preference.\n"
     ]
    },
    {
     "data": {
      "image/png": "[encoded data removed]",
      "text/plain": [
       "<Figure size 576x396 with 1 Axes>"
      ]
     },
     "metadata": {},
     "output_type": "display_data"
    },
    {
     "name": "stdout",
     "output_type": "stream",
     "text": [
      "\n",
      "Results for Belgium:\n",
      "Ttest_indResult(statistic=-1.3489126055424439, pvalue=0.18299467630787178)\n",
      "\n",
      "Belgium has no preference.\n"
     ]
    },
    {
     "data": {
      "image/png": "[encoded data removed]",
      "text/plain": [
       "<Figure size 576x396 with 1 Axes>"
      ]
     },
     "metadata": {},
     "output_type": "display_data"
    },
    {
     "name": "stdout",
     "output_type": "stream",
     "text": [
      "\n",
      "Results for Brazil:\n",
      "Ttest_indResult(statistic=0.9101788952517438, pvalue=0.36381833828838683)\n",
      "\n",
      "Brazil has no preference.\n"
     ]
    },
    {
     "data": {
      "image/png": "[encoded data removed]",
      "text/plain": [
       "<Figure size 576x396 with 1 Axes>"
      ]
     },
     "metadata": {},
     "output_type": "display_data"
    },
    {
     "name": "stdout",
     "output_type": "stream",
     "text": [
      "\n",
      "Results for Canada:\n",
      "Ttest_indResult(statistic=-3.4195803456201843, pvalue=0.0010297982736886485)\n",
      "\n",
      "Canada prefers discounts!\n"
     ]
    },
    {
     "data": {
      "image/png": "[encoded data removed]",
      "text/plain": [
       "<Figure size 576x396 with 1 Axes>"
      ]
     },
     "metadata": {},
     "output_type": "display_data"
    },
    {
     "name": "stdout",
     "output_type": "stream",
     "text": [
      "\n",
      "Results for Denmark:\n",
      "Ttest_indResult(statistic=0.16182691149215328, pvalue=0.8721830022491708)\n",
      "\n",
      "Denmark has no preference.\n"
     ]
    },
    {
     "data": {
      "image/png": "[encoded data removed]",
      "text/plain": [
       "<Figure size 576x396 with 1 Axes>"
      ]
     },
     "metadata": {},
     "output_type": "display_data"
    },
    {
     "name": "stdout",
     "output_type": "stream",
     "text": [
      "\n",
      "Results for Finland:\n",
      "Ttest_indResult(statistic=-0.8608852977352008, pvalue=0.39325342251232176)\n",
      "\n",
      "Finland has no preference.\n"
     ]
    },
    {
     "data": {
      "image/png": "[encoded data removed]",
      "text/plain": [
       "<Figure size 576x396 with 1 Axes>"
      ]
     },
     "metadata": {},
     "output_type": "display_data"
    },
    {
     "name": "stdout",
     "output_type": "stream",
     "text": [
      "\n",
      "Results for France:\n",
      "Ttest_indResult(statistic=-0.9806435498249095, pvalue=0.32807031410690046)\n",
      "\n",
      "France has no preference.\n"
     ]
    },
    {
     "data": {
      "image/png": "[encoded data removed]",
      "text/plain": [
       "<Figure size 576x396 with 1 Axes>"
      ]
     },
     "metadata": {},
     "output_type": "display_data"
    },
    {
     "name": "stdout",
     "output_type": "stream",
     "text": [
      "\n",
      "Results for Germany:\n",
      "Ttest_indResult(statistic=-1.8173101934160463, pvalue=0.07008759031616896)\n",
      "\n",
      "Germany has no preference.\n"
     ]
    },
    {
     "data": {
      "image/png": "[encoded data removed]",
      "text/plain": [
       "<Figure size 576x396 with 1 Axes>"
      ]
     },
     "metadata": {},
     "output_type": "display_data"
    },
    {
     "name": "stdout",
     "output_type": "stream",
     "text": [
      "\n",
      "Results for Ireland:\n",
      "Ttest_indResult(statistic=-0.7429260971205413, pvalue=0.4608068502897392)\n",
      "\n",
      "Ireland has no preference.\n"
     ]
    },
    {
     "data": {
      "image/png": "[encoded data removed]",
      "text/plain": [
       "<Figure size 576x396 with 1 Axes>"
      ]
     },
     "metadata": {},
     "output_type": "display_data"
    },
    {
     "name": "stdout",
     "output_type": "stream",
     "text": [
      "\n",
      "Results for Italy:\n",
      "Ttest_indResult(statistic=-0.7780531564455361, pvalue=0.44013244003386054)\n",
      "\n",
      "Italy has no preference.\n"
     ]
    },
    {
     "data": {
      "image/png": "[encoded data removed]",
      "text/plain": [
       "<Figure size 576x396 with 1 Axes>"
      ]
     },
     "metadata": {},
     "output_type": "display_data"
    },
    {
     "name": "stdout",
     "output_type": "stream",
     "text": [
      "\n",
      "Results for Mexico:\n",
      "Ttest_indResult(statistic=-1.3194239082443096, pvalue=0.19132685241353548)\n",
      "\n",
      "Mexico has no preference.\n"
     ]
    },
    {
     "data": {
      "image/png": "[encoded data removed]",
      "text/plain": [
       "<Figure size 576x396 with 1 Axes>"
      ]
     },
     "metadata": {},
     "output_type": "display_data"
    },
    {
     "name": "stdout",
     "output_type": "stream",
     "text": [
      "Norway is missing one of the groups.\n",
      "Poland is missing one of the groups.\n",
      "\n",
      "Results for Portugal:\n",
      "Ttest_indResult(statistic=0.5600940599048722, pvalue=0.5798692487056942)\n",
      "\n",
      "Portugal has no preference.\n"
     ]
    },
    {
     "data": {
      "image/png": "[encoded data removed]",
      "text/plain": [
       "<Figure size 576x396 with 1 Axes>"
      ]
     },
     "metadata": {},
     "output_type": "display_data"
    },
    {
     "name": "stdout",
     "output_type": "stream",
     "text": [
      "\n",
      "Results for Spain:\n",
      "Ttest_indResult(statistic=-3.1763643150718117, pvalue=0.0025087181106716217)\n",
      "\n",
      "Spain prefers discounts!\n"
     ]
    },
    {
     "data": {
      "image/png": "[encoded data removed]",
      "text/plain": [
       "<Figure size 576x396 with 1 Axes>"
      ]
     },
     "metadata": {},
     "output_type": "display_data"
    },
    {
     "name": "stdout",
     "output_type": "stream",
     "text": [
      "\n",
      "Results for Sweden:\n",
      "Ttest_indResult(statistic=-1.2562000199627796, pvalue=0.21212390207789034)\n",
      "\n",
      "Sweden has no preference.\n"
     ]
    },
    {
     "data": {
      "image/png": "[encoded data removed]",
      "text/plain": [
       "<Figure size 576x396 with 1 Axes>"
      ]
     },
     "metadata": {},
     "output_type": "display_data"
    },
    {
     "name": "stdout",
     "output_type": "stream",
     "text": [
      "\n",
      "Results for Switzerland:\n",
      "Ttest_indResult(statistic=-0.10239875784840313, pvalue=0.918849747200548)\n",
      "\n",
      "Switzerland has no preference.\n"
     ]
    },
    {
     "data": {
      "image/png": "[encoded data removed]",
      "text/plain": [
       "<Figure size 576x396 with 1 Axes>"
      ]
     },
     "metadata": {},
     "output_type": "display_data"
    },
    {
     "name": "stdout",
     "output_type": "stream",
     "text": [
      "\n",
      "Results for UK:\n",
      "Ttest_indResult(statistic=-3.696969710034723, pvalue=0.00031794803200322925)\n",
      "\n",
      "UK prefers discounts!\n"
     ]
    },
    {
     "data": {
      "image/png": "[encoded data removed]",
      "text/plain": [
       "<Figure size 576x396 with 1 Axes>"
      ]
     },
     "metadata": {},
     "output_type": "display_data"
    },
    {
     "name": "stdout",
     "output_type": "stream",
     "text": [
      "\n",
      "Results for USA:\n",
      "Ttest_indResult(statistic=-2.339550039669184, pvalue=0.019868707223971476)\n",
      "\n",
      "USA prefers discounts!\n"
     ]
    },
    {
     "data": {
      "image/png": "[encoded data removed]",
      "text/plain": [
       "<Figure size 576x396 with 1 Axes>"
      ]
     },
     "metadata": {},
     "output_type": "display_data"
    },
    {
     "name": "stdout",
     "output_type": "stream",
     "text": [
      "\n",
      "Results for Venezuela:\n",
      "Ttest_indResult(statistic=-0.053460536854696136, pvalue=0.9574569329239815)\n",
      "\n",
      "Venezuela has no preference.\n"
     ]
    },
    {
     "data": {
      "image/png": "[encoded data removed]",
      "text/plain": [
       "<Figure size 576x396 with 1 Axes>"
      ]
     },
     "metadata": {},
     "output_type": "display_data"
    }
   ],
   "source": [
    "# Check if sample sizes allow us to ignore assumptions; if not, test normality assumption\n",
    "# visualize sample size comparisons for two groups (normality check)\n",
    "for k,v in grps.items():\n",
    "    try:\n",
    "        grp0 = df.loc[v].groupby('discounted').get_group(0)['Quantity']\n",
    "        grp1 = df.loc[v].groupby('discounted').get_group(1)['Quantity']\n",
    "        print(f\"\\nResults for {k}:\")\n",
    "        result = stat.ttest_ind(grp0,grp1)\n",
    "        print(result)\n",
    "        if result[1] < 0.05:\n",
    "            print(f\"\\n{k} prefers discounts!\")\n",
    "        else:\n",
    "            print(f\"\\n{k} has no preference.\")\n",
    "        \n",
    "        import scipy.stats as stat\n",
    "        plt.bar(x='Full Price', height=grp0.mean(),\n",
    "               yerr=stat.sem(grp0))\n",
    "        plt.bar(x='Discounted', height=grp1.mean(),\n",
    "               yerr=stat.sem(grp1))\n",
    "        plt.show()\n",
    "    \n",
    "    except:\n",
    "        print(f\"{k} is missing one of the groups.\")"
   ]
  },
  {
   "cell_type": "code",
   "execution_count": 91,
   "metadata": {},
   "outputs": [
    {
     "name": "stderr",
     "output_type": "stream",
     "text": [
      "/Users/hakkeray/opt/anaconda3/envs/learn-env/lib/python3.6/site-packages/statsmodels/base/model.py:1752: ValueWarning: covariance of constraints does not have full rank. The number of constraints is 20, but rank is 18\n",
      "  'rank is %d' % (J, J_), ValueWarning)\n",
      "/Users/hakkeray/opt/anaconda3/envs/learn-env/lib/python3.6/site-packages/statsmodels/base/model.py:1752: ValueWarning: covariance of constraints does not have full rank. The number of constraints is 20, but rank is 18\n",
      "  'rank is %d' % (J, J_), ValueWarning)\n"
     ]
    },
    {
     "data": {
      "text/html": [
       "<div>\n",
       "<style scoped>\n",
       "    .dataframe tbody tr th:only-of-type {\n",
       "        vertical-align: middle;\n",
       "    }\n",
       "\n",
       "    .dataframe tbody tr th {\n",
       "        vertical-align: top;\n",
       "    }\n",
       "\n",
       "    .dataframe thead th {\n",
       "        text-align: right;\n",
       "    }\n",
       "</style>\n",
       "<table border=\"1\" class=\"dataframe\">\n",
       "  <thead>\n",
       "    <tr style=\"text-align: right;\">\n",
       "      <th></th>\n",
       "      <th>sum_sq</th>\n",
       "      <th>df</th>\n",
       "      <th>F</th>\n",
       "      <th>PR(&gt;F)</th>\n",
       "    </tr>\n",
       "  </thead>\n",
       "  <tbody>\n",
       "    <tr>\n",
       "      <td>C(discounted)</td>\n",
       "      <td>9.780918e-08</td>\n",
       "      <td>1.0</td>\n",
       "      <td>3.075567e-10</td>\n",
       "      <td>9.999860e-01</td>\n",
       "    </tr>\n",
       "    <tr>\n",
       "      <td>C(ShipCountry)</td>\n",
       "      <td>1.013469e+05</td>\n",
       "      <td>20.0</td>\n",
       "      <td>1.593405e+01</td>\n",
       "      <td>6.897563e-47</td>\n",
       "    </tr>\n",
       "    <tr>\n",
       "      <td>C(discounted):C(ShipCountry)</td>\n",
       "      <td>1.558486e+04</td>\n",
       "      <td>20.0</td>\n",
       "      <td>2.450296e+00</td>\n",
       "      <td>6.127527e-04</td>\n",
       "    </tr>\n",
       "    <tr>\n",
       "      <td>Residual</td>\n",
       "      <td>6.729302e+05</td>\n",
       "      <td>2116.0</td>\n",
       "      <td>NaN</td>\n",
       "      <td>NaN</td>\n",
       "    </tr>\n",
       "  </tbody>\n",
       "</table>\n",
       "</div>"
      ],
      "text/plain": [
       "                                    sum_sq      df             F        PR(>F)\n",
       "C(discounted)                 9.780918e-08     1.0  3.075567e-10  9.999860e-01\n",
       "C(ShipCountry)                1.013469e+05    20.0  1.593405e+01  6.897563e-47\n",
       "C(discounted):C(ShipCountry)  1.558486e+04    20.0  2.450296e+00  6.127527e-04\n",
       "Residual                      6.729302e+05  2116.0           NaN           NaN"
      ]
     },
     "execution_count": 91,
     "metadata": {},
     "output_type": "execute_result"
    }
   ],
   "source": [
    "import statsmodels.api as sm\n",
    "from statsmodels.formula.api import ols\n",
    "model = ols(\"Quantity~C(discounted)+C(ShipCountry)+C(discounted):C(ShipCountry)\", data=df).fit()\n",
    "anova_table = sm.stats.anova_lm(model, typ=2)\n",
    "anova_table"
   ]
  },
  {
   "cell_type": "markdown",
   "metadata": {},
   "source": [
    "Although discount does not have a significant effect on countries overall (p = 0.99), in certain countries there does appear to be a statistically significant relationship between order quantities and discount.\n",
    "\n",
    "Countries showing a preference for discount include:\n",
    "* Spain\n",
    "* UK\n",
    "* Canada\n",
    "* USA\n",
    "\n",
    "We were able to verify this by doing a normality check for each in the plots above.\n"
   ]
  },
  {
   "cell_type": "code",
   "execution_count": 116,
   "metadata": {},
   "outputs": [
    {
     "ename": "ValueError",
     "evalue": "Length of values does not match length of index",
     "output_type": "error",
     "traceback": [
      "\u001b[0;31m---------------------------------------------------------------------------\u001b[0m",
      "\u001b[0;31mValueError\u001b[0m                                Traceback (most recent call last)",
      "\u001b[0;32m<ipython-input-116-41cf863e07f9>\u001b[0m in \u001b[0;36m<module>\u001b[0;34m\u001b[0m\n\u001b[1;32m      1\u001b[0m \u001b[0;31m# insert column indicating countries that prefer a discount\u001b[0m\u001b[0;34m\u001b[0m\u001b[0;34m\u001b[0m\u001b[0;34m\u001b[0m\u001b[0m\n\u001b[0;32m----> 2\u001b[0;31m \u001b[0mdf\u001b[0m\u001b[0;34m[\u001b[0m\u001b[0;34m'DiscPref'\u001b[0m\u001b[0;34m]\u001b[0m \u001b[0;34m=\u001b[0m \u001b[0mnp\u001b[0m\u001b[0;34m.\u001b[0m\u001b[0mwhere\u001b[0m\u001b[0;34m(\u001b[0m\u001b[0mdf\u001b[0m\u001b[0;34m[\u001b[0m\u001b[0mdf\u001b[0m\u001b[0;34m.\u001b[0m\u001b[0mShipCountry\u001b[0m\u001b[0;34m.\u001b[0m\u001b[0misin\u001b[0m\u001b[0;34m(\u001b[0m\u001b[0;34m[\u001b[0m\u001b[0;34m'Spain'\u001b[0m\u001b[0;34m,\u001b[0m \u001b[0;34m'UK'\u001b[0m\u001b[0;34m,\u001b[0m \u001b[0;34m'USA'\u001b[0m\u001b[0;34m,\u001b[0m \u001b[0;34m'Canada'\u001b[0m\u001b[0;34m]\u001b[0m\u001b[0;34m)\u001b[0m\u001b[0;34m]\u001b[0m \u001b[0;34m==\u001b[0m \u001b[0;36m1\u001b[0m\u001b[0;34m)\u001b[0m\u001b[0;34m\u001b[0m\u001b[0;34m\u001b[0m\u001b[0m\n\u001b[0m\u001b[1;32m      3\u001b[0m \u001b[0mdf\u001b[0m\u001b[0;34m.\u001b[0m\u001b[0mhead\u001b[0m\u001b[0;34m(\u001b[0m\u001b[0;34m)\u001b[0m\u001b[0;34m\u001b[0m\u001b[0;34m\u001b[0m\u001b[0m\n",
      "\u001b[0;32m~/opt/anaconda3/envs/learn-env/lib/python3.6/site-packages/pandas/core/frame.py\u001b[0m in \u001b[0;36m__setitem__\u001b[0;34m(self, key, value)\u001b[0m\n\u001b[1;32m   3470\u001b[0m         \u001b[0;32melse\u001b[0m\u001b[0;34m:\u001b[0m\u001b[0;34m\u001b[0m\u001b[0;34m\u001b[0m\u001b[0m\n\u001b[1;32m   3471\u001b[0m             \u001b[0;31m# set column\u001b[0m\u001b[0;34m\u001b[0m\u001b[0;34m\u001b[0m\u001b[0;34m\u001b[0m\u001b[0m\n\u001b[0;32m-> 3472\u001b[0;31m             \u001b[0mself\u001b[0m\u001b[0;34m.\u001b[0m\u001b[0m_set_item\u001b[0m\u001b[0;34m(\u001b[0m\u001b[0mkey\u001b[0m\u001b[0;34m,\u001b[0m \u001b[0mvalue\u001b[0m\u001b[0;34m)\u001b[0m\u001b[0;34m\u001b[0m\u001b[0;34m\u001b[0m\u001b[0m\n\u001b[0m\u001b[1;32m   3473\u001b[0m \u001b[0;34m\u001b[0m\u001b[0m\n\u001b[1;32m   3474\u001b[0m     \u001b[0;32mdef\u001b[0m \u001b[0m_setitem_slice\u001b[0m\u001b[0;34m(\u001b[0m\u001b[0mself\u001b[0m\u001b[0;34m,\u001b[0m \u001b[0mkey\u001b[0m\u001b[0;34m,\u001b[0m \u001b[0mvalue\u001b[0m\u001b[0;34m)\u001b[0m\u001b[0;34m:\u001b[0m\u001b[0;34m\u001b[0m\u001b[0;34m\u001b[0m\u001b[0m\n",
      "\u001b[0;32m~/opt/anaconda3/envs/learn-env/lib/python3.6/site-packages/pandas/core/frame.py\u001b[0m in \u001b[0;36m_set_item\u001b[0;34m(self, key, value)\u001b[0m\n\u001b[1;32m   3547\u001b[0m \u001b[0;34m\u001b[0m\u001b[0m\n\u001b[1;32m   3548\u001b[0m         \u001b[0mself\u001b[0m\u001b[0;34m.\u001b[0m\u001b[0m_ensure_valid_index\u001b[0m\u001b[0;34m(\u001b[0m\u001b[0mvalue\u001b[0m\u001b[0;34m)\u001b[0m\u001b[0;34m\u001b[0m\u001b[0;34m\u001b[0m\u001b[0m\n\u001b[0;32m-> 3549\u001b[0;31m         \u001b[0mvalue\u001b[0m \u001b[0;34m=\u001b[0m \u001b[0mself\u001b[0m\u001b[0;34m.\u001b[0m\u001b[0m_sanitize_column\u001b[0m\u001b[0;34m(\u001b[0m\u001b[0mkey\u001b[0m\u001b[0;34m,\u001b[0m \u001b[0mvalue\u001b[0m\u001b[0;34m)\u001b[0m\u001b[0;34m\u001b[0m\u001b[0;34m\u001b[0m\u001b[0m\n\u001b[0m\u001b[1;32m   3550\u001b[0m         \u001b[0mNDFrame\u001b[0m\u001b[0;34m.\u001b[0m\u001b[0m_set_item\u001b[0m\u001b[0;34m(\u001b[0m\u001b[0mself\u001b[0m\u001b[0;34m,\u001b[0m \u001b[0mkey\u001b[0m\u001b[0;34m,\u001b[0m \u001b[0mvalue\u001b[0m\u001b[0;34m)\u001b[0m\u001b[0;34m\u001b[0m\u001b[0;34m\u001b[0m\u001b[0m\n\u001b[1;32m   3551\u001b[0m \u001b[0;34m\u001b[0m\u001b[0m\n",
      "\u001b[0;32m~/opt/anaconda3/envs/learn-env/lib/python3.6/site-packages/pandas/core/frame.py\u001b[0m in \u001b[0;36m_sanitize_column\u001b[0;34m(self, key, value, broadcast)\u001b[0m\n\u001b[1;32m   3732\u001b[0m \u001b[0;34m\u001b[0m\u001b[0m\n\u001b[1;32m   3733\u001b[0m             \u001b[0;31m# turn me into an ndarray\u001b[0m\u001b[0;34m\u001b[0m\u001b[0;34m\u001b[0m\u001b[0;34m\u001b[0m\u001b[0m\n\u001b[0;32m-> 3734\u001b[0;31m             \u001b[0mvalue\u001b[0m \u001b[0;34m=\u001b[0m \u001b[0msanitize_index\u001b[0m\u001b[0;34m(\u001b[0m\u001b[0mvalue\u001b[0m\u001b[0;34m,\u001b[0m \u001b[0mself\u001b[0m\u001b[0;34m.\u001b[0m\u001b[0mindex\u001b[0m\u001b[0;34m,\u001b[0m \u001b[0mcopy\u001b[0m\u001b[0;34m=\u001b[0m\u001b[0;32mFalse\u001b[0m\u001b[0;34m)\u001b[0m\u001b[0;34m\u001b[0m\u001b[0;34m\u001b[0m\u001b[0m\n\u001b[0m\u001b[1;32m   3735\u001b[0m             \u001b[0;32mif\u001b[0m \u001b[0;32mnot\u001b[0m \u001b[0misinstance\u001b[0m\u001b[0;34m(\u001b[0m\u001b[0mvalue\u001b[0m\u001b[0;34m,\u001b[0m \u001b[0;34m(\u001b[0m\u001b[0mnp\u001b[0m\u001b[0;34m.\u001b[0m\u001b[0mndarray\u001b[0m\u001b[0;34m,\u001b[0m \u001b[0mIndex\u001b[0m\u001b[0;34m)\u001b[0m\u001b[0;34m)\u001b[0m\u001b[0;34m:\u001b[0m\u001b[0;34m\u001b[0m\u001b[0;34m\u001b[0m\u001b[0m\n\u001b[1;32m   3736\u001b[0m                 \u001b[0;32mif\u001b[0m \u001b[0misinstance\u001b[0m\u001b[0;34m(\u001b[0m\u001b[0mvalue\u001b[0m\u001b[0;34m,\u001b[0m \u001b[0mlist\u001b[0m\u001b[0;34m)\u001b[0m \u001b[0;32mand\u001b[0m \u001b[0mlen\u001b[0m\u001b[0;34m(\u001b[0m\u001b[0mvalue\u001b[0m\u001b[0;34m)\u001b[0m \u001b[0;34m>\u001b[0m \u001b[0;36m0\u001b[0m\u001b[0;34m:\u001b[0m\u001b[0;34m\u001b[0m\u001b[0;34m\u001b[0m\u001b[0m\n",
      "\u001b[0;32m~/opt/anaconda3/envs/learn-env/lib/python3.6/site-packages/pandas/core/internals/construction.py\u001b[0m in \u001b[0;36msanitize_index\u001b[0;34m(data, index, copy)\u001b[0m\n\u001b[1;32m    610\u001b[0m \u001b[0;34m\u001b[0m\u001b[0m\n\u001b[1;32m    611\u001b[0m     \u001b[0;32mif\u001b[0m \u001b[0mlen\u001b[0m\u001b[0;34m(\u001b[0m\u001b[0mdata\u001b[0m\u001b[0;34m)\u001b[0m \u001b[0;34m!=\u001b[0m \u001b[0mlen\u001b[0m\u001b[0;34m(\u001b[0m\u001b[0mindex\u001b[0m\u001b[0;34m)\u001b[0m\u001b[0;34m:\u001b[0m\u001b[0;34m\u001b[0m\u001b[0;34m\u001b[0m\u001b[0m\n\u001b[0;32m--> 612\u001b[0;31m         \u001b[0;32mraise\u001b[0m \u001b[0mValueError\u001b[0m\u001b[0;34m(\u001b[0m\u001b[0;34m\"Length of values does not match length of index\"\u001b[0m\u001b[0;34m)\u001b[0m\u001b[0;34m\u001b[0m\u001b[0;34m\u001b[0m\u001b[0m\n\u001b[0m\u001b[1;32m    613\u001b[0m \u001b[0;34m\u001b[0m\u001b[0m\n\u001b[1;32m    614\u001b[0m     \u001b[0;32mif\u001b[0m \u001b[0misinstance\u001b[0m\u001b[0;34m(\u001b[0m\u001b[0mdata\u001b[0m\u001b[0;34m,\u001b[0m \u001b[0mABCIndexClass\u001b[0m\u001b[0;34m)\u001b[0m \u001b[0;32mand\u001b[0m \u001b[0;32mnot\u001b[0m \u001b[0mcopy\u001b[0m\u001b[0;34m:\u001b[0m\u001b[0;34m\u001b[0m\u001b[0;34m\u001b[0m\u001b[0m\n",
      "\u001b[0;31mValueError\u001b[0m: Length of values does not match length of index"
     ]
    }
   ],
   "source": [
    " \n",
    "# insert column indicating countries that prefer a discount\n",
    "df['DiscPref'] = np.where(df[df.ShipCountry.isin(['Spain', 'UK', 'USA', 'Canada'])] == 1)\n",
    "df.head()"
   ]
  },
  {
   "cell_type": "code",
   "execution_count": 98,
   "metadata": {},
   "outputs": [],
   "source": [
    "#!pip install pandasql\n",
    "from pandasql import sqldf\n",
    "pysqldf = lambda q: sqldf(q, globals())"
   ]
  },
  {
   "cell_type": "code",
   "execution_count": null,
   "metadata": {},
   "outputs": [],
   "source": [
    "# Plot comparison of discount orders vs fullprice orders for each country where a significant difference exists.\n",
    "\n",
    "q1 = \"SELECT Quantity, Discount, Count(*) from df where Country = 'Spain' and Discount > 0 group by 1;\"\n",
    "q2 = \"SELECT Quantity, Sum(*) from df where Country = 'Spain' and Discount = 0 group by 1;\"\n",
    "\n",
    "discount_df = pysqldf(q1)\n",
    "fullprice_df = pysqldf(q2)\n",
    "\n",
    "# Create and label the histograms for each below!\n",
    "fig, axes = plt.subplots(nrows=1, ncols=2, figsize=(18,8))\n",
    "\n",
    "discount_df.set_index('Discount')['Count(*)'].plot(kind='barh', ax=axes[0])\n",
    "axes[0].set_title('Distribution of Discount Orders for Spain')\n",
    "\n",
    "fullprice_df.set_index('Discount')['Count(*)'].plot(kind='barh', ax=axes[1])\n",
    "axes[1].set_title('Distribution of Classes for Female Casualties')"
   ]
  },
  {
   "cell_type": "code",
   "execution_count": null,
   "metadata": {},
   "outputs": [],
   "source": [
    "\n",
    "# Check if sample sizes allow us to ignore assumptions; if not, test assumption normality\n",
    "# visualize sample size comparisons for two groups (normality check)\n",
    "# Select appropriate t-test based on assumptions of normality and homogeneity of variance\n",
    "# Test for normality\n",
    "stat.normaltest(fullprice), stat.normaltest(discount)\n",
    "stat.mannwhitneyu(fullprice, discount)\n",
    "# Test for homogeneity of variance\n",
    "# Run non-parametric test (if normality test failed)\n",
    "# Perform chosen statistical test, calculate effect size, and any post-hoc tests.\n",
    "\n",
    "# run tukey test for OQD (Order Quantity Discount) \n",
    "data = df_orderDetail['Quantity'].values\n",
    "labels = df_orderDetail['Discount'].values\n",
    "\n",
    "import statsmodels.api as sms\n",
    "model = sms.stats.multicomp.pairwise_tukeyhsd(data,labels)\n",
    "\n",
    "# save OQD tukey test model results into dataframe (OQD: order quantity discount)\n",
    "tukey_OQD = pd.DataFrame(data=model._results_table[1:], columns=model._results_table[0])\n",
    "tukey_OQD\n",
    "\n",
    "# Plot a universal confidence interval of each group mean comparing significant differences in group means. \n",
    "# Significant differences at the alpha=0.05 level can be identified by intervals that do not overlap \n",
    "\n",
    "oq_data = df_orderDetail['Quantity'].values\n",
    "discount_labels = df_orderDetail['Discount'].values\n",
    "\n",
    "from statsmodels.stats.multicomp import MultiComparison\n",
    "oqd = MultiComparison(oq_data, discount_labels)\n",
    "results = oqd.tukeyhsd()\n",
    "results.plot_simultaneous(comparison_name=0.2, xlabel='order qty', ylabel='discount level')"
   ]
  },
  {
   "cell_type": "code",
   "execution_count": 93,
   "metadata": {},
   "outputs": [
    {
     "data": {
      "text/html": [
       "<div>\n",
       "<style scoped>\n",
       "    .dataframe tbody tr th:only-of-type {\n",
       "        vertical-align: middle;\n",
       "    }\n",
       "\n",
       "    .dataframe tbody tr th {\n",
       "        vertical-align: top;\n",
       "    }\n",
       "\n",
       "    .dataframe thead tr th {\n",
       "        text-align: left;\n",
       "    }\n",
       "\n",
       "    .dataframe thead tr:last-of-type th {\n",
       "        text-align: right;\n",
       "    }\n",
       "</style>\n",
       "<table border=\"1\" class=\"dataframe\">\n",
       "  <thead>\n",
       "    <tr>\n",
       "      <th></th>\n",
       "      <th colspan=\"8\" halign=\"left\">OrderId</th>\n",
       "      <th colspan=\"2\" halign=\"left\">ProductId</th>\n",
       "      <th>...</th>\n",
       "      <th colspan=\"2\" halign=\"left\">ShipVia</th>\n",
       "      <th colspan=\"8\" halign=\"left\">Freight</th>\n",
       "    </tr>\n",
       "    <tr>\n",
       "      <th></th>\n",
       "      <th>count</th>\n",
       "      <th>mean</th>\n",
       "      <th>std</th>\n",
       "      <th>min</th>\n",
       "      <th>25%</th>\n",
       "      <th>50%</th>\n",
       "      <th>75%</th>\n",
       "      <th>max</th>\n",
       "      <th>count</th>\n",
       "      <th>mean</th>\n",
       "      <th>...</th>\n",
       "      <th>75%</th>\n",
       "      <th>max</th>\n",
       "      <th>count</th>\n",
       "      <th>mean</th>\n",
       "      <th>std</th>\n",
       "      <th>min</th>\n",
       "      <th>25%</th>\n",
       "      <th>50%</th>\n",
       "      <th>75%</th>\n",
       "      <th>max</th>\n",
       "    </tr>\n",
       "    <tr>\n",
       "      <th>discounted</th>\n",
       "      <th></th>\n",
       "      <th></th>\n",
       "      <th></th>\n",
       "      <th></th>\n",
       "      <th></th>\n",
       "      <th></th>\n",
       "      <th></th>\n",
       "      <th></th>\n",
       "      <th></th>\n",
       "      <th></th>\n",
       "      <th></th>\n",
       "      <th></th>\n",
       "      <th></th>\n",
       "      <th></th>\n",
       "      <th></th>\n",
       "      <th></th>\n",
       "      <th></th>\n",
       "      <th></th>\n",
       "      <th></th>\n",
       "      <th></th>\n",
       "      <th></th>\n",
       "    </tr>\n",
       "  </thead>\n",
       "  <tbody>\n",
       "    <tr>\n",
       "      <td>0</td>\n",
       "      <td>210.0</td>\n",
       "      <td>10698.752381</td>\n",
       "      <td>242.908248</td>\n",
       "      <td>10262.0</td>\n",
       "      <td>10532.0</td>\n",
       "      <td>10687.0</td>\n",
       "      <td>10887.5</td>\n",
       "      <td>11077.0</td>\n",
       "      <td>210.0</td>\n",
       "      <td>40.533333</td>\n",
       "      <td>...</td>\n",
       "      <td>3.0</td>\n",
       "      <td>3.0</td>\n",
       "      <td>210.0</td>\n",
       "      <td>128.309524</td>\n",
       "      <td>168.849717</td>\n",
       "      <td>0.20</td>\n",
       "      <td>14.91</td>\n",
       "      <td>52.41</td>\n",
       "      <td>170.97</td>\n",
       "      <td>830.75</td>\n",
       "    </tr>\n",
       "    <tr>\n",
       "      <td>1</td>\n",
       "      <td>142.0</td>\n",
       "      <td>10691.028169</td>\n",
       "      <td>247.935531</td>\n",
       "      <td>10262.0</td>\n",
       "      <td>10472.5</td>\n",
       "      <td>10700.0</td>\n",
       "      <td>10884.0</td>\n",
       "      <td>11077.0</td>\n",
       "      <td>142.0</td>\n",
       "      <td>39.661972</td>\n",
       "      <td>...</td>\n",
       "      <td>3.0</td>\n",
       "      <td>3.0</td>\n",
       "      <td>142.0</td>\n",
       "      <td>135.357887</td>\n",
       "      <td>177.086631</td>\n",
       "      <td>3.35</td>\n",
       "      <td>26.61</td>\n",
       "      <td>73.21</td>\n",
       "      <td>141.16</td>\n",
       "      <td>830.75</td>\n",
       "    </tr>\n",
       "  </tbody>\n",
       "</table>\n",
       "<p>2 rows × 64 columns</p>\n",
       "</div>"
      ],
      "text/plain": [
       "           OrderId                                                       \\\n",
       "             count          mean         std      min      25%      50%   \n",
       "discounted                                                                \n",
       "0            210.0  10698.752381  242.908248  10262.0  10532.0  10687.0   \n",
       "1            142.0  10691.028169  247.935531  10262.0  10472.5  10700.0   \n",
       "\n",
       "                             ProductId             ... ShipVia      Freight  \\\n",
       "                75%      max     count       mean  ...     75%  max   count   \n",
       "discounted                                         ...                        \n",
       "0           10887.5  11077.0     210.0  40.533333  ...     3.0  3.0   210.0   \n",
       "1           10884.0  11077.0     142.0  39.661972  ...     3.0  3.0   142.0   \n",
       "\n",
       "                                                                        \n",
       "                  mean         std   min    25%    50%     75%     max  \n",
       "discounted                                                              \n",
       "0           128.309524  168.849717  0.20  14.91  52.41  170.97  830.75  \n",
       "1           135.357887  177.086631  3.35  26.61  73.21  141.16  830.75  \n",
       "\n",
       "[2 rows x 64 columns]"
      ]
     },
     "execution_count": 93,
     "metadata": {},
     "output_type": "execute_result"
    }
   ],
   "source": [
    "usa = df.loc[grps['USA']].groupby('discounted').describe()\n",
    "usa"
   ]
  },
  {
   "cell_type": "code",
   "execution_count": null,
   "metadata": {},
   "outputs": [],
   "source": [
    "sns.distplot(grp0)\n",
    "sns.distplot(grp1)"
   ]
  },
  {
   "cell_type": "code",
   "execution_count": null,
   "metadata": {},
   "outputs": [],
   "source": [
    "anova_table.style.format(\"{:.4f}\", subset=['PR(>F)'])"
   ]
  },
  {
   "cell_type": "markdown",
   "metadata": {},
   "source": [
    "## Results"
   ]
  },
  {
   "cell_type": "code",
   "execution_count": null,
   "metadata": {},
   "outputs": [],
   "source": [
    "# create dataframe from OrderDetail table since that is where the discount information is stored\n",
    "cur.execute(\"\"\"SELECT * FROM OrderDetail;\"\"\")\n",
    "df_orderDetail = pd.DataFrame(cur.fetchall())\n",
    "df_orderDetail.columns = [x[0] for x in cur.description]\n",
    "df_orderDetail.head()\n",
    "\n",
    "# split order data into two groups: discounted and fullprice\n",
    "fullprice = df_orderDetail.groupby('discounted').get_group(0)['Quantity']\n",
    "discount = df_orderDetail.groupby('discounted').get_group(1)['Quantity']\n",
    "\n",
    "# insert boolean column into orderDetail showing whether or not an order includes a discount value\n",
    "df_orderDetail['discounted'] = np.where(df_orderDetail['Discount'] == 0.0, 0, 1)\n"
   ]
  },
  {
   "cell_type": "code",
   "execution_count": null,
   "metadata": {},
   "outputs": [],
   "source": [
    "\n"
   ]
  },
  {
   "cell_type": "code",
   "execution_count": null,
   "metadata": {},
   "outputs": [],
   "source": []
  },
  {
   "cell_type": "code",
   "execution_count": 215,
   "metadata": {},
   "outputs": [
    {
     "data": {
      "text/html": [
       "<div>\n",
       "<style scoped>\n",
       "    .dataframe tbody tr th:only-of-type {\n",
       "        vertical-align: middle;\n",
       "    }\n",
       "\n",
       "    .dataframe tbody tr th {\n",
       "        vertical-align: top;\n",
       "    }\n",
       "\n",
       "    .dataframe thead th {\n",
       "        text-align: right;\n",
       "    }\n",
       "</style>\n",
       "<table border=\"1\" class=\"dataframe\">\n",
       "  <thead>\n",
       "    <tr style=\"text-align: right;\">\n",
       "      <th></th>\n",
       "      <th>UnitPrice</th>\n",
       "      <th>Quantity</th>\n",
       "    </tr>\n",
       "    <tr>\n",
       "      <th>ProductId</th>\n",
       "      <th></th>\n",
       "      <th></th>\n",
       "    </tr>\n",
       "  </thead>\n",
       "  <tbody>\n",
       "    <tr>\n",
       "      <td>51</td>\n",
       "      <td>42.4</td>\n",
       "      <td>35</td>\n",
       "    </tr>\n",
       "    <tr>\n",
       "      <td>65</td>\n",
       "      <td>16.8</td>\n",
       "      <td>15</td>\n",
       "    </tr>\n",
       "    <tr>\n",
       "      <td>22</td>\n",
       "      <td>16.8</td>\n",
       "      <td>6</td>\n",
       "    </tr>\n",
       "    <tr>\n",
       "      <td>57</td>\n",
       "      <td>15.6</td>\n",
       "      <td>15</td>\n",
       "    </tr>\n",
       "    <tr>\n",
       "      <td>20</td>\n",
       "      <td>64.8</td>\n",
       "      <td>40</td>\n",
       "    </tr>\n",
       "    <tr>\n",
       "      <td>...</td>\n",
       "      <td>...</td>\n",
       "      <td>...</td>\n",
       "    </tr>\n",
       "    <tr>\n",
       "      <td>2</td>\n",
       "      <td>19.0</td>\n",
       "      <td>24</td>\n",
       "    </tr>\n",
       "    <tr>\n",
       "      <td>7</td>\n",
       "      <td>30.0</td>\n",
       "      <td>1</td>\n",
       "    </tr>\n",
       "    <tr>\n",
       "      <td>8</td>\n",
       "      <td>40.0</td>\n",
       "      <td>2</td>\n",
       "    </tr>\n",
       "    <tr>\n",
       "      <td>12</td>\n",
       "      <td>38.0</td>\n",
       "      <td>2</td>\n",
       "    </tr>\n",
       "    <tr>\n",
       "      <td>39</td>\n",
       "      <td>18.0</td>\n",
       "      <td>2</td>\n",
       "    </tr>\n",
       "  </tbody>\n",
       "</table>\n",
       "<p>830 rows × 2 columns</p>\n",
       "</div>"
      ],
      "text/plain": [
       "           UnitPrice  Quantity\n",
       "ProductId                     \n",
       "51              42.4        35\n",
       "65              16.8        15\n",
       "22              16.8         6\n",
       "57              15.6        15\n",
       "20              64.8        40\n",
       "...              ...       ...\n",
       "2               19.0        24\n",
       "7               30.0         1\n",
       "8               40.0         2\n",
       "12              38.0         2\n",
       "39              18.0         2\n",
       "\n",
       "[830 rows x 2 columns]"
      ]
     },
     "execution_count": 215,
     "metadata": {},
     "output_type": "execute_result"
    }
   ],
   "source": [
    "prod_price = df_oqd[{'ProductId', 'UnitPrice', 'Quantity'}]\n",
    "prod_price.set_index('ProductId', inplace=True)\n",
    "prod_price"
   ]
  },
  {
   "cell_type": "code",
   "execution_count": 222,
   "metadata": {},
   "outputs": [
    {
     "name": "stderr",
     "output_type": "stream",
     "text": [
      "/Users/hakkeray/opt/anaconda3/envs/learn-env/lib/python3.6/site-packages/ipykernel_launcher.py:1: SettingWithCopyWarning: \n",
      "A value is trying to be set on a copy of a slice from a DataFrame.\n",
      "Try using .loc[row_indexer,col_indexer] = value instead\n",
      "\n",
      "See the caveats in the documentation: http://pandas.pydata.org/pandas-docs/stable/user_guide/indexing.html#returning-a-view-versus-a-copy\n",
      "  \"\"\"Entry point for launching an IPython kernel.\n"
     ]
    },
    {
     "data": {
      "text/html": [
       "<div>\n",
       "<style scoped>\n",
       "    .dataframe tbody tr th:only-of-type {\n",
       "        vertical-align: middle;\n",
       "    }\n",
       "\n",
       "    .dataframe tbody tr th {\n",
       "        vertical-align: top;\n",
       "    }\n",
       "\n",
       "    .dataframe thead th {\n",
       "        text-align: right;\n",
       "    }\n",
       "</style>\n",
       "<table border=\"1\" class=\"dataframe\">\n",
       "  <thead>\n",
       "    <tr style=\"text-align: right;\">\n",
       "      <th></th>\n",
       "      <th>UnitPrice</th>\n",
       "      <th>Quantity</th>\n",
       "      <th>OrderPrice</th>\n",
       "    </tr>\n",
       "    <tr>\n",
       "      <th>ProductId</th>\n",
       "      <th></th>\n",
       "      <th></th>\n",
       "      <th></th>\n",
       "    </tr>\n",
       "  </thead>\n",
       "  <tbody>\n",
       "    <tr>\n",
       "      <td>51</td>\n",
       "      <td>42.4</td>\n",
       "      <td>35</td>\n",
       "      <td>1484.0</td>\n",
       "    </tr>\n",
       "    <tr>\n",
       "      <td>65</td>\n",
       "      <td>16.8</td>\n",
       "      <td>15</td>\n",
       "      <td>252.0</td>\n",
       "    </tr>\n",
       "    <tr>\n",
       "      <td>22</td>\n",
       "      <td>16.8</td>\n",
       "      <td>6</td>\n",
       "      <td>100.8</td>\n",
       "    </tr>\n",
       "    <tr>\n",
       "      <td>57</td>\n",
       "      <td>15.6</td>\n",
       "      <td>15</td>\n",
       "      <td>234.0</td>\n",
       "    </tr>\n",
       "    <tr>\n",
       "      <td>20</td>\n",
       "      <td>64.8</td>\n",
       "      <td>40</td>\n",
       "      <td>2592.0</td>\n",
       "    </tr>\n",
       "    <tr>\n",
       "      <td>...</td>\n",
       "      <td>...</td>\n",
       "      <td>...</td>\n",
       "      <td>...</td>\n",
       "    </tr>\n",
       "    <tr>\n",
       "      <td>2</td>\n",
       "      <td>19.0</td>\n",
       "      <td>24</td>\n",
       "      <td>456.0</td>\n",
       "    </tr>\n",
       "    <tr>\n",
       "      <td>7</td>\n",
       "      <td>30.0</td>\n",
       "      <td>1</td>\n",
       "      <td>30.0</td>\n",
       "    </tr>\n",
       "    <tr>\n",
       "      <td>8</td>\n",
       "      <td>40.0</td>\n",
       "      <td>2</td>\n",
       "      <td>80.0</td>\n",
       "    </tr>\n",
       "    <tr>\n",
       "      <td>12</td>\n",
       "      <td>38.0</td>\n",
       "      <td>2</td>\n",
       "      <td>76.0</td>\n",
       "    </tr>\n",
       "    <tr>\n",
       "      <td>39</td>\n",
       "      <td>18.0</td>\n",
       "      <td>2</td>\n",
       "      <td>36.0</td>\n",
       "    </tr>\n",
       "  </tbody>\n",
       "</table>\n",
       "<p>830 rows × 3 columns</p>\n",
       "</div>"
      ],
      "text/plain": [
       "           UnitPrice  Quantity  OrderPrice\n",
       "ProductId                                 \n",
       "51              42.4        35      1484.0\n",
       "65              16.8        15       252.0\n",
       "22              16.8         6       100.8\n",
       "57              15.6        15       234.0\n",
       "20              64.8        40      2592.0\n",
       "...              ...       ...         ...\n",
       "2               19.0        24       456.0\n",
       "7               30.0         1        30.0\n",
       "8               40.0         2        80.0\n",
       "12              38.0         2        76.0\n",
       "39              18.0         2        36.0\n",
       "\n",
       "[830 rows x 3 columns]"
      ]
     },
     "execution_count": 222,
     "metadata": {},
     "output_type": "execute_result"
    }
   ],
   "source": [
    "# use numpy broadcasting to calculate revenue of orders : unitprice * quantity for each of the sig disc levels\n",
    "\n",
    "prod_price['OrderPrice'] = prod_price.UnitPrice * prod_price.Quantity\n",
    "prod_price"
   ]
  },
  {
   "cell_type": "code",
   "execution_count": null,
   "metadata": {},
   "outputs": [],
   "source": []
  },
  {
   "cell_type": "code",
   "execution_count": 186,
   "metadata": {},
   "outputs": [
    {
     "data": {
      "text/plain": [
       "array([ 42.4 ,  16.8 ,  15.6 ,  64.8 ,   2.  ,   3.6 ,  19.2 ,  15.2 ,\n",
       "        17.  ,  25.6 ,   7.7 ,  39.4 ,  12.  ,  13.9 ,  20.7 ,   8.  ,\n",
       "        30.4 ,  44.  ,  14.4 ,  27.8 ,  24.8 ,  10.  ,  14.7 ,  31.2 ,\n",
       "        35.1 ,  27.2 ,  11.2 ,  26.2 ,   9.6 ,   5.9 ,   4.8 ,  15.5 ,\n",
       "        50.  ,  99.  ,  10.6 ,   7.3 , 210.8 ,  24.9 ,   7.6 ,  17.2 ,\n",
       "        17.6 ,  36.8 ,  32.  ,   6.2 ,  13.  ,  28.8 ,  36.4 ,  26.6 ,\n",
       "        24.  ,   5.6 ,  18.6 ,  10.2 ,  16.  ,  77.6 ,  10.4 ,  22.8 ,\n",
       "        13.6 ,  45.6 ,  14.  ,  15.  ,  46.  ,  12.75,   7.75,  22.  ,\n",
       "        30.  ,  40.  ,   4.5 ,   9.5 ,  34.  ,  28.5 ,  97.  ,   2.5 ,\n",
       "        62.5 ,   9.65,  31.  ,  18.  ,  25.89,  18.4 ,  39.  ,  81.  ,\n",
       "        26.  ,  38.  ,  19.  ,   7.45,  21.  ,  19.5 ,  55.  , 263.5 ,\n",
       "        21.05,  21.5 ,   9.  ,  12.5 ,  53.  ,  17.45,  49.3 ,  23.25,\n",
       "         9.2 ,  33.25,  36.  ,   7.  ,  31.23,  43.9 ,  20.  ,   6.  ,\n",
       "        21.35,  16.25,  32.8 ,  19.45,  13.25, 123.79,  34.8 ,  25.  ])"
      ]
     },
     "execution_count": 186,
     "metadata": {},
     "output_type": "execute_result"
    }
   ],
   "source": [
    "df_oqd['UnitPrice'].unique()"
   ]
  },
  {
   "cell_type": "code",
   "execution_count": 85,
   "metadata": {
    "scrolled": true
   },
   "outputs": [
    {
     "data": {
      "text/html": [
       "<div>\n",
       "<style scoped>\n",
       "    .dataframe tbody tr th:only-of-type {\n",
       "        vertical-align: middle;\n",
       "    }\n",
       "\n",
       "    .dataframe tbody tr th {\n",
       "        vertical-align: top;\n",
       "    }\n",
       "\n",
       "    .dataframe thead th {\n",
       "        text-align: right;\n",
       "    }\n",
       "</style>\n",
       "<table border=\"1\" class=\"dataframe\">\n",
       "  <thead>\n",
       "    <tr style=\"text-align: right;\">\n",
       "      <th></th>\n",
       "      <th>Id</th>\n",
       "      <th>ProductName</th>\n",
       "      <th>SupplierId</th>\n",
       "      <th>CategoryId</th>\n",
       "      <th>QuantityPerUnit</th>\n",
       "      <th>UnitPrice</th>\n",
       "      <th>UnitsInStock</th>\n",
       "      <th>UnitsOnOrder</th>\n",
       "      <th>ReorderLevel</th>\n",
       "      <th>Discontinued</th>\n",
       "    </tr>\n",
       "  </thead>\n",
       "  <tbody>\n",
       "    <tr>\n",
       "      <td>0</td>\n",
       "      <td>1</td>\n",
       "      <td>Chai</td>\n",
       "      <td>1</td>\n",
       "      <td>1</td>\n",
       "      <td>10 boxes x 20 bags</td>\n",
       "      <td>18.0</td>\n",
       "      <td>39</td>\n",
       "      <td>0</td>\n",
       "      <td>10</td>\n",
       "      <td>0</td>\n",
       "    </tr>\n",
       "    <tr>\n",
       "      <td>1</td>\n",
       "      <td>2</td>\n",
       "      <td>Chang</td>\n",
       "      <td>1</td>\n",
       "      <td>1</td>\n",
       "      <td>24 - 12 oz bottles</td>\n",
       "      <td>19.0</td>\n",
       "      <td>17</td>\n",
       "      <td>40</td>\n",
       "      <td>25</td>\n",
       "      <td>0</td>\n",
       "    </tr>\n",
       "  </tbody>\n",
       "</table>\n",
       "</div>"
      ],
      "text/plain": [
       "   Id ProductName  SupplierId  CategoryId     QuantityPerUnit  UnitPrice  \\\n",
       "0   1        Chai           1           1  10 boxes x 20 bags       18.0   \n",
       "1   2       Chang           1           1  24 - 12 oz bottles       19.0   \n",
       "\n",
       "   UnitsInStock  UnitsOnOrder  ReorderLevel  Discontinued  \n",
       "0            39             0            10             0  \n",
       "1            17            40            25             0  "
      ]
     },
     "execution_count": 85,
     "metadata": {},
     "output_type": "execute_result"
    }
   ],
   "source": [
    "df_employees = get_table(cur, table=\"'employee'\")\n",
    "df_product = get_table(cur, table=\"'Product'\")\n",
    "df_product.head(2)\n",
    "df_order = get_table(cur, table=\"'Order'\")\n",
    "df_order.head()"
   ]
  },
  {
   "cell_type": "code",
   "execution_count": null,
   "metadata": {},
   "outputs": [],
   "source": [
    "\n",
    "\n",
    "from scipy.stats import sem\n",
    "fig, ax = plt.subplots(figsize=(2,6))\n",
    "ax.bar(group1['name'],group1['data'].mean(), yerr=sem(group1['data']))\n",
    "\n",
    "ax.bar(group2['name'],group2['data'].mean(), yerr=sem(group2['data']))"
   ]
  },
  {
   "cell_type": "code",
   "execution_count": 2,
   "metadata": {},
   "outputs": [],
   "source": [
    "from scipy import stats\n",
    "\n",
    "def print_normtest(x,label=None,as_series=False):\n",
    "    \"\"\"Runs scipy.stats.normaltest and prints results,\n",
    "    may also return them if as_series=True\n",
    "    \"\"\"\n",
    "    if label is None:\n",
    "        try:\n",
    "            label=x.name\n",
    "        except:\n",
    "            label=''\n",
    "\n",
    "    results = ['Survived','Norm Stat','p value','(p<0.05)']\n",
    "\n",
    "    out = stats.normaltest(x)\n",
    "\n",
    "    values = [label, out.statistic.round(3),\n",
    "              out.pvalue.round(4), out.pvalue<0.05]\n",
    "\n",
    "    results=dict(zip(results,values))\n",
    "\n",
    "    print(f\"\\n--- stats.normtest results:\")\n",
    "    [print(f\"{k:{15}} : {v}\")for k,v in results.items()]\n",
    "    \n",
    "    if as_series:\n",
    "        return pd.Series(results)"
   ]
  },
  {
   "cell_type": "code",
   "execution_count": 17,
   "metadata": {},
   "outputs": [],
   "source": []
  },
  {
   "cell_type": "code",
   "execution_count": 1,
   "metadata": {
    "code_folding": [
     1
    ]
   },
   "outputs": [],
   "source": [
    "#### Cohen's d\n",
    "def Cohen_d(group1, group2):\n",
    "    # Compute Cohen's d.\n",
    "    # group1: Series or NumPy array\n",
    "    # group2: Series or NumPy array\n",
    "    # returns a floating point number \n",
    "    diff = group1.mean() - group2.mean()\n",
    "\n",
    "    n1, n2 = len(group1), len(group2)\n",
    "    var1 = group1.var()\n",
    "    var2 = group2.var()\n",
    "\n",
    "    # Calculate the pooled threshold as shown earlier\n",
    "    pooled_var = (n1 * var1 + n2 * var2) / (n1 + n2)\n",
    "    \n",
    "    # Calculate Cohen's d statistic\n",
    "    d = diff / np.sqrt(pooled_var)\n",
    "    \n",
    "    return d"
   ]
  },
  {
   "cell_type": "code",
   "execution_count": 16,
   "metadata": {},
   "outputs": [
    {
     "ename": "NameError",
     "evalue": "name 'group1' is not defined",
     "output_type": "error",
     "traceback": [
      "\u001b[0;31m---------------------------------------------------------------------------\u001b[0m",
      "\u001b[0;31mNameError\u001b[0m                                 Traceback (most recent call last)",
      "\u001b[0;32m<ipython-input-16-c3e59d33fac8>\u001b[0m in \u001b[0;36m<module>\u001b[0;34m\u001b[0m\n\u001b[1;32m      1\u001b[0m \u001b[0;32mfrom\u001b[0m \u001b[0mscipy\u001b[0m\u001b[0;34m.\u001b[0m\u001b[0mstats\u001b[0m \u001b[0;32mimport\u001b[0m \u001b[0msem\u001b[0m\u001b[0;34m\u001b[0m\u001b[0;34m\u001b[0m\u001b[0m\n\u001b[1;32m      2\u001b[0m \u001b[0mfig\u001b[0m\u001b[0;34m,\u001b[0m \u001b[0max\u001b[0m \u001b[0;34m=\u001b[0m \u001b[0mplt\u001b[0m\u001b[0;34m.\u001b[0m\u001b[0msubplots\u001b[0m\u001b[0;34m(\u001b[0m\u001b[0mfigsize\u001b[0m\u001b[0;34m=\u001b[0m\u001b[0;34m(\u001b[0m\u001b[0;36m2\u001b[0m\u001b[0;34m,\u001b[0m\u001b[0;36m6\u001b[0m\u001b[0;34m)\u001b[0m\u001b[0;34m)\u001b[0m\u001b[0;34m\u001b[0m\u001b[0;34m\u001b[0m\u001b[0m\n\u001b[0;32m----> 3\u001b[0;31m \u001b[0max\u001b[0m\u001b[0;34m.\u001b[0m\u001b[0mbar\u001b[0m\u001b[0;34m(\u001b[0m\u001b[0mgroup1\u001b[0m\u001b[0;34m[\u001b[0m\u001b[0;34m'name'\u001b[0m\u001b[0;34m]\u001b[0m\u001b[0;34m,\u001b[0m\u001b[0mgroup1\u001b[0m\u001b[0;34m[\u001b[0m\u001b[0;34m'data'\u001b[0m\u001b[0;34m]\u001b[0m\u001b[0;34m.\u001b[0m\u001b[0mmean\u001b[0m\u001b[0;34m(\u001b[0m\u001b[0;34m)\u001b[0m\u001b[0;34m,\u001b[0m \u001b[0myerr\u001b[0m\u001b[0;34m=\u001b[0m\u001b[0msem\u001b[0m\u001b[0;34m(\u001b[0m\u001b[0mgroup1\u001b[0m\u001b[0;34m[\u001b[0m\u001b[0;34m'data'\u001b[0m\u001b[0;34m]\u001b[0m\u001b[0;34m)\u001b[0m\u001b[0;34m)\u001b[0m\u001b[0;34m\u001b[0m\u001b[0;34m\u001b[0m\u001b[0m\n\u001b[0m\u001b[1;32m      4\u001b[0m \u001b[0;34m\u001b[0m\u001b[0m\n\u001b[1;32m      5\u001b[0m \u001b[0max\u001b[0m\u001b[0;34m.\u001b[0m\u001b[0mbar\u001b[0m\u001b[0;34m(\u001b[0m\u001b[0mgroup2\u001b[0m\u001b[0;34m[\u001b[0m\u001b[0;34m'name'\u001b[0m\u001b[0;34m]\u001b[0m\u001b[0;34m,\u001b[0m\u001b[0mgroup2\u001b[0m\u001b[0;34m[\u001b[0m\u001b[0;34m'data'\u001b[0m\u001b[0;34m]\u001b[0m\u001b[0;34m.\u001b[0m\u001b[0mmean\u001b[0m\u001b[0;34m(\u001b[0m\u001b[0;34m)\u001b[0m\u001b[0;34m,\u001b[0m \u001b[0myerr\u001b[0m\u001b[0;34m=\u001b[0m\u001b[0msem\u001b[0m\u001b[0;34m(\u001b[0m\u001b[0mgroup2\u001b[0m\u001b[0;34m[\u001b[0m\u001b[0;34m'data'\u001b[0m\u001b[0;34m]\u001b[0m\u001b[0;34m)\u001b[0m\u001b[0;34m)\u001b[0m\u001b[0;34m\u001b[0m\u001b[0;34m\u001b[0m\u001b[0m\n",
      "\u001b[0;31mNameError\u001b[0m: name 'group1' is not defined"
     ]
    },
    {
     "data": {
      "image/png": "[encoded data removed]",
      "text/plain": [
       "<Figure size 144x432 with 1 Axes>"
      ]
     },
     "metadata": {},
     "output_type": "display_data"
    }
   ],
   "source": [
    "from scipy.stats import sem\n",
    "fig, ax = plt.subplots(figsize=(2,6))\n",
    "ax.bar(group1['name'],group1['data'].mean(), yerr=sem(group1['data']))\n",
    "\n",
    "ax.bar(group2['name'],group2['data'].mean(), yerr=sem(group2['data']))"
   ]
  },
  {
   "cell_type": "code",
   "execution_count": null,
   "metadata": {},
   "outputs": [],
   "source": [
    "SELECT * from OrderDetail \n",
    "WHERE Discount > 0\n",
    "ORDER BY OrderId;"
   ]
  },
  {
   "cell_type": "code",
   "execution_count": null,
   "metadata": {},
   "outputs": [],
   "source": [
    "\n",
    "\n",
    "cur.execute(\"\"\"SELECT customerName,\n",
    "               COUNT(amount) AS number_purchases_over_50K\n",
    "               FROM customers\n",
    "               JOIN payments\n",
    "               USING(customerNumber)\n",
    "               WHERE amount >= 50000\n",
    "               GROUP BY 1\n",
    "               HAVING count(amount) >= 3\n",
    "               ORDER BY count(amount) DESC;\"\"\")\n",
    "df = pd.DataFrame(cur.fetchall())\n",
    "df. columns = [i[0] for i in cur.description]\n",
    "print(len(df))\n",
    "df.head()"
   ]
  },
  {
   "cell_type": "code",
   "execution_count": null,
   "metadata": {},
   "outputs": [],
   "source": [
    "cur.execute(\"\"\"SELECT city, COUNT(customerNumber) AS number_customers\n",
    "               FROM customers\n",
    "               GROUP BY 1\n",
    "               HAVING COUNT(customerNumber)>=5;\"\"\")\n",
    "df = pd.DataFrame(cur.fetchall())\n",
    "df. columns = [i[0] for i in cur.description]\n",
    "print(len(df))\n",
    "df.head()"
   ]
  },
  {
   "cell_type": "markdown",
   "metadata": {},
   "source": [
    "# H3: Time of Year and Revenue/Units Sold\n",
    "* Does time of year have a statistically significant effect on sales? \n",
    "* If so, which months/seasons? Does this vary by region/country?"
   ]
  },
  {
   "cell_type": "markdown",
   "metadata": {},
   "source": [
    "## Hypotheses\n",
    "    \n",
    "    𝐻1  : Discount amount has a statistically significant effect on the quantity in an order.\n",
    "\n",
    "    𝐻0 : Discount amount has no relationship with the quantity of a product in an order."
   ]
  },
  {
   "cell_type": "markdown",
   "metadata": {},
   "source": [
    "## Data Grouping\n",
    "\n",
    "       * average number of orders made\n",
    "       * average order size (measured as quantities per order)"
   ]
  },
  {
   "cell_type": "code",
   "execution_count": 117,
   "metadata": {},
   "outputs": [
    {
     "data": {
      "text/plain": [
       "0   2012-07-04\n",
       "1   2012-07-04\n",
       "2   2012-07-04\n",
       "3   2012-07-05\n",
       "4   2012-07-05\n",
       "Name: OrderDate, dtype: datetime64[ns]"
      ]
     },
     "execution_count": 117,
     "metadata": {},
     "output_type": "execute_result"
    }
   ],
   "source": [
    "pd.to_datetime(df['OrderDate']).head()"
   ]
  },
  {
   "cell_type": "code",
   "execution_count": 119,
   "metadata": {},
   "outputs": [
    {
     "data": {
      "text/plain": [
       "0   2012-07-04\n",
       "1   2012-07-04\n",
       "2   2012-07-04\n",
       "3   2012-07-05\n",
       "4   2012-07-05\n",
       "Name: OrderDate, dtype: datetime64[ns]"
      ]
     },
     "execution_count": 119,
     "metadata": {},
     "output_type": "execute_result"
    }
   ],
   "source": [
    "pd.to_datetime(df['OrderDate'], format='%Y/%m/%d').head()"
   ]
  },
  {
   "cell_type": "code",
   "execution_count": 128,
   "metadata": {},
   "outputs": [
    {
     "data": {
      "text/html": [
       "<div>\n",
       "<style scoped>\n",
       "    .dataframe tbody tr th:only-of-type {\n",
       "        vertical-align: middle;\n",
       "    }\n",
       "\n",
       "    .dataframe tbody tr th {\n",
       "        vertical-align: top;\n",
       "    }\n",
       "\n",
       "    .dataframe thead th {\n",
       "        text-align: right;\n",
       "    }\n",
       "</style>\n",
       "<table border=\"1\" class=\"dataframe\">\n",
       "  <thead>\n",
       "    <tr style=\"text-align: right;\">\n",
       "      <th></th>\n",
       "      <th>Id</th>\n",
       "      <th>OrderId</th>\n",
       "      <th>ProductId</th>\n",
       "      <th>UnitPrice</th>\n",
       "      <th>Quantity</th>\n",
       "      <th>Discount</th>\n",
       "      <th>discounted</th>\n",
       "      <th>CustomerId</th>\n",
       "      <th>EmployeeId</th>\n",
       "      <th>OrderDate</th>\n",
       "      <th>...</th>\n",
       "      <th>ShipVia</th>\n",
       "      <th>Freight</th>\n",
       "      <th>ShipName</th>\n",
       "      <th>ShipAddress</th>\n",
       "      <th>ShipCity</th>\n",
       "      <th>ShipRegion</th>\n",
       "      <th>ShipPostalCode</th>\n",
       "      <th>ShipCountry</th>\n",
       "      <th>OrderMonth</th>\n",
       "      <th>OrderYear</th>\n",
       "    </tr>\n",
       "  </thead>\n",
       "  <tbody>\n",
       "    <tr>\n",
       "      <td>0</td>\n",
       "      <td>10248/11</td>\n",
       "      <td>10248</td>\n",
       "      <td>11</td>\n",
       "      <td>14.0</td>\n",
       "      <td>12</td>\n",
       "      <td>0.0</td>\n",
       "      <td>0</td>\n",
       "      <td>VINET</td>\n",
       "      <td>5</td>\n",
       "      <td>2012-07-04</td>\n",
       "      <td>...</td>\n",
       "      <td>3</td>\n",
       "      <td>32.38</td>\n",
       "      <td>Vins et alcools Chevalier</td>\n",
       "      <td>59 rue de l'Abbaye</td>\n",
       "      <td>Reims</td>\n",
       "      <td>Western Europe</td>\n",
       "      <td>51100</td>\n",
       "      <td>France</td>\n",
       "      <td>7</td>\n",
       "      <td>2012</td>\n",
       "    </tr>\n",
       "    <tr>\n",
       "      <td>1</td>\n",
       "      <td>10248/42</td>\n",
       "      <td>10248</td>\n",
       "      <td>42</td>\n",
       "      <td>9.8</td>\n",
       "      <td>10</td>\n",
       "      <td>0.0</td>\n",
       "      <td>0</td>\n",
       "      <td>VINET</td>\n",
       "      <td>5</td>\n",
       "      <td>2012-07-04</td>\n",
       "      <td>...</td>\n",
       "      <td>3</td>\n",
       "      <td>32.38</td>\n",
       "      <td>Vins et alcools Chevalier</td>\n",
       "      <td>59 rue de l'Abbaye</td>\n",
       "      <td>Reims</td>\n",
       "      <td>Western Europe</td>\n",
       "      <td>51100</td>\n",
       "      <td>France</td>\n",
       "      <td>7</td>\n",
       "      <td>2012</td>\n",
       "    </tr>\n",
       "    <tr>\n",
       "      <td>2</td>\n",
       "      <td>10248/72</td>\n",
       "      <td>10248</td>\n",
       "      <td>72</td>\n",
       "      <td>34.8</td>\n",
       "      <td>5</td>\n",
       "      <td>0.0</td>\n",
       "      <td>0</td>\n",
       "      <td>VINET</td>\n",
       "      <td>5</td>\n",
       "      <td>2012-07-04</td>\n",
       "      <td>...</td>\n",
       "      <td>3</td>\n",
       "      <td>32.38</td>\n",
       "      <td>Vins et alcools Chevalier</td>\n",
       "      <td>59 rue de l'Abbaye</td>\n",
       "      <td>Reims</td>\n",
       "      <td>Western Europe</td>\n",
       "      <td>51100</td>\n",
       "      <td>France</td>\n",
       "      <td>7</td>\n",
       "      <td>2012</td>\n",
       "    </tr>\n",
       "    <tr>\n",
       "      <td>3</td>\n",
       "      <td>10249/14</td>\n",
       "      <td>10249</td>\n",
       "      <td>14</td>\n",
       "      <td>18.6</td>\n",
       "      <td>9</td>\n",
       "      <td>0.0</td>\n",
       "      <td>0</td>\n",
       "      <td>TOMSP</td>\n",
       "      <td>6</td>\n",
       "      <td>2012-07-05</td>\n",
       "      <td>...</td>\n",
       "      <td>1</td>\n",
       "      <td>11.61</td>\n",
       "      <td>Toms Spezialitäten</td>\n",
       "      <td>Luisenstr. 48</td>\n",
       "      <td>Münster</td>\n",
       "      <td>Western Europe</td>\n",
       "      <td>44087</td>\n",
       "      <td>Germany</td>\n",
       "      <td>7</td>\n",
       "      <td>2012</td>\n",
       "    </tr>\n",
       "    <tr>\n",
       "      <td>4</td>\n",
       "      <td>10249/51</td>\n",
       "      <td>10249</td>\n",
       "      <td>51</td>\n",
       "      <td>42.4</td>\n",
       "      <td>40</td>\n",
       "      <td>0.0</td>\n",
       "      <td>0</td>\n",
       "      <td>TOMSP</td>\n",
       "      <td>6</td>\n",
       "      <td>2012-07-05</td>\n",
       "      <td>...</td>\n",
       "      <td>1</td>\n",
       "      <td>11.61</td>\n",
       "      <td>Toms Spezialitäten</td>\n",
       "      <td>Luisenstr. 48</td>\n",
       "      <td>Münster</td>\n",
       "      <td>Western Europe</td>\n",
       "      <td>44087</td>\n",
       "      <td>Germany</td>\n",
       "      <td>7</td>\n",
       "      <td>2012</td>\n",
       "    </tr>\n",
       "  </tbody>\n",
       "</table>\n",
       "<p>5 rows × 22 columns</p>\n",
       "</div>"
      ],
      "text/plain": [
       "         Id  OrderId  ProductId  UnitPrice  Quantity  Discount  discounted  \\\n",
       "0  10248/11    10248         11       14.0        12       0.0           0   \n",
       "1  10248/42    10248         42        9.8        10       0.0           0   \n",
       "2  10248/72    10248         72       34.8         5       0.0           0   \n",
       "3  10249/14    10249         14       18.6         9       0.0           0   \n",
       "4  10249/51    10249         51       42.4        40       0.0           0   \n",
       "\n",
       "  CustomerId  EmployeeId   OrderDate  ... ShipVia Freight  \\\n",
       "0      VINET           5  2012-07-04  ...       3   32.38   \n",
       "1      VINET           5  2012-07-04  ...       3   32.38   \n",
       "2      VINET           5  2012-07-04  ...       3   32.38   \n",
       "3      TOMSP           6  2012-07-05  ...       1   11.61   \n",
       "4      TOMSP           6  2012-07-05  ...       1   11.61   \n",
       "\n",
       "                    ShipName         ShipAddress ShipCity      ShipRegion  \\\n",
       "0  Vins et alcools Chevalier  59 rue de l'Abbaye    Reims  Western Europe   \n",
       "1  Vins et alcools Chevalier  59 rue de l'Abbaye    Reims  Western Europe   \n",
       "2  Vins et alcools Chevalier  59 rue de l'Abbaye    Reims  Western Europe   \n",
       "3         Toms Spezialitäten       Luisenstr. 48  Münster  Western Europe   \n",
       "4         Toms Spezialitäten       Luisenstr. 48  Münster  Western Europe   \n",
       "\n",
       "  ShipPostalCode ShipCountry OrderMonth OrderYear  \n",
       "0          51100      France          7      2012  \n",
       "1          51100      France          7      2012  \n",
       "2          51100      France          7      2012  \n",
       "3          44087     Germany          7      2012  \n",
       "4          44087     Germany          7      2012  \n",
       "\n",
       "[5 rows x 22 columns]"
      ]
     },
     "execution_count": 128,
     "metadata": {},
     "output_type": "execute_result"
    }
   ],
   "source": [
    "#df['year'] = df['ArrivalDate'].dt.year\n",
    "df['OrderMonth'] = pd.DatetimeIndex(df['OrderDate']).month\n",
    "df['OrderYear'] = pd.DatetimeIndex(df['OrderDate']).year\n",
    "df.head()"
   ]
  },
  {
   "cell_type": "code",
   "execution_count": 129,
   "metadata": {},
   "outputs": [
    {
     "data": {
      "text/plain": [
       "4     261\n",
       "3     255\n",
       "1     237\n",
       "2     201\n",
       "12    195\n",
       "10    179\n",
       "11    155\n",
       "5     155\n",
       "8     153\n",
       "9     152\n",
       "7     136\n",
       "6      76\n",
       "Name: OrderMonth, dtype: int64"
      ]
     },
     "execution_count": 129,
     "metadata": {},
     "output_type": "execute_result"
    }
   ],
   "source": [
    "df.OrderMonth.value_counts()"
   ]
  },
  {
   "cell_type": "code",
   "execution_count": 137,
   "metadata": {},
   "outputs": [
    {
     "data": {
      "text/plain": [
       "{1: 5867,\n",
       " 2: 5247,\n",
       " 3: 5835,\n",
       " 4: 6592,\n",
       " 5: 3085,\n",
       " 6: 1635,\n",
       " 7: 3516,\n",
       " 8: 3183,\n",
       " 9: 3467,\n",
       " 10: 4417,\n",
       " 11: 3591,\n",
       " 12: 4882}"
      ]
     },
     "execution_count": 137,
     "metadata": {},
     "output_type": "execute_result"
    }
   ],
   "source": [
    "#sum(df[df.OrderMonth == 1].Quantity)\n",
    "# January: 5867 order quantity\n",
    "\n",
    "qty_per_month = {}\n",
    "\n",
    "\n",
    "for i in list(range(1,13)):\n",
    "    qty = sum(df[df.OrderMonth == i].Quantity)\n",
    "    qty_per_month[i] = qty\n",
    "\n",
    "\n",
    "qty_per_month"
   ]
  },
  {
   "cell_type": "code",
   "execution_count": 142,
   "metadata": {},
   "outputs": [
    {
     "data": {
      "image/png": "[encoded data removed]",
      "text/plain": [
       "<Figure size 576x396 with 1 Axes>"
      ]
     },
     "metadata": {},
     "output_type": "display_data"
    }
   ],
   "source": [
    "for k,v in qty_per_month.items():\n",
    "    plt.bar(x=k, height=v)"
   ]
  },
  {
   "cell_type": "code",
   "execution_count": null,
   "metadata": {},
   "outputs": [],
   "source": [
    "\n",
    "    c. Testing\n",
    "    d. Results\n",
    "cur.execute(\"\"\"SELECT Region, Country, ProductId, UnitPrice, Quantity, Discount\n",
    "               FROM Customer\n",
    "               JOIN 'Order'\n",
    "               USING(CustomerId)\n",
    "               JOIN OrderDetail\n",
    "               USING(Id)\n",
    "               ORDER BY Country DESC;\"\"\")\n",
    "df = pd.DataFrame(cur.fetchall())\n",
    "df.columns = [x[0] for x in cur.description]\n",
    "print('Total number of results:', len(df))\n",
    "df.head()"
   ]
  },
  {
   "cell_type": "markdown",
   "metadata": {},
   "source": [
    "## Testing"
   ]
  },
  {
   "cell_type": "markdown",
   "metadata": {},
   "source": [
    "## Results"
   ]
  },
  {
   "cell_type": "code",
   "execution_count": null,
   "metadata": {},
   "outputs": [],
   "source": []
  }
 ],
 "metadata": {
  "kernelspec": {
   "display_name": "Python [conda env:learn-env] *",
   "language": "python",
   "name": "conda-env-learn-env-py"
  },
  "language_info": {
   "codemirror_mode": {
    "name": "ipython",
    "version": 3
   },
   "file_extension": ".py",
   "mimetype": "text/x-python",
   "name": "python",
   "nbconvert_exporter": "python",
   "pygments_lexer": "ipython3",
   "version": "3.6.9"
  },
  "toc": {
   "base_numbering": 1,
   "nav_menu": {},
   "number_sections": true,
   "sideBar": true,
   "skip_h1_title": false,
   "title_cell": "Table of Contents",
   "title_sidebar": "Contents",
   "toc_cell": false,
   "toc_position": {
    "height": "calc(100% - 180px)",
    "left": "10px",
    "top": "150px",
    "width": "170.188px"
   },
   "toc_section_display": true,
   "toc_window_display": true
  },
  "varInspector": {
   "cols": {
    "lenName": 16,
    "lenType": 16,
    "lenVar": 40
   },
   "kernels_config": {
    "python": {
     "delete_cmd_postfix": "",
     "delete_cmd_prefix": "del ",
     "library": "var_list.py",
     "varRefreshCmd": "print(var_dic_list())"
    },
    "r": {
     "delete_cmd_postfix": ") ",
     "delete_cmd_prefix": "rm(",
     "library": "var_list.r",
     "varRefreshCmd": "cat(var_dic_list()) "
    }
   },
   "types_to_exclude": [
    "module",
    "function",
    "builtin_function_or_method",
    "instance",
    "_Feature"
   ],
   "window_display": false
  }
 },
 "nbformat": 4,
 "nbformat_minor": 2
}
