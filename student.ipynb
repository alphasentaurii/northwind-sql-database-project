{
 "cells": [
  {
   "cell_type": "markdown",
   "metadata": {},
   "source": [
    "## **Module 3 Final Project**\n",
    "\n",
    "    Title: Northwind Database\n",
    "    Submitted By: RU KEÏN\n",
    "    Date: December 5, 2019\n",
    "    Instructor: James Irving PhD\n",
    "    https://vimeo.com/rukein/northwind-datascience-project-presentation\n",
    "    http://www.hakkeray.com/datascience/2019/12/07/thinking-outside-the-lego-box.html"
   ]
  },
  {
   "cell_type": "markdown",
   "metadata": {},
   "source": [
    "---\n",
    "## Executive Summary\n",
    "\n",
    "The goal of this project is to recommend business strategies for increasing sales and saving costs for the Northwind company. This project is based on a fictitious business database created by Microsoft for the use of practicing SQL, hypothesis testing and other data analysis related projects. \n",
    "\n",
    "Below are 4 hypotheses (each including a null hypothesis and alternative hypothesis) which I will test for statistical significance to determine if there are any relationships which would be useful from a strategic business perspective. Following this I will summarize the results, make final recommendations, and propose ideas for future analytical work."
   ]
  },
  {
   "cell_type": "markdown",
   "metadata": {},
   "source": [
    "---\n",
    "## Outline\n",
    "\n",
    "*Statistical Analysis Pipeline*\n",
    "\n",
    "For each question below, I will follow a standard process of work as outlined here:\n",
    "- Question\n",
    "    - Hypotheses\n",
    "    - Exploratory Data Analysis (EDA)\n",
    "        - Select dataset\n",
    "        - Group data\n",
    "        - Explore data\n",
    "    - Test \n",
    "        - Sample size\n",
    "        - Normality and Variance\n",
    "        - Statistical test\n",
    "        - Effect size (if necessary)\n",
    "        - Post-hoc tests (if necessary)\n",
    "    - Analyze Results\n",
    "\n",
    "---\n",
    "\n",
    "The statistical testing process is as follows (section 1.4 above):\n",
    "\n",
    "1. Check if sample sizes allow us to ignore assumptions by visualizing sample size comparisons for two groups (normality check).\n",
    "    * Bar Plot: SEM (Standard Error of the Mean)\n",
    "\n",
    "2. If above test fails, check for normality and homogeneity of variance:\n",
    "    * Test Assumption Normality:\n",
    "        - D'Agostino-Pearson: scipy.stats.normaltest\n",
    "        - Shapiro-Wilik Test: scipy.stats.shapiro\n",
    "    \n",
    "    * Test for Homogeneity of Variance:\n",
    "        - Levene's Test: scipy.stats.levene)\n",
    "Parametric tests (means)\tNonparametric tests (medians)\n",
    "1-sample t test\t1-sample Sign, 1-sample Wilcoxon\n",
    "2-sample t test\tMann-Whitney tes\n",
    "One-Way ANOVA\tKruskal-Wallis, Mood’s median tes\n",
    "Factorial DOE with one factor and one blocking variable\tFriedman test\n",
    "3. Choose appropriate test based on above\n",
    "    * T Test (1-sample)\n",
    "         - `stats.ttest_1samp()`\n",
    "    * T Test (2-sample)\n",
    "        - stats.ttest_ind()\n",
    "    * Welch's T-Test (2-sample)\n",
    "        - stats.ttest_ind(equal_var=False)\n",
    "    * Mann Whitney U\n",
    "        - stats.mannwhitneyu()\n",
    "    * ANOVA\n",
    "        - stats.f_oneway()\n",
    "    * Tukey's\n",
    "        - statsmodels.stats.multicomp.pairwise_tukeyhsd\n",
    "\n",
    "4. Calculate effect size for significant results.\n",
    "    * Effect size: \n",
    "        - cohen's d\n",
    "\n",
    "    -Interpretation:\n",
    "    - Small effect = 0.2 ( cannot be seen by naked eye)\n",
    "    - Medium effect = 0.5\n",
    "    - Large Effect = 0.8 (can be seen by naked eye)\n",
    "\n",
    "\n",
    "5. If significant, follow up with post-hoc tests (if have more than 2 groups)\n",
    "    * Tukey's"
   ]
  },
  {
   "cell_type": "markdown",
   "metadata": {},
   "source": [
    "--------------------------\n",
    "## Table of Contents"
   ]
  },
  {
   "cell_type": "markdown",
   "metadata": {},
   "source": [
    "- Data Prep\n",
    "\n",
    "**H1: Discount and Order Quantity**\n",
    "\n",
    "Does discount amount have a statistically significant effect on order quantity? If so, at what level(s) of discount?\n",
    "\n",
    "**H2: Countries and Order Quantity: Discount vs Full Price**\n",
    "\n",
    "Do order quantities of individual countries differ when discounted vs full price?\n",
    "\n",
    "**H3: Region and Order Revenue**\n",
    "\n",
    "Does region have a statistically significant effect on average revenue per order?\n",
    "\n",
    "**H4: Time of Year (Month) and Order Revenue**\n",
    "\n",
    "Does time of year have a statistically significant effect on average revenue per order?\n",
    "\n",
    "- Conclusion\n",
    "\n",
    "- Recommendations\n",
    "\n",
    "- Future Work\n",
    "    * A. Product Recommendation Tool\n",
    "    * B. Free/Discounted Shipping"
   ]
  },
  {
   "cell_type": "markdown",
   "metadata": {},
   "source": [
    "## Data Prep"
   ]
  },
  {
   "cell_type": "code",
   "execution_count": 1,
   "metadata": {},
   "outputs": [
    {
     "name": "stdout",
     "output_type": "stream",
     "text": [
      "fsds_1007219  v0.4.45 loaded.  Read the docs: https://fsds.readthedocs.io/en/latest/ \n"
     ]
    },
    {
     "data": {
      "text/html": [
       "<style  type=\"text/css\" >\n",
       "</style><table id=\"T_e33ff4f8_2434_11ea_9a59_f40f2405a054\" ><caption>Loaded Packages and Handles</caption><thead>    <tr>        <th class=\"col_heading level0 col0\" >Handle</th>        <th class=\"col_heading level0 col1\" >Package</th>        <th class=\"col_heading level0 col2\" >Description</th>    </tr></thead><tbody>\n",
       "                <tr>\n",
       "                                <td id=\"T_e33ff4f8_2434_11ea_9a59_f40f2405a054row0_col0\" class=\"data row0 col0\" >dp</td>\n",
       "                        <td id=\"T_e33ff4f8_2434_11ea_9a59_f40f2405a054row0_col1\" class=\"data row0 col1\" >IPython.display</td>\n",
       "                        <td id=\"T_e33ff4f8_2434_11ea_9a59_f40f2405a054row0_col2\" class=\"data row0 col2\" >Display modules with helpful display and clearing commands.</td>\n",
       "            </tr>\n",
       "            <tr>\n",
       "                                <td id=\"T_e33ff4f8_2434_11ea_9a59_f40f2405a054row1_col0\" class=\"data row1 col0\" >fs</td>\n",
       "                        <td id=\"T_e33ff4f8_2434_11ea_9a59_f40f2405a054row1_col1\" class=\"data row1 col1\" >fsds_100719</td>\n",
       "                        <td id=\"T_e33ff4f8_2434_11ea_9a59_f40f2405a054row1_col2\" class=\"data row1 col2\" >Custom data science bootcamp student package</td>\n",
       "            </tr>\n",
       "            <tr>\n",
       "                                <td id=\"T_e33ff4f8_2434_11ea_9a59_f40f2405a054row2_col0\" class=\"data row2 col0\" >mpl</td>\n",
       "                        <td id=\"T_e33ff4f8_2434_11ea_9a59_f40f2405a054row2_col1\" class=\"data row2 col1\" >matplotlib</td>\n",
       "                        <td id=\"T_e33ff4f8_2434_11ea_9a59_f40f2405a054row2_col2\" class=\"data row2 col2\" >Matplotlib's base OOP module with formatting artists</td>\n",
       "            </tr>\n",
       "            <tr>\n",
       "                                <td id=\"T_e33ff4f8_2434_11ea_9a59_f40f2405a054row3_col0\" class=\"data row3 col0\" >plt</td>\n",
       "                        <td id=\"T_e33ff4f8_2434_11ea_9a59_f40f2405a054row3_col1\" class=\"data row3 col1\" >matplotlib.pyplot</td>\n",
       "                        <td id=\"T_e33ff4f8_2434_11ea_9a59_f40f2405a054row3_col2\" class=\"data row3 col2\" >Matplotlib's matlab-like plotting module</td>\n",
       "            </tr>\n",
       "            <tr>\n",
       "                                <td id=\"T_e33ff4f8_2434_11ea_9a59_f40f2405a054row4_col0\" class=\"data row4 col0\" >np</td>\n",
       "                        <td id=\"T_e33ff4f8_2434_11ea_9a59_f40f2405a054row4_col1\" class=\"data row4 col1\" >numpy</td>\n",
       "                        <td id=\"T_e33ff4f8_2434_11ea_9a59_f40f2405a054row4_col2\" class=\"data row4 col2\" >scientific computing with Python</td>\n",
       "            </tr>\n",
       "            <tr>\n",
       "                                <td id=\"T_e33ff4f8_2434_11ea_9a59_f40f2405a054row5_col0\" class=\"data row5 col0\" >pd</td>\n",
       "                        <td id=\"T_e33ff4f8_2434_11ea_9a59_f40f2405a054row5_col1\" class=\"data row5 col1\" >pandas</td>\n",
       "                        <td id=\"T_e33ff4f8_2434_11ea_9a59_f40f2405a054row5_col2\" class=\"data row5 col2\" >High performance data structures and tools</td>\n",
       "            </tr>\n",
       "            <tr>\n",
       "                                <td id=\"T_e33ff4f8_2434_11ea_9a59_f40f2405a054row6_col0\" class=\"data row6 col0\" >sns</td>\n",
       "                        <td id=\"T_e33ff4f8_2434_11ea_9a59_f40f2405a054row6_col1\" class=\"data row6 col1\" >seaborn</td>\n",
       "                        <td id=\"T_e33ff4f8_2434_11ea_9a59_f40f2405a054row6_col2\" class=\"data row6 col2\" >High-level data visualization library based on matplotlib</td>\n",
       "            </tr>\n",
       "    </tbody></table>"
      ],
      "text/plain": [
       "<pandas.io.formats.style.Styler at 0x1a1ec311d0>"
      ]
     },
     "metadata": {},
     "output_type": "display_data"
    }
   ],
   "source": [
    "# install requisite libraries and packages\n",
    "!pip install -U fsds_100719 --user\n",
    "from fsds_100719.imports import *"
   ]
  },
  {
   "cell_type": "code",
   "execution_count": 2,
   "metadata": {},
   "outputs": [],
   "source": [
    "from fsds_100719.ds import ihelp, reload\n",
    "import fsds_100719 as fs"
   ]
  },
  {
   "cell_type": "code",
   "execution_count": 3,
   "metadata": {},
   "outputs": [],
   "source": [
    "#fs.ft.hakkeray.hot_stats()"
   ]
  },
  {
   "cell_type": "code",
   "execution_count": 4,
   "metadata": {},
   "outputs": [],
   "source": [
    "# connect to database / import data\n",
    "import sqlite3 \n",
    "conn = sqlite3.connect('Northwind_small.sqlite')\n",
    "cur = conn.cursor()"
   ]
  },
  {
   "cell_type": "code",
   "execution_count": 5,
   "metadata": {},
   "outputs": [],
   "source": [
    "# function for converting tables into dataframes on the fly\n",
    "def get_table(cur, table):\n",
    "    cur.execute(f\"SELECT * from {table};\")\n",
    "    df = pd.DataFrame(cur.fetchall())\n",
    "    df.columns = [desc[0] for desc in cur.description]\n",
    "    return df"
   ]
  },
  {
   "cell_type": "code",
   "execution_count": 6,
   "metadata": {},
   "outputs": [
    {
     "data": {
      "text/html": [
       "<div>\n",
       "<style scoped>\n",
       "    .dataframe tbody tr th:only-of-type {\n",
       "        vertical-align: middle;\n",
       "    }\n",
       "\n",
       "    .dataframe tbody tr th {\n",
       "        vertical-align: top;\n",
       "    }\n",
       "\n",
       "    .dataframe thead th {\n",
       "        text-align: right;\n",
       "    }\n",
       "</style>\n",
       "<table border=\"1\" class=\"dataframe\">\n",
       "  <thead>\n",
       "    <tr style=\"text-align: right;\">\n",
       "      <th></th>\n",
       "      <th>Table</th>\n",
       "    </tr>\n",
       "  </thead>\n",
       "  <tbody>\n",
       "    <tr>\n",
       "      <td>0</td>\n",
       "      <td>Employee</td>\n",
       "    </tr>\n",
       "    <tr>\n",
       "      <td>1</td>\n",
       "      <td>Category</td>\n",
       "    </tr>\n",
       "    <tr>\n",
       "      <td>2</td>\n",
       "      <td>Customer</td>\n",
       "    </tr>\n",
       "    <tr>\n",
       "      <td>3</td>\n",
       "      <td>Shipper</td>\n",
       "    </tr>\n",
       "    <tr>\n",
       "      <td>4</td>\n",
       "      <td>Supplier</td>\n",
       "    </tr>\n",
       "    <tr>\n",
       "      <td>5</td>\n",
       "      <td>Order</td>\n",
       "    </tr>\n",
       "    <tr>\n",
       "      <td>6</td>\n",
       "      <td>Product</td>\n",
       "    </tr>\n",
       "    <tr>\n",
       "      <td>7</td>\n",
       "      <td>OrderDetail</td>\n",
       "    </tr>\n",
       "    <tr>\n",
       "      <td>8</td>\n",
       "      <td>CustomerCustomerDemo</td>\n",
       "    </tr>\n",
       "    <tr>\n",
       "      <td>9</td>\n",
       "      <td>CustomerDemographic</td>\n",
       "    </tr>\n",
       "    <tr>\n",
       "      <td>10</td>\n",
       "      <td>Region</td>\n",
       "    </tr>\n",
       "    <tr>\n",
       "      <td>11</td>\n",
       "      <td>Territory</td>\n",
       "    </tr>\n",
       "    <tr>\n",
       "      <td>12</td>\n",
       "      <td>EmployeeTerritory</td>\n",
       "    </tr>\n",
       "  </tbody>\n",
       "</table>\n",
       "</div>"
      ],
      "text/plain": [
       "                   Table\n",
       "0               Employee\n",
       "1               Category\n",
       "2               Customer\n",
       "3                Shipper\n",
       "4               Supplier\n",
       "5                  Order\n",
       "6                Product\n",
       "7            OrderDetail\n",
       "8   CustomerCustomerDemo\n",
       "9    CustomerDemographic\n",
       "10                Region\n",
       "11             Territory\n",
       "12     EmployeeTerritory"
      ]
     },
     "execution_count": 6,
     "metadata": {},
     "output_type": "execute_result"
    }
   ],
   "source": [
    "# create dataframe of table names for referencing purposes\n",
    "cur.execute(\"\"\"SELECT name from sqlite_master WHERE type='table';\"\"\")\n",
    "df_tables = pd.DataFrame(cur.fetchall(), columns=['Table'])\n",
    "df_tables"
   ]
  },
  {
   "cell_type": "code",
   "execution_count": 7,
   "metadata": {},
   "outputs": [
    {
     "data": {
      "text/html": [
       "<img src=\"https://github.com/hakkeray/dsc-mod-3-project-online-ds-ft-100719/blob/master/Northwind_ERD_updated.png?raw=true\">"
      ],
      "text/plain": [
       "<IPython.core.display.HTML object>"
      ]
     },
     "execution_count": 7,
     "metadata": {},
     "output_type": "execute_result"
    }
   ],
   "source": [
    "from IPython.display import HTML\n",
    "HTML('<img src=\"https://github.com/hakkeray/dsc-mod-3-project-online-ds-ft-100719/blob/master/Northwind_ERD_updated.png?raw=true\">')\n"
   ]
  },
  {
   "cell_type": "markdown",
   "metadata": {},
   "source": [
    "# H1: Discount--Quantity\n",
    "\n",
    "* Does discount amount have a statistically significant effect on the quantity of a product in an order? \n",
    "* If so, at what level(s) of discount?"
   ]
  },
  {
   "cell_type": "markdown",
   "metadata": {},
   "source": [
    "## Hypotheses\n",
    "- $H_0$: Discount amount has no relationship with the quantity of a product in an order.\n",
    "- $H_A$: Discount amount has a statistically significant effect on the quantity in an order.\n",
    "\n",
    "- $\\alpha$=0.05"
   ]
  },
  {
   "cell_type": "markdown",
   "metadata": {},
   "source": [
    "## EDA\n",
    "Select the proper dataset for analysis, perform EDA, and generate data groups for testing."
   ]
  },
  {
   "cell_type": "markdown",
   "metadata": {},
   "source": [
    "### Select dataset"
   ]
  },
  {
   "cell_type": "code",
   "execution_count": 8,
   "metadata": {},
   "outputs": [
    {
     "data": {
      "text/html": [
       "<div>\n",
       "<style scoped>\n",
       "    .dataframe tbody tr th:only-of-type {\n",
       "        vertical-align: middle;\n",
       "    }\n",
       "\n",
       "    .dataframe tbody tr th {\n",
       "        vertical-align: top;\n",
       "    }\n",
       "\n",
       "    .dataframe thead th {\n",
       "        text-align: right;\n",
       "    }\n",
       "</style>\n",
       "<table border=\"1\" class=\"dataframe\">\n",
       "  <thead>\n",
       "    <tr style=\"text-align: right;\">\n",
       "      <th></th>\n",
       "      <th>Id</th>\n",
       "      <th>OrderId</th>\n",
       "      <th>ProductId</th>\n",
       "      <th>UnitPrice</th>\n",
       "      <th>Quantity</th>\n",
       "      <th>Discount</th>\n",
       "    </tr>\n",
       "  </thead>\n",
       "  <tbody>\n",
       "    <tr>\n",
       "      <td>0</td>\n",
       "      <td>10248/11</td>\n",
       "      <td>10248</td>\n",
       "      <td>11</td>\n",
       "      <td>14.0</td>\n",
       "      <td>12</td>\n",
       "      <td>0.0</td>\n",
       "    </tr>\n",
       "    <tr>\n",
       "      <td>1</td>\n",
       "      <td>10248/42</td>\n",
       "      <td>10248</td>\n",
       "      <td>42</td>\n",
       "      <td>9.8</td>\n",
       "      <td>10</td>\n",
       "      <td>0.0</td>\n",
       "    </tr>\n",
       "    <tr>\n",
       "      <td>2</td>\n",
       "      <td>10248/72</td>\n",
       "      <td>10248</td>\n",
       "      <td>72</td>\n",
       "      <td>34.8</td>\n",
       "      <td>5</td>\n",
       "      <td>0.0</td>\n",
       "    </tr>\n",
       "    <tr>\n",
       "      <td>3</td>\n",
       "      <td>10249/14</td>\n",
       "      <td>10249</td>\n",
       "      <td>14</td>\n",
       "      <td>18.6</td>\n",
       "      <td>9</td>\n",
       "      <td>0.0</td>\n",
       "    </tr>\n",
       "    <tr>\n",
       "      <td>4</td>\n",
       "      <td>10249/51</td>\n",
       "      <td>10249</td>\n",
       "      <td>51</td>\n",
       "      <td>42.4</td>\n",
       "      <td>40</td>\n",
       "      <td>0.0</td>\n",
       "    </tr>\n",
       "  </tbody>\n",
       "</table>\n",
       "</div>"
      ],
      "text/plain": [
       "         Id  OrderId  ProductId  UnitPrice  Quantity  Discount\n",
       "0  10248/11    10248         11       14.0        12       0.0\n",
       "1  10248/42    10248         42        9.8        10       0.0\n",
       "2  10248/72    10248         72       34.8         5       0.0\n",
       "3  10249/14    10249         14       18.6         9       0.0\n",
       "4  10249/51    10249         51       42.4        40       0.0"
      ]
     },
     "execution_count": 8,
     "metadata": {},
     "output_type": "execute_result"
    }
   ],
   "source": [
    "df_orderDetail = get_table(cur, 'OrderDetail')\n",
    "df_orderDetail.head()"
   ]
  },
  {
   "cell_type": "markdown",
   "metadata": {},
   "source": [
    "### Group"
   ]
  },
  {
   "cell_type": "code",
   "execution_count": 9,
   "metadata": {},
   "outputs": [
    {
     "data": {
      "text/plain": [
       "0.00    1317\n",
       "0.05     185\n",
       "0.10     173\n",
       "0.20     161\n",
       "0.15     157\n",
       "0.25     154\n",
       "0.03       3\n",
       "0.02       2\n",
       "0.01       1\n",
       "0.04       1\n",
       "0.06       1\n",
       "Name: Discount, dtype: int64"
      ]
     },
     "execution_count": 9,
     "metadata": {},
     "output_type": "execute_result"
    }
   ],
   "source": [
    "# check value counts for each level of discount\n",
    "df_orderDetail['Discount'].value_counts()"
   ]
  },
  {
   "cell_type": "code",
   "execution_count": 10,
   "metadata": {},
   "outputs": [
    {
     "data": {
      "text/plain": [
       "0    1317\n",
       "1     838\n",
       "Name: discounted, dtype: int64"
      ]
     },
     "execution_count": 10,
     "metadata": {},
     "output_type": "execute_result"
    }
   ],
   "source": [
    "# insert boolean column showing whether or not an order was discounted\n",
    "df_orderDetail['discounted'] = np.where(df_orderDetail['Discount'] == 0.0, 0, 1)\n",
    "\n",
    "# compare number of discount vs fullprice orders\n",
    "df_orderDetail['discounted'].value_counts()"
   ]
  },
  {
   "cell_type": "code",
   "execution_count": 11,
   "metadata": {},
   "outputs": [
    {
     "data": {
      "text/plain": [
       "0    12\n",
       "1    10\n",
       "2     5\n",
       "3     9\n",
       "4    40\n",
       "Name: Quantity, dtype: int64"
      ]
     },
     "metadata": {},
     "output_type": "display_data"
    },
    {
     "data": {
      "text/plain": [
       "6     35\n",
       "7     15\n",
       "8      6\n",
       "9     15\n",
       "11    40\n",
       "Name: Quantity, dtype: int64"
      ]
     },
     "metadata": {},
     "output_type": "display_data"
    }
   ],
   "source": [
    "# split orders into two groups: discount and fullprice\n",
    "fullprice = df_orderDetail.groupby('discounted').get_group(0)['Quantity']\n",
    "discount = df_orderDetail.groupby('discounted').get_group(1)['Quantity']\n",
    "\n",
    "display(fullprice.head())\n",
    "display(discount.head())"
   ]
  },
  {
   "cell_type": "markdown",
   "metadata": {},
   "source": [
    "### Explore"
   ]
  },
  {
   "cell_type": "code",
   "execution_count": 12,
   "metadata": {},
   "outputs": [
    {
     "data": {
      "text/plain": [
       "21.715261958997722"
      ]
     },
     "execution_count": 12,
     "metadata": {},
     "output_type": "execute_result"
    }
   ],
   "source": [
    "fullprice.mean()"
   ]
  },
  {
   "cell_type": "code",
   "execution_count": 13,
   "metadata": {},
   "outputs": [
    {
     "data": {
      "text/plain": [
       "27.10978520286396"
      ]
     },
     "execution_count": 13,
     "metadata": {},
     "output_type": "execute_result"
    }
   ],
   "source": [
    "discount.mean()"
   ]
  },
  {
   "cell_type": "markdown",
   "metadata": {},
   "source": [
    "At first glance it looks like the average quantities are indeed higher for discounted orders compared to those that are full price."
   ]
  },
  {
   "cell_type": "code",
   "execution_count": 14,
   "metadata": {},
   "outputs": [
    {
     "data": {
      "text/plain": [
       "<matplotlib.lines.Line2D at 0x1a1f509f98>"
      ]
     },
     "execution_count": 14,
     "metadata": {},
     "output_type": "execute_result"
    },
    {
     "data": {
      "image/png": "[encoded data removed]",
      "text/plain": [
       "<Figure size 720x432 with 1 Axes>"
      ]
     },
     "metadata": {
      "needs_background": "light"
     },
     "output_type": "display_data"
    }
   ],
   "source": [
    "## Examine KDEs\n",
    "fig, ax = plt.subplots(figsize=(10,6))\n",
    "\n",
    "group1 = {'name':'fullprice',\n",
    "         'data':fullprice,\n",
    "         'n':fullprice.value_counts()}\n",
    "plot1 = {'hist_kws':dict(color='blue',lw=2, ls='-')}\n",
    "\n",
    "group2 = {'name':'discount',\n",
    "         'data':discount,\n",
    "         'n':discount.value_counts()}\n",
    "plot2 = {'hist_kws':dict(color='orange',lw=2, ls='-')}\n",
    "\n",
    "\n",
    "label1= f\"{group1['name']} n={group1['n']}\"\n",
    "sns.distplot(group1['data'], label=label1,\n",
    "             ax=ax, hist_kws=plot1['hist_kws'])\n",
    "# ax.legend()\n",
    "\n",
    "label2= f\"{group2['name']} n={group2['n']}\"\n",
    "sns.distplot(group2['data'], label=label2,\n",
    "             ax=ax,hist_kws=plot2['hist_kws'])\n",
    "# ax.legend()\n",
    "\n",
    "ax.axvline(group1['data'].mean(),color=plot1['hist_kws']['color'], ls='--')\n",
    "ax.axvline(group2['data'].mean(),color=plot2['hist_kws']['color'], ls='--')"
   ]
  },
  {
   "cell_type": "markdown",
   "metadata": {},
   "source": [
    "## Test\n",
    "**Select the appropriate t-test based on tests for the assumptions of normality and homogeneity of variance.**"
   ]
  },
  {
   "cell_type": "markdown",
   "metadata": {},
   "source": [
    "### Sample Size\n",
    "Check if sample sizes allow us to ignore assumptions; if not, test assumption normality."
   ]
  },
  {
   "cell_type": "code",
   "execution_count": 15,
   "metadata": {},
   "outputs": [
    {
     "data": {
      "text/plain": [
       "<BarContainer object of 1 artists>"
      ]
     },
     "execution_count": 15,
     "metadata": {},
     "output_type": "execute_result"
    },
    {
     "data": {
      "image/png": "[encoded data removed]",
      "text/plain": [
       "<Figure size 432x288 with 1 Axes>"
      ]
     },
     "metadata": {
      "needs_background": "light"
     },
     "output_type": "display_data"
    }
   ],
   "source": [
    "# visualize sample size comparisons for two groups (normality check)\n",
    "import scipy.stats as stat\n",
    "plt.bar(x='Full Price', height=fullprice.mean(), yerr=stat.sem(fullprice))\n",
    "plt.bar(x='Discounted', height=discount.mean(), yerr=stat.sem(discount))"
   ]
  },
  {
   "cell_type": "markdown",
   "metadata": {},
   "source": [
    "### Normality Test\n",
    "Check assumptions of normality and homogeneity of variance"
   ]
  },
  {
   "cell_type": "code",
   "execution_count": 16,
   "metadata": {},
   "outputs": [
    {
     "data": {
      "text/plain": [
       "(NormaltestResult(statistic=544.5770045551502, pvalue=5.579637380545965e-119),\n",
       " NormaltestResult(statistic=261.528012299789, pvalue=1.6214878452829618e-57))"
      ]
     },
     "execution_count": 16,
     "metadata": {},
     "output_type": "execute_result"
    }
   ],
   "source": [
    "# Test for normality - D'Agostino-Pearson's normality test: scipy.stats.normaltest\n",
    "stat.normaltest(fullprice), stat.normaltest(discount)"
   ]
  },
  {
   "cell_type": "markdown",
   "metadata": {},
   "source": [
    "Failed normality test (p-values < 0.05). Run non-parametric test:"
   ]
  },
  {
   "cell_type": "code",
   "execution_count": 17,
   "metadata": {},
   "outputs": [
    {
     "data": {
      "text/plain": [
       "MannwhitneyuResult(statistic=461541.0, pvalue=6.629381826999866e-11)"
      ]
     },
     "execution_count": 17,
     "metadata": {},
     "output_type": "execute_result"
    }
   ],
   "source": [
    "# Run non-parametric test (since normality test failed)\n",
    "stat.mannwhitneyu(fullprice, discount)"
   ]
  },
  {
   "cell_type": "markdown",
   "metadata": {},
   "source": [
    "### Statistical Test\n",
    "Perform chosen statistical test."
   ]
  },
  {
   "cell_type": "code",
   "execution_count": 18,
   "metadata": {},
   "outputs": [],
   "source": [
    "# run tukey test for OQD (Order Quantity Discount) \n",
    "data = df_orderDetail['Quantity'].values\n",
    "labels = df_orderDetail['Discount'].values\n",
    "\n",
    "import statsmodels.api as sms\n",
    "model = sms.stats.multicomp.pairwise_tukeyhsd(data,labels)"
   ]
  },
  {
   "cell_type": "code",
   "execution_count": 19,
   "metadata": {
    "code_folding": [],
    "scrolled": false
   },
   "outputs": [
    {
     "data": {
      "text/html": [
       "<div>\n",
       "<style scoped>\n",
       "    .dataframe tbody tr th:only-of-type {\n",
       "        vertical-align: middle;\n",
       "    }\n",
       "\n",
       "    .dataframe tbody tr th {\n",
       "        vertical-align: top;\n",
       "    }\n",
       "\n",
       "    .dataframe thead th {\n",
       "        text-align: right;\n",
       "    }\n",
       "</style>\n",
       "<table border=\"1\" class=\"dataframe\">\n",
       "  <thead>\n",
       "    <tr style=\"text-align: right;\">\n",
       "      <th></th>\n",
       "      <th>group1</th>\n",
       "      <th>group2</th>\n",
       "      <th>meandiff</th>\n",
       "      <th>p-adj</th>\n",
       "      <th>lower</th>\n",
       "      <th>upper</th>\n",
       "      <th>reject</th>\n",
       "    </tr>\n",
       "  </thead>\n",
       "  <tbody>\n",
       "    <tr>\n",
       "      <td>0</td>\n",
       "      <td>0.0</td>\n",
       "      <td>0.01</td>\n",
       "      <td>-19.7153</td>\n",
       "      <td>0.9</td>\n",
       "      <td>-80.3306</td>\n",
       "      <td>40.9001</td>\n",
       "      <td>False</td>\n",
       "    </tr>\n",
       "    <tr>\n",
       "      <td>1</td>\n",
       "      <td>0.0</td>\n",
       "      <td>0.02</td>\n",
       "      <td>-19.7153</td>\n",
       "      <td>0.9</td>\n",
       "      <td>-62.593</td>\n",
       "      <td>23.1625</td>\n",
       "      <td>False</td>\n",
       "    </tr>\n",
       "    <tr>\n",
       "      <td>2</td>\n",
       "      <td>0.0</td>\n",
       "      <td>0.03</td>\n",
       "      <td>-20.0486</td>\n",
       "      <td>0.725</td>\n",
       "      <td>-55.0714</td>\n",
       "      <td>14.9742</td>\n",
       "      <td>False</td>\n",
       "    </tr>\n",
       "    <tr>\n",
       "      <td>3</td>\n",
       "      <td>0.0</td>\n",
       "      <td>0.04</td>\n",
       "      <td>-20.7153</td>\n",
       "      <td>0.9</td>\n",
       "      <td>-81.3306</td>\n",
       "      <td>39.9001</td>\n",
       "      <td>False</td>\n",
       "    </tr>\n",
       "    <tr>\n",
       "      <td>4</td>\n",
       "      <td>0.0</td>\n",
       "      <td>0.05</td>\n",
       "      <td>6.2955</td>\n",
       "      <td>0.0011</td>\n",
       "      <td>1.5381</td>\n",
       "      <td>11.053</td>\n",
       "      <td>True</td>\n",
       "    </tr>\n",
       "    <tr>\n",
       "      <td>5</td>\n",
       "      <td>0.0</td>\n",
       "      <td>0.06</td>\n",
       "      <td>-19.7153</td>\n",
       "      <td>0.9</td>\n",
       "      <td>-80.3306</td>\n",
       "      <td>40.9001</td>\n",
       "      <td>False</td>\n",
       "    </tr>\n",
       "    <tr>\n",
       "      <td>6</td>\n",
       "      <td>0.0</td>\n",
       "      <td>0.1</td>\n",
       "      <td>3.5217</td>\n",
       "      <td>0.4269</td>\n",
       "      <td>-1.3783</td>\n",
       "      <td>8.4217</td>\n",
       "      <td>False</td>\n",
       "    </tr>\n",
       "    <tr>\n",
       "      <td>7</td>\n",
       "      <td>0.0</td>\n",
       "      <td>0.15</td>\n",
       "      <td>6.6669</td>\n",
       "      <td>0.0014</td>\n",
       "      <td>1.551</td>\n",
       "      <td>11.7828</td>\n",
       "      <td>True</td>\n",
       "    </tr>\n",
       "    <tr>\n",
       "      <td>8</td>\n",
       "      <td>0.0</td>\n",
       "      <td>0.2</td>\n",
       "      <td>5.3096</td>\n",
       "      <td>0.0303</td>\n",
       "      <td>0.2508</td>\n",
       "      <td>10.3684</td>\n",
       "      <td>True</td>\n",
       "    </tr>\n",
       "    <tr>\n",
       "      <td>9</td>\n",
       "      <td>0.0</td>\n",
       "      <td>0.25</td>\n",
       "      <td>6.525</td>\n",
       "      <td>0.0023</td>\n",
       "      <td>1.3647</td>\n",
       "      <td>11.6852</td>\n",
       "      <td>True</td>\n",
       "    </tr>\n",
       "    <tr>\n",
       "      <td>10</td>\n",
       "      <td>0.01</td>\n",
       "      <td>0.02</td>\n",
       "      <td>0.0</td>\n",
       "      <td>0.9</td>\n",
       "      <td>-74.2101</td>\n",
       "      <td>74.2101</td>\n",
       "      <td>False</td>\n",
       "    </tr>\n",
       "    <tr>\n",
       "      <td>11</td>\n",
       "      <td>0.01</td>\n",
       "      <td>0.03</td>\n",
       "      <td>-0.3333</td>\n",
       "      <td>0.9</td>\n",
       "      <td>-70.2993</td>\n",
       "      <td>69.6326</td>\n",
       "      <td>False</td>\n",
       "    </tr>\n",
       "    <tr>\n",
       "      <td>12</td>\n",
       "      <td>0.01</td>\n",
       "      <td>0.04</td>\n",
       "      <td>-1.0</td>\n",
       "      <td>0.9</td>\n",
       "      <td>-86.6905</td>\n",
       "      <td>84.6905</td>\n",
       "      <td>False</td>\n",
       "    </tr>\n",
       "    <tr>\n",
       "      <td>13</td>\n",
       "      <td>0.01</td>\n",
       "      <td>0.05</td>\n",
       "      <td>26.0108</td>\n",
       "      <td>0.9</td>\n",
       "      <td>-34.745</td>\n",
       "      <td>86.7667</td>\n",
       "      <td>False</td>\n",
       "    </tr>\n",
       "    <tr>\n",
       "      <td>14</td>\n",
       "      <td>0.01</td>\n",
       "      <td>0.06</td>\n",
       "      <td>0.0</td>\n",
       "      <td>0.9</td>\n",
       "      <td>-85.6905</td>\n",
       "      <td>85.6905</td>\n",
       "      <td>False</td>\n",
       "    </tr>\n",
       "    <tr>\n",
       "      <td>15</td>\n",
       "      <td>0.01</td>\n",
       "      <td>0.1</td>\n",
       "      <td>23.237</td>\n",
       "      <td>0.9</td>\n",
       "      <td>-37.5302</td>\n",
       "      <td>84.0042</td>\n",
       "      <td>False</td>\n",
       "    </tr>\n",
       "    <tr>\n",
       "      <td>16</td>\n",
       "      <td>0.01</td>\n",
       "      <td>0.15</td>\n",
       "      <td>26.3822</td>\n",
       "      <td>0.9</td>\n",
       "      <td>-34.4028</td>\n",
       "      <td>87.1671</td>\n",
       "      <td>False</td>\n",
       "    </tr>\n",
       "    <tr>\n",
       "      <td>17</td>\n",
       "      <td>0.01</td>\n",
       "      <td>0.2</td>\n",
       "      <td>25.0248</td>\n",
       "      <td>0.9</td>\n",
       "      <td>-35.7554</td>\n",
       "      <td>85.805</td>\n",
       "      <td>False</td>\n",
       "    </tr>\n",
       "    <tr>\n",
       "      <td>18</td>\n",
       "      <td>0.01</td>\n",
       "      <td>0.25</td>\n",
       "      <td>26.2403</td>\n",
       "      <td>0.9</td>\n",
       "      <td>-34.5485</td>\n",
       "      <td>87.029</td>\n",
       "      <td>False</td>\n",
       "    </tr>\n",
       "    <tr>\n",
       "      <td>19</td>\n",
       "      <td>0.02</td>\n",
       "      <td>0.03</td>\n",
       "      <td>-0.3333</td>\n",
       "      <td>0.9</td>\n",
       "      <td>-55.6463</td>\n",
       "      <td>54.9796</td>\n",
       "      <td>False</td>\n",
       "    </tr>\n",
       "    <tr>\n",
       "      <td>20</td>\n",
       "      <td>0.02</td>\n",
       "      <td>0.04</td>\n",
       "      <td>-1.0</td>\n",
       "      <td>0.9</td>\n",
       "      <td>-75.2101</td>\n",
       "      <td>73.2101</td>\n",
       "      <td>False</td>\n",
       "    </tr>\n",
       "    <tr>\n",
       "      <td>21</td>\n",
       "      <td>0.02</td>\n",
       "      <td>0.05</td>\n",
       "      <td>26.0108</td>\n",
       "      <td>0.6622</td>\n",
       "      <td>-17.0654</td>\n",
       "      <td>69.087</td>\n",
       "      <td>False</td>\n",
       "    </tr>\n",
       "    <tr>\n",
       "      <td>22</td>\n",
       "      <td>0.02</td>\n",
       "      <td>0.06</td>\n",
       "      <td>0.0</td>\n",
       "      <td>0.9</td>\n",
       "      <td>-74.2101</td>\n",
       "      <td>74.2101</td>\n",
       "      <td>False</td>\n",
       "    </tr>\n",
       "    <tr>\n",
       "      <td>23</td>\n",
       "      <td>0.02</td>\n",
       "      <td>0.1</td>\n",
       "      <td>23.237</td>\n",
       "      <td>0.7914</td>\n",
       "      <td>-19.8552</td>\n",
       "      <td>66.3292</td>\n",
       "      <td>False</td>\n",
       "    </tr>\n",
       "    <tr>\n",
       "      <td>24</td>\n",
       "      <td>0.02</td>\n",
       "      <td>0.15</td>\n",
       "      <td>26.3822</td>\n",
       "      <td>0.6461</td>\n",
       "      <td>-16.7351</td>\n",
       "      <td>69.4994</td>\n",
       "      <td>False</td>\n",
       "    </tr>\n",
       "    <tr>\n",
       "      <td>25</td>\n",
       "      <td>0.02</td>\n",
       "      <td>0.2</td>\n",
       "      <td>25.0248</td>\n",
       "      <td>0.7089</td>\n",
       "      <td>-18.0857</td>\n",
       "      <td>68.1354</td>\n",
       "      <td>False</td>\n",
       "    </tr>\n",
       "    <tr>\n",
       "      <td>26</td>\n",
       "      <td>0.02</td>\n",
       "      <td>0.25</td>\n",
       "      <td>26.2403</td>\n",
       "      <td>0.6528</td>\n",
       "      <td>-16.8823</td>\n",
       "      <td>69.3628</td>\n",
       "      <td>False</td>\n",
       "    </tr>\n",
       "    <tr>\n",
       "      <td>27</td>\n",
       "      <td>0.03</td>\n",
       "      <td>0.04</td>\n",
       "      <td>-0.6667</td>\n",
       "      <td>0.9</td>\n",
       "      <td>-70.6326</td>\n",
       "      <td>69.2993</td>\n",
       "      <td>False</td>\n",
       "    </tr>\n",
       "    <tr>\n",
       "      <td>28</td>\n",
       "      <td>0.03</td>\n",
       "      <td>0.05</td>\n",
       "      <td>26.3441</td>\n",
       "      <td>0.3639</td>\n",
       "      <td>-8.9214</td>\n",
       "      <td>61.6096</td>\n",
       "      <td>False</td>\n",
       "    </tr>\n",
       "    <tr>\n",
       "      <td>29</td>\n",
       "      <td>0.03</td>\n",
       "      <td>0.06</td>\n",
       "      <td>0.3333</td>\n",
       "      <td>0.9</td>\n",
       "      <td>-69.6326</td>\n",
       "      <td>70.2993</td>\n",
       "      <td>False</td>\n",
       "    </tr>\n",
       "    <tr>\n",
       "      <td>30</td>\n",
       "      <td>0.03</td>\n",
       "      <td>0.1</td>\n",
       "      <td>23.5703</td>\n",
       "      <td>0.5338</td>\n",
       "      <td>-11.7147</td>\n",
       "      <td>58.8553</td>\n",
       "      <td>False</td>\n",
       "    </tr>\n",
       "    <tr>\n",
       "      <td>31</td>\n",
       "      <td>0.03</td>\n",
       "      <td>0.15</td>\n",
       "      <td>26.7155</td>\n",
       "      <td>0.3436</td>\n",
       "      <td>-8.6001</td>\n",
       "      <td>62.0311</td>\n",
       "      <td>False</td>\n",
       "    </tr>\n",
       "    <tr>\n",
       "      <td>32</td>\n",
       "      <td>0.03</td>\n",
       "      <td>0.2</td>\n",
       "      <td>25.3582</td>\n",
       "      <td>0.428</td>\n",
       "      <td>-9.9492</td>\n",
       "      <td>60.6656</td>\n",
       "      <td>False</td>\n",
       "    </tr>\n",
       "    <tr>\n",
       "      <td>33</td>\n",
       "      <td>0.03</td>\n",
       "      <td>0.25</td>\n",
       "      <td>26.5736</td>\n",
       "      <td>0.3525</td>\n",
       "      <td>-8.7485</td>\n",
       "      <td>61.8957</td>\n",
       "      <td>False</td>\n",
       "    </tr>\n",
       "    <tr>\n",
       "      <td>34</td>\n",
       "      <td>0.04</td>\n",
       "      <td>0.05</td>\n",
       "      <td>27.0108</td>\n",
       "      <td>0.9</td>\n",
       "      <td>-33.745</td>\n",
       "      <td>87.7667</td>\n",
       "      <td>False</td>\n",
       "    </tr>\n",
       "    <tr>\n",
       "      <td>35</td>\n",
       "      <td>0.04</td>\n",
       "      <td>0.06</td>\n",
       "      <td>1.0</td>\n",
       "      <td>0.9</td>\n",
       "      <td>-84.6905</td>\n",
       "      <td>86.6905</td>\n",
       "      <td>False</td>\n",
       "    </tr>\n",
       "    <tr>\n",
       "      <td>36</td>\n",
       "      <td>0.04</td>\n",
       "      <td>0.1</td>\n",
       "      <td>24.237</td>\n",
       "      <td>0.9</td>\n",
       "      <td>-36.5302</td>\n",
       "      <td>85.0042</td>\n",
       "      <td>False</td>\n",
       "    </tr>\n",
       "    <tr>\n",
       "      <td>37</td>\n",
       "      <td>0.04</td>\n",
       "      <td>0.15</td>\n",
       "      <td>27.3822</td>\n",
       "      <td>0.9</td>\n",
       "      <td>-33.4028</td>\n",
       "      <td>88.1671</td>\n",
       "      <td>False</td>\n",
       "    </tr>\n",
       "    <tr>\n",
       "      <td>38</td>\n",
       "      <td>0.04</td>\n",
       "      <td>0.2</td>\n",
       "      <td>26.0248</td>\n",
       "      <td>0.9</td>\n",
       "      <td>-34.7554</td>\n",
       "      <td>86.805</td>\n",
       "      <td>False</td>\n",
       "    </tr>\n",
       "    <tr>\n",
       "      <td>39</td>\n",
       "      <td>0.04</td>\n",
       "      <td>0.25</td>\n",
       "      <td>27.2403</td>\n",
       "      <td>0.9</td>\n",
       "      <td>-33.5485</td>\n",
       "      <td>88.029</td>\n",
       "      <td>False</td>\n",
       "    </tr>\n",
       "    <tr>\n",
       "      <td>40</td>\n",
       "      <td>0.05</td>\n",
       "      <td>0.06</td>\n",
       "      <td>-26.0108</td>\n",
       "      <td>0.9</td>\n",
       "      <td>-86.7667</td>\n",
       "      <td>34.745</td>\n",
       "      <td>False</td>\n",
       "    </tr>\n",
       "    <tr>\n",
       "      <td>41</td>\n",
       "      <td>0.05</td>\n",
       "      <td>0.1</td>\n",
       "      <td>-2.7738</td>\n",
       "      <td>0.9</td>\n",
       "      <td>-9.1822</td>\n",
       "      <td>3.6346</td>\n",
       "      <td>False</td>\n",
       "    </tr>\n",
       "    <tr>\n",
       "      <td>42</td>\n",
       "      <td>0.05</td>\n",
       "      <td>0.15</td>\n",
       "      <td>0.3714</td>\n",
       "      <td>0.9</td>\n",
       "      <td>-6.2036</td>\n",
       "      <td>6.9463</td>\n",
       "      <td>False</td>\n",
       "    </tr>\n",
       "    <tr>\n",
       "      <td>43</td>\n",
       "      <td>0.05</td>\n",
       "      <td>0.2</td>\n",
       "      <td>-0.986</td>\n",
       "      <td>0.9</td>\n",
       "      <td>-7.5166</td>\n",
       "      <td>5.5447</td>\n",
       "      <td>False</td>\n",
       "    </tr>\n",
       "    <tr>\n",
       "      <td>44</td>\n",
       "      <td>0.05</td>\n",
       "      <td>0.25</td>\n",
       "      <td>0.2294</td>\n",
       "      <td>0.9</td>\n",
       "      <td>-6.3801</td>\n",
       "      <td>6.839</td>\n",
       "      <td>False</td>\n",
       "    </tr>\n",
       "    <tr>\n",
       "      <td>45</td>\n",
       "      <td>0.06</td>\n",
       "      <td>0.1</td>\n",
       "      <td>23.237</td>\n",
       "      <td>0.9</td>\n",
       "      <td>-37.5302</td>\n",
       "      <td>84.0042</td>\n",
       "      <td>False</td>\n",
       "    </tr>\n",
       "    <tr>\n",
       "      <td>46</td>\n",
       "      <td>0.06</td>\n",
       "      <td>0.15</td>\n",
       "      <td>26.3822</td>\n",
       "      <td>0.9</td>\n",
       "      <td>-34.4028</td>\n",
       "      <td>87.1671</td>\n",
       "      <td>False</td>\n",
       "    </tr>\n",
       "    <tr>\n",
       "      <td>47</td>\n",
       "      <td>0.06</td>\n",
       "      <td>0.2</td>\n",
       "      <td>25.0248</td>\n",
       "      <td>0.9</td>\n",
       "      <td>-35.7554</td>\n",
       "      <td>85.805</td>\n",
       "      <td>False</td>\n",
       "    </tr>\n",
       "    <tr>\n",
       "      <td>48</td>\n",
       "      <td>0.06</td>\n",
       "      <td>0.25</td>\n",
       "      <td>26.2403</td>\n",
       "      <td>0.9</td>\n",
       "      <td>-34.5485</td>\n",
       "      <td>87.029</td>\n",
       "      <td>False</td>\n",
       "    </tr>\n",
       "    <tr>\n",
       "      <td>49</td>\n",
       "      <td>0.1</td>\n",
       "      <td>0.15</td>\n",
       "      <td>3.1452</td>\n",
       "      <td>0.9</td>\n",
       "      <td>-3.5337</td>\n",
       "      <td>9.824</td>\n",
       "      <td>False</td>\n",
       "    </tr>\n",
       "    <tr>\n",
       "      <td>50</td>\n",
       "      <td>0.1</td>\n",
       "      <td>0.2</td>\n",
       "      <td>1.7879</td>\n",
       "      <td>0.9</td>\n",
       "      <td>-4.8474</td>\n",
       "      <td>8.4231</td>\n",
       "      <td>False</td>\n",
       "    </tr>\n",
       "    <tr>\n",
       "      <td>51</td>\n",
       "      <td>0.1</td>\n",
       "      <td>0.25</td>\n",
       "      <td>3.0033</td>\n",
       "      <td>0.9</td>\n",
       "      <td>-3.7096</td>\n",
       "      <td>9.7161</td>\n",
       "      <td>False</td>\n",
       "    </tr>\n",
       "    <tr>\n",
       "      <td>52</td>\n",
       "      <td>0.15</td>\n",
       "      <td>0.2</td>\n",
       "      <td>-1.3573</td>\n",
       "      <td>0.9</td>\n",
       "      <td>-8.1536</td>\n",
       "      <td>5.4389</td>\n",
       "      <td>False</td>\n",
       "    </tr>\n",
       "    <tr>\n",
       "      <td>53</td>\n",
       "      <td>0.15</td>\n",
       "      <td>0.25</td>\n",
       "      <td>-0.1419</td>\n",
       "      <td>0.9</td>\n",
       "      <td>-7.014</td>\n",
       "      <td>6.7302</td>\n",
       "      <td>False</td>\n",
       "    </tr>\n",
       "    <tr>\n",
       "      <td>54</td>\n",
       "      <td>0.2</td>\n",
       "      <td>0.25</td>\n",
       "      <td>1.2154</td>\n",
       "      <td>0.9</td>\n",
       "      <td>-5.6143</td>\n",
       "      <td>8.0451</td>\n",
       "      <td>False</td>\n",
       "    </tr>\n",
       "  </tbody>\n",
       "</table>\n",
       "</div>"
      ],
      "text/plain": [
       "   group1 group2  meandiff   p-adj     lower    upper reject\n",
       "0     0.0   0.01  -19.7153     0.9  -80.3306  40.9001  False\n",
       "1     0.0   0.02  -19.7153     0.9   -62.593  23.1625  False\n",
       "2     0.0   0.03  -20.0486   0.725  -55.0714  14.9742  False\n",
       "3     0.0   0.04  -20.7153     0.9  -81.3306  39.9001  False\n",
       "4     0.0   0.05    6.2955  0.0011    1.5381   11.053   True\n",
       "5     0.0   0.06  -19.7153     0.9  -80.3306  40.9001  False\n",
       "6     0.0    0.1    3.5217  0.4269   -1.3783   8.4217  False\n",
       "7     0.0   0.15    6.6669  0.0014     1.551  11.7828   True\n",
       "8     0.0    0.2    5.3096  0.0303    0.2508  10.3684   True\n",
       "9     0.0   0.25     6.525  0.0023    1.3647  11.6852   True\n",
       "10   0.01   0.02       0.0     0.9  -74.2101  74.2101  False\n",
       "11   0.01   0.03   -0.3333     0.9  -70.2993  69.6326  False\n",
       "12   0.01   0.04      -1.0     0.9  -86.6905  84.6905  False\n",
       "13   0.01   0.05   26.0108     0.9   -34.745  86.7667  False\n",
       "14   0.01   0.06       0.0     0.9  -85.6905  85.6905  False\n",
       "15   0.01    0.1    23.237     0.9  -37.5302  84.0042  False\n",
       "16   0.01   0.15   26.3822     0.9  -34.4028  87.1671  False\n",
       "17   0.01    0.2   25.0248     0.9  -35.7554   85.805  False\n",
       "18   0.01   0.25   26.2403     0.9  -34.5485   87.029  False\n",
       "19   0.02   0.03   -0.3333     0.9  -55.6463  54.9796  False\n",
       "20   0.02   0.04      -1.0     0.9  -75.2101  73.2101  False\n",
       "21   0.02   0.05   26.0108  0.6622  -17.0654   69.087  False\n",
       "22   0.02   0.06       0.0     0.9  -74.2101  74.2101  False\n",
       "23   0.02    0.1    23.237  0.7914  -19.8552  66.3292  False\n",
       "24   0.02   0.15   26.3822  0.6461  -16.7351  69.4994  False\n",
       "25   0.02    0.2   25.0248  0.7089  -18.0857  68.1354  False\n",
       "26   0.02   0.25   26.2403  0.6528  -16.8823  69.3628  False\n",
       "27   0.03   0.04   -0.6667     0.9  -70.6326  69.2993  False\n",
       "28   0.03   0.05   26.3441  0.3639   -8.9214  61.6096  False\n",
       "29   0.03   0.06    0.3333     0.9  -69.6326  70.2993  False\n",
       "30   0.03    0.1   23.5703  0.5338  -11.7147  58.8553  False\n",
       "31   0.03   0.15   26.7155  0.3436   -8.6001  62.0311  False\n",
       "32   0.03    0.2   25.3582   0.428   -9.9492  60.6656  False\n",
       "33   0.03   0.25   26.5736  0.3525   -8.7485  61.8957  False\n",
       "34   0.04   0.05   27.0108     0.9   -33.745  87.7667  False\n",
       "35   0.04   0.06       1.0     0.9  -84.6905  86.6905  False\n",
       "36   0.04    0.1    24.237     0.9  -36.5302  85.0042  False\n",
       "37   0.04   0.15   27.3822     0.9  -33.4028  88.1671  False\n",
       "38   0.04    0.2   26.0248     0.9  -34.7554   86.805  False\n",
       "39   0.04   0.25   27.2403     0.9  -33.5485   88.029  False\n",
       "40   0.05   0.06  -26.0108     0.9  -86.7667   34.745  False\n",
       "41   0.05    0.1   -2.7738     0.9   -9.1822   3.6346  False\n",
       "42   0.05   0.15    0.3714     0.9   -6.2036   6.9463  False\n",
       "43   0.05    0.2    -0.986     0.9   -7.5166   5.5447  False\n",
       "44   0.05   0.25    0.2294     0.9   -6.3801    6.839  False\n",
       "45   0.06    0.1    23.237     0.9  -37.5302  84.0042  False\n",
       "46   0.06   0.15   26.3822     0.9  -34.4028  87.1671  False\n",
       "47   0.06    0.2   25.0248     0.9  -35.7554   85.805  False\n",
       "48   0.06   0.25   26.2403     0.9  -34.5485   87.029  False\n",
       "49    0.1   0.15    3.1452     0.9   -3.5337    9.824  False\n",
       "50    0.1    0.2    1.7879     0.9   -4.8474   8.4231  False\n",
       "51    0.1   0.25    3.0033     0.9   -3.7096   9.7161  False\n",
       "52   0.15    0.2   -1.3573     0.9   -8.1536   5.4389  False\n",
       "53   0.15   0.25   -0.1419     0.9    -7.014   6.7302  False\n",
       "54    0.2   0.25    1.2154     0.9   -5.6143   8.0451  False"
      ]
     },
     "execution_count": 19,
     "metadata": {},
     "output_type": "execute_result"
    }
   ],
   "source": [
    "# save OQD tukey test model results into dataframe (OQD: order quantity discount)\n",
    "tukey_OQD = pd.DataFrame(data=model._results_table[1:], columns=model._results_table[0])\n",
    "tukey_OQD"
   ]
  },
  {
   "cell_type": "code",
   "execution_count": 20,
   "metadata": {},
   "outputs": [
    {
     "data": {
      "image/png": "[encoded data removed]",
      "text/plain": [
       "<Figure size 720x432 with 1 Axes>"
      ]
     },
     "execution_count": 20,
     "metadata": {},
     "output_type": "execute_result"
    },
    {
     "data": {
      "image/png": "[encoded data removed]",
      "text/plain": [
       "<Figure size 720x432 with 1 Axes>"
      ]
     },
     "metadata": {
      "needs_background": "light"
     },
     "output_type": "display_data"
    }
   ],
   "source": [
    "# Plot a universal confidence interval of each group mean comparing significant differences in group means. \n",
    "# Significant differences at the alpha=0.05 level can be identified by intervals that do not overlap \n",
    "\n",
    "oq_data = df_orderDetail['Quantity'].values\n",
    "discount_labels = df_orderDetail['Discount'].values\n",
    "\n",
    "from statsmodels.stats.multicomp import MultiComparison\n",
    "oqd = MultiComparison(oq_data, discount_labels)\n",
    "results = oqd.tukeyhsd()\n",
    "results.plot_simultaneous(comparison_name=0.25, xlabel='order qty', ylabel='discount level')"
   ]
  },
  {
   "cell_type": "markdown",
   "metadata": {},
   "source": [
    "### Effect Size\n",
    "Calculate effect size using Cohen's D as well as any post-hoc tests."
   ]
  },
  {
   "cell_type": "code",
   "execution_count": 21,
   "metadata": {},
   "outputs": [],
   "source": [
    "#### Cohen's d\n",
    "def Cohen_d(group1, group2):\n",
    "    # Compute Cohen's d.\n",
    "    # group1: Series or NumPy array\n",
    "    # group2: Series or NumPy array\n",
    "    # returns a floating point number \n",
    "    diff = group1.mean() - group2.mean()\n",
    "\n",
    "    n1, n2 = len(group1), len(group2)\n",
    "    var1 = group1.var()\n",
    "    var2 = group2.var()\n",
    "\n",
    "    # Calculate the pooled threshold as shown earlier\n",
    "    pooled_var = (n1 * var1 + n2 * var2) / (n1 + n2)\n",
    "    \n",
    "    # Calculate Cohen's d statistic\n",
    "    d = diff / np.sqrt(pooled_var)\n",
    "    \n",
    "    return d"
   ]
  },
  {
   "cell_type": "code",
   "execution_count": 22,
   "metadata": {},
   "outputs": [
    {
     "data": {
      "text/plain": [
       "0.2862724481729282"
      ]
     },
     "execution_count": 22,
     "metadata": {},
     "output_type": "execute_result"
    }
   ],
   "source": [
    "Cohen_d(discount, fullprice)"
   ]
  },
  {
   "cell_type": "markdown",
   "metadata": {},
   "source": [
    "### Post-hoc Tests"
   ]
  },
  {
   "cell_type": "code",
   "execution_count": 23,
   "metadata": {},
   "outputs": [
    {
     "data": {
      "text/html": [
       "<div>\n",
       "<style scoped>\n",
       "    .dataframe tbody tr th:only-of-type {\n",
       "        vertical-align: middle;\n",
       "    }\n",
       "\n",
       "    .dataframe tbody tr th {\n",
       "        vertical-align: top;\n",
       "    }\n",
       "\n",
       "    .dataframe thead th {\n",
       "        text-align: right;\n",
       "    }\n",
       "</style>\n",
       "<table border=\"1\" class=\"dataframe\">\n",
       "  <thead>\n",
       "    <tr style=\"text-align: right;\">\n",
       "      <th></th>\n",
       "      <th>Id</th>\n",
       "      <th>OrderId</th>\n",
       "      <th>ProductId</th>\n",
       "      <th>UnitPrice</th>\n",
       "      <th>Quantity</th>\n",
       "      <th>Discount</th>\n",
       "      <th>discounted</th>\n",
       "    </tr>\n",
       "  </thead>\n",
       "  <tbody>\n",
       "    <tr>\n",
       "      <td>6</td>\n",
       "      <td>10250/51</td>\n",
       "      <td>10250</td>\n",
       "      <td>51</td>\n",
       "      <td>42.4</td>\n",
       "      <td>35</td>\n",
       "      <td>0.15</td>\n",
       "      <td>1</td>\n",
       "    </tr>\n",
       "    <tr>\n",
       "      <td>7</td>\n",
       "      <td>10250/65</td>\n",
       "      <td>10250</td>\n",
       "      <td>65</td>\n",
       "      <td>16.8</td>\n",
       "      <td>15</td>\n",
       "      <td>0.15</td>\n",
       "      <td>1</td>\n",
       "    </tr>\n",
       "    <tr>\n",
       "      <td>8</td>\n",
       "      <td>10251/22</td>\n",
       "      <td>10251</td>\n",
       "      <td>22</td>\n",
       "      <td>16.8</td>\n",
       "      <td>6</td>\n",
       "      <td>0.05</td>\n",
       "      <td>1</td>\n",
       "    </tr>\n",
       "    <tr>\n",
       "      <td>9</td>\n",
       "      <td>10251/57</td>\n",
       "      <td>10251</td>\n",
       "      <td>57</td>\n",
       "      <td>15.6</td>\n",
       "      <td>15</td>\n",
       "      <td>0.05</td>\n",
       "      <td>1</td>\n",
       "    </tr>\n",
       "    <tr>\n",
       "      <td>11</td>\n",
       "      <td>10252/20</td>\n",
       "      <td>10252</td>\n",
       "      <td>20</td>\n",
       "      <td>64.8</td>\n",
       "      <td>40</td>\n",
       "      <td>0.05</td>\n",
       "      <td>1</td>\n",
       "    </tr>\n",
       "    <tr>\n",
       "      <td>...</td>\n",
       "      <td>...</td>\n",
       "      <td>...</td>\n",
       "      <td>...</td>\n",
       "      <td>...</td>\n",
       "      <td>...</td>\n",
       "      <td>...</td>\n",
       "      <td>...</td>\n",
       "    </tr>\n",
       "    <tr>\n",
       "      <td>2129</td>\n",
       "      <td>11076/19</td>\n",
       "      <td>11076</td>\n",
       "      <td>19</td>\n",
       "      <td>9.2</td>\n",
       "      <td>10</td>\n",
       "      <td>0.25</td>\n",
       "      <td>1</td>\n",
       "    </tr>\n",
       "    <tr>\n",
       "      <td>2130</td>\n",
       "      <td>11077/2</td>\n",
       "      <td>11077</td>\n",
       "      <td>2</td>\n",
       "      <td>19.0</td>\n",
       "      <td>24</td>\n",
       "      <td>0.20</td>\n",
       "      <td>1</td>\n",
       "    </tr>\n",
       "    <tr>\n",
       "      <td>2134</td>\n",
       "      <td>11077/7</td>\n",
       "      <td>11077</td>\n",
       "      <td>7</td>\n",
       "      <td>30.0</td>\n",
       "      <td>1</td>\n",
       "      <td>0.05</td>\n",
       "      <td>1</td>\n",
       "    </tr>\n",
       "    <tr>\n",
       "      <td>2137</td>\n",
       "      <td>11077/12</td>\n",
       "      <td>11077</td>\n",
       "      <td>12</td>\n",
       "      <td>38.0</td>\n",
       "      <td>2</td>\n",
       "      <td>0.05</td>\n",
       "      <td>1</td>\n",
       "    </tr>\n",
       "    <tr>\n",
       "      <td>2144</td>\n",
       "      <td>11077/39</td>\n",
       "      <td>11077</td>\n",
       "      <td>39</td>\n",
       "      <td>18.0</td>\n",
       "      <td>2</td>\n",
       "      <td>0.05</td>\n",
       "      <td>1</td>\n",
       "    </tr>\n",
       "  </tbody>\n",
       "</table>\n",
       "<p>657 rows × 7 columns</p>\n",
       "</div>"
      ],
      "text/plain": [
       "            Id  OrderId  ProductId  UnitPrice  Quantity  Discount  discounted\n",
       "6     10250/51    10250         51       42.4        35      0.15           1\n",
       "7     10250/65    10250         65       16.8        15      0.15           1\n",
       "8     10251/22    10251         22       16.8         6      0.05           1\n",
       "9     10251/57    10251         57       15.6        15      0.05           1\n",
       "11    10252/20    10252         20       64.8        40      0.05           1\n",
       "...        ...      ...        ...        ...       ...       ...         ...\n",
       "2129  11076/19    11076         19        9.2        10      0.25           1\n",
       "2130   11077/2    11077          2       19.0        24      0.20           1\n",
       "2134   11077/7    11077          7       30.0         1      0.05           1\n",
       "2137  11077/12    11077         12       38.0         2      0.05           1\n",
       "2144  11077/39    11077         39       18.0         2      0.05           1\n",
       "\n",
       "[657 rows x 7 columns]"
      ]
     },
     "execution_count": 23,
     "metadata": {},
     "output_type": "execute_result"
    }
   ],
   "source": [
    "df_oqd = df_orderDetail.loc[(df_orderDetail['Discount'] >= 0.05) & (df_orderDetail['Discount'] != 0.06) & (df_orderDetail['Discount'] != 0.1)]\n",
    "df_oqd"
   ]
  },
  {
   "cell_type": "code",
   "execution_count": 24,
   "metadata": {},
   "outputs": [
    {
     "name": "stderr",
     "output_type": "stream",
     "text": [
      "/Users/hakkeray/opt/anaconda3/envs/learn-env/lib/python3.6/site-packages/ipykernel_launcher.py:1: SettingWithCopyWarning: \n",
      "A value is trying to be set on a copy of a slice from a DataFrame.\n",
      "Try using .loc[row_indexer,col_indexer] = value instead\n",
      "\n",
      "See the caveats in the documentation: http://pandas.pydata.org/pandas-docs/stable/user_guide/indexing.html#returning-a-view-versus-a-copy\n",
      "  \"\"\"Entry point for launching an IPython kernel.\n"
     ]
    },
    {
     "data": {
      "text/html": [
       "<div>\n",
       "<style scoped>\n",
       "    .dataframe tbody tr th:only-of-type {\n",
       "        vertical-align: middle;\n",
       "    }\n",
       "\n",
       "    .dataframe tbody tr th {\n",
       "        vertical-align: top;\n",
       "    }\n",
       "\n",
       "    .dataframe thead th {\n",
       "        text-align: right;\n",
       "    }\n",
       "</style>\n",
       "<table border=\"1\" class=\"dataframe\">\n",
       "  <thead>\n",
       "    <tr style=\"text-align: right;\">\n",
       "      <th></th>\n",
       "      <th>Id</th>\n",
       "      <th>OrderId</th>\n",
       "      <th>ProductId</th>\n",
       "      <th>UnitPrice</th>\n",
       "      <th>Quantity</th>\n",
       "      <th>Discount</th>\n",
       "      <th>discounted</th>\n",
       "      <th>OQD</th>\n",
       "    </tr>\n",
       "  </thead>\n",
       "  <tbody>\n",
       "    <tr>\n",
       "      <td>6</td>\n",
       "      <td>10250/51</td>\n",
       "      <td>10250</td>\n",
       "      <td>51</td>\n",
       "      <td>42.4</td>\n",
       "      <td>35</td>\n",
       "      <td>0.15</td>\n",
       "      <td>1</td>\n",
       "      <td>1</td>\n",
       "    </tr>\n",
       "    <tr>\n",
       "      <td>7</td>\n",
       "      <td>10250/65</td>\n",
       "      <td>10250</td>\n",
       "      <td>65</td>\n",
       "      <td>16.8</td>\n",
       "      <td>15</td>\n",
       "      <td>0.15</td>\n",
       "      <td>1</td>\n",
       "      <td>1</td>\n",
       "    </tr>\n",
       "    <tr>\n",
       "      <td>8</td>\n",
       "      <td>10251/22</td>\n",
       "      <td>10251</td>\n",
       "      <td>22</td>\n",
       "      <td>16.8</td>\n",
       "      <td>6</td>\n",
       "      <td>0.05</td>\n",
       "      <td>1</td>\n",
       "      <td>1</td>\n",
       "    </tr>\n",
       "    <tr>\n",
       "      <td>9</td>\n",
       "      <td>10251/57</td>\n",
       "      <td>10251</td>\n",
       "      <td>57</td>\n",
       "      <td>15.6</td>\n",
       "      <td>15</td>\n",
       "      <td>0.05</td>\n",
       "      <td>1</td>\n",
       "      <td>1</td>\n",
       "    </tr>\n",
       "    <tr>\n",
       "      <td>11</td>\n",
       "      <td>10252/20</td>\n",
       "      <td>10252</td>\n",
       "      <td>20</td>\n",
       "      <td>64.8</td>\n",
       "      <td>40</td>\n",
       "      <td>0.05</td>\n",
       "      <td>1</td>\n",
       "      <td>1</td>\n",
       "    </tr>\n",
       "    <tr>\n",
       "      <td>...</td>\n",
       "      <td>...</td>\n",
       "      <td>...</td>\n",
       "      <td>...</td>\n",
       "      <td>...</td>\n",
       "      <td>...</td>\n",
       "      <td>...</td>\n",
       "      <td>...</td>\n",
       "      <td>...</td>\n",
       "    </tr>\n",
       "    <tr>\n",
       "      <td>2129</td>\n",
       "      <td>11076/19</td>\n",
       "      <td>11076</td>\n",
       "      <td>19</td>\n",
       "      <td>9.2</td>\n",
       "      <td>10</td>\n",
       "      <td>0.25</td>\n",
       "      <td>1</td>\n",
       "      <td>1</td>\n",
       "    </tr>\n",
       "    <tr>\n",
       "      <td>2130</td>\n",
       "      <td>11077/2</td>\n",
       "      <td>11077</td>\n",
       "      <td>2</td>\n",
       "      <td>19.0</td>\n",
       "      <td>24</td>\n",
       "      <td>0.20</td>\n",
       "      <td>1</td>\n",
       "      <td>1</td>\n",
       "    </tr>\n",
       "    <tr>\n",
       "      <td>2134</td>\n",
       "      <td>11077/7</td>\n",
       "      <td>11077</td>\n",
       "      <td>7</td>\n",
       "      <td>30.0</td>\n",
       "      <td>1</td>\n",
       "      <td>0.05</td>\n",
       "      <td>1</td>\n",
       "      <td>1</td>\n",
       "    </tr>\n",
       "    <tr>\n",
       "      <td>2137</td>\n",
       "      <td>11077/12</td>\n",
       "      <td>11077</td>\n",
       "      <td>12</td>\n",
       "      <td>38.0</td>\n",
       "      <td>2</td>\n",
       "      <td>0.05</td>\n",
       "      <td>1</td>\n",
       "      <td>1</td>\n",
       "    </tr>\n",
       "    <tr>\n",
       "      <td>2144</td>\n",
       "      <td>11077/39</td>\n",
       "      <td>11077</td>\n",
       "      <td>39</td>\n",
       "      <td>18.0</td>\n",
       "      <td>2</td>\n",
       "      <td>0.05</td>\n",
       "      <td>1</td>\n",
       "      <td>1</td>\n",
       "    </tr>\n",
       "  </tbody>\n",
       "</table>\n",
       "<p>657 rows × 8 columns</p>\n",
       "</div>"
      ],
      "text/plain": [
       "            Id  OrderId  ProductId  UnitPrice  Quantity  Discount  discounted  \\\n",
       "6     10250/51    10250         51       42.4        35      0.15           1   \n",
       "7     10250/65    10250         65       16.8        15      0.15           1   \n",
       "8     10251/22    10251         22       16.8         6      0.05           1   \n",
       "9     10251/57    10251         57       15.6        15      0.05           1   \n",
       "11    10252/20    10252         20       64.8        40      0.05           1   \n",
       "...        ...      ...        ...        ...       ...       ...         ...   \n",
       "2129  11076/19    11076         19        9.2        10      0.25           1   \n",
       "2130   11077/2    11077          2       19.0        24      0.20           1   \n",
       "2134   11077/7    11077          7       30.0         1      0.05           1   \n",
       "2137  11077/12    11077         12       38.0         2      0.05           1   \n",
       "2144  11077/39    11077         39       18.0         2      0.05           1   \n",
       "\n",
       "      OQD  \n",
       "6       1  \n",
       "7       1  \n",
       "8       1  \n",
       "9       1  \n",
       "11      1  \n",
       "...   ...  \n",
       "2129    1  \n",
       "2130    1  \n",
       "2134    1  \n",
       "2137    1  \n",
       "2144    1  \n",
       "\n",
       "[657 rows x 8 columns]"
      ]
     },
     "execution_count": 24,
     "metadata": {},
     "output_type": "execute_result"
    }
   ],
   "source": [
    "df_oqd['OQD'] = 1\n",
    "df_oqd"
   ]
  },
  {
   "cell_type": "code",
   "execution_count": 25,
   "metadata": {},
   "outputs": [
    {
     "data": {
      "text/plain": [
       "<BarContainer object of 4 artists>"
      ]
     },
     "execution_count": 25,
     "metadata": {},
     "output_type": "execute_result"
    },
    {
     "data": {
      "image/png": "[encoded data removed]",
      "text/plain": [
       "<Figure size 432x288 with 1 Axes>"
      ]
     },
     "metadata": {
      "needs_background": "light"
     },
     "output_type": "display_data"
    }
   ],
   "source": [
    "#df_oqd.groupby(['Discount'])['Quantity'].mean().plot.bar()\n",
    "plt.bar(x=df_oqd.groupby(['Discount'])['Quantity'].mean(), height=df_oqd.Quantity.mean(), yerr=df_oqd.Discount.sem())"
   ]
  },
  {
   "cell_type": "code",
   "execution_count": 35,
   "metadata": {},
   "outputs": [
    {
     "data": {
      "text/plain": [
       "0.0    1498\n",
       "1.0     657\n",
       "Name: OQD, dtype: int64"
      ]
     },
     "execution_count": 35,
     "metadata": {},
     "output_type": "execute_result"
    }
   ],
   "source": [
    "df_orderDetail['OQD'] = df_oqd['OQD']\n",
    "df_orderDetail['OQD'].fillna(0, inplace=True)\n",
    "df_orderDetail['OQD'].value_counts()"
   ]
  },
  {
   "cell_type": "code",
   "execution_count": 36,
   "metadata": {},
   "outputs": [],
   "source": [
    "# dataframe containing insignificant discount levels\n",
    "fullprice_df = df_orderDetail.loc[df_orderDetail['OQD'] == 0]\n",
    "# dataframe containing significant discount levels\n",
    "discount_df = df_orderDetail.loc[df_orderDetail['OQD'] == 1]"
   ]
  },
  {
   "cell_type": "code",
   "execution_count": 37,
   "metadata": {},
   "outputs": [
    {
     "name": "stdout",
     "output_type": "stream",
     "text": [
      "22.01535380507343 27.911719939117198\n"
     ]
    }
   ],
   "source": [
    "mean_qty_fp = fullprice_df.Quantity.mean()\n",
    "mean_qty_dc = discount_df.Quantity.mean()\n",
    "print(mean_qty_fp, mean_qty_dc)"
   ]
  },
  {
   "cell_type": "code",
   "execution_count": 38,
   "metadata": {},
   "outputs": [
    {
     "data": {
      "text/plain": [
       "5.896366134043767"
      ]
     },
     "execution_count": 38,
     "metadata": {},
     "output_type": "execute_result"
    }
   ],
   "source": [
    "diff = mean_qty_dc - mean_qty_fp\n",
    "diff"
   ]
  },
  {
   "cell_type": "code",
   "execution_count": 39,
   "metadata": {
    "scrolled": false
   },
   "outputs": [],
   "source": [
    "from pandas_profiling import ProfileReport\n",
    "#ProfileReport(df_oqd)"
   ]
  },
  {
   "cell_type": "code",
   "execution_count": 40,
   "metadata": {},
   "outputs": [
    {
     "data": {
      "text/plain": [
       "<matplotlib.axes._subplots.AxesSubplot at 0x1c22df1588>"
      ]
     },
     "execution_count": 40,
     "metadata": {},
     "output_type": "execute_result"
    },
    {
     "data": {
      "image/png": "[encoded data removed]",
      "text/plain": [
       "<Figure size 576x396 with 1 Axes>"
      ]
     },
     "metadata": {},
     "output_type": "display_data"
    }
   ],
   "source": [
    "sns.distplot(df_orderDetail.Quantity)\n",
    "sns.distplot(df_oqd.Quantity)"
   ]
  },
  {
   "cell_type": "markdown",
   "metadata": {},
   "source": [
    "## Analyze Results\n",
    "\n",
    "Where alpha = 0.05, the null hypothesis is rejected. Discount amount has a statistically significant effect on the quantity in an order where the discount level is equal to 5%, 15%, 20% or 25%."
   ]
  },
  {
   "cell_type": "markdown",
   "metadata": {},
   "source": [
    "# H2: Country--Discount\n",
    "\n",
    "**Do individual countries show a statistically significant preference for discount?**\n",
    "\n",
    "**If so, which countries and to what extent?** "
   ]
  },
  {
   "cell_type": "markdown",
   "metadata": {},
   "source": [
    "## Hypotheses"
   ]
  },
  {
   "cell_type": "markdown",
   "metadata": {},
   "source": [
    "- $H_0$: Countries purchase equal quantities of discounted vs non-discounted products.\n",
    "- $H_A$: Countries purchase different quantities of discounted vs non-discounted products."
   ]
  },
  {
   "cell_type": "markdown",
   "metadata": {},
   "source": [
    "## EDA\n",
    "Select the proper dataset for analysis, perform EDA, and generate data groups for testing."
   ]
  },
  {
   "cell_type": "markdown",
   "metadata": {},
   "source": [
    "### Select"
   ]
  },
  {
   "cell_type": "code",
   "execution_count": 41,
   "metadata": {
    "scrolled": false
   },
   "outputs": [
    {
     "data": {
      "text/html": [
       "<div>\n",
       "<style scoped>\n",
       "    .dataframe tbody tr th:only-of-type {\n",
       "        vertical-align: middle;\n",
       "    }\n",
       "\n",
       "    .dataframe tbody tr th {\n",
       "        vertical-align: top;\n",
       "    }\n",
       "\n",
       "    .dataframe thead th {\n",
       "        text-align: right;\n",
       "    }\n",
       "</style>\n",
       "<table border=\"1\" class=\"dataframe\">\n",
       "  <thead>\n",
       "    <tr style=\"text-align: right;\">\n",
       "      <th></th>\n",
       "      <th>OrderId</th>\n",
       "      <th>CustomerId</th>\n",
       "      <th>EmployeeId</th>\n",
       "      <th>OrderDate</th>\n",
       "      <th>RequiredDate</th>\n",
       "      <th>ShippedDate</th>\n",
       "      <th>ShipVia</th>\n",
       "      <th>Freight</th>\n",
       "      <th>ShipName</th>\n",
       "      <th>ShipAddress</th>\n",
       "      <th>ShipCity</th>\n",
       "      <th>ShipRegion</th>\n",
       "      <th>ShipPostalCode</th>\n",
       "      <th>ShipCountry</th>\n",
       "    </tr>\n",
       "  </thead>\n",
       "  <tbody>\n",
       "    <tr>\n",
       "      <td>0</td>\n",
       "      <td>10248</td>\n",
       "      <td>VINET</td>\n",
       "      <td>5</td>\n",
       "      <td>2012-07-04</td>\n",
       "      <td>2012-08-01</td>\n",
       "      <td>2012-07-16</td>\n",
       "      <td>3</td>\n",
       "      <td>32.38</td>\n",
       "      <td>Vins et alcools Chevalier</td>\n",
       "      <td>59 rue de l'Abbaye</td>\n",
       "      <td>Reims</td>\n",
       "      <td>Western Europe</td>\n",
       "      <td>51100</td>\n",
       "      <td>France</td>\n",
       "    </tr>\n",
       "    <tr>\n",
       "      <td>1</td>\n",
       "      <td>10249</td>\n",
       "      <td>TOMSP</td>\n",
       "      <td>6</td>\n",
       "      <td>2012-07-05</td>\n",
       "      <td>2012-08-16</td>\n",
       "      <td>2012-07-10</td>\n",
       "      <td>1</td>\n",
       "      <td>11.61</td>\n",
       "      <td>Toms Spezialitäten</td>\n",
       "      <td>Luisenstr. 48</td>\n",
       "      <td>Münster</td>\n",
       "      <td>Western Europe</td>\n",
       "      <td>44087</td>\n",
       "      <td>Germany</td>\n",
       "    </tr>\n",
       "    <tr>\n",
       "      <td>2</td>\n",
       "      <td>10250</td>\n",
       "      <td>HANAR</td>\n",
       "      <td>4</td>\n",
       "      <td>2012-07-08</td>\n",
       "      <td>2012-08-05</td>\n",
       "      <td>2012-07-12</td>\n",
       "      <td>2</td>\n",
       "      <td>65.83</td>\n",
       "      <td>Hanari Carnes</td>\n",
       "      <td>Rua do Paço, 67</td>\n",
       "      <td>Rio de Janeiro</td>\n",
       "      <td>South America</td>\n",
       "      <td>05454-876</td>\n",
       "      <td>Brazil</td>\n",
       "    </tr>\n",
       "    <tr>\n",
       "      <td>3</td>\n",
       "      <td>10251</td>\n",
       "      <td>VICTE</td>\n",
       "      <td>3</td>\n",
       "      <td>2012-07-08</td>\n",
       "      <td>2012-08-05</td>\n",
       "      <td>2012-07-15</td>\n",
       "      <td>1</td>\n",
       "      <td>41.34</td>\n",
       "      <td>Victuailles en stock</td>\n",
       "      <td>2, rue du Commerce</td>\n",
       "      <td>Lyon</td>\n",
       "      <td>Western Europe</td>\n",
       "      <td>69004</td>\n",
       "      <td>France</td>\n",
       "    </tr>\n",
       "    <tr>\n",
       "      <td>4</td>\n",
       "      <td>10252</td>\n",
       "      <td>SUPRD</td>\n",
       "      <td>4</td>\n",
       "      <td>2012-07-09</td>\n",
       "      <td>2012-08-06</td>\n",
       "      <td>2012-07-11</td>\n",
       "      <td>2</td>\n",
       "      <td>51.30</td>\n",
       "      <td>Suprêmes délices</td>\n",
       "      <td>Boulevard Tirou, 255</td>\n",
       "      <td>Charleroi</td>\n",
       "      <td>Western Europe</td>\n",
       "      <td>B-6000</td>\n",
       "      <td>Belgium</td>\n",
       "    </tr>\n",
       "  </tbody>\n",
       "</table>\n",
       "</div>"
      ],
      "text/plain": [
       "   OrderId CustomerId  EmployeeId   OrderDate RequiredDate ShippedDate  \\\n",
       "0    10248      VINET           5  2012-07-04   2012-08-01  2012-07-16   \n",
       "1    10249      TOMSP           6  2012-07-05   2012-08-16  2012-07-10   \n",
       "2    10250      HANAR           4  2012-07-08   2012-08-05  2012-07-12   \n",
       "3    10251      VICTE           3  2012-07-08   2012-08-05  2012-07-15   \n",
       "4    10252      SUPRD           4  2012-07-09   2012-08-06  2012-07-11   \n",
       "\n",
       "   ShipVia  Freight                   ShipName           ShipAddress  \\\n",
       "0        3    32.38  Vins et alcools Chevalier    59 rue de l'Abbaye   \n",
       "1        1    11.61         Toms Spezialitäten         Luisenstr. 48   \n",
       "2        2    65.83              Hanari Carnes       Rua do Paço, 67   \n",
       "3        1    41.34       Victuailles en stock    2, rue du Commerce   \n",
       "4        2    51.30           Suprêmes délices  Boulevard Tirou, 255   \n",
       "\n",
       "         ShipCity      ShipRegion ShipPostalCode ShipCountry  \n",
       "0           Reims  Western Europe          51100      France  \n",
       "1         Münster  Western Europe          44087     Germany  \n",
       "2  Rio de Janeiro   South America      05454-876      Brazil  \n",
       "3            Lyon  Western Europe          69004      France  \n",
       "4       Charleroi  Western Europe         B-6000     Belgium  "
      ]
     },
     "metadata": {},
     "output_type": "display_data"
    },
    {
     "data": {
      "text/html": [
       "<div>\n",
       "<style scoped>\n",
       "    .dataframe tbody tr th:only-of-type {\n",
       "        vertical-align: middle;\n",
       "    }\n",
       "\n",
       "    .dataframe tbody tr th {\n",
       "        vertical-align: top;\n",
       "    }\n",
       "\n",
       "    .dataframe thead th {\n",
       "        text-align: right;\n",
       "    }\n",
       "</style>\n",
       "<table border=\"1\" class=\"dataframe\">\n",
       "  <thead>\n",
       "    <tr style=\"text-align: right;\">\n",
       "      <th></th>\n",
       "      <th>Id</th>\n",
       "      <th>OrderId</th>\n",
       "      <th>ProductId</th>\n",
       "      <th>UnitPrice</th>\n",
       "      <th>Quantity</th>\n",
       "      <th>Discount</th>\n",
       "      <th>discounted</th>\n",
       "      <th>OQD</th>\n",
       "    </tr>\n",
       "  </thead>\n",
       "  <tbody>\n",
       "    <tr>\n",
       "      <td>0</td>\n",
       "      <td>10248/11</td>\n",
       "      <td>10248</td>\n",
       "      <td>11</td>\n",
       "      <td>14.0</td>\n",
       "      <td>12</td>\n",
       "      <td>0.0</td>\n",
       "      <td>0</td>\n",
       "      <td>0.0</td>\n",
       "    </tr>\n",
       "    <tr>\n",
       "      <td>1</td>\n",
       "      <td>10248/42</td>\n",
       "      <td>10248</td>\n",
       "      <td>42</td>\n",
       "      <td>9.8</td>\n",
       "      <td>10</td>\n",
       "      <td>0.0</td>\n",
       "      <td>0</td>\n",
       "      <td>0.0</td>\n",
       "    </tr>\n",
       "    <tr>\n",
       "      <td>2</td>\n",
       "      <td>10248/72</td>\n",
       "      <td>10248</td>\n",
       "      <td>72</td>\n",
       "      <td>34.8</td>\n",
       "      <td>5</td>\n",
       "      <td>0.0</td>\n",
       "      <td>0</td>\n",
       "      <td>0.0</td>\n",
       "    </tr>\n",
       "    <tr>\n",
       "      <td>3</td>\n",
       "      <td>10249/14</td>\n",
       "      <td>10249</td>\n",
       "      <td>14</td>\n",
       "      <td>18.6</td>\n",
       "      <td>9</td>\n",
       "      <td>0.0</td>\n",
       "      <td>0</td>\n",
       "      <td>0.0</td>\n",
       "    </tr>\n",
       "    <tr>\n",
       "      <td>4</td>\n",
       "      <td>10249/51</td>\n",
       "      <td>10249</td>\n",
       "      <td>51</td>\n",
       "      <td>42.4</td>\n",
       "      <td>40</td>\n",
       "      <td>0.0</td>\n",
       "      <td>0</td>\n",
       "      <td>0.0</td>\n",
       "    </tr>\n",
       "  </tbody>\n",
       "</table>\n",
       "</div>"
      ],
      "text/plain": [
       "         Id  OrderId  ProductId  UnitPrice  Quantity  Discount  discounted  \\\n",
       "0  10248/11    10248         11       14.0        12       0.0           0   \n",
       "1  10248/42    10248         42        9.8        10       0.0           0   \n",
       "2  10248/72    10248         72       34.8         5       0.0           0   \n",
       "3  10249/14    10249         14       18.6         9       0.0           0   \n",
       "4  10249/51    10249         51       42.4        40       0.0           0   \n",
       "\n",
       "   OQD  \n",
       "0  0.0  \n",
       "1  0.0  \n",
       "2  0.0  \n",
       "3  0.0  \n",
       "4  0.0  "
      ]
     },
     "metadata": {},
     "output_type": "display_data"
    }
   ],
   "source": [
    "df_order = get_table(cur, \"'Order'\")\n",
    "display(df_order.head())\n",
    "display(df_orderDetail.head())"
   ]
  },
  {
   "cell_type": "code",
   "execution_count": 42,
   "metadata": {},
   "outputs": [
    {
     "data": {
      "text/html": [
       "<div>\n",
       "<style scoped>\n",
       "    .dataframe tbody tr th:only-of-type {\n",
       "        vertical-align: middle;\n",
       "    }\n",
       "\n",
       "    .dataframe tbody tr th {\n",
       "        vertical-align: top;\n",
       "    }\n",
       "\n",
       "    .dataframe thead th {\n",
       "        text-align: right;\n",
       "    }\n",
       "</style>\n",
       "<table border=\"1\" class=\"dataframe\">\n",
       "  <thead>\n",
       "    <tr style=\"text-align: right;\">\n",
       "      <th></th>\n",
       "      <th>OrderId</th>\n",
       "      <th>CustomerId</th>\n",
       "      <th>EmployeeId</th>\n",
       "      <th>OrderDate</th>\n",
       "      <th>RequiredDate</th>\n",
       "      <th>ShippedDate</th>\n",
       "      <th>ShipVia</th>\n",
       "      <th>Freight</th>\n",
       "      <th>ShipName</th>\n",
       "      <th>ShipAddress</th>\n",
       "      <th>ShipCity</th>\n",
       "      <th>ShipRegion</th>\n",
       "      <th>ShipPostalCode</th>\n",
       "      <th>ShipCountry</th>\n",
       "    </tr>\n",
       "  </thead>\n",
       "  <tbody>\n",
       "    <tr>\n",
       "      <td>0</td>\n",
       "      <td>10248</td>\n",
       "      <td>VINET</td>\n",
       "      <td>5</td>\n",
       "      <td>2012-07-04</td>\n",
       "      <td>2012-08-01</td>\n",
       "      <td>2012-07-16</td>\n",
       "      <td>3</td>\n",
       "      <td>32.38</td>\n",
       "      <td>Vins et alcools Chevalier</td>\n",
       "      <td>59 rue de l'Abbaye</td>\n",
       "      <td>Reims</td>\n",
       "      <td>Western Europe</td>\n",
       "      <td>51100</td>\n",
       "      <td>France</td>\n",
       "    </tr>\n",
       "    <tr>\n",
       "      <td>1</td>\n",
       "      <td>10249</td>\n",
       "      <td>TOMSP</td>\n",
       "      <td>6</td>\n",
       "      <td>2012-07-05</td>\n",
       "      <td>2012-08-16</td>\n",
       "      <td>2012-07-10</td>\n",
       "      <td>1</td>\n",
       "      <td>11.61</td>\n",
       "      <td>Toms Spezialitäten</td>\n",
       "      <td>Luisenstr. 48</td>\n",
       "      <td>Münster</td>\n",
       "      <td>Western Europe</td>\n",
       "      <td>44087</td>\n",
       "      <td>Germany</td>\n",
       "    </tr>\n",
       "    <tr>\n",
       "      <td>2</td>\n",
       "      <td>10250</td>\n",
       "      <td>HANAR</td>\n",
       "      <td>4</td>\n",
       "      <td>2012-07-08</td>\n",
       "      <td>2012-08-05</td>\n",
       "      <td>2012-07-12</td>\n",
       "      <td>2</td>\n",
       "      <td>65.83</td>\n",
       "      <td>Hanari Carnes</td>\n",
       "      <td>Rua do Paço, 67</td>\n",
       "      <td>Rio de Janeiro</td>\n",
       "      <td>South America</td>\n",
       "      <td>05454-876</td>\n",
       "      <td>Brazil</td>\n",
       "    </tr>\n",
       "    <tr>\n",
       "      <td>3</td>\n",
       "      <td>10251</td>\n",
       "      <td>VICTE</td>\n",
       "      <td>3</td>\n",
       "      <td>2012-07-08</td>\n",
       "      <td>2012-08-05</td>\n",
       "      <td>2012-07-15</td>\n",
       "      <td>1</td>\n",
       "      <td>41.34</td>\n",
       "      <td>Victuailles en stock</td>\n",
       "      <td>2, rue du Commerce</td>\n",
       "      <td>Lyon</td>\n",
       "      <td>Western Europe</td>\n",
       "      <td>69004</td>\n",
       "      <td>France</td>\n",
       "    </tr>\n",
       "    <tr>\n",
       "      <td>4</td>\n",
       "      <td>10252</td>\n",
       "      <td>SUPRD</td>\n",
       "      <td>4</td>\n",
       "      <td>2012-07-09</td>\n",
       "      <td>2012-08-06</td>\n",
       "      <td>2012-07-11</td>\n",
       "      <td>2</td>\n",
       "      <td>51.30</td>\n",
       "      <td>Suprêmes délices</td>\n",
       "      <td>Boulevard Tirou, 255</td>\n",
       "      <td>Charleroi</td>\n",
       "      <td>Western Europe</td>\n",
       "      <td>B-6000</td>\n",
       "      <td>Belgium</td>\n",
       "    </tr>\n",
       "  </tbody>\n",
       "</table>\n",
       "</div>"
      ],
      "text/plain": [
       "   OrderId CustomerId  EmployeeId   OrderDate RequiredDate ShippedDate  \\\n",
       "0    10248      VINET           5  2012-07-04   2012-08-01  2012-07-16   \n",
       "1    10249      TOMSP           6  2012-07-05   2012-08-16  2012-07-10   \n",
       "2    10250      HANAR           4  2012-07-08   2012-08-05  2012-07-12   \n",
       "3    10251      VICTE           3  2012-07-08   2012-08-05  2012-07-15   \n",
       "4    10252      SUPRD           4  2012-07-09   2012-08-06  2012-07-11   \n",
       "\n",
       "   ShipVia  Freight                   ShipName           ShipAddress  \\\n",
       "0        3    32.38  Vins et alcools Chevalier    59 rue de l'Abbaye   \n",
       "1        1    11.61         Toms Spezialitäten         Luisenstr. 48   \n",
       "2        2    65.83              Hanari Carnes       Rua do Paço, 67   \n",
       "3        1    41.34       Victuailles en stock    2, rue du Commerce   \n",
       "4        2    51.30           Suprêmes délices  Boulevard Tirou, 255   \n",
       "\n",
       "         ShipCity      ShipRegion ShipPostalCode ShipCountry  \n",
       "0           Reims  Western Europe          51100      France  \n",
       "1         Münster  Western Europe          44087     Germany  \n",
       "2  Rio de Janeiro   South America      05454-876      Brazil  \n",
       "3            Lyon  Western Europe          69004      France  \n",
       "4       Charleroi  Western Europe         B-6000     Belgium  "
      ]
     },
     "metadata": {},
     "output_type": "display_data"
    }
   ],
   "source": [
    "# Rename 'Id' to 'OrderId' for joining tables with matching primary key name\n",
    "df_order.rename({'Id':'OrderId'}, axis=1, inplace=True)\n",
    "display(df_order.head())"
   ]
  },
  {
   "cell_type": "markdown",
   "metadata": {},
   "source": [
    "### Explore"
   ]
  },
  {
   "cell_type": "code",
   "execution_count": 43,
   "metadata": {},
   "outputs": [
    {
     "data": {
      "text/html": [
       "<div>\n",
       "<style scoped>\n",
       "    .dataframe tbody tr th:only-of-type {\n",
       "        vertical-align: middle;\n",
       "    }\n",
       "\n",
       "    .dataframe tbody tr th {\n",
       "        vertical-align: top;\n",
       "    }\n",
       "\n",
       "    .dataframe thead th {\n",
       "        text-align: right;\n",
       "    }\n",
       "</style>\n",
       "<table border=\"1\" class=\"dataframe\">\n",
       "  <thead>\n",
       "    <tr style=\"text-align: right;\">\n",
       "      <th></th>\n",
       "      <th>CustomerId</th>\n",
       "      <th>EmployeeId</th>\n",
       "      <th>OrderDate</th>\n",
       "      <th>RequiredDate</th>\n",
       "      <th>ShippedDate</th>\n",
       "      <th>ShipVia</th>\n",
       "      <th>Freight</th>\n",
       "      <th>ShipName</th>\n",
       "      <th>ShipAddress</th>\n",
       "      <th>ShipCity</th>\n",
       "      <th>ShipRegion</th>\n",
       "      <th>ShipPostalCode</th>\n",
       "      <th>ShipCountry</th>\n",
       "    </tr>\n",
       "    <tr>\n",
       "      <th>OrderId</th>\n",
       "      <th></th>\n",
       "      <th></th>\n",
       "      <th></th>\n",
       "      <th></th>\n",
       "      <th></th>\n",
       "      <th></th>\n",
       "      <th></th>\n",
       "      <th></th>\n",
       "      <th></th>\n",
       "      <th></th>\n",
       "      <th></th>\n",
       "      <th></th>\n",
       "      <th></th>\n",
       "    </tr>\n",
       "  </thead>\n",
       "  <tbody>\n",
       "    <tr>\n",
       "      <td>10248</td>\n",
       "      <td>VINET</td>\n",
       "      <td>5</td>\n",
       "      <td>2012-07-04</td>\n",
       "      <td>2012-08-01</td>\n",
       "      <td>2012-07-16</td>\n",
       "      <td>3</td>\n",
       "      <td>32.38</td>\n",
       "      <td>Vins et alcools Chevalier</td>\n",
       "      <td>59 rue de l'Abbaye</td>\n",
       "      <td>Reims</td>\n",
       "      <td>Western Europe</td>\n",
       "      <td>51100</td>\n",
       "      <td>France</td>\n",
       "    </tr>\n",
       "    <tr>\n",
       "      <td>10249</td>\n",
       "      <td>TOMSP</td>\n",
       "      <td>6</td>\n",
       "      <td>2012-07-05</td>\n",
       "      <td>2012-08-16</td>\n",
       "      <td>2012-07-10</td>\n",
       "      <td>1</td>\n",
       "      <td>11.61</td>\n",
       "      <td>Toms Spezialitäten</td>\n",
       "      <td>Luisenstr. 48</td>\n",
       "      <td>Münster</td>\n",
       "      <td>Western Europe</td>\n",
       "      <td>44087</td>\n",
       "      <td>Germany</td>\n",
       "    </tr>\n",
       "    <tr>\n",
       "      <td>10250</td>\n",
       "      <td>HANAR</td>\n",
       "      <td>4</td>\n",
       "      <td>2012-07-08</td>\n",
       "      <td>2012-08-05</td>\n",
       "      <td>2012-07-12</td>\n",
       "      <td>2</td>\n",
       "      <td>65.83</td>\n",
       "      <td>Hanari Carnes</td>\n",
       "      <td>Rua do Paço, 67</td>\n",
       "      <td>Rio de Janeiro</td>\n",
       "      <td>South America</td>\n",
       "      <td>05454-876</td>\n",
       "      <td>Brazil</td>\n",
       "    </tr>\n",
       "    <tr>\n",
       "      <td>10251</td>\n",
       "      <td>VICTE</td>\n",
       "      <td>3</td>\n",
       "      <td>2012-07-08</td>\n",
       "      <td>2012-08-05</td>\n",
       "      <td>2012-07-15</td>\n",
       "      <td>1</td>\n",
       "      <td>41.34</td>\n",
       "      <td>Victuailles en stock</td>\n",
       "      <td>2, rue du Commerce</td>\n",
       "      <td>Lyon</td>\n",
       "      <td>Western Europe</td>\n",
       "      <td>69004</td>\n",
       "      <td>France</td>\n",
       "    </tr>\n",
       "    <tr>\n",
       "      <td>10252</td>\n",
       "      <td>SUPRD</td>\n",
       "      <td>4</td>\n",
       "      <td>2012-07-09</td>\n",
       "      <td>2012-08-06</td>\n",
       "      <td>2012-07-11</td>\n",
       "      <td>2</td>\n",
       "      <td>51.30</td>\n",
       "      <td>Suprêmes délices</td>\n",
       "      <td>Boulevard Tirou, 255</td>\n",
       "      <td>Charleroi</td>\n",
       "      <td>Western Europe</td>\n",
       "      <td>B-6000</td>\n",
       "      <td>Belgium</td>\n",
       "    </tr>\n",
       "  </tbody>\n",
       "</table>\n",
       "</div>"
      ],
      "text/plain": [
       "        CustomerId  EmployeeId   OrderDate RequiredDate ShippedDate  ShipVia  \\\n",
       "OrderId                                                                        \n",
       "10248        VINET           5  2012-07-04   2012-08-01  2012-07-16        3   \n",
       "10249        TOMSP           6  2012-07-05   2012-08-16  2012-07-10        1   \n",
       "10250        HANAR           4  2012-07-08   2012-08-05  2012-07-12        2   \n",
       "10251        VICTE           3  2012-07-08   2012-08-05  2012-07-15        1   \n",
       "10252        SUPRD           4  2012-07-09   2012-08-06  2012-07-11        2   \n",
       "\n",
       "         Freight                   ShipName           ShipAddress  \\\n",
       "OrderId                                                             \n",
       "10248      32.38  Vins et alcools Chevalier    59 rue de l'Abbaye   \n",
       "10249      11.61         Toms Spezialitäten         Luisenstr. 48   \n",
       "10250      65.83              Hanari Carnes       Rua do Paço, 67   \n",
       "10251      41.34       Victuailles en stock    2, rue du Commerce   \n",
       "10252      51.30           Suprêmes délices  Boulevard Tirou, 255   \n",
       "\n",
       "               ShipCity      ShipRegion ShipPostalCode ShipCountry  \n",
       "OrderId                                                             \n",
       "10248             Reims  Western Europe          51100      France  \n",
       "10249           Münster  Western Europe          44087     Germany  \n",
       "10250    Rio de Janeiro   South America      05454-876      Brazil  \n",
       "10251              Lyon  Western Europe          69004      France  \n",
       "10252         Charleroi  Western Europe         B-6000     Belgium  "
      ]
     },
     "metadata": {},
     "output_type": "display_data"
    }
   ],
   "source": [
    "df_order.set_index('OrderId',inplace=True)\n",
    "display(df_order.head())"
   ]
  },
  {
   "cell_type": "markdown",
   "metadata": {},
   "source": [
    "### Group"
   ]
  },
  {
   "cell_type": "code",
   "execution_count": 44,
   "metadata": {},
   "outputs": [
    {
     "data": {
      "text/html": [
       "<div>\n",
       "<style scoped>\n",
       "    .dataframe tbody tr th:only-of-type {\n",
       "        vertical-align: middle;\n",
       "    }\n",
       "\n",
       "    .dataframe tbody tr th {\n",
       "        vertical-align: top;\n",
       "    }\n",
       "\n",
       "    .dataframe thead th {\n",
       "        text-align: right;\n",
       "    }\n",
       "</style>\n",
       "<table border=\"1\" class=\"dataframe\">\n",
       "  <thead>\n",
       "    <tr style=\"text-align: right;\">\n",
       "      <th></th>\n",
       "      <th>Id</th>\n",
       "      <th>OrderId</th>\n",
       "      <th>ProductId</th>\n",
       "      <th>UnitPrice</th>\n",
       "      <th>Quantity</th>\n",
       "      <th>Discount</th>\n",
       "      <th>discounted</th>\n",
       "      <th>OQD</th>\n",
       "      <th>CustomerId</th>\n",
       "      <th>EmployeeId</th>\n",
       "      <th>...</th>\n",
       "      <th>RequiredDate</th>\n",
       "      <th>ShippedDate</th>\n",
       "      <th>ShipVia</th>\n",
       "      <th>Freight</th>\n",
       "      <th>ShipName</th>\n",
       "      <th>ShipAddress</th>\n",
       "      <th>ShipCity</th>\n",
       "      <th>ShipRegion</th>\n",
       "      <th>ShipPostalCode</th>\n",
       "      <th>ShipCountry</th>\n",
       "    </tr>\n",
       "  </thead>\n",
       "  <tbody>\n",
       "    <tr>\n",
       "      <td>0</td>\n",
       "      <td>10248/11</td>\n",
       "      <td>10248</td>\n",
       "      <td>11</td>\n",
       "      <td>14.0</td>\n",
       "      <td>12</td>\n",
       "      <td>0.0</td>\n",
       "      <td>0</td>\n",
       "      <td>0.0</td>\n",
       "      <td>VINET</td>\n",
       "      <td>5</td>\n",
       "      <td>...</td>\n",
       "      <td>2012-08-01</td>\n",
       "      <td>2012-07-16</td>\n",
       "      <td>3</td>\n",
       "      <td>32.38</td>\n",
       "      <td>Vins et alcools Chevalier</td>\n",
       "      <td>59 rue de l'Abbaye</td>\n",
       "      <td>Reims</td>\n",
       "      <td>Western Europe</td>\n",
       "      <td>51100</td>\n",
       "      <td>France</td>\n",
       "    </tr>\n",
       "    <tr>\n",
       "      <td>1</td>\n",
       "      <td>10248/42</td>\n",
       "      <td>10248</td>\n",
       "      <td>42</td>\n",
       "      <td>9.8</td>\n",
       "      <td>10</td>\n",
       "      <td>0.0</td>\n",
       "      <td>0</td>\n",
       "      <td>0.0</td>\n",
       "      <td>VINET</td>\n",
       "      <td>5</td>\n",
       "      <td>...</td>\n",
       "      <td>2012-08-01</td>\n",
       "      <td>2012-07-16</td>\n",
       "      <td>3</td>\n",
       "      <td>32.38</td>\n",
       "      <td>Vins et alcools Chevalier</td>\n",
       "      <td>59 rue de l'Abbaye</td>\n",
       "      <td>Reims</td>\n",
       "      <td>Western Europe</td>\n",
       "      <td>51100</td>\n",
       "      <td>France</td>\n",
       "    </tr>\n",
       "    <tr>\n",
       "      <td>2</td>\n",
       "      <td>10248/72</td>\n",
       "      <td>10248</td>\n",
       "      <td>72</td>\n",
       "      <td>34.8</td>\n",
       "      <td>5</td>\n",
       "      <td>0.0</td>\n",
       "      <td>0</td>\n",
       "      <td>0.0</td>\n",
       "      <td>VINET</td>\n",
       "      <td>5</td>\n",
       "      <td>...</td>\n",
       "      <td>2012-08-01</td>\n",
       "      <td>2012-07-16</td>\n",
       "      <td>3</td>\n",
       "      <td>32.38</td>\n",
       "      <td>Vins et alcools Chevalier</td>\n",
       "      <td>59 rue de l'Abbaye</td>\n",
       "      <td>Reims</td>\n",
       "      <td>Western Europe</td>\n",
       "      <td>51100</td>\n",
       "      <td>France</td>\n",
       "    </tr>\n",
       "    <tr>\n",
       "      <td>3</td>\n",
       "      <td>10249/14</td>\n",
       "      <td>10249</td>\n",
       "      <td>14</td>\n",
       "      <td>18.6</td>\n",
       "      <td>9</td>\n",
       "      <td>0.0</td>\n",
       "      <td>0</td>\n",
       "      <td>0.0</td>\n",
       "      <td>TOMSP</td>\n",
       "      <td>6</td>\n",
       "      <td>...</td>\n",
       "      <td>2012-08-16</td>\n",
       "      <td>2012-07-10</td>\n",
       "      <td>1</td>\n",
       "      <td>11.61</td>\n",
       "      <td>Toms Spezialitäten</td>\n",
       "      <td>Luisenstr. 48</td>\n",
       "      <td>Münster</td>\n",
       "      <td>Western Europe</td>\n",
       "      <td>44087</td>\n",
       "      <td>Germany</td>\n",
       "    </tr>\n",
       "    <tr>\n",
       "      <td>4</td>\n",
       "      <td>10249/51</td>\n",
       "      <td>10249</td>\n",
       "      <td>51</td>\n",
       "      <td>42.4</td>\n",
       "      <td>40</td>\n",
       "      <td>0.0</td>\n",
       "      <td>0</td>\n",
       "      <td>0.0</td>\n",
       "      <td>TOMSP</td>\n",
       "      <td>6</td>\n",
       "      <td>...</td>\n",
       "      <td>2012-08-16</td>\n",
       "      <td>2012-07-10</td>\n",
       "      <td>1</td>\n",
       "      <td>11.61</td>\n",
       "      <td>Toms Spezialitäten</td>\n",
       "      <td>Luisenstr. 48</td>\n",
       "      <td>Münster</td>\n",
       "      <td>Western Europe</td>\n",
       "      <td>44087</td>\n",
       "      <td>Germany</td>\n",
       "    </tr>\n",
       "  </tbody>\n",
       "</table>\n",
       "<p>5 rows × 21 columns</p>\n",
       "</div>"
      ],
      "text/plain": [
       "         Id  OrderId  ProductId  UnitPrice  Quantity  Discount  discounted  \\\n",
       "0  10248/11    10248         11       14.0        12       0.0           0   \n",
       "1  10248/42    10248         42        9.8        10       0.0           0   \n",
       "2  10248/72    10248         72       34.8         5       0.0           0   \n",
       "3  10249/14    10249         14       18.6         9       0.0           0   \n",
       "4  10249/51    10249         51       42.4        40       0.0           0   \n",
       "\n",
       "   OQD CustomerId  EmployeeId  ... RequiredDate ShippedDate ShipVia  Freight  \\\n",
       "0  0.0      VINET           5  ...   2012-08-01  2012-07-16       3    32.38   \n",
       "1  0.0      VINET           5  ...   2012-08-01  2012-07-16       3    32.38   \n",
       "2  0.0      VINET           5  ...   2012-08-01  2012-07-16       3    32.38   \n",
       "3  0.0      TOMSP           6  ...   2012-08-16  2012-07-10       1    11.61   \n",
       "4  0.0      TOMSP           6  ...   2012-08-16  2012-07-10       1    11.61   \n",
       "\n",
       "                    ShipName         ShipAddress ShipCity      ShipRegion  \\\n",
       "0  Vins et alcools Chevalier  59 rue de l'Abbaye    Reims  Western Europe   \n",
       "1  Vins et alcools Chevalier  59 rue de l'Abbaye    Reims  Western Europe   \n",
       "2  Vins et alcools Chevalier  59 rue de l'Abbaye    Reims  Western Europe   \n",
       "3         Toms Spezialitäten       Luisenstr. 48  Münster  Western Europe   \n",
       "4         Toms Spezialitäten       Luisenstr. 48  Münster  Western Europe   \n",
       "\n",
       "  ShipPostalCode ShipCountry  \n",
       "0          51100      France  \n",
       "1          51100      France  \n",
       "2          51100      France  \n",
       "3          44087     Germany  \n",
       "4          44087     Germany  \n",
       "\n",
       "[5 rows x 21 columns]"
      ]
     },
     "execution_count": 44,
     "metadata": {},
     "output_type": "execute_result"
    }
   ],
   "source": [
    "df_countries = df_orderDetail.merge(df_order, on='OrderId', copy=True)\n",
    "df_countries.head()"
   ]
  },
  {
   "cell_type": "code",
   "execution_count": 45,
   "metadata": {},
   "outputs": [
    {
     "data": {
      "text/plain": [
       "dict_keys(['Argentina', 'Austria', 'Belgium', 'Brazil', 'Canada', 'Denmark', 'Finland', 'France', 'Germany', 'Ireland', 'Italy', 'Mexico', 'Norway', 'Poland', 'Portugal', 'Spain', 'Sweden', 'Switzerland', 'UK', 'USA', 'Venezuela'])"
      ]
     },
     "execution_count": 45,
     "metadata": {},
     "output_type": "execute_result"
    }
   ],
   "source": [
    "countries = df_countries.groupby('ShipCountry').groups\n",
    "countries.keys()"
   ]
  },
  {
   "cell_type": "code",
   "execution_count": 46,
   "metadata": {},
   "outputs": [
    {
     "data": {
      "text/plain": [
       "Germany        150\n",
       "USA            142\n",
       "Brazil          95\n",
       "France          77\n",
       "Austria         58\n",
       "Venezuela       46\n",
       "Sweden          39\n",
       "Ireland         35\n",
       "Canada          31\n",
       "Italy           27\n",
       "UK              26\n",
       "Switzerland     24\n",
       "Denmark         19\n",
       "Portugal        18\n",
       "Finland         15\n",
       "Spain           14\n",
       "Belgium         14\n",
       "Mexico           8\n",
       "Name: ShipCountry, dtype: int64"
      ]
     },
     "execution_count": 46,
     "metadata": {},
     "output_type": "execute_result"
    }
   ],
   "source": [
    "df_countries.loc[df_countries['discounted'] == 1]['ShipCountry'].value_counts()"
   ]
  },
  {
   "cell_type": "code",
   "execution_count": 47,
   "metadata": {},
   "outputs": [
    {
     "data": {
      "text/plain": [
       "USA            210\n",
       "Germany        178\n",
       "UK             109\n",
       "Brazil         108\n",
       "France         107\n",
       "Venezuela       72\n",
       "Austria         67\n",
       "Mexico          64\n",
       "Sweden          58\n",
       "Canada          44\n",
       "Belgium         42\n",
       "Spain           40\n",
       "Finland         39\n",
       "Argentina       34\n",
       "Switzerland     28\n",
       "Denmark         27\n",
       "Italy           26\n",
       "Ireland         20\n",
       "Poland          16\n",
       "Norway          16\n",
       "Portugal        12\n",
       "Name: ShipCountry, dtype: int64"
      ]
     },
     "execution_count": 47,
     "metadata": {},
     "output_type": "execute_result"
    }
   ],
   "source": [
    "df_countries.loc[df_countries['discounted'] == 0]['ShipCountry'].value_counts()"
   ]
  },
  {
   "cell_type": "markdown",
   "metadata": {},
   "source": [
    "## Test"
   ]
  },
  {
   "cell_type": "markdown",
   "metadata": {},
   "source": [
    "### Sample Size"
   ]
  },
  {
   "cell_type": "code",
   "execution_count": 48,
   "metadata": {
    "scrolled": false
   },
   "outputs": [
    {
     "name": "stdout",
     "output_type": "stream",
     "text": [
      "Argentina does not contain one of the groups.\n",
      "Austria\n"
     ]
    },
    {
     "data": {
      "image/png": "[encoded data removed]",
      "text/plain": [
       "<Figure size 576x396 with 1 Axes>"
      ]
     },
     "metadata": {},
     "output_type": "display_data"
    },
    {
     "name": "stdout",
     "output_type": "stream",
     "text": [
      "Belgium\n"
     ]
    },
    {
     "data": {
      "image/png": "[encoded data removed]",
      "text/plain": [
       "<Figure size 576x396 with 1 Axes>"
      ]
     },
     "metadata": {},
     "output_type": "display_data"
    },
    {
     "name": "stdout",
     "output_type": "stream",
     "text": [
      "Brazil\n"
     ]
    },
    {
     "data": {
      "image/png": "[encoded data removed]",
      "text/plain": [
       "<Figure size 576x396 with 1 Axes>"
      ]
     },
     "metadata": {},
     "output_type": "display_data"
    },
    {
     "name": "stdout",
     "output_type": "stream",
     "text": [
      "Canada\n"
     ]
    },
    {
     "data": {
      "image/png": "[encoded data removed]",
      "text/plain": [
       "<Figure size 576x396 with 1 Axes>"
      ]
     },
     "metadata": {},
     "output_type": "display_data"
    },
    {
     "name": "stdout",
     "output_type": "stream",
     "text": [
      "Denmark\n"
     ]
    },
    {
     "data": {
      "image/png": "[encoded data removed]",
      "text/plain": [
       "<Figure size 576x396 with 1 Axes>"
      ]
     },
     "metadata": {},
     "output_type": "display_data"
    },
    {
     "name": "stdout",
     "output_type": "stream",
     "text": [
      "Finland\n"
     ]
    },
    {
     "data": {
      "image/png": "[encoded data removed]",
      "text/plain": [
       "<Figure size 576x396 with 1 Axes>"
      ]
     },
     "metadata": {},
     "output_type": "display_data"
    },
    {
     "name": "stdout",
     "output_type": "stream",
     "text": [
      "France\n"
     ]
    },
    {
     "data": {
      "image/png": "[encoded data removed]",
      "text/plain": [
       "<Figure size 576x396 with 1 Axes>"
      ]
     },
     "metadata": {},
     "output_type": "display_data"
    },
    {
     "name": "stdout",
     "output_type": "stream",
     "text": [
      "Germany\n"
     ]
    },
    {
     "data": {
      "image/png": "[encoded data removed]",
      "text/plain": [
       "<Figure size 576x396 with 1 Axes>"
      ]
     },
     "metadata": {},
     "output_type": "display_data"
    },
    {
     "name": "stdout",
     "output_type": "stream",
     "text": [
      "Ireland\n"
     ]
    },
    {
     "data": {
      "image/png": "[encoded data removed]",
      "text/plain": [
       "<Figure size 576x396 with 1 Axes>"
      ]
     },
     "metadata": {},
     "output_type": "display_data"
    },
    {
     "name": "stdout",
     "output_type": "stream",
     "text": [
      "Italy\n"
     ]
    },
    {
     "data": {
      "image/png": "[encoded data removed]",
      "text/plain": [
       "<Figure size 576x396 with 1 Axes>"
      ]
     },
     "metadata": {},
     "output_type": "display_data"
    },
    {
     "name": "stdout",
     "output_type": "stream",
     "text": [
      "Mexico\n"
     ]
    },
    {
     "data": {
      "image/png": "[encoded data removed]",
      "text/plain": [
       "<Figure size 576x396 with 1 Axes>"
      ]
     },
     "metadata": {},
     "output_type": "display_data"
    },
    {
     "name": "stdout",
     "output_type": "stream",
     "text": [
      "Norway does not contain one of the groups.\n",
      "Poland does not contain one of the groups.\n",
      "Portugal\n"
     ]
    },
    {
     "data": {
      "image/png": "[encoded data removed]",
      "text/plain": [
       "<Figure size 576x396 with 1 Axes>"
      ]
     },
     "metadata": {},
     "output_type": "display_data"
    },
    {
     "name": "stdout",
     "output_type": "stream",
     "text": [
      "Spain\n"
     ]
    },
    {
     "data": {
      "image/png": "[encoded data removed]",
      "text/plain": [
       "<Figure size 576x396 with 1 Axes>"
      ]
     },
     "metadata": {},
     "output_type": "display_data"
    },
    {
     "name": "stdout",
     "output_type": "stream",
     "text": [
      "Sweden\n"
     ]
    },
    {
     "data": {
      "image/png": "[encoded data removed]",
      "text/plain": [
       "<Figure size 576x396 with 1 Axes>"
      ]
     },
     "metadata": {},
     "output_type": "display_data"
    },
    {
     "name": "stdout",
     "output_type": "stream",
     "text": [
      "Switzerland\n"
     ]
    },
    {
     "data": {
      "image/png": "[encoded data removed]",
      "text/plain": [
       "<Figure size 576x396 with 1 Axes>"
      ]
     },
     "metadata": {},
     "output_type": "display_data"
    },
    {
     "name": "stdout",
     "output_type": "stream",
     "text": [
      "UK\n"
     ]
    },
    {
     "data": {
      "image/png": "[encoded data removed]",
      "text/plain": [
       "<Figure size 576x396 with 1 Axes>"
      ]
     },
     "metadata": {},
     "output_type": "display_data"
    },
    {
     "name": "stdout",
     "output_type": "stream",
     "text": [
      "USA\n"
     ]
    },
    {
     "data": {
      "image/png": "[encoded data removed]",
      "text/plain": [
       "<Figure size 576x396 with 1 Axes>"
      ]
     },
     "metadata": {},
     "output_type": "display_data"
    },
    {
     "name": "stdout",
     "output_type": "stream",
     "text": [
      "Venezuela\n"
     ]
    },
    {
     "data": {
      "image/png": "[encoded data removed]",
      "text/plain": [
       "<Figure size 576x396 with 1 Axes>"
      ]
     },
     "metadata": {},
     "output_type": "display_data"
    }
   ],
   "source": [
    "# Check if sample sizes allow us to ignore assumptions;\n",
    "# visualize sample size comparisons for two groups (normality check)\n",
    "for k,v in countries.items():\n",
    "    try:\n",
    "        grp0 = df_countries.loc[v].groupby('discounted').get_group(0)['Quantity']\n",
    "        grp1 = df_countries.loc[v].groupby('discounted').get_group(1)['Quantity']\n",
    "        print(f\"{k}\")\n",
    "        import scipy.stats as stat\n",
    "        plt.bar(x='Full Price', height=grp0.mean(),\n",
    "               yerr=stat.sem(grp0))\n",
    "        plt.bar(x='Discounted', height=grp1.mean(),\n",
    "               yerr=stat.sem(grp1))\n",
    "        plt.show()\n",
    "    except:\n",
    "        print(f\"{k} does not contain one of the groups.\")"
   ]
  },
  {
   "cell_type": "markdown",
   "metadata": {},
   "source": [
    "### Normality Test"
   ]
  },
  {
   "cell_type": "code",
   "execution_count": 49,
   "metadata": {},
   "outputs": [
    {
     "data": {
      "text/plain": [
       "<matplotlib.axes._subplots.AxesSubplot at 0x1c2461b470>"
      ]
     },
     "execution_count": 49,
     "metadata": {},
     "output_type": "execute_result"
    },
    {
     "data": {
      "image/png": "[encoded data removed]",
      "text/plain": [
       "<Figure size 576x396 with 1 Axes>"
      ]
     },
     "metadata": {},
     "output_type": "display_data"
    }
   ],
   "source": [
    "sns.distplot(grp0)\n",
    "sns.distplot(grp1)"
   ]
  },
  {
   "cell_type": "code",
   "execution_count": 50,
   "metadata": {},
   "outputs": [
    {
     "data": {
      "text/plain": [
       "(NormaltestResult(statistic=9.316225653095811, pvalue=0.009484344125890621),\n",
       " NormaltestResult(statistic=10.255309993341813, pvalue=0.005930451108115991))"
      ]
     },
     "execution_count": 50,
     "metadata": {},
     "output_type": "execute_result"
    }
   ],
   "source": [
    "# Test for normality - D'Agostino-Pearson's normality test: scipy.stats.normaltest\n",
    "stat.normaltest(grp0), stat.normaltest(grp1)"
   ]
  },
  {
   "cell_type": "code",
   "execution_count": 51,
   "metadata": {},
   "outputs": [
    {
     "data": {
      "text/plain": [
       "MannwhitneyuResult(statistic=1632.5, pvalue=0.44935140740973323)"
      ]
     },
     "execution_count": 51,
     "metadata": {},
     "output_type": "execute_result"
    }
   ],
   "source": [
    "# Run non-parametric test (since normality test failed)\n",
    "stat.mannwhitneyu(grp0, grp1)"
   ]
  },
  {
   "cell_type": "markdown",
   "metadata": {},
   "source": [
    "**Canada, Spain, UK and the USA have pvalues < 0.05 indicating there is a relationship between discount and order quantity and the null hypothesis is rejected for these individual countries.**"
   ]
  },
  {
   "cell_type": "code",
   "execution_count": 52,
   "metadata": {
    "code_folding": []
   },
   "outputs": [
    {
     "name": "stdout",
     "output_type": "stream",
     "text": [
      "Argentina does not contain one of the groups.\n",
      "\n",
      "Canada PREFERS DISCOUNTS!\n",
      "Norway does not contain one of the groups.\n",
      "Poland does not contain one of the groups.\n",
      "\n",
      "Spain PREFERS DISCOUNTS!\n",
      "\n",
      "UK PREFERS DISCOUNTS!\n",
      "\n",
      "USA PREFERS DISCOUNTS!\n"
     ]
    }
   ],
   "source": [
    "# test normality assumption\n",
    "for k,v in countries.items():\n",
    "    try:\n",
    "        grp0 = df_countries.loc[v].groupby('discounted').get_group(0)['Quantity']\n",
    "        grp1 = df_countries.loc[v].groupby('discounted').get_group(1)['Quantity']\n",
    "        result = stat.ttest_ind(grp0,grp1)\n",
    "        if result[1] < 0.05:\n",
    "            print(f\"\\n{k} PREFERS DISCOUNTS!\")\n",
    "        else:\n",
    "            continue\n",
    "    except:\n",
    "        print(f\"{k} does not contain one of the groups.\")"
   ]
  },
  {
   "cell_type": "markdown",
   "metadata": {},
   "source": [
    "### Statistical Test"
   ]
  },
  {
   "cell_type": "code",
   "execution_count": 53,
   "metadata": {},
   "outputs": [
    {
     "name": "stderr",
     "output_type": "stream",
     "text": [
      "/Users/hakkeray/opt/anaconda3/envs/learn-env/lib/python3.6/site-packages/statsmodels/base/model.py:1752: ValueWarning: covariance of constraints does not have full rank. The number of constraints is 20, but rank is 18\n",
      "  'rank is %d' % (J, J_), ValueWarning)\n",
      "/Users/hakkeray/opt/anaconda3/envs/learn-env/lib/python3.6/site-packages/statsmodels/base/model.py:1752: ValueWarning: covariance of constraints does not have full rank. The number of constraints is 20, but rank is 18\n",
      "  'rank is %d' % (J, J_), ValueWarning)\n"
     ]
    }
   ],
   "source": [
    "import statsmodels.api as sm\n",
    "from statsmodels.formula.api import ols\n",
    "model = ols(\"Quantity~C(discounted)+C(ShipCountry)+C(discounted):C(ShipCountry)\", data=df_countries).fit()\n",
    "anova_table = sm.stats.anova_lm(model, typ=2)"
   ]
  },
  {
   "cell_type": "code",
   "execution_count": null,
   "metadata": {},
   "outputs": [],
   "source": [
    "# reformat scientific notation of results for easier interpretation\n",
    "anova_table.style.format(\"{:.5f}\", subset=['PR(>F)'])"
   ]
  },
  {
   "cell_type": "markdown",
   "metadata": {},
   "source": [
    "Although discount does not have a significant effect on countries overall (p = 0.99), there is a statistically significant relationship between order quantities and discount in some of the countries (p=0.0006).\n",
    "\n",
    "According to the SEM bar plots and ttest statistics above, countries showing a preference for discount include:\n",
    "* Spain\n",
    "* UK\n",
    "* Canada\n",
    "* USA"
   ]
  },
  {
   "cell_type": "markdown",
   "metadata": {},
   "source": [
    "### Effect Size"
   ]
  },
  {
   "cell_type": "markdown",
   "metadata": {},
   "source": [
    "Effect size testing is unnecessary since the null hypothesis for the main question was not rejected."
   ]
  },
  {
   "cell_type": "markdown",
   "metadata": {},
   "source": [
    "### Post-hoc Tests"
   ]
  },
  {
   "cell_type": "code",
   "execution_count": 54,
   "metadata": {},
   "outputs": [
    {
     "data": {
      "text/html": [
       "<div>\n",
       "<style scoped>\n",
       "    .dataframe tbody tr th:only-of-type {\n",
       "        vertical-align: middle;\n",
       "    }\n",
       "\n",
       "    .dataframe tbody tr th {\n",
       "        vertical-align: top;\n",
       "    }\n",
       "\n",
       "    .dataframe thead th {\n",
       "        text-align: right;\n",
       "    }\n",
       "</style>\n",
       "<table border=\"1\" class=\"dataframe\">\n",
       "  <thead>\n",
       "    <tr style=\"text-align: right;\">\n",
       "      <th></th>\n",
       "      <th>Id</th>\n",
       "      <th>OrderId</th>\n",
       "      <th>ProductId</th>\n",
       "      <th>UnitPrice</th>\n",
       "      <th>Quantity</th>\n",
       "      <th>Discount</th>\n",
       "      <th>discounted</th>\n",
       "      <th>OQD</th>\n",
       "      <th>CustomerId</th>\n",
       "      <th>EmployeeId</th>\n",
       "      <th>...</th>\n",
       "      <th>RequiredDate</th>\n",
       "      <th>ShippedDate</th>\n",
       "      <th>ShipVia</th>\n",
       "      <th>Freight</th>\n",
       "      <th>ShipName</th>\n",
       "      <th>ShipAddress</th>\n",
       "      <th>ShipCity</th>\n",
       "      <th>ShipRegion</th>\n",
       "      <th>ShipPostalCode</th>\n",
       "      <th>ShipCountry</th>\n",
       "    </tr>\n",
       "  </thead>\n",
       "  <tbody>\n",
       "    <tr>\n",
       "      <td>40</td>\n",
       "      <td>10262/5</td>\n",
       "      <td>10262</td>\n",
       "      <td>5</td>\n",
       "      <td>17.0</td>\n",
       "      <td>12</td>\n",
       "      <td>0.20</td>\n",
       "      <td>1</td>\n",
       "      <td>1.0</td>\n",
       "      <td>RATTC</td>\n",
       "      <td>8</td>\n",
       "      <td>...</td>\n",
       "      <td>2012-08-19</td>\n",
       "      <td>2012-07-25</td>\n",
       "      <td>3</td>\n",
       "      <td>48.29</td>\n",
       "      <td>Rattlesnake Canyon Grocery</td>\n",
       "      <td>2817 Milton Dr.</td>\n",
       "      <td>Albuquerque</td>\n",
       "      <td>North America</td>\n",
       "      <td>87110</td>\n",
       "      <td>USA</td>\n",
       "    </tr>\n",
       "    <tr>\n",
       "      <td>41</td>\n",
       "      <td>10262/7</td>\n",
       "      <td>10262</td>\n",
       "      <td>7</td>\n",
       "      <td>24.0</td>\n",
       "      <td>15</td>\n",
       "      <td>0.00</td>\n",
       "      <td>0</td>\n",
       "      <td>0.0</td>\n",
       "      <td>RATTC</td>\n",
       "      <td>8</td>\n",
       "      <td>...</td>\n",
       "      <td>2012-08-19</td>\n",
       "      <td>2012-07-25</td>\n",
       "      <td>3</td>\n",
       "      <td>48.29</td>\n",
       "      <td>Rattlesnake Canyon Grocery</td>\n",
       "      <td>2817 Milton Dr.</td>\n",
       "      <td>Albuquerque</td>\n",
       "      <td>North America</td>\n",
       "      <td>87110</td>\n",
       "      <td>USA</td>\n",
       "    </tr>\n",
       "    <tr>\n",
       "      <td>42</td>\n",
       "      <td>10262/56</td>\n",
       "      <td>10262</td>\n",
       "      <td>56</td>\n",
       "      <td>30.4</td>\n",
       "      <td>2</td>\n",
       "      <td>0.00</td>\n",
       "      <td>0</td>\n",
       "      <td>0.0</td>\n",
       "      <td>RATTC</td>\n",
       "      <td>8</td>\n",
       "      <td>...</td>\n",
       "      <td>2012-08-19</td>\n",
       "      <td>2012-07-25</td>\n",
       "      <td>3</td>\n",
       "      <td>48.29</td>\n",
       "      <td>Rattlesnake Canyon Grocery</td>\n",
       "      <td>2817 Milton Dr.</td>\n",
       "      <td>Albuquerque</td>\n",
       "      <td>North America</td>\n",
       "      <td>87110</td>\n",
       "      <td>USA</td>\n",
       "    </tr>\n",
       "    <tr>\n",
       "      <td>57</td>\n",
       "      <td>10269/33</td>\n",
       "      <td>10269</td>\n",
       "      <td>33</td>\n",
       "      <td>2.0</td>\n",
       "      <td>60</td>\n",
       "      <td>0.05</td>\n",
       "      <td>1</td>\n",
       "      <td>1.0</td>\n",
       "      <td>WHITC</td>\n",
       "      <td>5</td>\n",
       "      <td>...</td>\n",
       "      <td>2012-08-14</td>\n",
       "      <td>2012-08-09</td>\n",
       "      <td>1</td>\n",
       "      <td>4.56</td>\n",
       "      <td>White Clover Markets</td>\n",
       "      <td>1029 - 12th Ave. S.</td>\n",
       "      <td>Seattle</td>\n",
       "      <td>North America</td>\n",
       "      <td>98124</td>\n",
       "      <td>USA</td>\n",
       "    </tr>\n",
       "    <tr>\n",
       "      <td>58</td>\n",
       "      <td>10269/72</td>\n",
       "      <td>10269</td>\n",
       "      <td>72</td>\n",
       "      <td>27.8</td>\n",
       "      <td>20</td>\n",
       "      <td>0.05</td>\n",
       "      <td>1</td>\n",
       "      <td>1.0</td>\n",
       "      <td>WHITC</td>\n",
       "      <td>5</td>\n",
       "      <td>...</td>\n",
       "      <td>2012-08-14</td>\n",
       "      <td>2012-08-09</td>\n",
       "      <td>1</td>\n",
       "      <td>4.56</td>\n",
       "      <td>White Clover Markets</td>\n",
       "      <td>1029 - 12th Ave. S.</td>\n",
       "      <td>Seattle</td>\n",
       "      <td>North America</td>\n",
       "      <td>98124</td>\n",
       "      <td>USA</td>\n",
       "    </tr>\n",
       "  </tbody>\n",
       "</table>\n",
       "<p>5 rows × 21 columns</p>\n",
       "</div>"
      ],
      "text/plain": [
       "          Id  OrderId  ProductId  UnitPrice  Quantity  Discount  discounted  \\\n",
       "40   10262/5    10262          5       17.0        12      0.20           1   \n",
       "41   10262/7    10262          7       24.0        15      0.00           0   \n",
       "42  10262/56    10262         56       30.4         2      0.00           0   \n",
       "57  10269/33    10269         33        2.0        60      0.05           1   \n",
       "58  10269/72    10269         72       27.8        20      0.05           1   \n",
       "\n",
       "    OQD CustomerId  EmployeeId  ... RequiredDate ShippedDate ShipVia  Freight  \\\n",
       "40  1.0      RATTC           8  ...   2012-08-19  2012-07-25       3    48.29   \n",
       "41  0.0      RATTC           8  ...   2012-08-19  2012-07-25       3    48.29   \n",
       "42  0.0      RATTC           8  ...   2012-08-19  2012-07-25       3    48.29   \n",
       "57  1.0      WHITC           5  ...   2012-08-14  2012-08-09       1     4.56   \n",
       "58  1.0      WHITC           5  ...   2012-08-14  2012-08-09       1     4.56   \n",
       "\n",
       "                      ShipName          ShipAddress     ShipCity  \\\n",
       "40  Rattlesnake Canyon Grocery      2817 Milton Dr.  Albuquerque   \n",
       "41  Rattlesnake Canyon Grocery      2817 Milton Dr.  Albuquerque   \n",
       "42  Rattlesnake Canyon Grocery      2817 Milton Dr.  Albuquerque   \n",
       "57        White Clover Markets  1029 - 12th Ave. S.      Seattle   \n",
       "58        White Clover Markets  1029 - 12th Ave. S.      Seattle   \n",
       "\n",
       "       ShipRegion ShipPostalCode ShipCountry  \n",
       "40  North America          87110         USA  \n",
       "41  North America          87110         USA  \n",
       "42  North America          87110         USA  \n",
       "57  North America          98124         USA  \n",
       "58  North America          98124         USA  \n",
       "\n",
       "[5 rows x 21 columns]"
      ]
     },
     "execution_count": 54,
     "metadata": {},
     "output_type": "execute_result"
    }
   ],
   "source": [
    "# Part 2: To what extent (percentage difference) do countries order discount vs full price\n",
    "discountry_df = df_countries[df_countries.ShipCountry.isin(['Spain','UK','USA','Canada'])]\n",
    "discountry_df.head()"
   ]
  },
  {
   "cell_type": "code",
   "execution_count": 55,
   "metadata": {},
   "outputs": [],
   "source": [
    "#!pip install pandasql\n",
    "from pandasql import sqldf\n",
    "pysqldf = lambda q: sqldf(q, globals())"
   ]
  },
  {
   "cell_type": "code",
   "execution_count": 56,
   "metadata": {},
   "outputs": [
    {
     "data": {
      "image/png": "[encoded data removed]",
      "text/plain": [
       "<Figure size 1296x576 with 2 Axes>"
      ]
     },
     "metadata": {},
     "output_type": "display_data"
    }
   ],
   "source": [
    "# Plot comparison of discount orders vs fullprice orders for each country where a significant difference exists.\n",
    "#Spain\n",
    "q0 = \"SELECT ShipCountry, Count(*) from discountry_df where discounted = 0 group by 1;\"\n",
    "q1 = \"SELECT ShipCountry, Count(*) from discountry_df where discounted = 1 group by 1;\"\n",
    "\n",
    "fullprice_df = pysqldf(q0)\n",
    "discount_df = pysqldf(q1)\n",
    "\n",
    "# Create histograms for each query group\n",
    "fig, axes = plt.subplots(nrows=1, ncols=2, figsize=(18,8), sharex=True)\n",
    "\n",
    "ax0 = axes[0]\n",
    "fullprice_df.set_index('ShipCountry')['Count(*)'].plot(kind='barh', ax=ax0, color='purple')\n",
    "ax0.set_title('Distribution of Full Price Orders')\n",
    "\n",
    "ax1 = axes[1]\n",
    "discount_df.set_index('ShipCountry')['Count(*)'].plot(kind='barh', ax=ax1, color='green')\n",
    "ax1.set_title('Distribution of Discount Orders')\n",
    "plt.show()"
   ]
  },
  {
   "cell_type": "markdown",
   "metadata": {},
   "source": [
    "According to the plot above, the actual number of discounted orders is lower than the number of full price orders. Let's compare the sum of quantities for these orders in each group."
   ]
  },
  {
   "cell_type": "code",
   "execution_count": 57,
   "metadata": {},
   "outputs": [
    {
     "data": {
      "image/png": "[encoded data removed]",
      "text/plain": [
       "<Figure size 1296x576 with 2 Axes>"
      ]
     },
     "metadata": {},
     "output_type": "display_data"
    }
   ],
   "source": [
    "# Plot comparison of discount orders vs fullprice orders for each country where a significant difference exists.\n",
    "#Spain\n",
    "q0 = \"SELECT ShipCountry, SUM(Quantity) from discountry_df where discounted = 0 group by 1;\"\n",
    "q1 = \"SELECT ShipCountry, SUM(Quantity) from discountry_df where discounted = 1 group by 1;\"\n",
    "\n",
    "fullprice_df = pysqldf(q0)\n",
    "discount_df = pysqldf(q1)\n",
    "\n",
    "# Create histograms for each query group\n",
    "fig, axes = plt.subplots(nrows=1, ncols=2, figsize=(18,8), sharex=True)\n",
    "\n",
    "ax0 = axes[0]\n",
    "fullprice_df.set_index('ShipCountry')['SUM(Quantity)'].plot(kind='barh', ax=ax0, color='purple')\n",
    "ax0.set_title('Distribution of Full Price Quantity')\n",
    "\n",
    "ax1 = axes[1]\n",
    "discount_df.set_index('ShipCountry')['SUM(Quantity)'].plot(kind='barh', ax=ax1, color='green')\n",
    "ax1.set_title('Distribution of Discount Quantity')\n",
    "plt.show()"
   ]
  },
  {
   "cell_type": "markdown",
   "metadata": {},
   "source": [
    "This still doesn't tell us much about whether or not these countries prefer discounts (tend to order more products) or not - in order to get better insight, we need to look at the average order size (mean quantities per order) for each group."
   ]
  },
  {
   "cell_type": "code",
   "execution_count": 58,
   "metadata": {},
   "outputs": [
    {
     "data": {
      "image/png": "[encoded data removed]",
      "text/plain": [
       "<Figure size 1296x576 with 2 Axes>"
      ]
     },
     "metadata": {},
     "output_type": "display_data"
    }
   ],
   "source": [
    "# Plot comparison of discount orders vs fullprice orders for each country where a significant difference exists.\n",
    "#Spain\n",
    "q0 = \"SELECT ShipCountry, AVG(Quantity) from discountry_df where discounted = 0 group by 1;\"\n",
    "q1 = \"SELECT ShipCountry, AVG(Quantity) from discountry_df where discounted = 1 group by 1;\"\n",
    "\n",
    "fullprice_df = pysqldf(q0)\n",
    "discount_df = pysqldf(q1)\n",
    "\n",
    "# Create histograms for each query group\n",
    "fig, axes = plt.subplots(nrows=1, ncols=2, figsize=(18,8), sharex=True)\n",
    "\n",
    "ax0 = axes[0]\n",
    "fullprice_df.set_index('ShipCountry')['AVG(Quantity)'].plot(kind='barh', ax=ax0, color='purple')\n",
    "ax0.set_title('Distribution of Full Price Quantity')\n",
    "\n",
    "ax1 = axes[1]\n",
    "discount_df.set_index('ShipCountry')['AVG(Quantity)'].plot(kind='barh', ax=ax1, color='green')\n",
    "ax1.set_title('Distribution of Discount Quantity')\n",
    "plt.show()"
   ]
  },
  {
   "cell_type": "markdown",
   "metadata": {},
   "source": [
    "The above plots indicate that when a discount is offered, these individual countries do in fact tend to order higher quantities of products. Let's look at the values to determine what percentage more they purchase when an order is discounted."
   ]
  },
  {
   "cell_type": "code",
   "execution_count": 61,
   "metadata": {},
   "outputs": [],
   "source": [
    "q0 = \"SELECT ShipCountry, AVG(Quantity) as fpmean_qty from discountry_df where discounted = 0 group by 1;\"\n",
    "q1 = \"SELECT ShipCountry, AVG(Quantity) as dcmean_qty from discountry_df where discounted = 1 group by 1;\"\n",
    "q3 = \"SELECT ShipCountry, AVG(Quantity) as mean_qty from discountry_df group by 1;\"\n",
    "\n",
    "\n",
    "\n",
    "fp = pysqldf(q0)\n",
    "dc = pysqldf(q1)\n",
    "mean_qty = pysqldf(q3)\n",
    "\n",
    "country_mean_qty = fp\n",
    "country_mean_qty['dcmean_qty'] = dc['dcmean_qty']\n",
    "\n",
    "country_mean_qty['mean_diff'] = country_mean_qty.dcmean_qty - country_mean_qty.fpmean_qty\n",
    "country_mean_qty['mean_qty'] = mean_qty['mean_qty']\n",
    "\n",
    "#display(pysqldf(q0), pysqldf(q1))"
   ]
  },
  {
   "cell_type": "code",
   "execution_count": 62,
   "metadata": {},
   "outputs": [
    {
     "data": {
      "text/html": [
       "<div>\n",
       "<style scoped>\n",
       "    .dataframe tbody tr th:only-of-type {\n",
       "        vertical-align: middle;\n",
       "    }\n",
       "\n",
       "    .dataframe tbody tr th {\n",
       "        vertical-align: top;\n",
       "    }\n",
       "\n",
       "    .dataframe thead th {\n",
       "        text-align: right;\n",
       "    }\n",
       "</style>\n",
       "<table border=\"1\" class=\"dataframe\">\n",
       "  <thead>\n",
       "    <tr style=\"text-align: right;\">\n",
       "      <th></th>\n",
       "      <th>ShipCountry</th>\n",
       "      <th>fpmean_qty</th>\n",
       "      <th>dcmean_qty</th>\n",
       "      <th>mean_diff</th>\n",
       "      <th>mean_qty</th>\n",
       "    </tr>\n",
       "  </thead>\n",
       "  <tbody>\n",
       "    <tr>\n",
       "      <td>0</td>\n",
       "      <td>Canada</td>\n",
       "      <td>20.704545</td>\n",
       "      <td>34.612903</td>\n",
       "      <td>13.908358</td>\n",
       "      <td>26.453333</td>\n",
       "    </tr>\n",
       "    <tr>\n",
       "      <td>1</td>\n",
       "      <td>Spain</td>\n",
       "      <td>10.625000</td>\n",
       "      <td>20.928571</td>\n",
       "      <td>10.303571</td>\n",
       "      <td>13.296296</td>\n",
       "    </tr>\n",
       "    <tr>\n",
       "      <td>2</td>\n",
       "      <td>UK</td>\n",
       "      <td>17.944954</td>\n",
       "      <td>30.230769</td>\n",
       "      <td>12.285815</td>\n",
       "      <td>20.311111</td>\n",
       "    </tr>\n",
       "    <tr>\n",
       "      <td>3</td>\n",
       "      <td>USA</td>\n",
       "      <td>24.123810</td>\n",
       "      <td>30.028169</td>\n",
       "      <td>5.904359</td>\n",
       "      <td>26.505682</td>\n",
       "    </tr>\n",
       "  </tbody>\n",
       "</table>\n",
       "</div>"
      ],
      "text/plain": [
       "  ShipCountry  fpmean_qty  dcmean_qty  mean_diff   mean_qty\n",
       "0      Canada   20.704545   34.612903  13.908358  26.453333\n",
       "1       Spain   10.625000   20.928571  10.303571  13.296296\n",
       "2          UK   17.944954   30.230769  12.285815  20.311111\n",
       "3         USA   24.123810   30.028169   5.904359  26.505682"
      ]
     },
     "execution_count": 62,
     "metadata": {},
     "output_type": "execute_result"
    }
   ],
   "source": [
    "country_mean_qty                           "
   ]
  },
  {
   "cell_type": "markdown",
   "metadata": {},
   "source": [
    "## Results"
   ]
  },
  {
   "cell_type": "markdown",
   "metadata": {},
   "source": [
    "At alpha = 0.05 significance level, countries overall have no relationship with order quantity for discount vs full price and the null hypothesis is not rejected.\n",
    "\n",
    "However, for certain individual countries (Spain, Canada, UK, USA), the null hypothesis is rejected with p-values below 0.05."
   ]
  },
  {
   "cell_type": "markdown",
   "metadata": {},
   "source": [
    "# H3: Region & Revenue\n",
    "\n",
    "**Does average revenue per order vary between different customer regions?**\n",
    "\n",
    "**If so, how do the regions rank in terms of average revenue per order?**"
   ]
  },
  {
   "cell_type": "markdown",
   "metadata": {},
   "source": [
    "## Hypotheses\n",
    "\n",
    "$H_0$ the average revenue per order is the same between different customer regions.\n",
    "\n",
    "$H_1$ Alternate hypothesis: the average revenue per order is different (higher or lower) across different customer regions.\n",
    "\n",
    "*The alpha level (i.e. the probability of rejecting the null hypothesis when it is true) is = 0.05.*"
   ]
  },
  {
   "cell_type": "markdown",
   "metadata": {},
   "source": [
    "## EDA\n",
    "\n",
    "Select the proper dataset for analysis, generate data groups for testing, perform EDA."
   ]
  },
  {
   "cell_type": "markdown",
   "metadata": {},
   "source": [
    "### Select"
   ]
  },
  {
   "cell_type": "code",
   "execution_count": 63,
   "metadata": {},
   "outputs": [
    {
     "name": "stdout",
     "output_type": "stream",
     "text": [
      "2078\n"
     ]
    },
    {
     "data": {
      "text/html": [
       "<div>\n",
       "<style scoped>\n",
       "    .dataframe tbody tr th:only-of-type {\n",
       "        vertical-align: middle;\n",
       "    }\n",
       "\n",
       "    .dataframe tbody tr th {\n",
       "        vertical-align: top;\n",
       "    }\n",
       "\n",
       "    .dataframe thead th {\n",
       "        text-align: right;\n",
       "    }\n",
       "</style>\n",
       "<table border=\"1\" class=\"dataframe\">\n",
       "  <thead>\n",
       "    <tr style=\"text-align: right;\">\n",
       "      <th></th>\n",
       "      <th>Region</th>\n",
       "      <th>OrderId</th>\n",
       "      <th>Quantity</th>\n",
       "      <th>UnitPrice</th>\n",
       "      <th>Discount</th>\n",
       "    </tr>\n",
       "  </thead>\n",
       "  <tbody>\n",
       "    <tr>\n",
       "      <td>0</td>\n",
       "      <td>Western Europe</td>\n",
       "      <td>10248</td>\n",
       "      <td>12</td>\n",
       "      <td>14.0</td>\n",
       "      <td>0.0</td>\n",
       "    </tr>\n",
       "    <tr>\n",
       "      <td>1</td>\n",
       "      <td>Western Europe</td>\n",
       "      <td>10248</td>\n",
       "      <td>10</td>\n",
       "      <td>9.8</td>\n",
       "      <td>0.0</td>\n",
       "    </tr>\n",
       "    <tr>\n",
       "      <td>2</td>\n",
       "      <td>Western Europe</td>\n",
       "      <td>10248</td>\n",
       "      <td>5</td>\n",
       "      <td>34.8</td>\n",
       "      <td>0.0</td>\n",
       "    </tr>\n",
       "    <tr>\n",
       "      <td>3</td>\n",
       "      <td>Western Europe</td>\n",
       "      <td>10249</td>\n",
       "      <td>9</td>\n",
       "      <td>18.6</td>\n",
       "      <td>0.0</td>\n",
       "    </tr>\n",
       "    <tr>\n",
       "      <td>4</td>\n",
       "      <td>Western Europe</td>\n",
       "      <td>10249</td>\n",
       "      <td>40</td>\n",
       "      <td>42.4</td>\n",
       "      <td>0.0</td>\n",
       "    </tr>\n",
       "  </tbody>\n",
       "</table>\n",
       "</div>"
      ],
      "text/plain": [
       "           Region  OrderId  Quantity  UnitPrice  Discount\n",
       "0  Western Europe    10248        12       14.0       0.0\n",
       "1  Western Europe    10248        10        9.8       0.0\n",
       "2  Western Europe    10248         5       34.8       0.0\n",
       "3  Western Europe    10249         9       18.6       0.0\n",
       "4  Western Europe    10249        40       42.4       0.0"
      ]
     },
     "execution_count": 63,
     "metadata": {},
     "output_type": "execute_result"
    }
   ],
   "source": [
    "# Extract revenue per product per order\n",
    "cur.execute(\"\"\"SELECT c.Region, od.OrderId, od.Quantity, od.UnitPrice, od.Discount\n",
    "FROM Customer c\n",
    "JOIN 'Order' o ON c.Id = o.CustomerId\n",
    "JOIN OrderDetail od USING(OrderId);\"\"\")\n",
    "df = pd.DataFrame(cur.fetchall())\n",
    "df. columns = [i[0] for i in cur.description]\n",
    "print(len(df))\n",
    "df.head()"
   ]
  },
  {
   "cell_type": "code",
   "execution_count": 64,
   "metadata": {},
   "outputs": [],
   "source": [
    "# Get total revenue per order\n",
    "\n",
    "df['Revenue'] = df.Quantity * df.UnitPrice * (1-df.Discount)"
   ]
  },
  {
   "cell_type": "code",
   "execution_count": 65,
   "metadata": {},
   "outputs": [],
   "source": [
    "# Drop unnecessary columns\n",
    "df.drop(['Quantity', 'UnitPrice', 'Discount'], axis=1, inplace=True)"
   ]
  },
  {
   "cell_type": "markdown",
   "metadata": {},
   "source": [
    "### Group"
   ]
  },
  {
   "cell_type": "code",
   "execution_count": 66,
   "metadata": {},
   "outputs": [
    {
     "data": {
      "text/html": [
       "<div>\n",
       "<style scoped>\n",
       "    .dataframe tbody tr th:only-of-type {\n",
       "        vertical-align: middle;\n",
       "    }\n",
       "\n",
       "    .dataframe tbody tr th {\n",
       "        vertical-align: top;\n",
       "    }\n",
       "\n",
       "    .dataframe thead th {\n",
       "        text-align: right;\n",
       "    }\n",
       "</style>\n",
       "<table border=\"1\" class=\"dataframe\">\n",
       "  <thead>\n",
       "    <tr style=\"text-align: right;\">\n",
       "      <th></th>\n",
       "      <th>Region</th>\n",
       "      <th>Revenue</th>\n",
       "    </tr>\n",
       "  </thead>\n",
       "  <tbody>\n",
       "    <tr>\n",
       "      <td>0</td>\n",
       "      <td>British Isles</td>\n",
       "      <td>239.70</td>\n",
       "    </tr>\n",
       "    <tr>\n",
       "      <td>1</td>\n",
       "      <td>British Isles</td>\n",
       "      <td>661.25</td>\n",
       "    </tr>\n",
       "    <tr>\n",
       "      <td>2</td>\n",
       "      <td>British Isles</td>\n",
       "      <td>352.40</td>\n",
       "    </tr>\n",
       "    <tr>\n",
       "      <td>3</td>\n",
       "      <td>British Isles</td>\n",
       "      <td>258.40</td>\n",
       "    </tr>\n",
       "    <tr>\n",
       "      <td>4</td>\n",
       "      <td>British Isles</td>\n",
       "      <td>120.20</td>\n",
       "    </tr>\n",
       "  </tbody>\n",
       "</table>\n",
       "</div>"
      ],
      "text/plain": [
       "          Region  Revenue\n",
       "0  British Isles   239.70\n",
       "1  British Isles   661.25\n",
       "2  British Isles   352.40\n",
       "3  British Isles   258.40\n",
       "4  British Isles   120.20"
      ]
     },
     "execution_count": 66,
     "metadata": {},
     "output_type": "execute_result"
    }
   ],
   "source": [
    "# Group data by order and get average revenue per order for each region\n",
    "df_region = df.groupby(['Region', 'OrderId'])['Revenue'].mean().reset_index()\n",
    "# drop Order Id (no longer necessary)\n",
    "df_region.drop('OrderId', axis=1, inplace=True)\n",
    "# check changes\n",
    "df_region.head()"
   ]
  },
  {
   "cell_type": "code",
   "execution_count": 67,
   "metadata": {},
   "outputs": [
    {
     "data": {
      "text/html": [
       "<div>\n",
       "<style scoped>\n",
       "    .dataframe tbody tr th:only-of-type {\n",
       "        vertical-align: middle;\n",
       "    }\n",
       "\n",
       "    .dataframe tbody tr th {\n",
       "        vertical-align: top;\n",
       "    }\n",
       "\n",
       "    .dataframe thead th {\n",
       "        text-align: right;\n",
       "    }\n",
       "</style>\n",
       "<table border=\"1\" class=\"dataframe\">\n",
       "  <thead>\n",
       "    <tr style=\"text-align: right;\">\n",
       "      <th></th>\n",
       "      <th>Revenue</th>\n",
       "    </tr>\n",
       "    <tr>\n",
       "      <th>Region</th>\n",
       "      <th></th>\n",
       "    </tr>\n",
       "  </thead>\n",
       "  <tbody>\n",
       "    <tr>\n",
       "      <td>British Isles</td>\n",
       "      <td>75</td>\n",
       "    </tr>\n",
       "    <tr>\n",
       "      <td>Central America</td>\n",
       "      <td>21</td>\n",
       "    </tr>\n",
       "    <tr>\n",
       "      <td>Eastern Europe</td>\n",
       "      <td>7</td>\n",
       "    </tr>\n",
       "    <tr>\n",
       "      <td>North America</td>\n",
       "      <td>152</td>\n",
       "    </tr>\n",
       "    <tr>\n",
       "      <td>Northern Europe</td>\n",
       "      <td>55</td>\n",
       "    </tr>\n",
       "    <tr>\n",
       "      <td>Scandinavia</td>\n",
       "      <td>28</td>\n",
       "    </tr>\n",
       "    <tr>\n",
       "      <td>South America</td>\n",
       "      <td>127</td>\n",
       "    </tr>\n",
       "    <tr>\n",
       "      <td>Southern Europe</td>\n",
       "      <td>64</td>\n",
       "    </tr>\n",
       "    <tr>\n",
       "      <td>Western Europe</td>\n",
       "      <td>272</td>\n",
       "    </tr>\n",
       "  </tbody>\n",
       "</table>\n",
       "</div>"
      ],
      "text/plain": [
       "                 Revenue\n",
       "Region                  \n",
       "British Isles         75\n",
       "Central America       21\n",
       "Eastern Europe         7\n",
       "North America        152\n",
       "Northern Europe       55\n",
       "Scandinavia           28\n",
       "South America        127\n",
       "Southern Europe       64\n",
       "Western Europe       272"
      ]
     },
     "execution_count": 67,
     "metadata": {},
     "output_type": "execute_result"
    }
   ],
   "source": [
    "# Explore sample sizes before testing: n > 30 to pass assumptions\n",
    "df_region.groupby('Region').count()"
   ]
  },
  {
   "cell_type": "markdown",
   "metadata": {},
   "source": [
    "Some of the sample sizes are too small to ignore assumptions of normality. We can combine some regions to meet the required threshold of n > 30."
   ]
  },
  {
   "cell_type": "code",
   "execution_count": 68,
   "metadata": {},
   "outputs": [
    {
     "data": {
      "text/html": [
       "<div>\n",
       "<style scoped>\n",
       "    .dataframe tbody tr th:only-of-type {\n",
       "        vertical-align: middle;\n",
       "    }\n",
       "\n",
       "    .dataframe tbody tr th {\n",
       "        vertical-align: top;\n",
       "    }\n",
       "\n",
       "    .dataframe thead th {\n",
       "        text-align: right;\n",
       "    }\n",
       "</style>\n",
       "<table border=\"1\" class=\"dataframe\">\n",
       "  <thead>\n",
       "    <tr style=\"text-align: right;\">\n",
       "      <th></th>\n",
       "      <th>Revenue</th>\n",
       "    </tr>\n",
       "    <tr>\n",
       "      <th>Region</th>\n",
       "      <th></th>\n",
       "    </tr>\n",
       "  </thead>\n",
       "  <tbody>\n",
       "    <tr>\n",
       "      <td>British Isles</td>\n",
       "      <td>75</td>\n",
       "    </tr>\n",
       "    <tr>\n",
       "      <td>North America</td>\n",
       "      <td>152</td>\n",
       "    </tr>\n",
       "    <tr>\n",
       "      <td>North Europe</td>\n",
       "      <td>90</td>\n",
       "    </tr>\n",
       "    <tr>\n",
       "      <td>South Americas</td>\n",
       "      <td>148</td>\n",
       "    </tr>\n",
       "    <tr>\n",
       "      <td>Southern Europe</td>\n",
       "      <td>64</td>\n",
       "    </tr>\n",
       "    <tr>\n",
       "      <td>Western Europe</td>\n",
       "      <td>272</td>\n",
       "    </tr>\n",
       "  </tbody>\n",
       "</table>\n",
       "</div>"
      ],
      "text/plain": [
       "                 Revenue\n",
       "Region                  \n",
       "British Isles         75\n",
       "North America        152\n",
       "North Europe          90\n",
       "South Americas       148\n",
       "Southern Europe       64\n",
       "Western Europe       272"
      ]
     },
     "execution_count": 68,
     "metadata": {},
     "output_type": "execute_result"
    }
   ],
   "source": [
    "# Group sub-regions together to create sample sizes adequately large for ANOVA testing  (min 30)\n",
    "\n",
    "# Group Scandinavia, Northern and Eastern Europe\n",
    "df_region.loc[(df_region.Region == 'Scandinavia') | (df_region.Region == 'Eastern Europe') | (df_region.Region == 'Northern Europe'), 'Region'] = 'North Europe'\n",
    "\n",
    "# Group South and Central America\n",
    "df_region.loc[(df_region.Region == 'South America') | (df_region.Region == 'Central America'), 'Region'] = 'South Americas'\n",
    "\n",
    "# Review sizes of new groups\n",
    "df_region.groupby('Region').count()"
   ]
  },
  {
   "cell_type": "markdown",
   "metadata": {},
   "source": [
    "### Explore"
   ]
  },
  {
   "cell_type": "code",
   "execution_count": 74,
   "metadata": {},
   "outputs": [
    {
     "data": {
      "image/png": "[encoded data removed]",
      "text/plain": [
       "<Figure size 576x576 with 3 Axes>"
      ]
     },
     "metadata": {},
     "output_type": "display_data"
    }
   ],
   "source": [
    "# Plot number of orders, total revenue, and average revenue per order by region\n",
    "fig, (ax1, ax2, ax3) = plt.subplots(3, 1, figsize=(8,8))\n",
    "# Number of orders\n",
    "df_region.groupby(['Region'])['Revenue'].count().plot(kind='barh', ax=ax1)\n",
    "\n",
    "# Total Revenue\n",
    "df_region.groupby(['Region'])['Revenue'].sum().plot(kind='barh', ax=ax2)\n",
    "\n",
    "# Average Revenue\n",
    "df_region.groupby(['Region'])['Revenue'].mean().plot(kind='barh', ax=ax3)\n",
    "\n",
    "# Label plots and axes\n",
    "ax1.set_title('Total Orders')\n",
    "ax1.set_ylabel('')\n",
    "ax2.set_title('Total Revenue in US$')\n",
    "ax2.set_ylabel('')\n",
    "ax3.set_title('Average Revenue per Order US$')\n",
    "ax3.set_ylabel('')\n",
    "\n",
    "fig.subplots_adjust(hspace=0.4);"
   ]
  },
  {
   "cell_type": "markdown",
   "metadata": {},
   "source": [
    "## Test"
   ]
  },
  {
   "cell_type": "markdown",
   "metadata": {},
   "source": [
    "### Sample Size"
   ]
  },
  {
   "cell_type": "code",
   "execution_count": 83,
   "metadata": {},
   "outputs": [
    {
     "name": "stdout",
     "output_type": "stream",
     "text": [
      "NormaltestResult(statistic=339.9576854638769, pvalue=1.5105202827923603e-74)\n",
      "NormaltestResult(statistic=43.81961700014593, pvalue=3.0527487976334264e-10)\n",
      "NormaltestResult(statistic=77.63787783979987, pvalue=1.3840412490785474e-17)\n",
      "NormaltestResult(statistic=311.45736288265334, pvalue=2.3328830945007275e-68)\n",
      "NormaltestResult(statistic=136.230976580461, pvalue=2.617093889288348e-30)\n",
      "NormaltestResult(statistic=105.41475929189932, pvalue=1.286695743223332e-23)\n"
     ]
    },
    {
     "data": {
      "image/png": "[encoded data removed]",
      "text/plain": [
       "<Figure size 864x432 with 1 Axes>"
      ]
     },
     "metadata": {},
     "output_type": "display_data"
    }
   ],
   "source": [
    "# Check if sample sizes allow us to ignore assumptions;\n",
    "# visualize sample size comparisons \n",
    "\n",
    "regions = ['Western Europe', 'Southern Europe', 'North Europe', 'South Americas', 'North America', 'British Isles']\n",
    "fig = plt.figure(figsize=(12,6))\n",
    "for region in regions:\n",
    "    grp = df_region.groupby('Region').get_group(region)['Revenue']\n",
    "    plt.bar(x=region, height=grp.mean(), yerr=stat.sem(grp))\n",
    "    print(stat.normaltest(grp))\n",
    "plt.show()"
   ]
  },
  {
   "cell_type": "markdown",
   "metadata": {},
   "source": [
    "### Normality"
   ]
  },
  {
   "cell_type": "markdown",
   "metadata": {},
   "source": [
    "The graphs show that Western Europe is the region with the greatest number of orders, and also has the greatest total revenue. However, North America has the most expensive order on average (followed by Western Europe). Southern and Eastern Europe has the lowest number of orders, lowest total revenue, and cheapest order on average. The third graph lent support to the alternate hypothesis that there are significant differences in average order revenue between regions. "
   ]
  },
  {
   "cell_type": "markdown",
   "metadata": {},
   "source": [
    "### Statistical"
   ]
  },
  {
   "cell_type": "code",
   "execution_count": 84,
   "metadata": {},
   "outputs": [
    {
     "data": {
      "text/html": [
       "<style  type=\"text/css\" >\n",
       "</style><table id=\"T_4b875964_2437_11ea_a8dd_f40f2405a054\" ><thead>    <tr>        <th class=\"blank level0\" ></th>        <th class=\"col_heading level0 col0\" >sum_sq</th>        <th class=\"col_heading level0 col1\" >df</th>        <th class=\"col_heading level0 col2\" >F</th>        <th class=\"col_heading level0 col3\" >PR(>F)</th>    </tr></thead><tbody>\n",
       "                <tr>\n",
       "                        <th id=\"T_4b875964_2437_11ea_a8dd_f40f2405a054level0_row0\" class=\"row_heading level0 row0\" >C(Region)</th>\n",
       "                        <td id=\"T_4b875964_2437_11ea_a8dd_f40f2405a054row0_col0\" class=\"data row0 col0\" >1.03486e+07</td>\n",
       "                        <td id=\"T_4b875964_2437_11ea_a8dd_f40f2405a054row0_col1\" class=\"data row0 col1\" >5</td>\n",
       "                        <td id=\"T_4b875964_2437_11ea_a8dd_f40f2405a054row0_col2\" class=\"data row0 col2\" >3.98262e+30</td>\n",
       "                        <td id=\"T_4b875964_2437_11ea_a8dd_f40f2405a054row0_col3\" class=\"data row0 col3\" >0.00000</td>\n",
       "            </tr>\n",
       "            <tr>\n",
       "                        <th id=\"T_4b875964_2437_11ea_a8dd_f40f2405a054level0_row1\" class=\"row_heading level0 row1\" >Revenue:C(Region)</th>\n",
       "                        <td id=\"T_4b875964_2437_11ea_a8dd_f40f2405a054row1_col0\" class=\"data row1 col0\" >5.34162e+08</td>\n",
       "                        <td id=\"T_4b875964_2437_11ea_a8dd_f40f2405a054row1_col1\" class=\"data row1 col1\" >6</td>\n",
       "                        <td id=\"T_4b875964_2437_11ea_a8dd_f40f2405a054row1_col2\" class=\"data row1 col2\" >1.71309e+32</td>\n",
       "                        <td id=\"T_4b875964_2437_11ea_a8dd_f40f2405a054row1_col3\" class=\"data row1 col3\" >0.00000</td>\n",
       "            </tr>\n",
       "            <tr>\n",
       "                        <th id=\"T_4b875964_2437_11ea_a8dd_f40f2405a054level0_row2\" class=\"row_heading level0 row2\" >Residual</th>\n",
       "                        <td id=\"T_4b875964_2437_11ea_a8dd_f40f2405a054row2_col0\" class=\"data row2 col0\" >4.10034e-22</td>\n",
       "                        <td id=\"T_4b875964_2437_11ea_a8dd_f40f2405a054row2_col1\" class=\"data row2 col1\" >789</td>\n",
       "                        <td id=\"T_4b875964_2437_11ea_a8dd_f40f2405a054row2_col2\" class=\"data row2 col2\" >nan</td>\n",
       "                        <td id=\"T_4b875964_2437_11ea_a8dd_f40f2405a054row2_col3\" class=\"data row2 col3\" >nan</td>\n",
       "            </tr>\n",
       "    </tbody></table>"
      ],
      "text/plain": [
       "<pandas.io.formats.style.Styler at 0x1c244c0780>"
      ]
     },
     "execution_count": 84,
     "metadata": {},
     "output_type": "execute_result"
    }
   ],
   "source": [
    "import statsmodels.api as sm\n",
    "from statsmodels.formula.api import ols\n",
    "model = ols(\"Revenue~C(Region)+Revenue:C(Region)\", data=df_region).fit()\n",
    "anova_table = sm.stats.anova_lm(model, typ=2)\n",
    "# reformat scientific notation of results for easier interpretation\n",
    "anova_table.style.format(\"{:.5f}\", subset=['PR(>F)'])"
   ]
  },
  {
   "cell_type": "code",
   "execution_count": 85,
   "metadata": {},
   "outputs": [
    {
     "data": {
      "text/html": [
       "<div>\n",
       "<style scoped>\n",
       "    .dataframe tbody tr th:only-of-type {\n",
       "        vertical-align: middle;\n",
       "    }\n",
       "\n",
       "    .dataframe tbody tr th {\n",
       "        vertical-align: top;\n",
       "    }\n",
       "\n",
       "    .dataframe thead th {\n",
       "        text-align: right;\n",
       "    }\n",
       "</style>\n",
       "<table border=\"1\" class=\"dataframe\">\n",
       "  <thead>\n",
       "    <tr style=\"text-align: right;\">\n",
       "      <th></th>\n",
       "      <th>group1</th>\n",
       "      <th>group2</th>\n",
       "      <th>meandiff</th>\n",
       "      <th>p-adj</th>\n",
       "      <th>lower</th>\n",
       "      <th>upper</th>\n",
       "      <th>reject</th>\n",
       "    </tr>\n",
       "  </thead>\n",
       "  <tbody>\n",
       "    <tr>\n",
       "      <td>0</td>\n",
       "      <td>British Isles</td>\n",
       "      <td>North America</td>\n",
       "      <td>116.4615</td>\n",
       "      <td>0.9</td>\n",
       "      <td>-213.9625</td>\n",
       "      <td>446.8854</td>\n",
       "      <td>False</td>\n",
       "    </tr>\n",
       "    <tr>\n",
       "      <td>1</td>\n",
       "      <td>British Isles</td>\n",
       "      <td>North Europe</td>\n",
       "      <td>-88.1693</td>\n",
       "      <td>0.9</td>\n",
       "      <td>-454.2704</td>\n",
       "      <td>277.9318</td>\n",
       "      <td>False</td>\n",
       "    </tr>\n",
       "    <tr>\n",
       "      <td>2</td>\n",
       "      <td>British Isles</td>\n",
       "      <td>South Americas</td>\n",
       "      <td>-84.2501</td>\n",
       "      <td>0.9</td>\n",
       "      <td>-416.146</td>\n",
       "      <td>247.6458</td>\n",
       "      <td>False</td>\n",
       "    </tr>\n",
       "    <tr>\n",
       "      <td>3</td>\n",
       "      <td>British Isles</td>\n",
       "      <td>Southern Europe</td>\n",
       "      <td>-271.7815</td>\n",
       "      <td>0.3745</td>\n",
       "      <td>-670.2535</td>\n",
       "      <td>126.6904</td>\n",
       "      <td>False</td>\n",
       "    </tr>\n",
       "    <tr>\n",
       "      <td>4</td>\n",
       "      <td>British Isles</td>\n",
       "      <td>Western Europe</td>\n",
       "      <td>81.6889</td>\n",
       "      <td>0.9</td>\n",
       "      <td>-223.7052</td>\n",
       "      <td>387.083</td>\n",
       "      <td>False</td>\n",
       "    </tr>\n",
       "    <tr>\n",
       "      <td>5</td>\n",
       "      <td>North America</td>\n",
       "      <td>North Europe</td>\n",
       "      <td>-204.6308</td>\n",
       "      <td>0.4191</td>\n",
       "      <td>-516.0716</td>\n",
       "      <td>106.8101</td>\n",
       "      <td>False</td>\n",
       "    </tr>\n",
       "    <tr>\n",
       "      <td>6</td>\n",
       "      <td>North America</td>\n",
       "      <td>South Americas</td>\n",
       "      <td>-200.7115</td>\n",
       "      <td>0.2778</td>\n",
       "      <td>-471.1191</td>\n",
       "      <td>69.6961</td>\n",
       "      <td>False</td>\n",
       "    </tr>\n",
       "    <tr>\n",
       "      <td>7</td>\n",
       "      <td>North America</td>\n",
       "      <td>Southern Europe</td>\n",
       "      <td>-388.243</td>\n",
       "      <td>0.0191</td>\n",
       "      <td>-737.1631</td>\n",
       "      <td>-39.3228</td>\n",
       "      <td>True</td>\n",
       "    </tr>\n",
       "    <tr>\n",
       "      <td>8</td>\n",
       "      <td>North America</td>\n",
       "      <td>Western Europe</td>\n",
       "      <td>-34.7725</td>\n",
       "      <td>0.9</td>\n",
       "      <td>-271.9032</td>\n",
       "      <td>202.3581</td>\n",
       "      <td>False</td>\n",
       "    </tr>\n",
       "    <tr>\n",
       "      <td>9</td>\n",
       "      <td>North Europe</td>\n",
       "      <td>South Americas</td>\n",
       "      <td>3.9193</td>\n",
       "      <td>0.9</td>\n",
       "      <td>-309.0829</td>\n",
       "      <td>316.9214</td>\n",
       "      <td>False</td>\n",
       "    </tr>\n",
       "    <tr>\n",
       "      <td>10</td>\n",
       "      <td>North Europe</td>\n",
       "      <td>Southern Europe</td>\n",
       "      <td>-183.6122</td>\n",
       "      <td>0.7177</td>\n",
       "      <td>-566.4899</td>\n",
       "      <td>199.2655</td>\n",
       "      <td>False</td>\n",
       "    </tr>\n",
       "    <tr>\n",
       "      <td>11</td>\n",
       "      <td>North Europe</td>\n",
       "      <td>Western Europe</td>\n",
       "      <td>169.8582</td>\n",
       "      <td>0.5251</td>\n",
       "      <td>-114.889</td>\n",
       "      <td>454.6055</td>\n",
       "      <td>False</td>\n",
       "    </tr>\n",
       "    <tr>\n",
       "      <td>12</td>\n",
       "      <td>South Americas</td>\n",
       "      <td>Southern Europe</td>\n",
       "      <td>-187.5315</td>\n",
       "      <td>0.6259</td>\n",
       "      <td>-537.8459</td>\n",
       "      <td>162.783</td>\n",
       "      <td>False</td>\n",
       "    </tr>\n",
       "    <tr>\n",
       "      <td>13</td>\n",
       "      <td>South Americas</td>\n",
       "      <td>Western Europe</td>\n",
       "      <td>165.939</td>\n",
       "      <td>0.3541</td>\n",
       "      <td>-73.2385</td>\n",
       "      <td>405.1164</td>\n",
       "      <td>False</td>\n",
       "    </tr>\n",
       "    <tr>\n",
       "      <td>14</td>\n",
       "      <td>Southern Europe</td>\n",
       "      <td>Western Europe</td>\n",
       "      <td>353.4704</td>\n",
       "      <td>0.0242</td>\n",
       "      <td>28.1539</td>\n",
       "      <td>678.787</td>\n",
       "      <td>True</td>\n",
       "    </tr>\n",
       "  </tbody>\n",
       "</table>\n",
       "</div>"
      ],
      "text/plain": [
       "             group1           group2   meandiff   p-adj      lower     upper  \\\n",
       "0     British Isles    North America   116.4615     0.9  -213.9625  446.8854   \n",
       "1     British Isles     North Europe   -88.1693     0.9  -454.2704  277.9318   \n",
       "2     British Isles   South Americas   -84.2501     0.9   -416.146  247.6458   \n",
       "3     British Isles  Southern Europe  -271.7815  0.3745  -670.2535  126.6904   \n",
       "4     British Isles   Western Europe    81.6889     0.9  -223.7052   387.083   \n",
       "5     North America     North Europe  -204.6308  0.4191  -516.0716  106.8101   \n",
       "6     North America   South Americas  -200.7115  0.2778  -471.1191   69.6961   \n",
       "7     North America  Southern Europe   -388.243  0.0191  -737.1631  -39.3228   \n",
       "8     North America   Western Europe   -34.7725     0.9  -271.9032  202.3581   \n",
       "9      North Europe   South Americas     3.9193     0.9  -309.0829  316.9214   \n",
       "10     North Europe  Southern Europe  -183.6122  0.7177  -566.4899  199.2655   \n",
       "11     North Europe   Western Europe   169.8582  0.5251   -114.889  454.6055   \n",
       "12   South Americas  Southern Europe  -187.5315  0.6259  -537.8459   162.783   \n",
       "13   South Americas   Western Europe    165.939  0.3541   -73.2385  405.1164   \n",
       "14  Southern Europe   Western Europe   353.4704  0.0242    28.1539   678.787   \n",
       "\n",
       "   reject  \n",
       "0   False  \n",
       "1   False  \n",
       "2   False  \n",
       "3   False  \n",
       "4   False  \n",
       "5   False  \n",
       "6   False  \n",
       "7    True  \n",
       "8   False  \n",
       "9   False  \n",
       "10  False  \n",
       "11  False  \n",
       "12  False  \n",
       "13  False  \n",
       "14   True  "
      ]
     },
     "execution_count": 85,
     "metadata": {},
     "output_type": "execute_result"
    }
   ],
   "source": [
    "# run tukey test for OQD (Order Quantity Discount) \n",
    "data = df_region['Revenue'].values\n",
    "labels = df_region['Region'].values\n",
    "\n",
    "import statsmodels.api as sms\n",
    "model = sms.stats.multicomp.pairwise_tukeyhsd(data,labels)\n",
    "\n",
    "# save OQD tukey test model results into dataframe (OQD: order quantity discount)\n",
    "tukey_OQD = pd.DataFrame(data=model._results_table[1:], columns=model._results_table[0])\n",
    "tukey_OQD"
   ]
  },
  {
   "cell_type": "code",
   "execution_count": 86,
   "metadata": {},
   "outputs": [
    {
     "data": {
      "image/png": "[encoded data removed]",
      "text/plain": [
       "<Figure size 864x432 with 1 Axes>"
      ]
     },
     "execution_count": 86,
     "metadata": {},
     "output_type": "execute_result"
    }
   ],
   "source": [
    "fig"
   ]
  },
  {
   "cell_type": "markdown",
   "metadata": {},
   "source": [
    "## Results"
   ]
  },
  {
   "cell_type": "markdown",
   "metadata": {},
   "source": [
    "At an alpha level of 0.05 significance, revenue does vary between regions and therefore the null hypothesis is rejected."
   ]
  },
  {
   "cell_type": "markdown",
   "metadata": {},
   "source": [
    "# H4: Season--Quantity\n",
    "**Does average quantity per order vary by season / time of year?**\n",
    "\n",
    "**If so, which months?**"
   ]
  },
  {
   "cell_type": "markdown",
   "metadata": {},
   "source": [
    "## Hypotheses\n",
    "    \n",
    "* $𝐻_1$  : Time of year has a statistically significant effect on average quantity per order.\n",
    "\n",
    "* $𝐻_0$ : Time of year has no relationship with average quantity per order."
   ]
  },
  {
   "cell_type": "markdown",
   "metadata": {},
   "source": [
    "## EDA\n",
    "Select the proper dataset for analysis, perform EDA, and generate data groups for testing.\n",
    "\n",
    "       * group by month: determine mean number of orders, mean order quantity "
   ]
  },
  {
   "cell_type": "markdown",
   "metadata": {},
   "source": [
    "### Select"
   ]
  },
  {
   "cell_type": "code",
   "execution_count": 87,
   "metadata": {
    "scrolled": false
   },
   "outputs": [
    {
     "data": {
      "text/html": [
       "<div>\n",
       "<style scoped>\n",
       "    .dataframe tbody tr th:only-of-type {\n",
       "        vertical-align: middle;\n",
       "    }\n",
       "\n",
       "    .dataframe tbody tr th {\n",
       "        vertical-align: top;\n",
       "    }\n",
       "\n",
       "    .dataframe thead th {\n",
       "        text-align: right;\n",
       "    }\n",
       "</style>\n",
       "<table border=\"1\" class=\"dataframe\">\n",
       "  <thead>\n",
       "    <tr style=\"text-align: right;\">\n",
       "      <th></th>\n",
       "      <th>Id</th>\n",
       "      <th>OrderId</th>\n",
       "      <th>ProductId</th>\n",
       "      <th>UnitPrice</th>\n",
       "      <th>Quantity</th>\n",
       "      <th>Discount</th>\n",
       "      <th>discounted</th>\n",
       "      <th>OQD</th>\n",
       "      <th>CustomerId</th>\n",
       "      <th>EmployeeId</th>\n",
       "      <th>...</th>\n",
       "      <th>RequiredDate</th>\n",
       "      <th>ShippedDate</th>\n",
       "      <th>ShipVia</th>\n",
       "      <th>Freight</th>\n",
       "      <th>ShipName</th>\n",
       "      <th>ShipAddress</th>\n",
       "      <th>ShipCity</th>\n",
       "      <th>ShipRegion</th>\n",
       "      <th>ShipPostalCode</th>\n",
       "      <th>ShipCountry</th>\n",
       "    </tr>\n",
       "  </thead>\n",
       "  <tbody>\n",
       "    <tr>\n",
       "      <td>0</td>\n",
       "      <td>10248/11</td>\n",
       "      <td>10248</td>\n",
       "      <td>11</td>\n",
       "      <td>14.0</td>\n",
       "      <td>12</td>\n",
       "      <td>0.0</td>\n",
       "      <td>0</td>\n",
       "      <td>0.0</td>\n",
       "      <td>VINET</td>\n",
       "      <td>5</td>\n",
       "      <td>...</td>\n",
       "      <td>2012-08-01</td>\n",
       "      <td>2012-07-16</td>\n",
       "      <td>3</td>\n",
       "      <td>32.38</td>\n",
       "      <td>Vins et alcools Chevalier</td>\n",
       "      <td>59 rue de l'Abbaye</td>\n",
       "      <td>Reims</td>\n",
       "      <td>Western Europe</td>\n",
       "      <td>51100</td>\n",
       "      <td>France</td>\n",
       "    </tr>\n",
       "    <tr>\n",
       "      <td>1</td>\n",
       "      <td>10248/42</td>\n",
       "      <td>10248</td>\n",
       "      <td>42</td>\n",
       "      <td>9.8</td>\n",
       "      <td>10</td>\n",
       "      <td>0.0</td>\n",
       "      <td>0</td>\n",
       "      <td>0.0</td>\n",
       "      <td>VINET</td>\n",
       "      <td>5</td>\n",
       "      <td>...</td>\n",
       "      <td>2012-08-01</td>\n",
       "      <td>2012-07-16</td>\n",
       "      <td>3</td>\n",
       "      <td>32.38</td>\n",
       "      <td>Vins et alcools Chevalier</td>\n",
       "      <td>59 rue de l'Abbaye</td>\n",
       "      <td>Reims</td>\n",
       "      <td>Western Europe</td>\n",
       "      <td>51100</td>\n",
       "      <td>France</td>\n",
       "    </tr>\n",
       "    <tr>\n",
       "      <td>2</td>\n",
       "      <td>10248/72</td>\n",
       "      <td>10248</td>\n",
       "      <td>72</td>\n",
       "      <td>34.8</td>\n",
       "      <td>5</td>\n",
       "      <td>0.0</td>\n",
       "      <td>0</td>\n",
       "      <td>0.0</td>\n",
       "      <td>VINET</td>\n",
       "      <td>5</td>\n",
       "      <td>...</td>\n",
       "      <td>2012-08-01</td>\n",
       "      <td>2012-07-16</td>\n",
       "      <td>3</td>\n",
       "      <td>32.38</td>\n",
       "      <td>Vins et alcools Chevalier</td>\n",
       "      <td>59 rue de l'Abbaye</td>\n",
       "      <td>Reims</td>\n",
       "      <td>Western Europe</td>\n",
       "      <td>51100</td>\n",
       "      <td>France</td>\n",
       "    </tr>\n",
       "    <tr>\n",
       "      <td>3</td>\n",
       "      <td>10249/14</td>\n",
       "      <td>10249</td>\n",
       "      <td>14</td>\n",
       "      <td>18.6</td>\n",
       "      <td>9</td>\n",
       "      <td>0.0</td>\n",
       "      <td>0</td>\n",
       "      <td>0.0</td>\n",
       "      <td>TOMSP</td>\n",
       "      <td>6</td>\n",
       "      <td>...</td>\n",
       "      <td>2012-08-16</td>\n",
       "      <td>2012-07-10</td>\n",
       "      <td>1</td>\n",
       "      <td>11.61</td>\n",
       "      <td>Toms Spezialitäten</td>\n",
       "      <td>Luisenstr. 48</td>\n",
       "      <td>Münster</td>\n",
       "      <td>Western Europe</td>\n",
       "      <td>44087</td>\n",
       "      <td>Germany</td>\n",
       "    </tr>\n",
       "    <tr>\n",
       "      <td>4</td>\n",
       "      <td>10249/51</td>\n",
       "      <td>10249</td>\n",
       "      <td>51</td>\n",
       "      <td>42.4</td>\n",
       "      <td>40</td>\n",
       "      <td>0.0</td>\n",
       "      <td>0</td>\n",
       "      <td>0.0</td>\n",
       "      <td>TOMSP</td>\n",
       "      <td>6</td>\n",
       "      <td>...</td>\n",
       "      <td>2012-08-16</td>\n",
       "      <td>2012-07-10</td>\n",
       "      <td>1</td>\n",
       "      <td>11.61</td>\n",
       "      <td>Toms Spezialitäten</td>\n",
       "      <td>Luisenstr. 48</td>\n",
       "      <td>Münster</td>\n",
       "      <td>Western Europe</td>\n",
       "      <td>44087</td>\n",
       "      <td>Germany</td>\n",
       "    </tr>\n",
       "  </tbody>\n",
       "</table>\n",
       "<p>5 rows × 21 columns</p>\n",
       "</div>"
      ],
      "text/plain": [
       "         Id  OrderId  ProductId  UnitPrice  Quantity  Discount  discounted  \\\n",
       "0  10248/11    10248         11       14.0        12       0.0           0   \n",
       "1  10248/42    10248         42        9.8        10       0.0           0   \n",
       "2  10248/72    10248         72       34.8         5       0.0           0   \n",
       "3  10249/14    10249         14       18.6         9       0.0           0   \n",
       "4  10249/51    10249         51       42.4        40       0.0           0   \n",
       "\n",
       "   OQD CustomerId  EmployeeId  ... RequiredDate ShippedDate ShipVia  Freight  \\\n",
       "0  0.0      VINET           5  ...   2012-08-01  2012-07-16       3    32.38   \n",
       "1  0.0      VINET           5  ...   2012-08-01  2012-07-16       3    32.38   \n",
       "2  0.0      VINET           5  ...   2012-08-01  2012-07-16       3    32.38   \n",
       "3  0.0      TOMSP           6  ...   2012-08-16  2012-07-10       1    11.61   \n",
       "4  0.0      TOMSP           6  ...   2012-08-16  2012-07-10       1    11.61   \n",
       "\n",
       "                    ShipName         ShipAddress ShipCity      ShipRegion  \\\n",
       "0  Vins et alcools Chevalier  59 rue de l'Abbaye    Reims  Western Europe   \n",
       "1  Vins et alcools Chevalier  59 rue de l'Abbaye    Reims  Western Europe   \n",
       "2  Vins et alcools Chevalier  59 rue de l'Abbaye    Reims  Western Europe   \n",
       "3         Toms Spezialitäten       Luisenstr. 48  Münster  Western Europe   \n",
       "4         Toms Spezialitäten       Luisenstr. 48  Münster  Western Europe   \n",
       "\n",
       "  ShipPostalCode ShipCountry  \n",
       "0          51100      France  \n",
       "1          51100      France  \n",
       "2          51100      France  \n",
       "3          44087     Germany  \n",
       "4          44087     Germany  \n",
       "\n",
       "[5 rows x 21 columns]"
      ]
     },
     "execution_count": 87,
     "metadata": {},
     "output_type": "execute_result"
    }
   ],
   "source": [
    "df_month = df_orderDetail.merge(df_order, on='OrderId', copy=True)\n",
    "df_month.head()"
   ]
  },
  {
   "cell_type": "code",
   "execution_count": 88,
   "metadata": {},
   "outputs": [
    {
     "data": {
      "text/plain": [
       "0   2012-07-04\n",
       "1   2012-07-04\n",
       "2   2012-07-04\n",
       "3   2012-07-05\n",
       "4   2012-07-05\n",
       "Name: OrderDate, dtype: datetime64[ns]"
      ]
     },
     "execution_count": 88,
     "metadata": {},
     "output_type": "execute_result"
    }
   ],
   "source": [
    "pd.to_datetime(df_month['OrderDate']).head()"
   ]
  },
  {
   "cell_type": "code",
   "execution_count": 89,
   "metadata": {},
   "outputs": [
    {
     "data": {
      "text/plain": [
       "0   2012-07-04\n",
       "1   2012-07-04\n",
       "2   2012-07-04\n",
       "3   2012-07-05\n",
       "4   2012-07-05\n",
       "Name: OrderDate, dtype: datetime64[ns]"
      ]
     },
     "execution_count": 89,
     "metadata": {},
     "output_type": "execute_result"
    }
   ],
   "source": [
    "pd.to_datetime(df_month['OrderDate'], format='%Y/%m/%d').head()"
   ]
  },
  {
   "cell_type": "code",
   "execution_count": 90,
   "metadata": {
    "scrolled": false
   },
   "outputs": [
    {
     "data": {
      "text/html": [
       "<div>\n",
       "<style scoped>\n",
       "    .dataframe tbody tr th:only-of-type {\n",
       "        vertical-align: middle;\n",
       "    }\n",
       "\n",
       "    .dataframe tbody tr th {\n",
       "        vertical-align: top;\n",
       "    }\n",
       "\n",
       "    .dataframe thead th {\n",
       "        text-align: right;\n",
       "    }\n",
       "</style>\n",
       "<table border=\"1\" class=\"dataframe\">\n",
       "  <thead>\n",
       "    <tr style=\"text-align: right;\">\n",
       "      <th></th>\n",
       "      <th>Id</th>\n",
       "      <th>OrderId</th>\n",
       "      <th>ProductId</th>\n",
       "      <th>UnitPrice</th>\n",
       "      <th>Quantity</th>\n",
       "      <th>Discount</th>\n",
       "      <th>discounted</th>\n",
       "      <th>OQD</th>\n",
       "      <th>CustomerId</th>\n",
       "      <th>EmployeeId</th>\n",
       "      <th>...</th>\n",
       "      <th>ShipVia</th>\n",
       "      <th>Freight</th>\n",
       "      <th>ShipName</th>\n",
       "      <th>ShipAddress</th>\n",
       "      <th>ShipCity</th>\n",
       "      <th>ShipRegion</th>\n",
       "      <th>ShipPostalCode</th>\n",
       "      <th>ShipCountry</th>\n",
       "      <th>OrderMonth</th>\n",
       "      <th>OrderYear</th>\n",
       "    </tr>\n",
       "  </thead>\n",
       "  <tbody>\n",
       "    <tr>\n",
       "      <td>0</td>\n",
       "      <td>10248/11</td>\n",
       "      <td>10248</td>\n",
       "      <td>11</td>\n",
       "      <td>14.0</td>\n",
       "      <td>12</td>\n",
       "      <td>0.0</td>\n",
       "      <td>0</td>\n",
       "      <td>0.0</td>\n",
       "      <td>VINET</td>\n",
       "      <td>5</td>\n",
       "      <td>...</td>\n",
       "      <td>3</td>\n",
       "      <td>32.38</td>\n",
       "      <td>Vins et alcools Chevalier</td>\n",
       "      <td>59 rue de l'Abbaye</td>\n",
       "      <td>Reims</td>\n",
       "      <td>Western Europe</td>\n",
       "      <td>51100</td>\n",
       "      <td>France</td>\n",
       "      <td>7</td>\n",
       "      <td>2012</td>\n",
       "    </tr>\n",
       "    <tr>\n",
       "      <td>1</td>\n",
       "      <td>10248/42</td>\n",
       "      <td>10248</td>\n",
       "      <td>42</td>\n",
       "      <td>9.8</td>\n",
       "      <td>10</td>\n",
       "      <td>0.0</td>\n",
       "      <td>0</td>\n",
       "      <td>0.0</td>\n",
       "      <td>VINET</td>\n",
       "      <td>5</td>\n",
       "      <td>...</td>\n",
       "      <td>3</td>\n",
       "      <td>32.38</td>\n",
       "      <td>Vins et alcools Chevalier</td>\n",
       "      <td>59 rue de l'Abbaye</td>\n",
       "      <td>Reims</td>\n",
       "      <td>Western Europe</td>\n",
       "      <td>51100</td>\n",
       "      <td>France</td>\n",
       "      <td>7</td>\n",
       "      <td>2012</td>\n",
       "    </tr>\n",
       "    <tr>\n",
       "      <td>2</td>\n",
       "      <td>10248/72</td>\n",
       "      <td>10248</td>\n",
       "      <td>72</td>\n",
       "      <td>34.8</td>\n",
       "      <td>5</td>\n",
       "      <td>0.0</td>\n",
       "      <td>0</td>\n",
       "      <td>0.0</td>\n",
       "      <td>VINET</td>\n",
       "      <td>5</td>\n",
       "      <td>...</td>\n",
       "      <td>3</td>\n",
       "      <td>32.38</td>\n",
       "      <td>Vins et alcools Chevalier</td>\n",
       "      <td>59 rue de l'Abbaye</td>\n",
       "      <td>Reims</td>\n",
       "      <td>Western Europe</td>\n",
       "      <td>51100</td>\n",
       "      <td>France</td>\n",
       "      <td>7</td>\n",
       "      <td>2012</td>\n",
       "    </tr>\n",
       "    <tr>\n",
       "      <td>3</td>\n",
       "      <td>10249/14</td>\n",
       "      <td>10249</td>\n",
       "      <td>14</td>\n",
       "      <td>18.6</td>\n",
       "      <td>9</td>\n",
       "      <td>0.0</td>\n",
       "      <td>0</td>\n",
       "      <td>0.0</td>\n",
       "      <td>TOMSP</td>\n",
       "      <td>6</td>\n",
       "      <td>...</td>\n",
       "      <td>1</td>\n",
       "      <td>11.61</td>\n",
       "      <td>Toms Spezialitäten</td>\n",
       "      <td>Luisenstr. 48</td>\n",
       "      <td>Münster</td>\n",
       "      <td>Western Europe</td>\n",
       "      <td>44087</td>\n",
       "      <td>Germany</td>\n",
       "      <td>7</td>\n",
       "      <td>2012</td>\n",
       "    </tr>\n",
       "    <tr>\n",
       "      <td>4</td>\n",
       "      <td>10249/51</td>\n",
       "      <td>10249</td>\n",
       "      <td>51</td>\n",
       "      <td>42.4</td>\n",
       "      <td>40</td>\n",
       "      <td>0.0</td>\n",
       "      <td>0</td>\n",
       "      <td>0.0</td>\n",
       "      <td>TOMSP</td>\n",
       "      <td>6</td>\n",
       "      <td>...</td>\n",
       "      <td>1</td>\n",
       "      <td>11.61</td>\n",
       "      <td>Toms Spezialitäten</td>\n",
       "      <td>Luisenstr. 48</td>\n",
       "      <td>Münster</td>\n",
       "      <td>Western Europe</td>\n",
       "      <td>44087</td>\n",
       "      <td>Germany</td>\n",
       "      <td>7</td>\n",
       "      <td>2012</td>\n",
       "    </tr>\n",
       "  </tbody>\n",
       "</table>\n",
       "<p>5 rows × 23 columns</p>\n",
       "</div>"
      ],
      "text/plain": [
       "         Id  OrderId  ProductId  UnitPrice  Quantity  Discount  discounted  \\\n",
       "0  10248/11    10248         11       14.0        12       0.0           0   \n",
       "1  10248/42    10248         42        9.8        10       0.0           0   \n",
       "2  10248/72    10248         72       34.8         5       0.0           0   \n",
       "3  10249/14    10249         14       18.6         9       0.0           0   \n",
       "4  10249/51    10249         51       42.4        40       0.0           0   \n",
       "\n",
       "   OQD CustomerId  EmployeeId  ... ShipVia Freight                   ShipName  \\\n",
       "0  0.0      VINET           5  ...       3   32.38  Vins et alcools Chevalier   \n",
       "1  0.0      VINET           5  ...       3   32.38  Vins et alcools Chevalier   \n",
       "2  0.0      VINET           5  ...       3   32.38  Vins et alcools Chevalier   \n",
       "3  0.0      TOMSP           6  ...       1   11.61         Toms Spezialitäten   \n",
       "4  0.0      TOMSP           6  ...       1   11.61         Toms Spezialitäten   \n",
       "\n",
       "          ShipAddress  ShipCity      ShipRegion ShipPostalCode ShipCountry  \\\n",
       "0  59 rue de l'Abbaye     Reims  Western Europe          51100      France   \n",
       "1  59 rue de l'Abbaye     Reims  Western Europe          51100      France   \n",
       "2  59 rue de l'Abbaye     Reims  Western Europe          51100      France   \n",
       "3       Luisenstr. 48   Münster  Western Europe          44087     Germany   \n",
       "4       Luisenstr. 48   Münster  Western Europe          44087     Germany   \n",
       "\n",
       "  OrderMonth OrderYear  \n",
       "0          7      2012  \n",
       "1          7      2012  \n",
       "2          7      2012  \n",
       "3          7      2012  \n",
       "4          7      2012  \n",
       "\n",
       "[5 rows x 23 columns]"
      ]
     },
     "execution_count": 90,
     "metadata": {},
     "output_type": "execute_result"
    }
   ],
   "source": [
    "df_month['OrderMonth'] = pd.DatetimeIndex(df_month['OrderDate']).month\n",
    "df_month['OrderYear'] = pd.DatetimeIndex(df_month['OrderDate']).year\n",
    "df_month.head()"
   ]
  },
  {
   "cell_type": "markdown",
   "metadata": {},
   "source": [
    "### Group"
   ]
  },
  {
   "cell_type": "code",
   "execution_count": 91,
   "metadata": {},
   "outputs": [],
   "source": [
    "mqpo_m = df_month.groupby('OrderMonth')['Quantity'].mean()"
   ]
  },
  {
   "cell_type": "code",
   "execution_count": 93,
   "metadata": {},
   "outputs": [
    {
     "data": {
      "image/png": "[encoded data removed]",
      "text/plain": [
       "<Figure size 576x396 with 1 Axes>"
      ]
     },
     "metadata": {},
     "output_type": "display_data"
    }
   ],
   "source": [
    "# plot average order quantities by month\n",
    "for k,v in mqpo_m.items():\n",
    "    plt.bar(x=k, height=v)"
   ]
  },
  {
   "cell_type": "markdown",
   "metadata": {},
   "source": [
    "### Group"
   ]
  },
  {
   "cell_type": "code",
   "execution_count": 94,
   "metadata": {},
   "outputs": [
    {
     "data": {
      "text/html": [
       "<div>\n",
       "<style scoped>\n",
       "    .dataframe tbody tr th:only-of-type {\n",
       "        vertical-align: middle;\n",
       "    }\n",
       "\n",
       "    .dataframe tbody tr th {\n",
       "        vertical-align: top;\n",
       "    }\n",
       "\n",
       "    .dataframe thead th {\n",
       "        text-align: right;\n",
       "    }\n",
       "</style>\n",
       "<table border=\"1\" class=\"dataframe\">\n",
       "  <thead>\n",
       "    <tr style=\"text-align: right;\">\n",
       "      <th></th>\n",
       "      <th>OrderId</th>\n",
       "      <th>ProductId</th>\n",
       "      <th>UnitPrice</th>\n",
       "      <th>Quantity</th>\n",
       "      <th>Discount</th>\n",
       "      <th>ShipCountry</th>\n",
       "      <th>OrderMonth</th>\n",
       "      <th>OrderYear</th>\n",
       "    </tr>\n",
       "  </thead>\n",
       "  <tbody>\n",
       "    <tr>\n",
       "      <td>0</td>\n",
       "      <td>10248</td>\n",
       "      <td>11</td>\n",
       "      <td>14.0</td>\n",
       "      <td>12</td>\n",
       "      <td>0.0</td>\n",
       "      <td>France</td>\n",
       "      <td>7</td>\n",
       "      <td>2012</td>\n",
       "    </tr>\n",
       "    <tr>\n",
       "      <td>1</td>\n",
       "      <td>10248</td>\n",
       "      <td>42</td>\n",
       "      <td>9.8</td>\n",
       "      <td>10</td>\n",
       "      <td>0.0</td>\n",
       "      <td>France</td>\n",
       "      <td>7</td>\n",
       "      <td>2012</td>\n",
       "    </tr>\n",
       "    <tr>\n",
       "      <td>2</td>\n",
       "      <td>10248</td>\n",
       "      <td>72</td>\n",
       "      <td>34.8</td>\n",
       "      <td>5</td>\n",
       "      <td>0.0</td>\n",
       "      <td>France</td>\n",
       "      <td>7</td>\n",
       "      <td>2012</td>\n",
       "    </tr>\n",
       "    <tr>\n",
       "      <td>3</td>\n",
       "      <td>10249</td>\n",
       "      <td>14</td>\n",
       "      <td>18.6</td>\n",
       "      <td>9</td>\n",
       "      <td>0.0</td>\n",
       "      <td>Germany</td>\n",
       "      <td>7</td>\n",
       "      <td>2012</td>\n",
       "    </tr>\n",
       "    <tr>\n",
       "      <td>4</td>\n",
       "      <td>10249</td>\n",
       "      <td>51</td>\n",
       "      <td>42.4</td>\n",
       "      <td>40</td>\n",
       "      <td>0.0</td>\n",
       "      <td>Germany</td>\n",
       "      <td>7</td>\n",
       "      <td>2012</td>\n",
       "    </tr>\n",
       "  </tbody>\n",
       "</table>\n",
       "</div>"
      ],
      "text/plain": [
       "   OrderId  ProductId  UnitPrice  Quantity  Discount ShipCountry  OrderMonth  \\\n",
       "0    10248         11       14.0        12       0.0      France           7   \n",
       "1    10248         42        9.8        10       0.0      France           7   \n",
       "2    10248         72       34.8         5       0.0      France           7   \n",
       "3    10249         14       18.6         9       0.0     Germany           7   \n",
       "4    10249         51       42.4        40       0.0     Germany           7   \n",
       "\n",
       "   OrderYear  \n",
       "0       2012  \n",
       "1       2012  \n",
       "2       2012  \n",
       "3       2012  \n",
       "4       2012  "
      ]
     },
     "execution_count": 94,
     "metadata": {},
     "output_type": "execute_result"
    }
   ],
   "source": [
    "# create seasonal-based dataframe with only columns we need\n",
    "#keep_cols = ['OrderId', 'ProductId', 'UnitPrice', 'Quantity', 'ShipCountry', 'OrderMonth', 'OrderYear', 'Season']\n",
    "drop_cols = ['Id', 'discounted', 'OQD', 'CustomerId', 'EmployeeId', 'Freight', 'OrderDate', 'RequiredDate', 'ShippedDate', 'ShipVia', 'ShipName', 'ShipAddress', 'ShipCity', 'ShipRegion', 'ShipPostalCode']\n",
    "df_month.drop(drop_cols, axis=1, inplace=True)\n",
    "df_month.head()"
   ]
  },
  {
   "cell_type": "code",
   "execution_count": 95,
   "metadata": {
    "run_control": {
     "marked": false
    }
   },
   "outputs": [
    {
     "data": {
      "text/plain": [
       "587.374960324826"
      ]
     },
     "execution_count": 95,
     "metadata": {},
     "output_type": "execute_result"
    }
   ],
   "source": [
    "# Add another feature to examine: revenue\n",
    "df_month['Revenue'] = df_month.UnitPrice * df_month.Quantity * (1 - df_month.Discount)\n",
    "df_month.Revenue.mean()"
   ]
  },
  {
   "cell_type": "markdown",
   "metadata": {},
   "source": [
    "## Test"
   ]
  },
  {
   "cell_type": "markdown",
   "metadata": {},
   "source": [
    "### Sample Size"
   ]
  },
  {
   "cell_type": "code",
   "execution_count": 549,
   "metadata": {},
   "outputs": [],
   "source": [
    "\n",
    "# Check if sample sizes allow us to ignore assumptions;\n",
    "# visualize sample size comparisons for two groups (normality check)\n"
   ]
  },
  {
   "cell_type": "code",
   "execution_count": 96,
   "metadata": {},
   "outputs": [
    {
     "data": {
      "text/html": [
       "<style  type=\"text/css\" >\n",
       "</style><table id=\"T_8b941706_2437_11ea_acc8_f40f2405a054\" ><thead>    <tr>        <th class=\"blank level0\" ></th>        <th class=\"col_heading level0 col0\" >sum_sq</th>        <th class=\"col_heading level0 col1\" >df</th>        <th class=\"col_heading level0 col2\" >F</th>        <th class=\"col_heading level0 col3\" >PR(>F)</th>    </tr></thead><tbody>\n",
       "                <tr>\n",
       "                        <th id=\"T_8b941706_2437_11ea_acc8_f40f2405a054level0_row0\" class=\"row_heading level0 row0\" >C(OrderMonth)</th>\n",
       "                        <td id=\"T_8b941706_2437_11ea_acc8_f40f2405a054row0_col0\" class=\"data row0 col0\" >7395.98</td>\n",
       "                        <td id=\"T_8b941706_2437_11ea_acc8_f40f2405a054row0_col1\" class=\"data row0 col1\" >11</td>\n",
       "                        <td id=\"T_8b941706_2437_11ea_acc8_f40f2405a054row0_col2\" class=\"data row0 col2\" >2.94204e+29</td>\n",
       "                        <td id=\"T_8b941706_2437_11ea_acc8_f40f2405a054row0_col3\" class=\"data row0 col3\" >0.00000</td>\n",
       "            </tr>\n",
       "            <tr>\n",
       "                        <th id=\"T_8b941706_2437_11ea_acc8_f40f2405a054level0_row1\" class=\"row_heading level0 row1\" >Quantity:C(OrderMonth)</th>\n",
       "                        <td id=\"T_8b941706_2437_11ea_acc8_f40f2405a054row1_col0\" class=\"data row1 col0\" >772004</td>\n",
       "                        <td id=\"T_8b941706_2437_11ea_acc8_f40f2405a054row1_col1\" class=\"data row1 col1\" >12</td>\n",
       "                        <td id=\"T_8b941706_2437_11ea_acc8_f40f2405a054row1_col2\" class=\"data row1 col2\" >2.81504e+31</td>\n",
       "                        <td id=\"T_8b941706_2437_11ea_acc8_f40f2405a054row1_col3\" class=\"data row1 col3\" >0.00000</td>\n",
       "            </tr>\n",
       "            <tr>\n",
       "                        <th id=\"T_8b941706_2437_11ea_acc8_f40f2405a054level0_row2\" class=\"row_heading level0 row2\" >Residual</th>\n",
       "                        <td id=\"T_8b941706_2437_11ea_acc8_f40f2405a054row2_col0\" class=\"data row2 col0\" >4.87009e-24</td>\n",
       "                        <td id=\"T_8b941706_2437_11ea_acc8_f40f2405a054row2_col1\" class=\"data row2 col1\" >2131</td>\n",
       "                        <td id=\"T_8b941706_2437_11ea_acc8_f40f2405a054row2_col2\" class=\"data row2 col2\" >nan</td>\n",
       "                        <td id=\"T_8b941706_2437_11ea_acc8_f40f2405a054row2_col3\" class=\"data row2 col3\" >nan</td>\n",
       "            </tr>\n",
       "    </tbody></table>"
      ],
      "text/plain": [
       "<pandas.io.formats.style.Styler at 0x1c23d1a9e8>"
      ]
     },
     "execution_count": 96,
     "metadata": {},
     "output_type": "execute_result"
    }
   ],
   "source": [
    "# Anova Test - Season + Quantity ()\n",
    "\n",
    "import statsmodels.api as sm\n",
    "from statsmodels.formula.api import ols\n",
    "model = ols(\"Quantity~C(OrderMonth)+Quantity:C(OrderMonth)\", data=df_month).fit()\n",
    "anova_table = sm.stats.anova_lm(model, typ=2)\n",
    "# reformat scientific notation of results for easier interpretation\n",
    "anova_table.style.format(\"{:.5f}\", subset=['PR(>F)'])"
   ]
  },
  {
   "cell_type": "code",
   "execution_count": 557,
   "metadata": {},
   "outputs": [
    {
     "data": {
      "text/plain": [
       "[Text(-40.0, 0, '−40'),\n",
       " Text(-20.0, 0, '−20'),\n",
       " Text(0.0, 0, '0'),\n",
       " Text(20.0, 0, '20'),\n",
       " Text(40.0, 0, '40'),\n",
       " Text(60.0, 0, '60'),\n",
       " Text(80.0, 0, '80'),\n",
       " Text(100.0, 0, '100'),\n",
       " Text(120.0, 0, '120'),\n",
       " Text(140.0, 0, '140'),\n",
       " Text(160.0, 0, '160')]"
      ]
     },
     "execution_count": 557,
     "metadata": {},
     "output_type": "execute_result"
    }
   ],
   "source": [
    "# Create keywords for .set_xticklabels()\n",
    "tick_kwds = dict(horizontalalignment='right', \n",
    "                  fontweight='light', \n",
    "                  fontsize='x-large',   \n",
    "                  rotation=45)\n",
    "\n",
    "ax.set_xticklabels(ax.get_xticklabels(),**tick_kwds)"
   ]
  },
  {
   "cell_type": "markdown",
   "metadata": {},
   "source": [
    "### Normality"
   ]
  },
  {
   "cell_type": "markdown",
   "metadata": {},
   "source": [
    "If you have 2-9 groups, each group should be greater than 15.\n",
    "If you have 10-12 groups, each group should be greater than 20.\n",
    "\n",
    "If the mean accurately represents the center of your distribution and your sample size is large enough, consider a parametric test because they are more powerful.\n",
    "\n",
    "If the median better represents the center of your distribution, consider the nonparametric test even when you have a large sample.\n",
    "\n",
    "Finally, if you have a very small sample size, you might be stuck using a nonparametric test.\n",
    "\n",
    "Your chance of detecting a significant effect when one exists can be very small when you have both a small sample size and you need to use a less efficient nonparametric test!"
   ]
  },
  {
   "cell_type": "markdown",
   "metadata": {},
   "source": [
    "### Statistical"
   ]
  },
  {
   "cell_type": "code",
   "execution_count": 97,
   "metadata": {},
   "outputs": [
    {
     "data": {
      "text/html": [
       "<div>\n",
       "<style scoped>\n",
       "    .dataframe tbody tr th:only-of-type {\n",
       "        vertical-align: middle;\n",
       "    }\n",
       "\n",
       "    .dataframe tbody tr th {\n",
       "        vertical-align: top;\n",
       "    }\n",
       "\n",
       "    .dataframe thead th {\n",
       "        text-align: right;\n",
       "    }\n",
       "</style>\n",
       "<table border=\"1\" class=\"dataframe\">\n",
       "  <thead>\n",
       "    <tr style=\"text-align: right;\">\n",
       "      <th></th>\n",
       "      <th>group1</th>\n",
       "      <th>group2</th>\n",
       "      <th>meandiff</th>\n",
       "      <th>p-adj</th>\n",
       "      <th>lower</th>\n",
       "      <th>upper</th>\n",
       "      <th>reject</th>\n",
       "    </tr>\n",
       "  </thead>\n",
       "  <tbody>\n",
       "    <tr>\n",
       "      <td>0</td>\n",
       "      <td>1</td>\n",
       "      <td>2</td>\n",
       "      <td>1.3492</td>\n",
       "      <td>0.9</td>\n",
       "      <td>-4.6052</td>\n",
       "      <td>7.3037</td>\n",
       "      <td>False</td>\n",
       "    </tr>\n",
       "    <tr>\n",
       "      <td>1</td>\n",
       "      <td>1</td>\n",
       "      <td>3</td>\n",
       "      <td>-1.8729</td>\n",
       "      <td>0.9</td>\n",
       "      <td>-7.4759</td>\n",
       "      <td>3.73</td>\n",
       "      <td>False</td>\n",
       "    </tr>\n",
       "    <tr>\n",
       "      <td>2</td>\n",
       "      <td>1</td>\n",
       "      <td>4</td>\n",
       "      <td>0.5014</td>\n",
       "      <td>0.9</td>\n",
       "      <td>-5.0704</td>\n",
       "      <td>6.0733</td>\n",
       "      <td>False</td>\n",
       "    </tr>\n",
       "    <tr>\n",
       "      <td>3</td>\n",
       "      <td>1</td>\n",
       "      <td>5</td>\n",
       "      <td>-4.852</td>\n",
       "      <td>0.358</td>\n",
       "      <td>-11.2668</td>\n",
       "      <td>1.5627</td>\n",
       "      <td>False</td>\n",
       "    </tr>\n",
       "    <tr>\n",
       "      <td>4</td>\n",
       "      <td>1</td>\n",
       "      <td>6</td>\n",
       "      <td>-3.2421</td>\n",
       "      <td>0.9</td>\n",
       "      <td>-11.428</td>\n",
       "      <td>4.9438</td>\n",
       "      <td>False</td>\n",
       "    </tr>\n",
       "    <tr>\n",
       "      <td>...</td>\n",
       "      <td>...</td>\n",
       "      <td>...</td>\n",
       "      <td>...</td>\n",
       "      <td>...</td>\n",
       "      <td>...</td>\n",
       "      <td>...</td>\n",
       "      <td>...</td>\n",
       "    </tr>\n",
       "    <tr>\n",
       "      <td>61</td>\n",
       "      <td>9</td>\n",
       "      <td>11</td>\n",
       "      <td>0.3585</td>\n",
       "      <td>0.9</td>\n",
       "      <td>-6.73</td>\n",
       "      <td>7.4471</td>\n",
       "      <td>False</td>\n",
       "    </tr>\n",
       "    <tr>\n",
       "      <td>62</td>\n",
       "      <td>9</td>\n",
       "      <td>12</td>\n",
       "      <td>2.2267</td>\n",
       "      <td>0.9</td>\n",
       "      <td>-4.4923</td>\n",
       "      <td>8.9457</td>\n",
       "      <td>False</td>\n",
       "    </tr>\n",
       "    <tr>\n",
       "      <td>63</td>\n",
       "      <td>10</td>\n",
       "      <td>11</td>\n",
       "      <td>-1.5082</td>\n",
       "      <td>0.9</td>\n",
       "      <td>-8.3215</td>\n",
       "      <td>5.3051</td>\n",
       "      <td>False</td>\n",
       "    </tr>\n",
       "    <tr>\n",
       "      <td>64</td>\n",
       "      <td>10</td>\n",
       "      <td>12</td>\n",
       "      <td>0.3599</td>\n",
       "      <td>0.9</td>\n",
       "      <td>-6.068</td>\n",
       "      <td>6.7878</td>\n",
       "      <td>False</td>\n",
       "    </tr>\n",
       "    <tr>\n",
       "      <td>65</td>\n",
       "      <td>11</td>\n",
       "      <td>12</td>\n",
       "      <td>1.8682</td>\n",
       "      <td>0.9</td>\n",
       "      <td>-4.8142</td>\n",
       "      <td>8.5505</td>\n",
       "      <td>False</td>\n",
       "    </tr>\n",
       "  </tbody>\n",
       "</table>\n",
       "<p>66 rows × 7 columns</p>\n",
       "</div>"
      ],
      "text/plain": [
       "   group1 group2 meandiff  p-adj     lower   upper reject\n",
       "0       1      2   1.3492    0.9   -4.6052  7.3037  False\n",
       "1       1      3  -1.8729    0.9   -7.4759    3.73  False\n",
       "2       1      4   0.5014    0.9   -5.0704  6.0733  False\n",
       "3       1      5   -4.852  0.358  -11.2668  1.5627  False\n",
       "4       1      6  -3.2421    0.9   -11.428  4.9438  False\n",
       "..    ...    ...      ...    ...       ...     ...    ...\n",
       "61      9     11   0.3585    0.9     -6.73  7.4471  False\n",
       "62      9     12   2.2267    0.9   -4.4923  8.9457  False\n",
       "63     10     11  -1.5082    0.9   -8.3215  5.3051  False\n",
       "64     10     12   0.3599    0.9    -6.068  6.7878  False\n",
       "65     11     12   1.8682    0.9   -4.8142  8.5505  False\n",
       "\n",
       "[66 rows x 7 columns]"
      ]
     },
     "execution_count": 97,
     "metadata": {},
     "output_type": "execute_result"
    }
   ],
   "source": [
    "# run tukey test for OQD (Order Quantity Discount) \n",
    "data = df_month['Quantity'].values\n",
    "labels = df_month['OrderMonth'].values\n",
    "\n",
    "import statsmodels.api as sms\n",
    "model = sms.stats.multicomp.pairwise_tukeyhsd(data,labels)\n",
    "\n",
    "# save OQD tukey test model results into dataframe (OQD: order quantity discount)\n",
    "tukey_OQD = pd.DataFrame(data=model._results_table[1:], columns=model._results_table[0])\n",
    "tukey_OQD"
   ]
  },
  {
   "cell_type": "markdown",
   "metadata": {},
   "source": [
    "## Results"
   ]
  },
  {
   "cell_type": "markdown",
   "metadata": {},
   "source": [
    "At a significance level of alpha = 0.05, we reject the null hypothesis which states there is no relationship between time of year (season) and sales revenue or volume of units sold. "
   ]
  },
  {
   "cell_type": "markdown",
   "metadata": {},
   "source": [
    "# Future Work"
   ]
  },
  {
   "cell_type": "markdown",
   "metadata": {},
   "source": [
    "Questions to explore in future analyses might include:\n",
    "\n",
    "1. Build a product recommendation tool\n",
    "\n",
    "2. Create discounts or free shipping offers to increase sales volumes past a certain threshold.\n",
    "- Shipping Costs and Order Quantities/Sales Revenue\n",
    "*Does shipping cost (freight) have a statistically significant effect on quantity? If so, at what level(s) of shipping cost?*\n",
    "\n",
    "3. Customer Type and Product Category\n",
    "\n",
    "*Is there a relationship between type of customer and certain product categories? If so, we can run more highly targeted sales and marketing programs for increasing sales of certain products to certain market segments.* \n",
    "\n"
   ]
  },
  {
   "cell_type": "markdown",
   "metadata": {},
   "source": [
    "# metricks\n",
    "\n",
    "1. What were the top 3 selling products overall?\n",
    "2. Top 3 selling products by country?\n",
    "3. Top 3 selling products by region?\n",
    "4. How did we do in sales for each product category?\n",
    "5. Can we group customers into customer types (fill the empty database) and build a product recommendation tool?"
   ]
  },
  {
   "cell_type": "code",
   "execution_count": 455,
   "metadata": {},
   "outputs": [
    {
     "name": "stdout",
     "output_type": "stream",
     "text": [
      "2155\n"
     ]
    },
    {
     "data": {
      "text/html": [
       "<div>\n",
       "<style scoped>\n",
       "    .dataframe tbody tr th:only-of-type {\n",
       "        vertical-align: middle;\n",
       "    }\n",
       "\n",
       "    .dataframe tbody tr th {\n",
       "        vertical-align: top;\n",
       "    }\n",
       "\n",
       "    .dataframe thead th {\n",
       "        text-align: right;\n",
       "    }\n",
       "</style>\n",
       "<table border=\"1\" class=\"dataframe\">\n",
       "  <thead>\n",
       "    <tr style=\"text-align: right;\">\n",
       "      <th></th>\n",
       "      <th>OrderId</th>\n",
       "      <th>CustomerId</th>\n",
       "      <th>ProductId</th>\n",
       "      <th>Quantity</th>\n",
       "      <th>UnitPrice</th>\n",
       "      <th>Revenue</th>\n",
       "      <th>CategoryId</th>\n",
       "      <th>CategoryName</th>\n",
       "    </tr>\n",
       "  </thead>\n",
       "  <tbody>\n",
       "    <tr>\n",
       "      <td>0</td>\n",
       "      <td>10248</td>\n",
       "      <td>VINET</td>\n",
       "      <td>11</td>\n",
       "      <td>12</td>\n",
       "      <td>14.0</td>\n",
       "      <td>168.0</td>\n",
       "      <td>4</td>\n",
       "      <td>Dairy Products</td>\n",
       "    </tr>\n",
       "    <tr>\n",
       "      <td>1</td>\n",
       "      <td>10248</td>\n",
       "      <td>VINET</td>\n",
       "      <td>42</td>\n",
       "      <td>10</td>\n",
       "      <td>9.8</td>\n",
       "      <td>98.0</td>\n",
       "      <td>5</td>\n",
       "      <td>Grains/Cereals</td>\n",
       "    </tr>\n",
       "    <tr>\n",
       "      <td>2</td>\n",
       "      <td>10248</td>\n",
       "      <td>VINET</td>\n",
       "      <td>72</td>\n",
       "      <td>5</td>\n",
       "      <td>34.8</td>\n",
       "      <td>174.0</td>\n",
       "      <td>4</td>\n",
       "      <td>Dairy Products</td>\n",
       "    </tr>\n",
       "    <tr>\n",
       "      <td>3</td>\n",
       "      <td>10249</td>\n",
       "      <td>TOMSP</td>\n",
       "      <td>14</td>\n",
       "      <td>9</td>\n",
       "      <td>18.6</td>\n",
       "      <td>167.4</td>\n",
       "      <td>7</td>\n",
       "      <td>Produce</td>\n",
       "    </tr>\n",
       "    <tr>\n",
       "      <td>4</td>\n",
       "      <td>10249</td>\n",
       "      <td>TOMSP</td>\n",
       "      <td>51</td>\n",
       "      <td>40</td>\n",
       "      <td>42.4</td>\n",
       "      <td>1696.0</td>\n",
       "      <td>7</td>\n",
       "      <td>Produce</td>\n",
       "    </tr>\n",
       "    <tr>\n",
       "      <td>5</td>\n",
       "      <td>10250</td>\n",
       "      <td>HANAR</td>\n",
       "      <td>41</td>\n",
       "      <td>10</td>\n",
       "      <td>7.7</td>\n",
       "      <td>77.0</td>\n",
       "      <td>8</td>\n",
       "      <td>Seafood</td>\n",
       "    </tr>\n",
       "    <tr>\n",
       "      <td>6</td>\n",
       "      <td>10250</td>\n",
       "      <td>HANAR</td>\n",
       "      <td>51</td>\n",
       "      <td>35</td>\n",
       "      <td>42.4</td>\n",
       "      <td>1261.4</td>\n",
       "      <td>7</td>\n",
       "      <td>Produce</td>\n",
       "    </tr>\n",
       "    <tr>\n",
       "      <td>7</td>\n",
       "      <td>10250</td>\n",
       "      <td>HANAR</td>\n",
       "      <td>65</td>\n",
       "      <td>15</td>\n",
       "      <td>16.8</td>\n",
       "      <td>214.2</td>\n",
       "      <td>2</td>\n",
       "      <td>Condiments</td>\n",
       "    </tr>\n",
       "  </tbody>\n",
       "</table>\n",
       "</div>"
      ],
      "text/plain": [
       "   OrderId CustomerId  ProductId  Quantity  UnitPrice  Revenue  CategoryId  \\\n",
       "0    10248      VINET         11        12       14.0    168.0           4   \n",
       "1    10248      VINET         42        10        9.8     98.0           5   \n",
       "2    10248      VINET         72         5       34.8    174.0           4   \n",
       "3    10249      TOMSP         14         9       18.6    167.4           7   \n",
       "4    10249      TOMSP         51        40       42.4   1696.0           7   \n",
       "5    10250      HANAR         41        10        7.7     77.0           8   \n",
       "6    10250      HANAR         51        35       42.4   1261.4           7   \n",
       "7    10250      HANAR         65        15       16.8    214.2           2   \n",
       "\n",
       "     CategoryName  \n",
       "0  Dairy Products  \n",
       "1  Grains/Cereals  \n",
       "2  Dairy Products  \n",
       "3         Produce  \n",
       "4         Produce  \n",
       "5         Seafood  \n",
       "6         Produce  \n",
       "7      Condiments  "
      ]
     },
     "execution_count": 455,
     "metadata": {},
     "output_type": "execute_result"
    }
   ],
   "source": [
    "# Extract revenue per product category\n",
    "cur.execute(\"\"\"SELECT o.OrderId, o.CustomerId, od.ProductId, od.Quantity, od.UnitPrice, \n",
    "                od.Quantity*od.UnitPrice*(1-Discount) as Revenue, p.CategoryId, c.CategoryName\n",
    "                FROM 'Order' o\n",
    "                JOIN OrderDetail od \n",
    "                ON o.OrderId = od.OrderId\n",
    "                JOIN Product p \n",
    "                ON od.ProductId = p.Id\n",
    "                JOIN Category c\n",
    "                ON p.CategoryId = c.Id\n",
    "                ;\"\"\")\n",
    "df = pd.DataFrame(cur.fetchall())\n",
    "df.columns = [i[0] for i in cur.description]\n",
    "print(len(df))\n",
    "df.head(8)"
   ]
  },
  {
   "cell_type": "code",
   "execution_count": 465,
   "metadata": {},
   "outputs": [
    {
     "data": {
      "text/html": [
       "<div>\n",
       "<style scoped>\n",
       "    .dataframe tbody tr th:only-of-type {\n",
       "        vertical-align: middle;\n",
       "    }\n",
       "\n",
       "    .dataframe tbody tr th {\n",
       "        vertical-align: top;\n",
       "    }\n",
       "\n",
       "    .dataframe thead th {\n",
       "        text-align: right;\n",
       "    }\n",
       "</style>\n",
       "<table border=\"1\" class=\"dataframe\">\n",
       "  <thead>\n",
       "    <tr style=\"text-align: right;\">\n",
       "      <th></th>\n",
       "      <th>CategoryName</th>\n",
       "      <th>Revenue</th>\n",
       "    </tr>\n",
       "  </thead>\n",
       "  <tbody>\n",
       "    <tr>\n",
       "      <td>0</td>\n",
       "      <td>Beverages</td>\n",
       "      <td>267868.1800</td>\n",
       "    </tr>\n",
       "    <tr>\n",
       "      <td>1</td>\n",
       "      <td>Condiments</td>\n",
       "      <td>106047.0850</td>\n",
       "    </tr>\n",
       "    <tr>\n",
       "      <td>2</td>\n",
       "      <td>Confections</td>\n",
       "      <td>167357.2250</td>\n",
       "    </tr>\n",
       "    <tr>\n",
       "      <td>3</td>\n",
       "      <td>Dairy Products</td>\n",
       "      <td>234507.2850</td>\n",
       "    </tr>\n",
       "    <tr>\n",
       "      <td>4</td>\n",
       "      <td>Grains/Cereals</td>\n",
       "      <td>95744.5875</td>\n",
       "    </tr>\n",
       "    <tr>\n",
       "      <td>5</td>\n",
       "      <td>Meat/Poultry</td>\n",
       "      <td>163022.3595</td>\n",
       "    </tr>\n",
       "    <tr>\n",
       "      <td>6</td>\n",
       "      <td>Produce</td>\n",
       "      <td>99984.5800</td>\n",
       "    </tr>\n",
       "    <tr>\n",
       "      <td>7</td>\n",
       "      <td>Seafood</td>\n",
       "      <td>131261.7375</td>\n",
       "    </tr>\n",
       "  </tbody>\n",
       "</table>\n",
       "</div>"
      ],
      "text/plain": [
       "     CategoryName      Revenue\n",
       "0       Beverages  267868.1800\n",
       "1      Condiments  106047.0850\n",
       "2     Confections  167357.2250\n",
       "3  Dairy Products  234507.2850\n",
       "4  Grains/Cereals   95744.5875\n",
       "5    Meat/Poultry  163022.3595\n",
       "6         Produce   99984.5800\n",
       "7         Seafood  131261.7375"
      ]
     },
     "execution_count": 465,
     "metadata": {},
     "output_type": "execute_result"
    }
   ],
   "source": [
    "# Group data by Category and get sum total revenue for each\n",
    "df_category = df.groupby(['CategoryName'])['Revenue'].sum().reset_index()\n",
    "df_category"
   ]
  },
  {
   "cell_type": "code",
   "execution_count": 473,
   "metadata": {},
   "outputs": [
    {
     "data": {
      "text/plain": [
       "1    404\n",
       "4    366\n",
       "3    334\n",
       "8    330\n",
       "2    216\n",
       "5    196\n",
       "6    173\n",
       "7    136\n",
       "Name: CategoryId, dtype: int64"
      ]
     },
     "execution_count": 473,
     "metadata": {},
     "output_type": "execute_result"
    }
   ],
   "source": [
    "df.CategoryId.value_counts()"
   ]
  },
  {
   "cell_type": "code",
   "execution_count": 470,
   "metadata": {},
   "outputs": [
    {
     "data": {
      "text/plain": [
       "dict_keys(['Beverages', 'Condiments', 'Confections', 'Dairy Products', 'Grains/Cereals', 'Meat/Poultry', 'Produce', 'Seafood'])"
      ]
     },
     "execution_count": 470,
     "metadata": {},
     "output_type": "execute_result"
    }
   ],
   "source": [
    "# Explore sample sizes before testing\n",
    "categories = df.groupby('CategoryName').groups\n",
    "categories.keys()"
   ]
  },
  {
   "cell_type": "code",
   "execution_count": 460,
   "metadata": {},
   "outputs": [
    {
     "data": {
      "text/plain": [
       "267868.18"
      ]
     },
     "execution_count": 460,
     "metadata": {},
     "output_type": "execute_result"
    }
   ],
   "source": [
    "df_category.loc[df_category['CategoryName'] == 'Beverages']['Revenue'].sum()"
   ]
  },
  {
   "cell_type": "code",
   "execution_count": 476,
   "metadata": {},
   "outputs": [
    {
     "data": {
      "text/plain": [
       "{'Beverages': 267868.17999999993,\n",
       " 'Condiments': 106047.08500000002,\n",
       " 'Confections': 167357.22499999995,\n",
       " 'Dairy Products': 234507.285,\n",
       " 'Grains/Cereals': 95744.58750000001,\n",
       " 'Meat/Poultry': 163022.3595,\n",
       " 'Produce': 99984.57999999999,\n",
       " 'Seafood': 131261.73750000002}"
      ]
     },
     "execution_count": 476,
     "metadata": {},
     "output_type": "execute_result"
    }
   ],
   "source": [
    "#create dict of months and order quantity totals\n",
    "rev_per_cat = {}\n",
    "\n",
    "for k,v in categories.items():\n",
    "    rev = df_category.loc[df_category['CategoryName'] == k]['Revenue'].sum()\n",
    "    rev_per_cat[k] = rev\n",
    "\n",
    "rev_per_cat"
   ]
  },
  {
   "cell_type": "code",
   "execution_count": 479,
   "metadata": {},
   "outputs": [
    {
     "data": {
      "image/png": "[encoded data removed]",
      "text/plain": [
       "<Figure size 864x864 with 1 Axes>"
      ]
     },
     "metadata": {},
     "output_type": "display_data"
    }
   ],
   "source": [
    "# plot order quantity totals by month\n",
    "fig = plt.figure(figsize=(12,12))\n",
    "for k,v in rev_per_cat.items():\n",
    "    plt.bar(x=k, height=v)"
   ]
  },
  {
   "cell_type": "code",
   "execution_count": null,
   "metadata": {},
   "outputs": [],
   "source": [
    "# What were the top 3 selling product categories in each region or country?\n",
    "# What were the lowest 3 selling product categories in each region or country?"
   ]
  }
 ],
 "metadata": {
  "kernelspec": {
   "display_name": "Python [conda env:learn-env] *",
   "language": "python",
   "name": "conda-env-learn-env-py"
  },
  "language_info": {
   "codemirror_mode": {
    "name": "ipython",
    "version": 3
   },
   "file_extension": ".py",
   "mimetype": "text/x-python",
   "name": "python",
   "nbconvert_exporter": "python",
   "pygments_lexer": "ipython3",
   "version": "3.6.9"
  },
  "toc": {
   "base_numbering": 1,
   "nav_menu": {},
   "number_sections": true,
   "sideBar": true,
   "skip_h1_title": false,
   "title_cell": "Table of Contents",
   "title_sidebar": "Contents",
   "toc_cell": false,
   "toc_position": {
    "height": "calc(100% - 180px)",
    "left": "10px",
    "top": "150px",
    "width": "170.188px"
   },
   "toc_section_display": true,
   "toc_window_display": true
  },
  "varInspector": {
   "cols": {
    "lenName": 16,
    "lenType": 16,
    "lenVar": 40
   },
   "kernels_config": {
    "python": {
     "delete_cmd_postfix": "",
     "delete_cmd_prefix": "del ",
     "library": "var_list.py",
     "varRefreshCmd": "print(var_dic_list())"
    },
    "r": {
     "delete_cmd_postfix": ") ",
     "delete_cmd_prefix": "rm(",
     "library": "var_list.r",
     "varRefreshCmd": "cat(var_dic_list()) "
    }
   },
   "types_to_exclude": [
    "module",
    "function",
    "builtin_function_or_method",
    "instance",
    "_Feature"
   ],
   "window_display": false
  }
 },
 "nbformat": 4,
 "nbformat_minor": 2
}
