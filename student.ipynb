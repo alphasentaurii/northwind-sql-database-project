{
 "cells": [
  {
   "cell_type": "markdown",
   "metadata": {},
   "source": [
    "## **Module 3 Final Project**\n",
    "\n",
    "    Title: Northwind Database\n",
    "    Submitted By: RU KEÏN\n",
    "    Date: December 5, 2019\n",
    "    Instructor: James Irving PhD\n",
    "    https://vimeo.com/rukein/northwind-datascience-project-presentation\n",
    "    http://www.hakkeray.com/datascience/2019/12/07/thinking-outside-the-lego-box.html"
   ]
  },
  {
   "cell_type": "markdown",
   "metadata": {},
   "source": [
    "---\n",
    "## Executive Summary\n",
    "\n",
    "The goal of this project is to recommend business strategies for increasing sales and saving costs for the Northwind company. This project is based on a fictitious business database created by Microsoft for the use of practicing SQL, hypothesis testing and other data analysis related projects. \n",
    "\n",
    "Below are 4 hypotheses (each including a null hypothesis and alternative hypothesis) which I will test for statistical significance to determine if there are any relationships which would be useful from a strategic business perspective. Following this I will summarize the results, make final recommendations, and propose ideas for future analytical work."
   ]
  },
  {
   "cell_type": "markdown",
   "metadata": {},
   "source": [
    "---\n",
    "## Outline\n",
    "\n",
    "*Statistical Analysis Pipeline*\n",
    "\n",
    "For each question below, I will follow a standard process of work as outlined here:\n",
    "- Question\n",
    "    - Hypotheses\n",
    "    - Exploratory Data Analysis (EDA)\n",
    "        - Select dataset\n",
    "        - Group data\n",
    "        - Explore data\n",
    "    - Test \n",
    "        - Sample size\n",
    "        - Normality and Variance\n",
    "        - Statistical test\n",
    "        - Effect size (if necessary)\n",
    "        - Post-hoc tests (if necessary)\n",
    "    - Analyze Results\n",
    "\n",
    "---\n",
    "\n",
    "The statistical testing process is as follows (section 1.4 above):\n",
    "\n",
    "1. Check if sample sizes allow us to ignore assumptions by visualizing sample size comparisons for two groups (normality check).\n",
    "    * Bar Plot: SEM (Standard Error of the Mean)\n",
    "\n",
    "2. If above test fails, check for normality and homogeneity of variance:\n",
    "    * Test Assumption Normality:\n",
    "        - D'Agostino-Pearson: scipy.stats.normaltest\n",
    "        - Shapiro-Wilik Test: scipy.stats.shapiro\n",
    "    \n",
    "    * Test for Homogeneity of Variance:\n",
    "        - Levene's Test: scipy.stats.levene)\n",
    "Parametric tests (means)\tNonparametric tests (medians)\n",
    "1-sample t test\t1-sample Sign, 1-sample Wilcoxon\n",
    "2-sample t test\tMann-Whitney tes\n",
    "One-Way ANOVA\tKruskal-Wallis, Mood’s median tes\n",
    "Factorial DOE with one factor and one blocking variable\tFriedman test\n",
    "3. Choose appropriate test based on above\n",
    "    * T Test (1-sample)\n",
    "         - `stats.ttest_1samp()`\n",
    "    * T Test (2-sample)\n",
    "        - stats.ttest_ind()\n",
    "    * Welch's T-Test (2-sample)\n",
    "        - stats.ttest_ind(equal_var=False)\n",
    "    * Mann Whitney U\n",
    "        - stats.mannwhitneyu()\n",
    "    * ANOVA\n",
    "        - stats.f_oneway()\n",
    "    * Tukey's\n",
    "        - statsmodels.stats.multicomp.pairwise_tukeyhsd\n",
    "\n",
    "4. Calculate effect size for significant results.\n",
    "    * Effect size: \n",
    "        - cohen's d\n",
    "\n",
    "    -Interpretation:\n",
    "    - Small effect = 0.2 ( cannot be seen by naked eye)\n",
    "    - Medium effect = 0.5\n",
    "    - Large Effect = 0.8 (can be seen by naked eye)\n",
    "\n",
    "\n",
    "5. If significant, follow up with post-hoc tests (if have more than 2 groups)\n",
    "    * Tukey's"
   ]
  },
  {
   "cell_type": "markdown",
   "metadata": {},
   "source": [
    "--------------------------\n",
    "## Table of Contents"
   ]
  },
  {
   "cell_type": "markdown",
   "metadata": {},
   "source": [
    "- Data Prep\n",
    "\n",
    "**H1: Discount and Order Quantity**\n",
    "\n",
    "Does discount amount have a statistically significant effect on order quantity? If so, at what level(s) of discount?\n",
    "\n",
    "**H2: Countries and Order Quantity: Discount vs Full Price**\n",
    "\n",
    "Do order quantities of individual countries differ when discounted vs full price?\n",
    "\n",
    "**H3: Region and Order Revenue**\n",
    "\n",
    "Does region have a statistically significant effect on average revenue per order?\n",
    "\n",
    "**H4: Time of Year (Season) and Order Revenue**\n",
    "\n",
    "Does time of year have a statistically significant effect on average revenue per order?\n",
    "\n",
    "- Conclusion\n",
    "\n",
    "- Recommendations\n",
    "\n",
    "- Future Work\n",
    "    * A. Product Recommendation Tool\n",
    "    * B. Free/Discounted Shipping"
   ]
  },
  {
   "cell_type": "markdown",
   "metadata": {},
   "source": [
    "## Data Prep"
   ]
  },
  {
   "cell_type": "code",
   "execution_count": 1,
   "metadata": {},
   "outputs": [
    {
     "name": "stdout",
     "output_type": "stream",
     "text": [
      "fsds_1007219  v0.4.45 loaded.  Read the docs: https://fsds.readthedocs.io/en/latest/ \n"
     ]
    },
    {
     "data": {
      "text/html": [
       "<style  type=\"text/css\" >\n",
       "</style><table id=\"T_096e0c30_2428_11ea_a12d_f40f2405a054\" ><caption>Loaded Packages and Handles</caption><thead>    <tr>        <th class=\"col_heading level0 col0\" >Handle</th>        <th class=\"col_heading level0 col1\" >Package</th>        <th class=\"col_heading level0 col2\" >Description</th>    </tr></thead><tbody>\n",
       "                <tr>\n",
       "                                <td id=\"T_096e0c30_2428_11ea_a12d_f40f2405a054row0_col0\" class=\"data row0 col0\" >dp</td>\n",
       "                        <td id=\"T_096e0c30_2428_11ea_a12d_f40f2405a054row0_col1\" class=\"data row0 col1\" >IPython.display</td>\n",
       "                        <td id=\"T_096e0c30_2428_11ea_a12d_f40f2405a054row0_col2\" class=\"data row0 col2\" >Display modules with helpful display and clearing commands.</td>\n",
       "            </tr>\n",
       "            <tr>\n",
       "                                <td id=\"T_096e0c30_2428_11ea_a12d_f40f2405a054row1_col0\" class=\"data row1 col0\" >fs</td>\n",
       "                        <td id=\"T_096e0c30_2428_11ea_a12d_f40f2405a054row1_col1\" class=\"data row1 col1\" >fsds_100719</td>\n",
       "                        <td id=\"T_096e0c30_2428_11ea_a12d_f40f2405a054row1_col2\" class=\"data row1 col2\" >Custom data science bootcamp student package</td>\n",
       "            </tr>\n",
       "            <tr>\n",
       "                                <td id=\"T_096e0c30_2428_11ea_a12d_f40f2405a054row2_col0\" class=\"data row2 col0\" >mpl</td>\n",
       "                        <td id=\"T_096e0c30_2428_11ea_a12d_f40f2405a054row2_col1\" class=\"data row2 col1\" >matplotlib</td>\n",
       "                        <td id=\"T_096e0c30_2428_11ea_a12d_f40f2405a054row2_col2\" class=\"data row2 col2\" >Matplotlib's base OOP module with formatting artists</td>\n",
       "            </tr>\n",
       "            <tr>\n",
       "                                <td id=\"T_096e0c30_2428_11ea_a12d_f40f2405a054row3_col0\" class=\"data row3 col0\" >plt</td>\n",
       "                        <td id=\"T_096e0c30_2428_11ea_a12d_f40f2405a054row3_col1\" class=\"data row3 col1\" >matplotlib.pyplot</td>\n",
       "                        <td id=\"T_096e0c30_2428_11ea_a12d_f40f2405a054row3_col2\" class=\"data row3 col2\" >Matplotlib's matlab-like plotting module</td>\n",
       "            </tr>\n",
       "            <tr>\n",
       "                                <td id=\"T_096e0c30_2428_11ea_a12d_f40f2405a054row4_col0\" class=\"data row4 col0\" >np</td>\n",
       "                        <td id=\"T_096e0c30_2428_11ea_a12d_f40f2405a054row4_col1\" class=\"data row4 col1\" >numpy</td>\n",
       "                        <td id=\"T_096e0c30_2428_11ea_a12d_f40f2405a054row4_col2\" class=\"data row4 col2\" >scientific computing with Python</td>\n",
       "            </tr>\n",
       "            <tr>\n",
       "                                <td id=\"T_096e0c30_2428_11ea_a12d_f40f2405a054row5_col0\" class=\"data row5 col0\" >pd</td>\n",
       "                        <td id=\"T_096e0c30_2428_11ea_a12d_f40f2405a054row5_col1\" class=\"data row5 col1\" >pandas</td>\n",
       "                        <td id=\"T_096e0c30_2428_11ea_a12d_f40f2405a054row5_col2\" class=\"data row5 col2\" >High performance data structures and tools</td>\n",
       "            </tr>\n",
       "            <tr>\n",
       "                                <td id=\"T_096e0c30_2428_11ea_a12d_f40f2405a054row6_col0\" class=\"data row6 col0\" >sns</td>\n",
       "                        <td id=\"T_096e0c30_2428_11ea_a12d_f40f2405a054row6_col1\" class=\"data row6 col1\" >seaborn</td>\n",
       "                        <td id=\"T_096e0c30_2428_11ea_a12d_f40f2405a054row6_col2\" class=\"data row6 col2\" >High-level data visualization library based on matplotlib</td>\n",
       "            </tr>\n",
       "    </tbody></table>"
      ],
      "text/plain": [
       "<pandas.io.formats.style.Styler at 0x10f03de10>"
      ]
     },
     "metadata": {},
     "output_type": "display_data"
    }
   ],
   "source": [
    "# install requisite libraries and packages\n",
    "!pip install -U fsds_100719 --user\n",
    "from fsds_100719.imports import *"
   ]
  },
  {
   "cell_type": "code",
   "execution_count": 2,
   "metadata": {},
   "outputs": [],
   "source": [
    "from fsds_100719.ds import ihelp, reload\n",
    "import fsds_100719 as fs"
   ]
  },
  {
   "cell_type": "code",
   "execution_count": 3,
   "metadata": {},
   "outputs": [
    {
     "ename": "TypeError",
     "evalue": "hot_stats() missing 2 required positional arguments: 'data' and 'column'",
     "output_type": "error",
     "traceback": [
      "\u001b[0;31m---------------------------------------------------------------------------\u001b[0m",
      "\u001b[0;31mTypeError\u001b[0m                                 Traceback (most recent call last)",
      "\u001b[0;32m<ipython-input-3-e19d899863af>\u001b[0m in \u001b[0;36m<module>\u001b[0;34m\u001b[0m\n\u001b[0;32m----> 1\u001b[0;31m \u001b[0mfs\u001b[0m\u001b[0;34m.\u001b[0m\u001b[0mft\u001b[0m\u001b[0;34m.\u001b[0m\u001b[0mhakkeray\u001b[0m\u001b[0;34m.\u001b[0m\u001b[0mhot_stats\u001b[0m\u001b[0;34m(\u001b[0m\u001b[0;34m)\u001b[0m\u001b[0;34m\u001b[0m\u001b[0;34m\u001b[0m\u001b[0m\n\u001b[0m",
      "\u001b[0;31mTypeError\u001b[0m: hot_stats() missing 2 required positional arguments: 'data' and 'column'"
     ]
    }
   ],
   "source": [
    "fs.ft.hakkeray.hot_stats()"
   ]
  },
  {
   "cell_type": "code",
   "execution_count": null,
   "metadata": {},
   "outputs": [],
   "source": [
    "# connect to database / import data\n",
    "import sqlite3 \n",
    "conn = sqlite3.connect('Northwind_small.sqlite')\n",
    "cur = conn.cursor()"
   ]
  },
  {
   "cell_type": "code",
   "execution_count": null,
   "metadata": {},
   "outputs": [],
   "source": [
    "# function for converting tables into dataframes on the fly\n",
    "def get_table(cur, table):\n",
    "    cur.execute(f\"SELECT * from {table};\")\n",
    "    df = pd.DataFrame(cur.fetchall())\n",
    "    df.columns = [desc[0] for desc in cur.description]\n",
    "    return df"
   ]
  },
  {
   "cell_type": "code",
   "execution_count": null,
   "metadata": {},
   "outputs": [],
   "source": [
    "# create dataframe of table names for referencing purposes\n",
    "cur.execute(\"\"\"SELECT name from sqlite_master WHERE type='table';\"\"\")\n",
    "df_tables = pd.DataFrame(cur.fetchall(), columns=['Table'])\n",
    "df_tables"
   ]
  },
  {
   "cell_type": "code",
   "execution_count": null,
   "metadata": {},
   "outputs": [],
   "source": [
    "from IPython.display import HTML\n",
    "HTML('<img src=\"https://github.com/hakkeray/dsc-mod-3-project-online-ds-ft-100719/blob/master/Northwind_ERD_updated.png?raw=true\">')\n"
   ]
  },
  {
   "cell_type": "markdown",
   "metadata": {},
   "source": [
    "# H1: Discount--Quantity\n",
    "\n",
    "* Does discount amount have a statistically significant effect on the quantity of a product in an order? \n",
    "* If so, at what level(s) of discount?"
   ]
  },
  {
   "cell_type": "markdown",
   "metadata": {},
   "source": [
    "## Hypotheses\n",
    "- $H_0$: Discount amount has no relationship with the quantity of a product in an order.\n",
    "- $H_A$: Discount amount has a statistically significant effect on the quantity in an order.\n",
    "\n",
    "- $\\alpha$=0.05"
   ]
  },
  {
   "cell_type": "markdown",
   "metadata": {},
   "source": [
    "## EDA\n",
    "Select the proper dataset for analysis, perform EDA, and generate data groups for testing."
   ]
  },
  {
   "cell_type": "markdown",
   "metadata": {},
   "source": [
    "### Select dataset"
   ]
  },
  {
   "cell_type": "code",
   "execution_count": null,
   "metadata": {},
   "outputs": [],
   "source": [
    "df_orderDetail = get_table(cur, 'OrderDetail')\n",
    "df_orderDetail.head()"
   ]
  },
  {
   "cell_type": "markdown",
   "metadata": {},
   "source": [
    "### Group"
   ]
  },
  {
   "cell_type": "code",
   "execution_count": null,
   "metadata": {},
   "outputs": [],
   "source": [
    "# check value counts for each level of discount\n",
    "df_orderDetail['Discount'].value_counts()"
   ]
  },
  {
   "cell_type": "code",
   "execution_count": null,
   "metadata": {},
   "outputs": [],
   "source": [
    "# insert boolean column showing whether or not an order was discounted\n",
    "df_orderDetail['discounted'] = np.where(df_orderDetail['Discount'] == 0.0, 0, 1)\n",
    "\n",
    "# compare number of discount vs fullprice orders\n",
    "df_orderDetail['discounted'].value_counts()"
   ]
  },
  {
   "cell_type": "code",
   "execution_count": null,
   "metadata": {},
   "outputs": [],
   "source": [
    "# split orders into two groups: discount and fullprice\n",
    "fullprice = df_orderDetail.groupby('discounted').get_group(0)['Quantity']\n",
    "discount = df_orderDetail.groupby('discounted').get_group(1)['Quantity']\n",
    "\n",
    "display(fullprice.head())\n",
    "display(discount.head())"
   ]
  },
  {
   "cell_type": "markdown",
   "metadata": {},
   "source": [
    "### Explore"
   ]
  },
  {
   "cell_type": "code",
   "execution_count": null,
   "metadata": {},
   "outputs": [],
   "source": [
    "fullprice.mean()"
   ]
  },
  {
   "cell_type": "code",
   "execution_count": null,
   "metadata": {},
   "outputs": [],
   "source": [
    "discount.mean()"
   ]
  },
  {
   "cell_type": "markdown",
   "metadata": {},
   "source": [
    "At first glance it looks like the average quantities are indeed higher for discounted orders compared to those that are full price."
   ]
  },
  {
   "cell_type": "code",
   "execution_count": null,
   "metadata": {},
   "outputs": [],
   "source": [
    "## Examine KDEs\n",
    "fig, ax = plt.subplots(figsize=(10,6))\n",
    "\n",
    "group1 = {'name':'fullprice',\n",
    "         'data':fullprice,\n",
    "         'n':fullprice.value_counts()}\n",
    "plot1 = {'hist_kws':dict(color='blue',lw=2, ls='-')}\n",
    "\n",
    "group2 = {'name':'discount',\n",
    "         'data':discount,\n",
    "         'n':discount.value_counts()}\n",
    "plot2 = {'hist_kws':dict(color='orange',lw=2, ls='-')}\n",
    "\n",
    "\n",
    "label1= f\"{group1['name']} n={group1['n']}\"\n",
    "sns.distplot(group1['data'], label=label1,\n",
    "             ax=ax, hist_kws=plot1['hist_kws'])\n",
    "# ax.legend()\n",
    "\n",
    "label2= f\"{group2['name']} n={group2['n']}\"\n",
    "sns.distplot(group2['data'], label=label2,\n",
    "             ax=ax,hist_kws=plot2['hist_kws'])\n",
    "# ax.legend()\n",
    "\n",
    "ax.axvline(group1['data'].mean(),color=plot1['hist_kws']['color'], ls='--')\n",
    "ax.axvline(group2['data'].mean(),color=plot2['hist_kws']['color'], ls='--')"
   ]
  },
  {
   "cell_type": "markdown",
   "metadata": {},
   "source": [
    "## Test\n",
    "**Select the appropriate t-test based on tests for the assumptions of normality and homogeneity of variance.**"
   ]
  },
  {
   "cell_type": "markdown",
   "metadata": {},
   "source": [
    "### Sample Size\n",
    "Check if sample sizes allow us to ignore assumptions; if not, test assumption normality."
   ]
  },
  {
   "cell_type": "code",
   "execution_count": null,
   "metadata": {},
   "outputs": [],
   "source": [
    "# visualize sample size comparisons for two groups (normality check)\n",
    "import scipy.stats as stat\n",
    "plt.bar(x='Full Price', height=fullprice.mean(), yerr=stat.sem(fullprice))\n",
    "plt.bar(x='Discounted', height=discount.mean(), yerr=stat.sem(discount))"
   ]
  },
  {
   "cell_type": "markdown",
   "metadata": {},
   "source": [
    "### Normality Test\n",
    "Check assumptions of normality and homogeneity of variance"
   ]
  },
  {
   "cell_type": "code",
   "execution_count": null,
   "metadata": {},
   "outputs": [],
   "source": [
    "# Test for normality - D'Agostino-Pearson's normality test: scipy.stats.normaltest\n",
    "stat.normaltest(fullprice), stat.normaltest(discount)"
   ]
  },
  {
   "cell_type": "markdown",
   "metadata": {},
   "source": [
    "Failed normality test (p-values < 0.05). Run non-parametric test:"
   ]
  },
  {
   "cell_type": "code",
   "execution_count": null,
   "metadata": {},
   "outputs": [],
   "source": [
    "# Run non-parametric test (since normality test failed)\n",
    "stat.mannwhitneyu(fullprice, discount)"
   ]
  },
  {
   "cell_type": "markdown",
   "metadata": {},
   "source": [
    "### Statistical Test\n",
    "Perform chosen statistical test."
   ]
  },
  {
   "cell_type": "code",
   "execution_count": null,
   "metadata": {},
   "outputs": [],
   "source": [
    "# run tukey test for OQD (Order Quantity Discount) \n",
    "data = df_orderDetail['Quantity'].values\n",
    "labels = df_orderDetail['Discount'].values\n",
    "\n",
    "import statsmodels.api as sms\n",
    "model = sms.stats.multicomp.pairwise_tukeyhsd(data,labels)"
   ]
  },
  {
   "cell_type": "code",
   "execution_count": null,
   "metadata": {
    "code_folding": [],
    "scrolled": false
   },
   "outputs": [],
   "source": [
    "# save OQD tukey test model results into dataframe (OQD: order quantity discount)\n",
    "tukey_OQD = pd.DataFrame(data=model._results_table[1:], columns=model._results_table[0])\n",
    "tukey_OQD"
   ]
  },
  {
   "cell_type": "code",
   "execution_count": null,
   "metadata": {},
   "outputs": [],
   "source": [
    "# Plot a universal confidence interval of each group mean comparing significant differences in group means. \n",
    "# Significant differences at the alpha=0.05 level can be identified by intervals that do not overlap \n",
    "\n",
    "oq_data = df_orderDetail['Quantity'].values\n",
    "discount_labels = df_orderDetail['Discount'].values\n",
    "\n",
    "from statsmodels.stats.multicomp import MultiComparison\n",
    "oqd = MultiComparison(oq_data, discount_labels)\n",
    "results = oqd.tukeyhsd()\n",
    "results.plot_simultaneous(comparison_name=0.25, xlabel='order qty', ylabel='discount level')"
   ]
  },
  {
   "cell_type": "markdown",
   "metadata": {},
   "source": [
    "### Effect Size\n",
    "Calculate effect size using Cohen's D as well as any post-hoc tests."
   ]
  },
  {
   "cell_type": "code",
   "execution_count": null,
   "metadata": {},
   "outputs": [],
   "source": [
    "#### Cohen's d\n",
    "def Cohen_d(group1, group2):\n",
    "    # Compute Cohen's d.\n",
    "    # group1: Series or NumPy array\n",
    "    # group2: Series or NumPy array\n",
    "    # returns a floating point number \n",
    "    diff = group1.mean() - group2.mean()\n",
    "\n",
    "    n1, n2 = len(group1), len(group2)\n",
    "    var1 = group1.var()\n",
    "    var2 = group2.var()\n",
    "\n",
    "    # Calculate the pooled threshold as shown earlier\n",
    "    pooled_var = (n1 * var1 + n2 * var2) / (n1 + n2)\n",
    "    \n",
    "    # Calculate Cohen's d statistic\n",
    "    d = diff / np.sqrt(pooled_var)\n",
    "    \n",
    "    return d"
   ]
  },
  {
   "cell_type": "code",
   "execution_count": null,
   "metadata": {},
   "outputs": [],
   "source": [
    "Cohen_d(discount, fullprice)"
   ]
  },
  {
   "cell_type": "markdown",
   "metadata": {},
   "source": [
    "### Post-hoc Tests"
   ]
  },
  {
   "cell_type": "code",
   "execution_count": null,
   "metadata": {},
   "outputs": [],
   "source": [
    "df_oqd = df_orderDetail.loc[(df_orderDetail['Discount'] >= 0.05) & (df_orderDetail['Discount'] != 0.06) & (df_orderDetail['Discount'] != 0.1)]\n",
    "df_oqd"
   ]
  },
  {
   "cell_type": "code",
   "execution_count": null,
   "metadata": {},
   "outputs": [],
   "source": [
    "df_oqd['OQD'] = 1\n",
    "df_oqd"
   ]
  },
  {
   "cell_type": "code",
   "execution_count": null,
   "metadata": {},
   "outputs": [],
   "source": [
    "#df_oqd.groupby(['Discount'])['Quantity'].mean().plot.bar()\n",
    "plt.bar(x=df_oqd.groupby(['Discount'])['Quantity'].mean(), height=df_oqd.Quantity.mean(), yerr=df_oqd.Discount.sem())"
   ]
  },
  {
   "cell_type": "code",
   "execution_count": null,
   "metadata": {},
   "outputs": [],
   "source": [
    "plt.bar(x='Discounted', height=df_oqd.Quantity.mean(), yerr=df_oqd.Discounted.sem())"
   ]
  },
  {
   "cell_type": "code",
   "execution_count": null,
   "metadata": {},
   "outputs": [],
   "source": [
    "fig = plt.figure(figsize=(8,6))\n",
    "plt.hist(data=df_oqd, x='Discount', bins=dv, yerr)"
   ]
  },
  {
   "cell_type": "code",
   "execution_count": null,
   "metadata": {},
   "outputs": [],
   "source": [
    "df_orderDetail['OQD'] = df_oqd['OQD']\n",
    "df_orderDetail['OQD'].fillna(0, inplace=True)\n",
    "df_orderDetail['OQD'].value_counts()"
   ]
  },
  {
   "cell_type": "code",
   "execution_count": null,
   "metadata": {},
   "outputs": [],
   "source": [
    "# dataframe containing insignificant discount levels\n",
    "fullprice_df = df_orderDetail.loc[df_orderDetail['OQD'] == 0]\n",
    "# dataframe containing significant discount levels\n",
    "discount_df = df_orderDetail.loc[df_orderDetail['OQD'] == 1]"
   ]
  },
  {
   "cell_type": "code",
   "execution_count": null,
   "metadata": {},
   "outputs": [],
   "source": [
    "mean_qty_fp = fullprice_df.Quantity.mean()\n",
    "mean_qty_dc = discount_df.Quantity.mean()\n",
    "print(mean_qty_fp, mean_qty_dc)"
   ]
  },
  {
   "cell_type": "code",
   "execution_count": null,
   "metadata": {},
   "outputs": [],
   "source": [
    "diff = mean_qty_dc - mean_qty_fp\n",
    "diff"
   ]
  },
  {
   "cell_type": "code",
   "execution_count": null,
   "metadata": {
    "scrolled": false
   },
   "outputs": [],
   "source": [
    "from pandas_profiling import ProfileReport\n",
    "#ProfileReport(df_oqd)"
   ]
  },
  {
   "cell_type": "code",
   "execution_count": null,
   "metadata": {},
   "outputs": [],
   "source": [
    "sns.distplot(df_orderDetail.Quantity)\n",
    "sns.distplot(df_oqd.Quantity)"
   ]
  },
  {
   "cell_type": "markdown",
   "metadata": {},
   "source": [
    "## Analyze Results\n",
    "\n",
    "The null hypothesis is rejected. Discount amount has a statistically significant effect on the quantity in an order where the discount level is equal to 5%, 15%, 20% or 25%.\n",
    "\n",
    "NOTES - be more precise (pvalue for test and effect size, therefore rejecting etc)"
   ]
  },
  {
   "cell_type": "markdown",
   "metadata": {},
   "source": [
    "# H2: Country--Discount\n",
    "\n",
    "**Do individual countries show a statistically significant preference for discount?**\n",
    "\n",
    "**If so, which countries and to what extent?** "
   ]
  },
  {
   "cell_type": "markdown",
   "metadata": {},
   "source": [
    "## Hypotheses"
   ]
  },
  {
   "cell_type": "markdown",
   "metadata": {},
   "source": [
    "- $H_0$: Countries purchase equal quantities of discounted vs non-discounted products.\n",
    "- $H_A$: Countries purchase different quantities of discounted vs non-discounted products."
   ]
  },
  {
   "cell_type": "markdown",
   "metadata": {},
   "source": [
    "## EDA\n",
    "Select the proper dataset for analysis, perform EDA, and generate data groups for testing."
   ]
  },
  {
   "cell_type": "markdown",
   "metadata": {},
   "source": [
    "### Select"
   ]
  },
  {
   "cell_type": "code",
   "execution_count": null,
   "metadata": {
    "scrolled": false
   },
   "outputs": [],
   "source": [
    "df_order = get_table(cur, \"'Order'\")\n",
    "display(df_order.head())\n",
    "display(df_orderDetail.head())"
   ]
  },
  {
   "cell_type": "code",
   "execution_count": null,
   "metadata": {},
   "outputs": [],
   "source": [
    "# Rename 'Id' to 'OrderId' for joining tables with matching primary key name\n",
    "df_order.rename({'Id':'OrderId'}, axis=1, inplace=True)\n",
    "display(df_order.head())"
   ]
  },
  {
   "cell_type": "markdown",
   "metadata": {},
   "source": [
    "### Explore"
   ]
  },
  {
   "cell_type": "code",
   "execution_count": null,
   "metadata": {},
   "outputs": [],
   "source": [
    "df_order.set_index('OrderId',inplace=True)\n",
    "display(df_order.head())"
   ]
  },
  {
   "cell_type": "markdown",
   "metadata": {},
   "source": [
    "### Group"
   ]
  },
  {
   "cell_type": "code",
   "execution_count": null,
   "metadata": {},
   "outputs": [],
   "source": [
    "df_countries = df_orderDetail.merge(df_order, on='OrderId', copy=True)\n",
    "df_countries.head()"
   ]
  },
  {
   "cell_type": "code",
   "execution_count": null,
   "metadata": {},
   "outputs": [],
   "source": [
    "countries = df_countries.groupby('ShipCountry').groups\n",
    "countries.keys()"
   ]
  },
  {
   "cell_type": "code",
   "execution_count": null,
   "metadata": {},
   "outputs": [],
   "source": [
    "df_countries.loc[df_countries['discounted'] == 1]['ShipCountry'].value_counts()"
   ]
  },
  {
   "cell_type": "code",
   "execution_count": null,
   "metadata": {},
   "outputs": [],
   "source": [
    "df_countries.loc[df_countries['discounted'] == 0]['ShipCountry'].value_counts()"
   ]
  },
  {
   "cell_type": "markdown",
   "metadata": {},
   "source": [
    "## Test"
   ]
  },
  {
   "cell_type": "markdown",
   "metadata": {},
   "source": [
    "### Sample Size"
   ]
  },
  {
   "cell_type": "code",
   "execution_count": null,
   "metadata": {
    "scrolled": false
   },
   "outputs": [],
   "source": [
    "# Check if sample sizes allow us to ignore assumptions;\n",
    "# visualize sample size comparisons for two groups (normality check)\n",
    "for k,v in countries.items():\n",
    "    try:\n",
    "        grp0 = df_countries.loc[v].groupby('discounted').get_group(0)['Quantity']\n",
    "        grp1 = df_countries.loc[v].groupby('discounted').get_group(1)['Quantity']\n",
    "        print(f\"{k}\")\n",
    "        import scipy.stats as stat\n",
    "        plt.bar(x='Full Price', height=grp0.mean(),\n",
    "               yerr=stat.sem(grp0))\n",
    "        plt.bar(x='Discounted', height=grp1.mean(),\n",
    "               yerr=stat.sem(grp1))\n",
    "        plt.show()\n",
    "    except:\n",
    "        print(f\"{k} does not contain one of the groups.\")"
   ]
  },
  {
   "cell_type": "markdown",
   "metadata": {},
   "source": [
    "### Normality Test"
   ]
  },
  {
   "cell_type": "code",
   "execution_count": null,
   "metadata": {},
   "outputs": [],
   "source": [
    "sns.distplot(grp0)\n",
    "sns.distplot(grp1)"
   ]
  },
  {
   "cell_type": "code",
   "execution_count": null,
   "metadata": {},
   "outputs": [],
   "source": [
    "# Test for normality - D'Agostino-Pearson's normality test: scipy.stats.normaltest\n",
    "stat.normaltest(grp0), stat.normaltest(grp1)"
   ]
  },
  {
   "cell_type": "code",
   "execution_count": null,
   "metadata": {},
   "outputs": [],
   "source": [
    "# Run non-parametric test (since normality test failed)\n",
    "stat.mannwhitneyu(grp0, grp1)"
   ]
  },
  {
   "cell_type": "markdown",
   "metadata": {},
   "source": [
    "**Canada, Spain, UK and the USA have pvalues < 0.05 indicating there is a relationship between discount and order quantity and the null hypothesis is rejected for these individual countries.**"
   ]
  },
  {
   "cell_type": "code",
   "execution_count": null,
   "metadata": {
    "code_folding": []
   },
   "outputs": [],
   "source": [
    "# test normality assumption\n",
    "for k,v in countries.items():\n",
    "    try:\n",
    "        grp0 = df_countries.loc[v].groupby('discounted').get_group(0)['Quantity']\n",
    "        grp1 = df_countries.loc[v].groupby('discounted').get_group(1)['Quantity']\n",
    "        result = stat.ttest_ind(grp0,grp1)\n",
    "        if result[1] < 0.05:\n",
    "            print(f\"\\n{k} PREFERS DISCOUNTS!\")\n",
    "        else:\n",
    "            continue\n",
    "    except:\n",
    "        print(f\"{k} does not contain one of the groups.\")"
   ]
  },
  {
   "cell_type": "markdown",
   "metadata": {},
   "source": [
    "### Statistical Test"
   ]
  },
  {
   "cell_type": "code",
   "execution_count": null,
   "metadata": {},
   "outputs": [],
   "source": [
    "import statsmodels.api as sm\n",
    "from statsmodels.formula.api import ols\n",
    "model = ols(\"Quantity~C(discounted)+C(ShipCountry)+C(discounted):C(ShipCountry)\", data=df_countries).fit()\n",
    "anova_table = sm.stats.anova_lm(model, typ=2)"
   ]
  },
  {
   "cell_type": "code",
   "execution_count": null,
   "metadata": {},
   "outputs": [],
   "source": [
    "# reformat scientific notation of results for easier interpretation\n",
    "anova_table.style.format(\"{:.5f}\", subset=['PR(>F)'])"
   ]
  },
  {
   "cell_type": "markdown",
   "metadata": {},
   "source": [
    "Although discount does not have a significant effect on countries overall (p = 0.99), there is a statistically significant relationship between order quantities and discount in some of the countries (p=0.0006).\n",
    "\n",
    "According to the SEM bar plots and ttest statistics above, countries showing a preference for discount include:\n",
    "* Spain\n",
    "* UK\n",
    "* Canada\n",
    "* USA"
   ]
  },
  {
   "cell_type": "markdown",
   "metadata": {},
   "source": [
    "### Effect Size"
   ]
  },
  {
   "cell_type": "markdown",
   "metadata": {},
   "source": [
    "Effect size testing is unnecessary since the null hypothesis for the main question was not rejected."
   ]
  },
  {
   "cell_type": "markdown",
   "metadata": {},
   "source": [
    "### Post-hoc Tests"
   ]
  },
  {
   "cell_type": "code",
   "execution_count": null,
   "metadata": {},
   "outputs": [],
   "source": [
    "# Part 2: To what extent (percentage difference) do countries order discount vs full price\n",
    "discountry_df = df_countries[df_countries.ShipCountry.isin(['Spain','UK','USA','Canada'])]\n",
    "discountry_df.head()"
   ]
  },
  {
   "cell_type": "code",
   "execution_count": null,
   "metadata": {},
   "outputs": [],
   "source": [
    "#!pip install pandasql\n",
    "from pandasql import sqldf\n",
    "pysqldf = lambda q: sqldf(q, globals())"
   ]
  },
  {
   "cell_type": "code",
   "execution_count": null,
   "metadata": {},
   "outputs": [],
   "source": [
    "# Plot comparison of discount orders vs fullprice orders for each country where a significant difference exists.\n",
    "#Spain\n",
    "q0 = \"SELECT ShipCountry, Count(*) from discountry_df where discounted = 0 group by 1;\"\n",
    "q1 = \"SELECT ShipCountry, Count(*) from discountry_df where discounted = 1 group by 1;\"\n",
    "\n",
    "fullprice_df = pysqldf(q0)\n",
    "discount_df = pysqldf(q1)\n",
    "\n",
    "# Create histograms for each query group\n",
    "fig, axes = plt.subplots(nrows=1, ncols=2, figsize=(18,8), sharex=True)\n",
    "\n",
    "ax0 = axes[0]\n",
    "fullprice_df.set_index('ShipCountry')['Count(*)'].plot(kind='barh', ax=ax0, color='purple')\n",
    "ax0.set_title('Distribution of Full Price Orders')\n",
    "\n",
    "ax1 = axes[1]\n",
    "discount_df.set_index('ShipCountry')['Count(*)'].plot(kind='barh', ax=ax1, color='green')\n",
    "ax1.set_title('Distribution of Discount Orders')\n",
    "plt.show()"
   ]
  },
  {
   "cell_type": "markdown",
   "metadata": {},
   "source": [
    "According to the plot above, the actual number of discounted orders is lower than the number of full price orders. Let's compare the sum of quantities for these orders in each group."
   ]
  },
  {
   "cell_type": "code",
   "execution_count": null,
   "metadata": {},
   "outputs": [],
   "source": [
    "# Plot comparison of discount orders vs fullprice orders for each country where a significant difference exists.\n",
    "#Spain\n",
    "q0 = \"SELECT ShipCountry, SUM(Quantity) from discountry_df where discounted = 0 group by 1;\"\n",
    "q1 = \"SELECT ShipCountry, SUM(Quantity) from discountry_df where discounted = 1 group by 1;\"\n",
    "\n",
    "fullprice_df = pysqldf(q0)\n",
    "discount_df = pysqldf(q1)\n",
    "\n",
    "# Create histograms for each query group\n",
    "fig, axes = plt.subplots(nrows=1, ncols=2, figsize=(18,8), sharex=True)\n",
    "\n",
    "ax0 = axes[0]\n",
    "fullprice_df.set_index('ShipCountry')['SUM(Quantity)'].plot(kind='barh', ax=ax0, color='purple')\n",
    "ax0.set_title('Distribution of Full Price Quantity')\n",
    "\n",
    "ax1 = axes[1]\n",
    "discount_df.set_index('ShipCountry')['SUM(Quantity)'].plot(kind='barh', ax=ax1, color='green')\n",
    "ax1.set_title('Distribution of Discount Quantity')\n",
    "plt.show()"
   ]
  },
  {
   "cell_type": "markdown",
   "metadata": {},
   "source": [
    "This still doesn't tell us much about whether or not these countries prefer discounts (tend to order more products) or not - in order to get better insight, we need to look at the average order size (mean quantities per order) for each group."
   ]
  },
  {
   "cell_type": "code",
   "execution_count": null,
   "metadata": {},
   "outputs": [],
   "source": [
    "# Plot comparison of discount orders vs fullprice orders for each country where a significant difference exists.\n",
    "#Spain\n",
    "q0 = \"SELECT ShipCountry, AVG(Quantity) from discountry_df where discounted = 0 group by 1;\"\n",
    "q1 = \"SELECT ShipCountry, AVG(Quantity) from discountry_df where discounted = 1 group by 1;\"\n",
    "\n",
    "fullprice_df = pysqldf(q0)\n",
    "discount_df = pysqldf(q1)\n",
    "\n",
    "# Create histograms for each query group\n",
    "fig, axes = plt.subplots(nrows=1, ncols=2, figsize=(18,8), sharex=True)\n",
    "\n",
    "ax0 = axes[0]\n",
    "fullprice_df.set_index('ShipCountry')['AVG(Quantity)'].plot(kind='barh', ax=ax0, color='purple')\n",
    "ax0.set_title('Distribution of Full Price Quantity')\n",
    "\n",
    "ax1 = axes[1]\n",
    "discount_df.set_index('ShipCountry')['AVG(Quantity)'].plot(kind='barh', ax=ax1, color='green')\n",
    "ax1.set_title('Distribution of Discount Quantity')\n",
    "plt.show()"
   ]
  },
  {
   "cell_type": "code",
   "execution_count": null,
   "metadata": {},
   "outputs": [],
   "source": [
    "# store groups into variables\n",
    "fp = fullprice_df.set_index('ShipCountry')['AVG(Quantity)']\n",
    "dc = \n",
    "\n",
    "# kwarg dicts\n",
    "\n",
    "\n",
    "# Create bar plots for fullprice vs discount grouped by country\n",
    "fig = plot.figure(figsize=(18,8))\n",
    "\n",
    "sns.plt(kind='barh', data=fp,  \n",
    "ax0.set_title('Distribution of Full Price Quantity')\n",
    "\n",
    "ax1 = axes[1]\n",
    "discount_df.set_index('ShipCountry')['AVG(Quantity)'].plot(kind='barh', ax=ax1, color='green')\n",
    "ax1.set_title('Distribution of Discount Quantity')\n",
    "plt.show()"
   ]
  },
  {
   "cell_type": "code",
   "execution_count": null,
   "metadata": {},
   "outputs": [],
   "source": [
    "help(sns.)"
   ]
  },
  {
   "cell_type": "markdown",
   "metadata": {},
   "source": [
    "The above plots indicate that when a discount is offered, these individual countries do in fact tend to order higher quantities of products. Let's look at the values to determine what percentage more they purchase when an order is discounted."
   ]
  },
  {
   "cell_type": "markdown",
   "metadata": {},
   "source": [
    "The graphs show that Western Europe is the region with the greatest number of orders, and also has the greatest total revenue. However, North America has the most expensive order on average (followed by Western Europe). Southern and Eastern Europe has the lowest number of orders, lowest total revenue, and cheapest order on average. The third graph lent support to the alternate hypothesis that there are significant differences in average order revenue between regions. "
   ]
  },
  {
   "cell_type": "code",
   "execution_count": null,
   "metadata": {},
   "outputs": [],
   "source": [
    "q0 = \"SELECT ShipCountry, AVG(Quantity) as fpmean_qty from discountry_df where discounted = 0 group by 1;\"\n",
    "q1 = \"SELECT ShipCountry, AVG(Quantity) as dcmean_qty from discountry_df where discounted = 1 group by 1;\"\n",
    "q3 = \"SELECT ShipCountry, AVG(Quantity) as mean_qty from discountry_df group by 1;\"\n",
    "\n",
    "\n",
    "\n",
    "fp = pysqldf(q0)\n",
    "dc = pysqldf(q1)\n",
    "mean_qty = pysqldf(q3)\n",
    "\n",
    "country_mean_qty = fp\n",
    "country_mean_qty['dcmean_qty'] = dc['dcmean_qty']\n",
    "\n",
    "country_mean_qty['mean_diff'] = country_mean_qty.dcmean_qty - country_mean_qty.fpmean_qty\n",
    "country_mean_qty['mean_qty'] = mean_qty['mean_qty']\n",
    "\n",
    "#display(pysqldf(q0), pysqldf(q1))"
   ]
  },
  {
   "cell_type": "code",
   "execution_count": null,
   "metadata": {},
   "outputs": [],
   "source": [
    "country_mean_qty                           "
   ]
  },
  {
   "cell_type": "markdown",
   "metadata": {},
   "source": [
    "## Results"
   ]
  },
  {
   "cell_type": "markdown",
   "metadata": {},
   "source": [
    "For certain individual countries (Spain, Canada, UK, USA), the null hypothesis is rejected."
   ]
  },
  {
   "cell_type": "markdown",
   "metadata": {},
   "source": [
    "# H3: Region & Revenue\n",
    "\n",
    "**Does average revenue per order vary between different customer regions?**\n",
    "\n",
    "**If so, how do the regions rank in terms of average revenue per order?**"
   ]
  },
  {
   "cell_type": "markdown",
   "metadata": {},
   "source": [
    "## Hypotheses\n",
    "\n",
    "$H_0$ the average revenue per order is the same between different customer regions.\n",
    "\n",
    "$H_1$ Alternate hypothesis: the average revenue per order is different (higher or lower) across different customer regions.\n",
    "\n",
    "*The alpha level (i.e. the probability of rejecting the null hypothesis when it is true) is = 0.05.*"
   ]
  },
  {
   "cell_type": "markdown",
   "metadata": {},
   "source": [
    "## EDA\n",
    "\n",
    "Select the proper dataset for analysis, generate data groups for testing, perform EDA."
   ]
  },
  {
   "cell_type": "markdown",
   "metadata": {},
   "source": [
    "### Select"
   ]
  },
  {
   "cell_type": "code",
   "execution_count": null,
   "metadata": {},
   "outputs": [],
   "source": [
    "# Extract revenue per product per order\n",
    "cur.execute(\"\"\"SELECT c.Region, od.OrderId, od.Quantity, od.UnitPrice, od.Discount\n",
    "FROM Customer c\n",
    "JOIN 'Order' o ON c.Id = o.CustomerId\n",
    "JOIN OrderDetail od USING(OrderId);\"\"\")\n",
    "df = pd.DataFrame(cur.fetchall())\n",
    "df. columns = [i[0] for i in cur.description]\n",
    "print(len(df))\n",
    "df.head()"
   ]
  },
  {
   "cell_type": "code",
   "execution_count": null,
   "metadata": {},
   "outputs": [],
   "source": [
    "# Get total revenue per order\n",
    "\n",
    "df['Revenue'] = df.Quantity * df.UnitPrice * (1-df.Discount)"
   ]
  },
  {
   "cell_type": "code",
   "execution_count": null,
   "metadata": {},
   "outputs": [],
   "source": [
    "# Drop unnecessary columns\n",
    "df.drop(['Quantity', 'UnitPrice', 'Discount'], axis=1, inplace=True)"
   ]
  },
  {
   "cell_type": "markdown",
   "metadata": {},
   "source": [
    "### Group"
   ]
  },
  {
   "cell_type": "code",
   "execution_count": null,
   "metadata": {},
   "outputs": [],
   "source": [
    "# Group data by order and get average revenue per order for each region\n",
    "df_region = df.groupby(['Region', 'OrderId'])['Revenue'].mean().reset_index()\n",
    "# drop Order Id (no longer necessary)\n",
    "df_region.drop('OrderId', axis=1, inplace=True)\n",
    "# check changes\n",
    "df_region.head()"
   ]
  },
  {
   "cell_type": "code",
   "execution_count": null,
   "metadata": {},
   "outputs": [],
   "source": [
    "# Explore sample sizes before testing: n > 30 to pass assumptions\n",
    "df_region.groupby('Region').count()"
   ]
  },
  {
   "cell_type": "markdown",
   "metadata": {},
   "source": [
    "Some of the sample sizes are too small to ignore assumptions of normality. We can combine some regions to meet the required threshold of n > 30."
   ]
  },
  {
   "cell_type": "code",
   "execution_count": null,
   "metadata": {},
   "outputs": [],
   "source": [
    "# Group sub-regions together to create sample sizes adequately large for ANOVA testing  (min 30)\n",
    "\n",
    "# Group Scandinavia, Northern and Eastern Europe\n",
    "df_region.loc[(df_region.Region == 'Scandinavia') | (df_region.Region == 'Eastern Europe') | (df_region.Region == 'Northern Europe'), 'Region'] = 'North Europe'\n",
    "\n",
    "# Group South and Central America\n",
    "df_region.loc[(df_region.Region == 'South America') | (df_region.Region == 'Central America'), 'Region'] = 'South Americas'\n",
    "\n",
    "# Review sizes of new groups\n",
    "df_region.groupby('Region').count()"
   ]
  },
  {
   "cell_type": "markdown",
   "metadata": {},
   "source": [
    "### Explore"
   ]
  },
  {
   "cell_type": "code",
   "execution_count": null,
   "metadata": {},
   "outputs": [],
   "source": [
    "# Plot number of orders, total revenue, and average revenue per order by region\n",
    "fig, (ax1, ax2, ax3) = plt.subplots(3, 1, figsize=(8,8))\n",
    "# Number of orders\n",
    "df_revenue.groupby(['Region'])['order_revenue'].count().plot(kind='barh', ax=ax1)\n",
    "\n",
    "# Total Revenue\n",
    "df_revenue.groupby(['Region'])['order_revenue'].sum().plot(kind='barh', ax=ax2)\n",
    "\n",
    "# Average Revenue\n",
    "df_revenue.groupby(['Region'])['order_revenue'].mean().plot(kind='barh', ax=ax3)\n",
    "\n",
    "# Label plots and axes\n",
    "ax1.set_title('Total Orders')\n",
    "ax1.set_ylabel('')\n",
    "ax2.set_title('Total Revenue in US$')\n",
    "ax2.set_ylabel('')\n",
    "ax3.set_title('Average Revenue per Order US$')\n",
    "ax3.set_ylabel('')\n",
    "\n",
    "fig.subplots_adjust(hspace=0.4);"
   ]
  },
  {
   "cell_type": "code",
   "execution_count": null,
   "metadata": {},
   "outputs": [],
   "source": [
    "table(ax=ax3, data=df_region, rowLabels=None, colLabels=None, **kwargs)"
   ]
  },
  {
   "cell_type": "code",
   "execution_count": null,
   "metadata": {},
   "outputs": [],
   "source": []
  },
  {
   "cell_type": "code",
   "execution_count": null,
   "metadata": {},
   "outputs": [],
   "source": [
    "# Plot number of orders, total revenue, and average revenue per order by region\n",
    "fig = plt.figure(figsize=(8,8))\n",
    "\n",
    "\n",
    "#Number of orders\n",
    "count = df_region.groupby(['Region'])['Revenue'].count()\n",
    "count.plot(kind='barh', ax=ax1)\n",
    "\n",
    "# Total Revenue\n",
    "total = df_revenue.groupby(['Region'])['Revenue'].sum()\n",
    "total.plot(kind='barh', ax=ax2)\n",
    "\n",
    "# Average Revenue\n",
    "mean_rpo = df_revenue.groupby(['Region'])['Revenue'].mean()\n",
    "mean_rpo.plot(kind='barh', ax=ax3)\n",
    "\n",
    "# Label plots and axes\n",
    "ax1.set_title('Total Orders')\n",
    "ax1.set_ylabel('')\n",
    "ax2.set_title('Total Revenue in US$')\n",
    "ax2.set_ylabel('')\n",
    "ax3.set_title('Average Revenue per Order US$')\n",
    "ax3.set_ylabel('')\n",
    "\n",
    "fig.subplots_adjust(hspace=0.4);"
   ]
  },
  {
   "cell_type": "code",
   "execution_count": null,
   "metadata": {},
   "outputs": [],
   "source": [
    "\n",
    "#kind='area','hexbin','kde'\n",
    "pd.plotting(data=df_region, x='Region', y='mean_rpo', kind='barh', table=True, yerr=None, stacked=True)\n"
   ]
  },
  {
   "cell_type": "markdown",
   "metadata": {},
   "source": [
    "## Test"
   ]
  },
  {
   "cell_type": "markdown",
   "metadata": {},
   "source": [
    "### Sample Size"
   ]
  },
  {
   "cell_type": "code",
   "execution_count": null,
   "metadata": {},
   "outputs": [],
   "source": [
    "# Check if sample sizes allow us to ignore assumptions;\n",
    "# visualize sample size comparisons \n",
    "\n",
    "regions = ['Western Europe', 'Southern Europe', 'Northeastern Europe', 'South Central America', 'North America', 'British Isles']\n",
    "fig = plt.figure(figsize=(12,6))\n",
    "for region in regions:\n",
    "    grp = df_revenue.groupby('Region').get_group(region)['order_revenue']\n",
    "    plt.bar(x=region, height=grp.mean(), yerr=stat.sem(grp))\n",
    "    #print(stat.normaltest(grp))\n",
    "plt.show()"
   ]
  },
  {
   "cell_type": "markdown",
   "metadata": {},
   "source": [
    "### Normality"
   ]
  },
  {
   "cell_type": "markdown",
   "metadata": {},
   "source": [
    "### Statistical"
   ]
  },
  {
   "cell_type": "code",
   "execution_count": null,
   "metadata": {},
   "outputs": [],
   "source": []
  },
  {
   "cell_type": "code",
   "execution_count": null,
   "metadata": {},
   "outputs": [],
   "source": [
    "# run tukey test for OQD (Order Quantity Discount) \n",
    "data = df_region['Revenue'].values\n",
    "labels = df_region['Region'].values\n",
    "\n",
    "import statsmodels.api as sms\n",
    "model = sms.stats.multicomp.pairwise_tukeyhsd(data,labels)\n",
    "\n",
    "# save OQD tukey test model results into dataframe (OQD: order quantity discount)\n",
    "tukey_OQD = pd.DataFrame(data=model._results_table[1:], columns=model._results_table[0])\n",
    "tukey_OQD"
   ]
  },
  {
   "cell_type": "code",
   "execution_count": null,
   "metadata": {},
   "outputs": [],
   "source": [
    "fig"
   ]
  },
  {
   "cell_type": "markdown",
   "metadata": {},
   "source": [
    "## Results"
   ]
  },
  {
   "cell_type": "markdown",
   "metadata": {},
   "source": [
    "At an alpha level of 0.05 significance, revenue does vary between regions and therefore the null hypothesis is rejected."
   ]
  },
  {
   "cell_type": "markdown",
   "metadata": {},
   "source": [
    "# H4: Season--Quantity\n",
    "**Does average quantity per order vary by season / time of year?**\n",
    "\n",
    "**If so, which months?**"
   ]
  },
  {
   "cell_type": "markdown",
   "metadata": {},
   "source": [
    "## Hypotheses\n",
    "    \n",
    "* $𝐻_1$  : Time of year has a statistically significant effect on average quantity per order.\n",
    "\n",
    "* $𝐻_0$ : Time of year has no relationship with average quantity per order."
   ]
  },
  {
   "cell_type": "markdown",
   "metadata": {},
   "source": [
    "## EDA\n",
    "Select the proper dataset for analysis, perform EDA, and generate data groups for testing.\n",
    "\n",
    "       * group by month: determine mean number of orders, mean order quantity "
   ]
  },
  {
   "cell_type": "markdown",
   "metadata": {},
   "source": [
    "### Select"
   ]
  },
  {
   "cell_type": "code",
   "execution_count": 4,
   "metadata": {
    "scrolled": false
   },
   "outputs": [
    {
     "ename": "NameError",
     "evalue": "name 'df_orderDetail' is not defined",
     "output_type": "error",
     "traceback": [
      "\u001b[0;31m---------------------------------------------------------------------------\u001b[0m",
      "\u001b[0;31mNameError\u001b[0m                                 Traceback (most recent call last)",
      "\u001b[0;32m<ipython-input-4-dcc66708ebe7>\u001b[0m in \u001b[0;36m<module>\u001b[0;34m\u001b[0m\n\u001b[0;32m----> 1\u001b[0;31m \u001b[0mdf_month\u001b[0m \u001b[0;34m=\u001b[0m \u001b[0mdf_orderDetail\u001b[0m\u001b[0;34m.\u001b[0m\u001b[0mmerge\u001b[0m\u001b[0;34m(\u001b[0m\u001b[0mdf_order\u001b[0m\u001b[0;34m,\u001b[0m \u001b[0mon\u001b[0m\u001b[0;34m=\u001b[0m\u001b[0;34m'OrderId'\u001b[0m\u001b[0;34m,\u001b[0m \u001b[0mcopy\u001b[0m\u001b[0;34m=\u001b[0m\u001b[0;32mTrue\u001b[0m\u001b[0;34m)\u001b[0m\u001b[0;34m\u001b[0m\u001b[0;34m\u001b[0m\u001b[0m\n\u001b[0m\u001b[1;32m      2\u001b[0m \u001b[0mdf_month\u001b[0m\u001b[0;34m.\u001b[0m\u001b[0mhead\u001b[0m\u001b[0;34m(\u001b[0m\u001b[0;34m)\u001b[0m\u001b[0;34m\u001b[0m\u001b[0;34m\u001b[0m\u001b[0m\n",
      "\u001b[0;31mNameError\u001b[0m: name 'df_orderDetail' is not defined"
     ]
    }
   ],
   "source": [
    "df_month = df_orderDetail.merge(df_order, on='OrderId', copy=True)\n",
    "df_month.head()"
   ]
  },
  {
   "cell_type": "code",
   "execution_count": 5,
   "metadata": {},
   "outputs": [
    {
     "ename": "NameError",
     "evalue": "name 'df_month' is not defined",
     "output_type": "error",
     "traceback": [
      "\u001b[0;31m---------------------------------------------------------------------------\u001b[0m",
      "\u001b[0;31mNameError\u001b[0m                                 Traceback (most recent call last)",
      "\u001b[0;32m<ipython-input-5-43db4c0d2d08>\u001b[0m in \u001b[0;36m<module>\u001b[0;34m\u001b[0m\n\u001b[0;32m----> 1\u001b[0;31m \u001b[0mpd\u001b[0m\u001b[0;34m.\u001b[0m\u001b[0mto_datetime\u001b[0m\u001b[0;34m(\u001b[0m\u001b[0mdf_month\u001b[0m\u001b[0;34m[\u001b[0m\u001b[0;34m'OrderDate'\u001b[0m\u001b[0;34m]\u001b[0m\u001b[0;34m)\u001b[0m\u001b[0;34m.\u001b[0m\u001b[0mhead\u001b[0m\u001b[0;34m(\u001b[0m\u001b[0;34m)\u001b[0m\u001b[0;34m\u001b[0m\u001b[0;34m\u001b[0m\u001b[0m\n\u001b[0m",
      "\u001b[0;31mNameError\u001b[0m: name 'df_month' is not defined"
     ]
    }
   ],
   "source": [
    "pd.to_datetime(df_month['OrderDate']).head()"
   ]
  },
  {
   "cell_type": "code",
   "execution_count": 6,
   "metadata": {},
   "outputs": [
    {
     "ename": "NameError",
     "evalue": "name 'df_month' is not defined",
     "output_type": "error",
     "traceback": [
      "\u001b[0;31m---------------------------------------------------------------------------\u001b[0m",
      "\u001b[0;31mNameError\u001b[0m                                 Traceback (most recent call last)",
      "\u001b[0;32m<ipython-input-6-44ca17a9e80d>\u001b[0m in \u001b[0;36m<module>\u001b[0;34m\u001b[0m\n\u001b[0;32m----> 1\u001b[0;31m \u001b[0mpd\u001b[0m\u001b[0;34m.\u001b[0m\u001b[0mto_datetime\u001b[0m\u001b[0;34m(\u001b[0m\u001b[0mdf_month\u001b[0m\u001b[0;34m[\u001b[0m\u001b[0;34m'OrderDate'\u001b[0m\u001b[0;34m]\u001b[0m\u001b[0;34m,\u001b[0m \u001b[0mformat\u001b[0m\u001b[0;34m=\u001b[0m\u001b[0;34m'%Y/%m/%d'\u001b[0m\u001b[0;34m)\u001b[0m\u001b[0;34m.\u001b[0m\u001b[0mhead\u001b[0m\u001b[0;34m(\u001b[0m\u001b[0;34m)\u001b[0m\u001b[0;34m\u001b[0m\u001b[0;34m\u001b[0m\u001b[0m\n\u001b[0m",
      "\u001b[0;31mNameError\u001b[0m: name 'df_month' is not defined"
     ]
    }
   ],
   "source": [
    "pd.to_datetime(df_month['OrderDate'], format='%Y/%m/%d').head()"
   ]
  },
  {
   "cell_type": "code",
   "execution_count": 7,
   "metadata": {
    "scrolled": false
   },
   "outputs": [
    {
     "ename": "NameError",
     "evalue": "name 'df_month' is not defined",
     "output_type": "error",
     "traceback": [
      "\u001b[0;31m---------------------------------------------------------------------------\u001b[0m",
      "\u001b[0;31mNameError\u001b[0m                                 Traceback (most recent call last)",
      "\u001b[0;32m<ipython-input-7-34f9785158ad>\u001b[0m in \u001b[0;36m<module>\u001b[0;34m\u001b[0m\n\u001b[0;32m----> 1\u001b[0;31m \u001b[0mdf_month\u001b[0m\u001b[0;34m[\u001b[0m\u001b[0;34m'OrderMonth'\u001b[0m\u001b[0;34m]\u001b[0m \u001b[0;34m=\u001b[0m \u001b[0mpd\u001b[0m\u001b[0;34m.\u001b[0m\u001b[0mDatetimeIndex\u001b[0m\u001b[0;34m(\u001b[0m\u001b[0mdf_month\u001b[0m\u001b[0;34m[\u001b[0m\u001b[0;34m'OrderDate'\u001b[0m\u001b[0;34m]\u001b[0m\u001b[0;34m)\u001b[0m\u001b[0;34m.\u001b[0m\u001b[0mmonth\u001b[0m\u001b[0;34m\u001b[0m\u001b[0;34m\u001b[0m\u001b[0m\n\u001b[0m\u001b[1;32m      2\u001b[0m \u001b[0mdf_month\u001b[0m\u001b[0;34m[\u001b[0m\u001b[0;34m'OrderYear'\u001b[0m\u001b[0;34m]\u001b[0m \u001b[0;34m=\u001b[0m \u001b[0mpd\u001b[0m\u001b[0;34m.\u001b[0m\u001b[0mDatetimeIndex\u001b[0m\u001b[0;34m(\u001b[0m\u001b[0mdf_month\u001b[0m\u001b[0;34m[\u001b[0m\u001b[0;34m'OrderDate'\u001b[0m\u001b[0;34m]\u001b[0m\u001b[0;34m)\u001b[0m\u001b[0;34m.\u001b[0m\u001b[0myear\u001b[0m\u001b[0;34m\u001b[0m\u001b[0;34m\u001b[0m\u001b[0m\n\u001b[1;32m      3\u001b[0m \u001b[0mdf_month\u001b[0m\u001b[0;34m.\u001b[0m\u001b[0mhead\u001b[0m\u001b[0;34m(\u001b[0m\u001b[0;34m)\u001b[0m\u001b[0;34m\u001b[0m\u001b[0;34m\u001b[0m\u001b[0m\n",
      "\u001b[0;31mNameError\u001b[0m: name 'df_month' is not defined"
     ]
    }
   ],
   "source": [
    "df_month['OrderMonth'] = pd.DatetimeIndex(df_month['OrderDate']).month\n",
    "df_month['OrderYear'] = pd.DatetimeIndex(df_month['OrderDate']).year\n",
    "df_month.head()"
   ]
  },
  {
   "cell_type": "markdown",
   "metadata": {},
   "source": [
    "### Group"
   ]
  },
  {
   "cell_type": "code",
   "execution_count": null,
   "metadata": {},
   "outputs": [],
   "source": []
  },
  {
   "cell_type": "code",
   "execution_count": 8,
   "metadata": {},
   "outputs": [
    {
     "ename": "NameError",
     "evalue": "name 'df_month' is not defined",
     "output_type": "error",
     "traceback": [
      "\u001b[0;31m---------------------------------------------------------------------------\u001b[0m",
      "\u001b[0;31mNameError\u001b[0m                                 Traceback (most recent call last)",
      "\u001b[0;32m<ipython-input-8-633203d20496>\u001b[0m in \u001b[0;36m<module>\u001b[0;34m\u001b[0m\n\u001b[0;32m----> 1\u001b[0;31m \u001b[0mmqpo_m\u001b[0m \u001b[0;34m=\u001b[0m \u001b[0mdf_month\u001b[0m\u001b[0;34m.\u001b[0m\u001b[0mgroupby\u001b[0m\u001b[0;34m(\u001b[0m\u001b[0;34m'OrderMonth'\u001b[0m\u001b[0;34m)\u001b[0m\u001b[0;34m[\u001b[0m\u001b[0;34m'Quantity'\u001b[0m\u001b[0;34m]\u001b[0m\u001b[0;34m.\u001b[0m\u001b[0mmean\u001b[0m\u001b[0;34m(\u001b[0m\u001b[0;34m)\u001b[0m\u001b[0;34m\u001b[0m\u001b[0;34m\u001b[0m\u001b[0m\n\u001b[0m",
      "\u001b[0;31mNameError\u001b[0m: name 'df_month' is not defined"
     ]
    }
   ],
   "source": [
    "mqpo_m = df_month.groupby('OrderMonth')['Quantity'].mean()"
   ]
  },
  {
   "cell_type": "code",
   "execution_count": 9,
   "metadata": {},
   "outputs": [
    {
     "ename": "SyntaxError",
     "evalue": "invalid syntax (<ipython-input-9-3d614feb435c>, line 3)",
     "output_type": "error",
     "traceback": [
      "\u001b[0;36m  File \u001b[0;32m\"<ipython-input-9-3d614feb435c>\"\u001b[0;36m, line \u001b[0;32m3\u001b[0m\n\u001b[0;31m    plt.bar(x=k, height=v, yerr=)\u001b[0m\n\u001b[0m                                ^\u001b[0m\n\u001b[0;31mSyntaxError\u001b[0m\u001b[0;31m:\u001b[0m invalid syntax\n"
     ]
    }
   ],
   "source": [
    "# plot average order quantities by month\n",
    "for k,v in mqpo_m.items():\n",
    "    plt.bar(x=k, height=v, yerr=)"
   ]
  },
  {
   "cell_type": "markdown",
   "metadata": {},
   "source": [
    "### Group"
   ]
  },
  {
   "cell_type": "code",
   "execution_count": 10,
   "metadata": {},
   "outputs": [
    {
     "ename": "NameError",
     "evalue": "name 'df_month' is not defined",
     "output_type": "error",
     "traceback": [
      "\u001b[0;31m---------------------------------------------------------------------------\u001b[0m",
      "\u001b[0;31mNameError\u001b[0m                                 Traceback (most recent call last)",
      "\u001b[0;32m<ipython-input-10-b6a0dce033c4>\u001b[0m in \u001b[0;36m<module>\u001b[0;34m\u001b[0m\n\u001b[1;32m      2\u001b[0m \u001b[0;31m#keep_cols = ['OrderId', 'ProductId', 'UnitPrice', 'Quantity', 'ShipCountry', 'OrderMonth', 'OrderYear', 'Season']\u001b[0m\u001b[0;34m\u001b[0m\u001b[0;34m\u001b[0m\u001b[0;34m\u001b[0m\u001b[0m\n\u001b[1;32m      3\u001b[0m \u001b[0mdrop_cols\u001b[0m \u001b[0;34m=\u001b[0m \u001b[0;34m[\u001b[0m\u001b[0;34m'Id'\u001b[0m\u001b[0;34m,\u001b[0m \u001b[0;34m'discounted'\u001b[0m\u001b[0;34m,\u001b[0m \u001b[0;34m'OQD'\u001b[0m\u001b[0;34m,\u001b[0m \u001b[0;34m'CustomerId'\u001b[0m\u001b[0;34m,\u001b[0m \u001b[0;34m'EmployeeId'\u001b[0m\u001b[0;34m,\u001b[0m \u001b[0;34m'Freight'\u001b[0m\u001b[0;34m,\u001b[0m \u001b[0;34m'OrderDate'\u001b[0m\u001b[0;34m,\u001b[0m \u001b[0;34m'RequiredDate'\u001b[0m\u001b[0;34m,\u001b[0m \u001b[0;34m'ShippedDate'\u001b[0m\u001b[0;34m,\u001b[0m \u001b[0;34m'ShipVia'\u001b[0m\u001b[0;34m,\u001b[0m \u001b[0;34m'ShipName'\u001b[0m\u001b[0;34m,\u001b[0m \u001b[0;34m'ShipAddress'\u001b[0m\u001b[0;34m,\u001b[0m \u001b[0;34m'ShipCity'\u001b[0m\u001b[0;34m,\u001b[0m \u001b[0;34m'ShipRegion'\u001b[0m\u001b[0;34m,\u001b[0m \u001b[0;34m'ShipPostalCode'\u001b[0m\u001b[0;34m]\u001b[0m\u001b[0;34m\u001b[0m\u001b[0;34m\u001b[0m\u001b[0m\n\u001b[0;32m----> 4\u001b[0;31m \u001b[0mdf_month\u001b[0m\u001b[0;34m.\u001b[0m\u001b[0mdrop\u001b[0m\u001b[0;34m(\u001b[0m\u001b[0mdrop_cols\u001b[0m\u001b[0;34m,\u001b[0m \u001b[0maxis\u001b[0m\u001b[0;34m=\u001b[0m\u001b[0;36m1\u001b[0m\u001b[0;34m,\u001b[0m \u001b[0minplace\u001b[0m\u001b[0;34m=\u001b[0m\u001b[0;32mTrue\u001b[0m\u001b[0;34m)\u001b[0m\u001b[0;34m\u001b[0m\u001b[0;34m\u001b[0m\u001b[0m\n\u001b[0m\u001b[1;32m      5\u001b[0m \u001b[0mdf_month\u001b[0m\u001b[0;34m.\u001b[0m\u001b[0mhead\u001b[0m\u001b[0;34m(\u001b[0m\u001b[0;34m)\u001b[0m\u001b[0;34m\u001b[0m\u001b[0;34m\u001b[0m\u001b[0m\n",
      "\u001b[0;31mNameError\u001b[0m: name 'df_month' is not defined"
     ]
    }
   ],
   "source": [
    "# create seasonal-based dataframe with only columns we need\n",
    "#keep_cols = ['OrderId', 'ProductId', 'UnitPrice', 'Quantity', 'ShipCountry', 'OrderMonth', 'OrderYear', 'Season']\n",
    "drop_cols = ['Id', 'discounted', 'OQD', 'CustomerId', 'EmployeeId', 'Freight', 'OrderDate', 'RequiredDate', 'ShippedDate', 'ShipVia', 'ShipName', 'ShipAddress', 'ShipCity', 'ShipRegion', 'ShipPostalCode']\n",
    "df_month.drop(drop_cols, axis=1, inplace=True)\n",
    "df_month.head()"
   ]
  },
  {
   "cell_type": "code",
   "execution_count": null,
   "metadata": {
    "run_control": {
     "marked": true
    }
   },
   "outputs": [],
   "source": [
    "# Add another feature to examine: revenue\n",
    "df_month['Revenue'] = df_month.UnitPrice * df_month.Quantity * (1 - df_month.Discount)\n",
    "df_month.Revenue.mean()"
   ]
  },
  {
   "cell_type": "markdown",
   "metadata": {},
   "source": [
    "## Test"
   ]
  },
  {
   "cell_type": "markdown",
   "metadata": {},
   "source": [
    "### Sample Size"
   ]
  },
  {
   "cell_type": "code",
   "execution_count": 549,
   "metadata": {},
   "outputs": [],
   "source": [
    "# group by seasons\n",
    "# Check if sample sizes allow us to ignore assumptions;\n",
    "# visualize sample size comparisons for two groups (normality check)\n"
   ]
  },
  {
   "cell_type": "code",
   "execution_count": null,
   "metadata": {},
   "outputs": [],
   "source": [
    "# Anova Test - Season + Quantity ()\n",
    "\n",
    "import statsmodels.api as sm\n",
    "from statsmodels.formula.api import ols\n",
    "\n",
    "f = 'Quantity ~ C(OrderMonth)'\n",
    "lm = ols(formula, df_month).fit()\n",
    "table = sm.stats.anova_lm(lm, typ=2)\n",
    "print(table)\n",
    "\n",
    "\n",
    "\n",
    "# Compares two sets of data, which are both approximately normally distributed.\n",
    "# The null hypothesis, in this case, is that the two distributions have the same mean.\n",
    "# It takes the two distributions as inputs and returns the t-statistic and a p-value.\n",
    "\n",
    "f = ' ~ C(supp) + C(dose)'\n",
    "lm = ols(formula, df).fit()\n",
    "table = sm.stats.anova_lm(lm, typ=2)\n",
    "print(table)"
   ]
  },
  {
   "cell_type": "code",
   "execution_count": 557,
   "metadata": {},
   "outputs": [
    {
     "data": {
      "text/plain": [
       "[Text(-40.0, 0, '−40'),\n",
       " Text(-20.0, 0, '−20'),\n",
       " Text(0.0, 0, '0'),\n",
       " Text(20.0, 0, '20'),\n",
       " Text(40.0, 0, '40'),\n",
       " Text(60.0, 0, '60'),\n",
       " Text(80.0, 0, '80'),\n",
       " Text(100.0, 0, '100'),\n",
       " Text(120.0, 0, '120'),\n",
       " Text(140.0, 0, '140'),\n",
       " Text(160.0, 0, '160')]"
      ]
     },
     "execution_count": 557,
     "metadata": {},
     "output_type": "execute_result"
    }
   ],
   "source": [
    "# Create keywords for .set_xticklabels()\n",
    "tick_kwds = dict(horizontalalignment='right', \n",
    "                  fontweight='light', \n",
    "                  fontsize='x-large',   \n",
    "                  rotation=45)\n",
    "\n",
    "ax.set_xticklabels(ax.get_xticklabels(),**tick_kwds)"
   ]
  },
  {
   "cell_type": "markdown",
   "metadata": {},
   "source": [
    "### Normality"
   ]
  },
  {
   "cell_type": "code",
   "execution_count": 427,
   "metadata": {
    "run_control": {
     "marked": false
    }
   },
   "outputs": [],
   "source": [
    "#stat.normaltest(), stat.normaltest(discount)for season in seasons:\n",
    "summer = df_season.groupby('Season').get_group('Summer')['Quantity']\n",
    "fall = df_season.groupby('Season').get_group('Fall')['Quantity']\n",
    "winter = df_season.groupby('Season').get_group('Winter')['Quantity']\n",
    "spring = df_season.groupby('Season').get_group('Spring')['Quantity']"
   ]
  },
  {
   "cell_type": "markdown",
   "metadata": {},
   "source": [
    "If you have 2-9 groups, each group should be greater than 15.\n",
    "If you have 10-12 groups, each group should be greater than 20.\n",
    "\n",
    "If the mean accurately represents the center of your distribution and your sample size is large enough, consider a parametric test because they are more powerful.\n",
    "\n",
    "If the median better represents the center of your distribution, consider the nonparametric test even when you have a large sample.\n",
    "\n",
    "Finally, if you have a very small sample size, you might be stuck using a nonparametric test.\n",
    "\n",
    "Your chance of detecting a significant effect when one exists can be very small when you have both a small sample size and you need to use a less efficient nonparametric test!"
   ]
  },
  {
   "cell_type": "code",
   "execution_count": 437,
   "metadata": {},
   "outputs": [
    {
     "data": {
      "text/plain": [
       "MannwhitneyuResult(statistic=195813.0, pvalue=0.007319161595850691)"
      ]
     },
     "execution_count": 437,
     "metadata": {},
     "output_type": "execute_result"
    }
   ],
   "source": []
  },
  {
   "cell_type": "markdown",
   "metadata": {},
   "source": [
    "### Statistical"
   ]
  },
  {
   "cell_type": "code",
   "execution_count": 438,
   "metadata": {},
   "outputs": [
    {
     "data": {
      "text/html": [
       "<div>\n",
       "<style scoped>\n",
       "    .dataframe tbody tr th:only-of-type {\n",
       "        vertical-align: middle;\n",
       "    }\n",
       "\n",
       "    .dataframe tbody tr th {\n",
       "        vertical-align: top;\n",
       "    }\n",
       "\n",
       "    .dataframe thead th {\n",
       "        text-align: right;\n",
       "    }\n",
       "</style>\n",
       "<table border=\"1\" class=\"dataframe\">\n",
       "  <thead>\n",
       "    <tr style=\"text-align: right;\">\n",
       "      <th></th>\n",
       "      <th>group1</th>\n",
       "      <th>group2</th>\n",
       "      <th>meandiff</th>\n",
       "      <th>p-adj</th>\n",
       "      <th>lower</th>\n",
       "      <th>upper</th>\n",
       "      <th>reject</th>\n",
       "    </tr>\n",
       "  </thead>\n",
       "  <tbody>\n",
       "    <tr>\n",
       "      <td>0</td>\n",
       "      <td>Fall</td>\n",
       "      <td>Spring</td>\n",
       "      <td>-0.4934</td>\n",
       "      <td>0.9</td>\n",
       "      <td>-3.4047</td>\n",
       "      <td>2.4179</td>\n",
       "      <td>False</td>\n",
       "    </tr>\n",
       "    <tr>\n",
       "      <td>1</td>\n",
       "      <td>Fall</td>\n",
       "      <td>Summer</td>\n",
       "      <td>-0.7782</td>\n",
       "      <td>0.9</td>\n",
       "      <td>-4.1636</td>\n",
       "      <td>2.6071</td>\n",
       "      <td>False</td>\n",
       "    </tr>\n",
       "    <tr>\n",
       "      <td>2</td>\n",
       "      <td>Fall</td>\n",
       "      <td>Winter</td>\n",
       "      <td>1.659</td>\n",
       "      <td>0.4711</td>\n",
       "      <td>-1.2888</td>\n",
       "      <td>4.6068</td>\n",
       "      <td>False</td>\n",
       "    </tr>\n",
       "    <tr>\n",
       "      <td>3</td>\n",
       "      <td>Spring</td>\n",
       "      <td>Summer</td>\n",
       "      <td>-0.2849</td>\n",
       "      <td>0.9</td>\n",
       "      <td>-3.4637</td>\n",
       "      <td>2.894</td>\n",
       "      <td>False</td>\n",
       "    </tr>\n",
       "    <tr>\n",
       "      <td>4</td>\n",
       "      <td>Spring</td>\n",
       "      <td>Winter</td>\n",
       "      <td>2.1524</td>\n",
       "      <td>0.1727</td>\n",
       "      <td>-0.5558</td>\n",
       "      <td>4.8606</td>\n",
       "      <td>False</td>\n",
       "    </tr>\n",
       "    <tr>\n",
       "      <td>5</td>\n",
       "      <td>Summer</td>\n",
       "      <td>Winter</td>\n",
       "      <td>2.4373</td>\n",
       "      <td>0.2074</td>\n",
       "      <td>-0.775</td>\n",
       "      <td>5.6496</td>\n",
       "      <td>False</td>\n",
       "    </tr>\n",
       "  </tbody>\n",
       "</table>\n",
       "</div>"
      ],
      "text/plain": [
       "   group1  group2 meandiff   p-adj    lower   upper reject\n",
       "0    Fall  Spring  -0.4934     0.9  -3.4047  2.4179  False\n",
       "1    Fall  Summer  -0.7782     0.9  -4.1636  2.6071  False\n",
       "2    Fall  Winter    1.659  0.4711  -1.2888  4.6068  False\n",
       "3  Spring  Summer  -0.2849     0.9  -3.4637   2.894  False\n",
       "4  Spring  Winter   2.1524  0.1727  -0.5558  4.8606  False\n",
       "5  Summer  Winter   2.4373  0.2074   -0.775  5.6496  False"
      ]
     },
     "execution_count": 438,
     "metadata": {},
     "output_type": "execute_result"
    }
   ],
   "source": [
    "# run tukey test for OQD (Order Quantity Discount) \n",
    "data = df_season['Quantity'].values\n",
    "labels = df_season['Season'].values\n",
    "\n",
    "import statsmodels.api as sms\n",
    "model = sms.stats.multicomp.pairwise_tukeyhsd(data,labels)\n",
    "\n",
    "# save OQD tukey test model results into dataframe (OQD: order quantity discount)\n",
    "tukey_OQD = pd.DataFrame(data=model._results_table[1:], columns=model._results_table[0])\n",
    "tukey_OQD"
   ]
  },
  {
   "cell_type": "code",
   "execution_count": 439,
   "metadata": {},
   "outputs": [
    {
     "data": {
      "text/html": [
       "<div>\n",
       "<style scoped>\n",
       "    .dataframe tbody tr th:only-of-type {\n",
       "        vertical-align: middle;\n",
       "    }\n",
       "\n",
       "    .dataframe tbody tr th {\n",
       "        vertical-align: top;\n",
       "    }\n",
       "\n",
       "    .dataframe thead th {\n",
       "        text-align: right;\n",
       "    }\n",
       "</style>\n",
       "<table border=\"1\" class=\"dataframe\">\n",
       "  <thead>\n",
       "    <tr style=\"text-align: right;\">\n",
       "      <th></th>\n",
       "      <th>group1</th>\n",
       "      <th>group2</th>\n",
       "      <th>meandiff</th>\n",
       "      <th>p-adj</th>\n",
       "      <th>lower</th>\n",
       "      <th>upper</th>\n",
       "      <th>reject</th>\n",
       "    </tr>\n",
       "  </thead>\n",
       "  <tbody>\n",
       "    <tr>\n",
       "      <td>0</td>\n",
       "      <td>Fall</td>\n",
       "      <td>Spring</td>\n",
       "      <td>15.2433</td>\n",
       "      <td>0.9</td>\n",
       "      <td>-143.4065</td>\n",
       "      <td>173.8931</td>\n",
       "      <td>False</td>\n",
       "    </tr>\n",
       "    <tr>\n",
       "      <td>1</td>\n",
       "      <td>Fall</td>\n",
       "      <td>Summer</td>\n",
       "      <td>-54.3993</td>\n",
       "      <td>0.8596</td>\n",
       "      <td>-238.8806</td>\n",
       "      <td>130.082</td>\n",
       "      <td>False</td>\n",
       "    </tr>\n",
       "    <tr>\n",
       "      <td>2</td>\n",
       "      <td>Fall</td>\n",
       "      <td>Winter</td>\n",
       "      <td>91.8564</td>\n",
       "      <td>0.4571</td>\n",
       "      <td>-68.7812</td>\n",
       "      <td>252.494</td>\n",
       "      <td>False</td>\n",
       "    </tr>\n",
       "    <tr>\n",
       "      <td>3</td>\n",
       "      <td>Spring</td>\n",
       "      <td>Summer</td>\n",
       "      <td>-69.6426</td>\n",
       "      <td>0.705</td>\n",
       "      <td>-242.8731</td>\n",
       "      <td>103.588</td>\n",
       "      <td>False</td>\n",
       "    </tr>\n",
       "    <tr>\n",
       "      <td>4</td>\n",
       "      <td>Spring</td>\n",
       "      <td>Winter</td>\n",
       "      <td>76.6131</td>\n",
       "      <td>0.5361</td>\n",
       "      <td>-70.967</td>\n",
       "      <td>224.1933</td>\n",
       "      <td>False</td>\n",
       "    </tr>\n",
       "    <tr>\n",
       "      <td>5</td>\n",
       "      <td>Summer</td>\n",
       "      <td>Winter</td>\n",
       "      <td>146.2557</td>\n",
       "      <td>0.1383</td>\n",
       "      <td>-28.7972</td>\n",
       "      <td>321.3086</td>\n",
       "      <td>False</td>\n",
       "    </tr>\n",
       "  </tbody>\n",
       "</table>\n",
       "</div>"
      ],
      "text/plain": [
       "   group1  group2  meandiff   p-adj      lower     upper reject\n",
       "0    Fall  Spring   15.2433     0.9  -143.4065  173.8931  False\n",
       "1    Fall  Summer  -54.3993  0.8596  -238.8806   130.082  False\n",
       "2    Fall  Winter   91.8564  0.4571   -68.7812   252.494  False\n",
       "3  Spring  Summer  -69.6426   0.705  -242.8731   103.588  False\n",
       "4  Spring  Winter   76.6131  0.5361    -70.967  224.1933  False\n",
       "5  Summer  Winter  146.2557  0.1383   -28.7972  321.3086  False"
      ]
     },
     "execution_count": 439,
     "metadata": {},
     "output_type": "execute_result"
    }
   ],
   "source": [
    "# run tukey test for OQD (Order Quantity Discount) \n",
    "data = df_season['Revenue'].values\n",
    "labels = df_season['Season'].values\n",
    "\n",
    "import statsmodels.api as sms\n",
    "model = sms.stats.multicomp.pairwise_tukeyhsd(data,labels)\n",
    "\n",
    "# save OQD tukey test model results into dataframe (OQD: order quantity discount)\n",
    "tukey_OQD = pd.DataFrame(data=model._results_table[1:], columns=model._results_table[0])\n",
    "tukey_OQD"
   ]
  },
  {
   "cell_type": "markdown",
   "metadata": {},
   "source": [
    "## Results"
   ]
  },
  {
   "cell_type": "markdown",
   "metadata": {},
   "source": [
    "At a significance level of alpha = 0.05, we fail to reject the null hypothesis which states there is no relationship between time of year (season) and sales revenue or volume of units sold. "
   ]
  },
  {
   "cell_type": "markdown",
   "metadata": {},
   "source": [
    "# Conclusion"
   ]
  },
  {
   "cell_type": "markdown",
   "metadata": {},
   "source": [
    "# Future Work"
   ]
  },
  {
   "cell_type": "markdown",
   "metadata": {},
   "source": [
    "Questions to explore in future analyses might include:\n",
    "\n",
    "1. Build a product recommendation tool\n",
    "\n",
    "2. Create discounts or free shipping offers to increase sales volumes past a certain threshold.\n",
    "- Shipping Costs and Order Quantities/Sales Revenue\n",
    "*Does shipping cost (freight) have a statistically significant effect on quantity? If so, at what level(s) of shipping cost?*\n",
    "\n",
    "3. Customer Type and Product Category\n",
    "\n",
    "*Is there a relationship between type of customer and certain product categories? If so, we can run more highly targeted sales and marketing programs for increasing sales of certain products to certain market segments.* \n",
    "\n"
   ]
  },
  {
   "cell_type": "markdown",
   "metadata": {},
   "source": [
    "# metricks\n",
    "\n",
    "1. What were the top 3 selling products overall?\n",
    "2. Top 3 selling products by country?\n",
    "3. Top 3 selling products by region?\n",
    "4. How did we do in sales for each product category?\n",
    "5. Can we group customers into customer types (fill the empty database) and build a product recommendation tool?"
   ]
  },
  {
   "cell_type": "code",
   "execution_count": 455,
   "metadata": {},
   "outputs": [
    {
     "name": "stdout",
     "output_type": "stream",
     "text": [
      "2155\n"
     ]
    },
    {
     "data": {
      "text/html": [
       "<div>\n",
       "<style scoped>\n",
       "    .dataframe tbody tr th:only-of-type {\n",
       "        vertical-align: middle;\n",
       "    }\n",
       "\n",
       "    .dataframe tbody tr th {\n",
       "        vertical-align: top;\n",
       "    }\n",
       "\n",
       "    .dataframe thead th {\n",
       "        text-align: right;\n",
       "    }\n",
       "</style>\n",
       "<table border=\"1\" class=\"dataframe\">\n",
       "  <thead>\n",
       "    <tr style=\"text-align: right;\">\n",
       "      <th></th>\n",
       "      <th>OrderId</th>\n",
       "      <th>CustomerId</th>\n",
       "      <th>ProductId</th>\n",
       "      <th>Quantity</th>\n",
       "      <th>UnitPrice</th>\n",
       "      <th>Revenue</th>\n",
       "      <th>CategoryId</th>\n",
       "      <th>CategoryName</th>\n",
       "    </tr>\n",
       "  </thead>\n",
       "  <tbody>\n",
       "    <tr>\n",
       "      <td>0</td>\n",
       "      <td>10248</td>\n",
       "      <td>VINET</td>\n",
       "      <td>11</td>\n",
       "      <td>12</td>\n",
       "      <td>14.0</td>\n",
       "      <td>168.0</td>\n",
       "      <td>4</td>\n",
       "      <td>Dairy Products</td>\n",
       "    </tr>\n",
       "    <tr>\n",
       "      <td>1</td>\n",
       "      <td>10248</td>\n",
       "      <td>VINET</td>\n",
       "      <td>42</td>\n",
       "      <td>10</td>\n",
       "      <td>9.8</td>\n",
       "      <td>98.0</td>\n",
       "      <td>5</td>\n",
       "      <td>Grains/Cereals</td>\n",
       "    </tr>\n",
       "    <tr>\n",
       "      <td>2</td>\n",
       "      <td>10248</td>\n",
       "      <td>VINET</td>\n",
       "      <td>72</td>\n",
       "      <td>5</td>\n",
       "      <td>34.8</td>\n",
       "      <td>174.0</td>\n",
       "      <td>4</td>\n",
       "      <td>Dairy Products</td>\n",
       "    </tr>\n",
       "    <tr>\n",
       "      <td>3</td>\n",
       "      <td>10249</td>\n",
       "      <td>TOMSP</td>\n",
       "      <td>14</td>\n",
       "      <td>9</td>\n",
       "      <td>18.6</td>\n",
       "      <td>167.4</td>\n",
       "      <td>7</td>\n",
       "      <td>Produce</td>\n",
       "    </tr>\n",
       "    <tr>\n",
       "      <td>4</td>\n",
       "      <td>10249</td>\n",
       "      <td>TOMSP</td>\n",
       "      <td>51</td>\n",
       "      <td>40</td>\n",
       "      <td>42.4</td>\n",
       "      <td>1696.0</td>\n",
       "      <td>7</td>\n",
       "      <td>Produce</td>\n",
       "    </tr>\n",
       "    <tr>\n",
       "      <td>5</td>\n",
       "      <td>10250</td>\n",
       "      <td>HANAR</td>\n",
       "      <td>41</td>\n",
       "      <td>10</td>\n",
       "      <td>7.7</td>\n",
       "      <td>77.0</td>\n",
       "      <td>8</td>\n",
       "      <td>Seafood</td>\n",
       "    </tr>\n",
       "    <tr>\n",
       "      <td>6</td>\n",
       "      <td>10250</td>\n",
       "      <td>HANAR</td>\n",
       "      <td>51</td>\n",
       "      <td>35</td>\n",
       "      <td>42.4</td>\n",
       "      <td>1261.4</td>\n",
       "      <td>7</td>\n",
       "      <td>Produce</td>\n",
       "    </tr>\n",
       "    <tr>\n",
       "      <td>7</td>\n",
       "      <td>10250</td>\n",
       "      <td>HANAR</td>\n",
       "      <td>65</td>\n",
       "      <td>15</td>\n",
       "      <td>16.8</td>\n",
       "      <td>214.2</td>\n",
       "      <td>2</td>\n",
       "      <td>Condiments</td>\n",
       "    </tr>\n",
       "  </tbody>\n",
       "</table>\n",
       "</div>"
      ],
      "text/plain": [
       "   OrderId CustomerId  ProductId  Quantity  UnitPrice  Revenue  CategoryId  \\\n",
       "0    10248      VINET         11        12       14.0    168.0           4   \n",
       "1    10248      VINET         42        10        9.8     98.0           5   \n",
       "2    10248      VINET         72         5       34.8    174.0           4   \n",
       "3    10249      TOMSP         14         9       18.6    167.4           7   \n",
       "4    10249      TOMSP         51        40       42.4   1696.0           7   \n",
       "5    10250      HANAR         41        10        7.7     77.0           8   \n",
       "6    10250      HANAR         51        35       42.4   1261.4           7   \n",
       "7    10250      HANAR         65        15       16.8    214.2           2   \n",
       "\n",
       "     CategoryName  \n",
       "0  Dairy Products  \n",
       "1  Grains/Cereals  \n",
       "2  Dairy Products  \n",
       "3         Produce  \n",
       "4         Produce  \n",
       "5         Seafood  \n",
       "6         Produce  \n",
       "7      Condiments  "
      ]
     },
     "execution_count": 455,
     "metadata": {},
     "output_type": "execute_result"
    }
   ],
   "source": [
    "# Extract revenue per product category\n",
    "cur.execute(\"\"\"SELECT o.OrderId, o.CustomerId, od.ProductId, od.Quantity, od.UnitPrice, \n",
    "                od.Quantity*od.UnitPrice*(1-Discount) as Revenue, p.CategoryId, c.CategoryName\n",
    "                FROM 'Order' o\n",
    "                JOIN OrderDetail od \n",
    "                ON o.OrderId = od.OrderId\n",
    "                JOIN Product p \n",
    "                ON od.ProductId = p.Id\n",
    "                JOIN Category c\n",
    "                ON p.CategoryId = c.Id\n",
    "                ;\"\"\")\n",
    "df = pd.DataFrame(cur.fetchall())\n",
    "df.columns = [i[0] for i in cur.description]\n",
    "print(len(df))\n",
    "df.head(8)"
   ]
  },
  {
   "cell_type": "code",
   "execution_count": 465,
   "metadata": {},
   "outputs": [
    {
     "data": {
      "text/html": [
       "<div>\n",
       "<style scoped>\n",
       "    .dataframe tbody tr th:only-of-type {\n",
       "        vertical-align: middle;\n",
       "    }\n",
       "\n",
       "    .dataframe tbody tr th {\n",
       "        vertical-align: top;\n",
       "    }\n",
       "\n",
       "    .dataframe thead th {\n",
       "        text-align: right;\n",
       "    }\n",
       "</style>\n",
       "<table border=\"1\" class=\"dataframe\">\n",
       "  <thead>\n",
       "    <tr style=\"text-align: right;\">\n",
       "      <th></th>\n",
       "      <th>CategoryName</th>\n",
       "      <th>Revenue</th>\n",
       "    </tr>\n",
       "  </thead>\n",
       "  <tbody>\n",
       "    <tr>\n",
       "      <td>0</td>\n",
       "      <td>Beverages</td>\n",
       "      <td>267868.1800</td>\n",
       "    </tr>\n",
       "    <tr>\n",
       "      <td>1</td>\n",
       "      <td>Condiments</td>\n",
       "      <td>106047.0850</td>\n",
       "    </tr>\n",
       "    <tr>\n",
       "      <td>2</td>\n",
       "      <td>Confections</td>\n",
       "      <td>167357.2250</td>\n",
       "    </tr>\n",
       "    <tr>\n",
       "      <td>3</td>\n",
       "      <td>Dairy Products</td>\n",
       "      <td>234507.2850</td>\n",
       "    </tr>\n",
       "    <tr>\n",
       "      <td>4</td>\n",
       "      <td>Grains/Cereals</td>\n",
       "      <td>95744.5875</td>\n",
       "    </tr>\n",
       "    <tr>\n",
       "      <td>5</td>\n",
       "      <td>Meat/Poultry</td>\n",
       "      <td>163022.3595</td>\n",
       "    </tr>\n",
       "    <tr>\n",
       "      <td>6</td>\n",
       "      <td>Produce</td>\n",
       "      <td>99984.5800</td>\n",
       "    </tr>\n",
       "    <tr>\n",
       "      <td>7</td>\n",
       "      <td>Seafood</td>\n",
       "      <td>131261.7375</td>\n",
       "    </tr>\n",
       "  </tbody>\n",
       "</table>\n",
       "</div>"
      ],
      "text/plain": [
       "     CategoryName      Revenue\n",
       "0       Beverages  267868.1800\n",
       "1      Condiments  106047.0850\n",
       "2     Confections  167357.2250\n",
       "3  Dairy Products  234507.2850\n",
       "4  Grains/Cereals   95744.5875\n",
       "5    Meat/Poultry  163022.3595\n",
       "6         Produce   99984.5800\n",
       "7         Seafood  131261.7375"
      ]
     },
     "execution_count": 465,
     "metadata": {},
     "output_type": "execute_result"
    }
   ],
   "source": [
    "# Group data by Category and get sum total revenue for each\n",
    "df_category = df.groupby(['CategoryName'])['Revenue'].sum().reset_index()\n",
    "df_category"
   ]
  },
  {
   "cell_type": "code",
   "execution_count": 473,
   "metadata": {},
   "outputs": [
    {
     "data": {
      "text/plain": [
       "1    404\n",
       "4    366\n",
       "3    334\n",
       "8    330\n",
       "2    216\n",
       "5    196\n",
       "6    173\n",
       "7    136\n",
       "Name: CategoryId, dtype: int64"
      ]
     },
     "execution_count": 473,
     "metadata": {},
     "output_type": "execute_result"
    }
   ],
   "source": [
    "df.CategoryId.value_counts()"
   ]
  },
  {
   "cell_type": "code",
   "execution_count": 470,
   "metadata": {},
   "outputs": [
    {
     "data": {
      "text/plain": [
       "dict_keys(['Beverages', 'Condiments', 'Confections', 'Dairy Products', 'Grains/Cereals', 'Meat/Poultry', 'Produce', 'Seafood'])"
      ]
     },
     "execution_count": 470,
     "metadata": {},
     "output_type": "execute_result"
    }
   ],
   "source": [
    "# Explore sample sizes before testing\n",
    "categories = df.groupby('CategoryName').groups\n",
    "categories.keys()"
   ]
  },
  {
   "cell_type": "code",
   "execution_count": 460,
   "metadata": {},
   "outputs": [
    {
     "data": {
      "text/plain": [
       "267868.18"
      ]
     },
     "execution_count": 460,
     "metadata": {},
     "output_type": "execute_result"
    }
   ],
   "source": [
    "df_category.loc[df_category['CategoryName'] == 'Beverages']['Revenue'].sum()"
   ]
  },
  {
   "cell_type": "code",
   "execution_count": 476,
   "metadata": {},
   "outputs": [
    {
     "data": {
      "text/plain": [
       "{'Beverages': 267868.17999999993,\n",
       " 'Condiments': 106047.08500000002,\n",
       " 'Confections': 167357.22499999995,\n",
       " 'Dairy Products': 234507.285,\n",
       " 'Grains/Cereals': 95744.58750000001,\n",
       " 'Meat/Poultry': 163022.3595,\n",
       " 'Produce': 99984.57999999999,\n",
       " 'Seafood': 131261.73750000002}"
      ]
     },
     "execution_count": 476,
     "metadata": {},
     "output_type": "execute_result"
    }
   ],
   "source": [
    "#create dict of months and order quantity totals\n",
    "rev_per_cat = {}\n",
    "\n",
    "for k,v in categories.items():\n",
    "    rev = df_category.loc[df_category['CategoryName'] == k]['Revenue'].sum()\n",
    "    rev_per_cat[k] = rev\n",
    "\n",
    "rev_per_cat"
   ]
  },
  {
   "cell_type": "code",
   "execution_count": 479,
   "metadata": {},
   "outputs": [
    {
     "data": {
      "image/png": "[encoded data removed]",
      "text/plain": [
       "<Figure size 864x864 with 1 Axes>"
      ]
     },
     "metadata": {},
     "output_type": "display_data"
    }
   ],
   "source": [
    "# plot order quantity totals by month\n",
    "fig = plt.figure(figsize=(12,12))\n",
    "for k,v in rev_per_cat.items():\n",
    "    plt.bar(x=k, height=v)"
   ]
  },
  {
   "cell_type": "code",
   "execution_count": null,
   "metadata": {},
   "outputs": [],
   "source": [
    "# What were the top 3 selling product categories in each region or country?\n",
    "# What were the lowest 3 selling product categories in each region or country?"
   ]
  }
 ],
 "metadata": {
  "kernelspec": {
   "display_name": "Python [conda env:learn-env] *",
   "language": "python",
   "name": "conda-env-learn-env-py"
  },
  "language_info": {
   "codemirror_mode": {
    "name": "ipython",
    "version": 3
   },
   "file_extension": ".py",
   "mimetype": "text/x-python",
   "name": "python",
   "nbconvert_exporter": "python",
   "pygments_lexer": "ipython3",
   "version": "3.6.9"
  },
  "toc": {
   "base_numbering": 1,
   "nav_menu": {},
   "number_sections": true,
   "sideBar": true,
   "skip_h1_title": false,
   "title_cell": "Table of Contents",
   "title_sidebar": "Contents",
   "toc_cell": false,
   "toc_position": {
    "height": "calc(100% - 180px)",
    "left": "10px",
    "top": "150px",
    "width": "170.188px"
   },
   "toc_section_display": true,
   "toc_window_display": true
  },
  "varInspector": {
   "cols": {
    "lenName": 16,
    "lenType": 16,
    "lenVar": 40
   },
   "kernels_config": {
    "python": {
     "delete_cmd_postfix": "",
     "delete_cmd_prefix": "del ",
     "library": "var_list.py",
     "varRefreshCmd": "print(var_dic_list())"
    },
    "r": {
     "delete_cmd_postfix": ") ",
     "delete_cmd_prefix": "rm(",
     "library": "var_list.r",
     "varRefreshCmd": "cat(var_dic_list()) "
    }
   },
   "types_to_exclude": [
    "module",
    "function",
    "builtin_function_or_method",
    "instance",
    "_Feature"
   ],
   "window_display": false
  }
 },
 "nbformat": 4,
 "nbformat_minor": 2
}
